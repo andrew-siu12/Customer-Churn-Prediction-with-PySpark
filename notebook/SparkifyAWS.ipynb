{
 "cells": [
  {
   "cell_type": "markdown",
   "metadata": {
    "toc": true
   },
   "source": [
    "<h1>Table of Contents<span class=\"tocSkip\"></span></h1>\n",
    "<div class=\"toc\"><ul class=\"toc-item\"><li><span><a href=\"#Missing-Values\" data-toc-modified-id=\"Missing-Values-1\"><span class=\"toc-item-num\">1&nbsp;&nbsp;</span>Missing Values</a></span></li><li><span><a href=\"#Exploratory-Analysis\" data-toc-modified-id=\"Exploratory-Analysis-2\"><span class=\"toc-item-num\">2&nbsp;&nbsp;</span>Exploratory Analysis</a></span></li><li><span><a href=\"#Define-Churn\" data-toc-modified-id=\"Define-Churn-3\"><span class=\"toc-item-num\">3&nbsp;&nbsp;</span>Define Churn</a></span></li><li><span><a href=\"#Feature-Engineering\" data-toc-modified-id=\"Feature-Engineering-4\"><span class=\"toc-item-num\">4&nbsp;&nbsp;</span>Feature Engineering</a></span><ul class=\"toc-item\"><li><span><a href=\"#downgrades-page\" data-toc-modified-id=\"downgrades-page-4.1\"><span class=\"toc-item-num\">4.1&nbsp;&nbsp;</span>downgrades page</a></span></li><li><span><a href=\"#Add-friend\" data-toc-modified-id=\"Add-friend-4.2\"><span class=\"toc-item-num\">4.2&nbsp;&nbsp;</span>Add friend</a></span></li><li><span><a href=\"#total-length-of-time-listened\" data-toc-modified-id=\"total-length-of-time-listened-4.3\"><span class=\"toc-item-num\">4.3&nbsp;&nbsp;</span>total length of time listened</a></span></li><li><span><a href=\"#Number-of-songs-listened\" data-toc-modified-id=\"Number-of-songs-listened-4.4\"><span class=\"toc-item-num\">4.4&nbsp;&nbsp;</span>Number of songs listened</a></span></li><li><span><a href=\"#Number-of-sessions-per-user\" data-toc-modified-id=\"Number-of-sessions-per-user-4.5\"><span class=\"toc-item-num\">4.5&nbsp;&nbsp;</span>Number of sessions per user</a></span></li><li><span><a href=\"#Average-songs-per-seesion\" data-toc-modified-id=\"Average-songs-per-seesion-4.6\"><span class=\"toc-item-num\">4.6&nbsp;&nbsp;</span>Average songs per seesion</a></span></li><li><span><a href=\"#average-session-per-day/month\" data-toc-modified-id=\"average-session-per-day/month-4.7\"><span class=\"toc-item-num\">4.7&nbsp;&nbsp;</span>average session per day/month</a></span></li><li><span><a href=\"#location-feature\" data-toc-modified-id=\"location-feature-4.8\"><span class=\"toc-item-num\">4.8&nbsp;&nbsp;</span>location feature</a></span></li><li><span><a href=\"#os-and-browser-features\" data-toc-modified-id=\"os-and-browser-features-4.9\"><span class=\"toc-item-num\">4.9&nbsp;&nbsp;</span>os and browser features</a></span></li><li><span><a href=\"#label\" data-toc-modified-id=\"label-4.10\"><span class=\"toc-item-num\">4.10&nbsp;&nbsp;</span>label</a></span></li></ul></li><li><span><a href=\"#Modeling\" data-toc-modified-id=\"Modeling-5\"><span class=\"toc-item-num\">5&nbsp;&nbsp;</span>Modeling</a></span><ul class=\"toc-item\"><li><span><a href=\"#Pipeline\" data-toc-modified-id=\"Pipeline-5.1\"><span class=\"toc-item-num\">5.1&nbsp;&nbsp;</span>Pipeline</a></span></li></ul></li></ul></div>"
   ]
  },
  {
   "cell_type": "code",
   "execution_count": 2,
   "metadata": {},
   "outputs": [
    {
     "name": "stdout",
     "output_type": "stream",
     "text": [
      "Starting Spark application\n"
     ]
    },
    {
     "data": {
      "text/html": [
       "<table>\n",
       "<tr><th>ID</th><th>YARN Application ID</th><th>Kind</th><th>State</th><th>Spark UI</th><th>Driver log</th><th>Current session?</th></tr><tr><td>4</td><td>application_1567980939812_0005</td><td>pyspark</td><td>idle</td><td><a target=\"_blank\" href=\"http://ip-172-31-0-189.eu-west-2.compute.internal:20888/proxy/application_1567980939812_0005/\">Link</a></td><td><a target=\"_blank\" href=\"http://ip-172-31-1-124.eu-west-2.compute.internal:8042/node/containerlogs/container_1567980939812_0005_01_000001/livy\">Link</a></td><td>✔</td></tr></table>"
      ],
      "text/plain": [
       "<IPython.core.display.HTML object>"
      ]
     },
     "metadata": {},
     "output_type": "display_data"
    },
    {
     "data": {
      "application/vnd.jupyter.widget-view+json": {
       "model_id": "",
       "version_major": 2,
       "version_minor": 0
      },
      "text/plain": [
       "FloatProgress(value=0.0, bar_style='info', description='Progress:', layout=Layout(height='25px', width='50%'),…"
      ]
     },
     "metadata": {},
     "output_type": "display_data"
    },
    {
     "name": "stdout",
     "output_type": "stream",
     "text": [
      "SparkSession available as 'spark'.\n"
     ]
    },
    {
     "data": {
      "text/html": [
       "Current session configs: <tt>{'conf': {'spark.pyspark.python': 'python3', 'spark.pyspark.virtualenv.enabled': 'true', 'spark.pyspark.virtualenv.type': 'native', 'spark.pyspark.virtualenv.bin.path': '/usr/bin/virtualenv'}, 'kind': 'pyspark'}</tt><br>"
      ],
      "text/plain": [
       "<IPython.core.display.HTML object>"
      ]
     },
     "metadata": {},
     "output_type": "display_data"
    },
    {
     "data": {
      "text/html": [
       "<table>\n",
       "<tr><th>ID</th><th>YARN Application ID</th><th>Kind</th><th>State</th><th>Spark UI</th><th>Driver log</th><th>Current session?</th></tr><tr><td>4</td><td>application_1567980939812_0005</td><td>pyspark</td><td>idle</td><td><a target=\"_blank\" href=\"http://ip-172-31-0-189.eu-west-2.compute.internal:20888/proxy/application_1567980939812_0005/\">Link</a></td><td><a target=\"_blank\" href=\"http://ip-172-31-1-124.eu-west-2.compute.internal:8042/node/containerlogs/container_1567980939812_0005_01_000001/livy\">Link</a></td><td>✔</td></tr></table>"
      ],
      "text/plain": [
       "<IPython.core.display.HTML object>"
      ]
     },
     "metadata": {},
     "output_type": "display_data"
    }
   ],
   "source": [
    "%%configure -f\n",
    "{ \"conf\":{\n",
    "\"spark.pyspark.python\": \"python3\",\n",
    "\"spark.pyspark.virtualenv.enabled\": \"true\",\n",
    "\"spark.pyspark.virtualenv.type\":\"native\",\n",
    "\"spark.pyspark.virtualenv.bin.path\":\"/usr/bin/virtualenv\"\n",
    "}}"
   ]
  },
  {
   "cell_type": "code",
   "execution_count": 3,
   "metadata": {},
   "outputs": [
    {
     "data": {
      "application/vnd.jupyter.widget-view+json": {
       "model_id": "9c49af68bb1b47949618ab23aedf2629",
       "version_major": 2,
       "version_minor": 0
      },
      "text/plain": [
       "VBox()"
      ]
     },
     "metadata": {},
     "output_type": "display_data"
    },
    {
     "data": {
      "application/vnd.jupyter.widget-view+json": {
       "model_id": "",
       "version_major": 2,
       "version_minor": 0
      },
      "text/plain": [
       "FloatProgress(value=0.0, bar_style='info', description='Progress:', layout=Layout(height='25px', width='50%'),…"
      ]
     },
     "metadata": {},
     "output_type": "display_data"
    },
    {
     "name": "stdout",
     "output_type": "stream",
     "text": [
      "Collecting pandas\n",
      "  Using cached https://files.pythonhosted.org/packages/73/9b/52e228545d14f14bb2a1622e225f38463c8726645165e1cb7dde95bfe6d4/pandas-0.25.1-cp36-cp36m-manylinux1_x86_64.whl\n",
      "Requirement already satisfied: numpy>=1.13.3 in /usr/local/lib64/python3.6/site-packages (from pandas) (1.14.5)\n",
      "Collecting python-dateutil>=2.6.1 (from pandas)\n",
      "  Using cached https://files.pythonhosted.org/packages/41/17/c62faccbfbd163c7f57f3844689e3a78bae1f403648a6afb1d0866d87fbb/python_dateutil-2.8.0-py2.py3-none-any.whl\n",
      "Requirement already satisfied: pytz>=2017.2 in /usr/local/lib/python3.6/site-packages (from pandas) (2019.1)\n",
      "Requirement already satisfied: six>=1.5 in /usr/local/lib/python3.6/site-packages (from python-dateutil>=2.6.1->pandas) (1.12.0)\n",
      "Installing collected packages: python-dateutil, pandas\n",
      "Successfully installed pandas-0.25.1 python-dateutil-2.8.0"
     ]
    }
   ],
   "source": [
    "sc.install_pypi_package(\"pandas\")"
   ]
  },
  {
   "cell_type": "code",
   "execution_count": 4,
   "metadata": {},
   "outputs": [
    {
     "data": {
      "application/vnd.jupyter.widget-view+json": {
       "model_id": "773b21c519a74cf58e523140eda2251a",
       "version_major": 2,
       "version_minor": 0
      },
      "text/plain": [
       "VBox()"
      ]
     },
     "metadata": {},
     "output_type": "display_data"
    },
    {
     "data": {
      "application/vnd.jupyter.widget-view+json": {
       "model_id": "",
       "version_major": 2,
       "version_minor": 0
      },
      "text/plain": [
       "FloatProgress(value=0.0, bar_style='info', description='Progress:', layout=Layout(height='25px', width='50%'),…"
      ]
     },
     "metadata": {},
     "output_type": "display_data"
    }
   ],
   "source": [
    "from pyspark.sql import SparkSession, Window\n",
    "from pyspark.sql.functions import udf, col, count, avg, stddev, isnull, when, isnan \n",
    "from pyspark.sql.functions import desc, countDistinct, min, max\n",
    "from pyspark.sql.functions import sum as Fsum\n",
    "from pyspark.sql.types import IntegerType, DateType, StringType\n",
    "from pyspark.ml.feature import StringIndexer, VectorAssembler, StandardScaler\n",
    "from pyspark.ml import Pipeline\n",
    "from pyspark.ml.evaluation import MulticlassClassificationEvaluator\n",
    "from pyspark.ml.classification import LogisticRegression, RandomForestClassifier, GBTClassifier\n",
    "from pyspark.ml.tuning import CrossValidator, ParamGridBuilder\n",
    "\n",
    "from datetime import datetime\n",
    "import re\n",
    "import string\n",
    "from time import time\n",
    "import pandas as pd"
   ]
  },
  {
   "cell_type": "code",
   "execution_count": 10,
   "metadata": {},
   "outputs": [
    {
     "data": {
      "application/vnd.jupyter.widget-view+json": {
       "model_id": "659acaed4cb34a39b2a7845100e1fdbd",
       "version_major": 2,
       "version_minor": 0
      },
      "text/plain": [
       "VBox()"
      ]
     },
     "metadata": {},
     "output_type": "display_data"
    },
    {
     "data": {
      "application/vnd.jupyter.widget-view+json": {
       "model_id": "",
       "version_major": 2,
       "version_minor": 0
      },
      "text/plain": [
       "FloatProgress(value=0.0, bar_style='info', description='Progress:', layout=Layout(height='25px', width='50%'),…"
      ]
     },
     "metadata": {},
     "output_type": "display_data"
    }
   ],
   "source": [
    "# Create a Spark session\n",
    "spark = SparkSession \\\n",
    "    .builder \\\n",
    "    .appName(\"sparkify\") \\\n",
    "    .getOrCreate()"
   ]
  },
  {
   "cell_type": "code",
   "execution_count": 12,
   "metadata": {},
   "outputs": [
    {
     "data": {
      "application/vnd.jupyter.widget-view+json": {
       "model_id": "6c29ab08ef7240ef83b832b233c507aa",
       "version_major": 2,
       "version_minor": 0
      },
      "text/plain": [
       "VBox()"
      ]
     },
     "metadata": {},
     "output_type": "display_data"
    },
    {
     "data": {
      "application/vnd.jupyter.widget-view+json": {
       "model_id": "",
       "version_major": 2,
       "version_minor": 0
      },
      "text/plain": [
       "FloatProgress(value=0.0, bar_style='info', description='Progress:', layout=Layout(height='25px', width='50%'),…"
      ]
     },
     "metadata": {},
     "output_type": "display_data"
    }
   ],
   "source": [
    "# Read in full sparkify dataset\n",
    "event_data = \"s3n://udacity-dsnd/sparkify/sparkify_event_data.json\""
   ]
  },
  {
   "cell_type": "code",
   "execution_count": 13,
   "metadata": {},
   "outputs": [
    {
     "data": {
      "application/vnd.jupyter.widget-view+json": {
       "model_id": "7dfae7a94dc841c9883987a67b59445f",
       "version_major": 2,
       "version_minor": 0
      },
      "text/plain": [
       "VBox()"
      ]
     },
     "metadata": {},
     "output_type": "display_data"
    },
    {
     "data": {
      "application/vnd.jupyter.widget-view+json": {
       "model_id": "",
       "version_major": 2,
       "version_minor": 0
      },
      "text/plain": [
       "FloatProgress(value=0.0, bar_style='info', description='Progress:', layout=Layout(height='25px', width='50%'),…"
      ]
     },
     "metadata": {},
     "output_type": "display_data"
    },
    {
     "name": "stdout",
     "output_type": "stream",
     "text": [
      "Row(artist='Popol Vuh', auth='Logged In', firstName='Shlok', gender='M', itemInSession=278, lastName='Johnson', length=524.32934, level='paid', location='Dallas-Fort Worth-Arlington, TX', method='PUT', page='NextSong', registration=1533734541000, sessionId=22683, song='Ich mache einen Spiegel - Dream Part 4', status=200, ts=1538352001000, userAgent='\"Mozilla/5.0 (Windows NT 6.1; WOW64) AppleWebKit/537.36 (KHTML, like Gecko) Chrome/36.0.1985.143 Safari/537.36\"', userId='1749042')"
     ]
    }
   ],
   "source": [
    "customer_event_df = spark.read.json(event_data)\n",
    "customer_event_df.head()"
   ]
  },
  {
   "cell_type": "code",
   "execution_count": 7,
   "metadata": {},
   "outputs": [
    {
     "data": {
      "application/vnd.jupyter.widget-view+json": {
       "model_id": "1db6e9a0e562426b9a071a1813326805",
       "version_major": 2,
       "version_minor": 0
      },
      "text/plain": [
       "VBox()"
      ]
     },
     "metadata": {},
     "output_type": "display_data"
    },
    {
     "data": {
      "application/vnd.jupyter.widget-view+json": {
       "model_id": "",
       "version_major": 2,
       "version_minor": 0
      },
      "text/plain": [
       "FloatProgress(value=0.0, bar_style='info', description='Progress:', layout=Layout(height='25px', width='50%'),…"
      ]
     },
     "metadata": {},
     "output_type": "display_data"
    },
    {
     "name": "stdout",
     "output_type": "stream",
     "text": [
      "root\n",
      " |-- artist: string (nullable = true)\n",
      " |-- auth: string (nullable = true)\n",
      " |-- firstName: string (nullable = true)\n",
      " |-- gender: string (nullable = true)\n",
      " |-- itemInSession: long (nullable = true)\n",
      " |-- lastName: string (nullable = true)\n",
      " |-- length: double (nullable = true)\n",
      " |-- level: string (nullable = true)\n",
      " |-- location: string (nullable = true)\n",
      " |-- method: string (nullable = true)\n",
      " |-- page: string (nullable = true)\n",
      " |-- registration: long (nullable = true)\n",
      " |-- sessionId: long (nullable = true)\n",
      " |-- song: string (nullable = true)\n",
      " |-- status: long (nullable = true)\n",
      " |-- ts: long (nullable = true)\n",
      " |-- userAgent: string (nullable = true)\n",
      " |-- userId: string (nullable = true)"
     ]
    }
   ],
   "source": [
    "customer_event_df.printSchema()"
   ]
  },
  {
   "cell_type": "code",
   "execution_count": 8,
   "metadata": {},
   "outputs": [
    {
     "data": {
      "application/vnd.jupyter.widget-view+json": {
       "model_id": "a2ef95445b1144369688e8747bf13425",
       "version_major": 2,
       "version_minor": 0
      },
      "text/plain": [
       "VBox()"
      ]
     },
     "metadata": {},
     "output_type": "display_data"
    },
    {
     "data": {
      "application/vnd.jupyter.widget-view+json": {
       "model_id": "",
       "version_major": 2,
       "version_minor": 0
      },
      "text/plain": [
       "FloatProgress(value=0.0, bar_style='info', description='Progress:', layout=Layout(height='25px', width='50%'),…"
      ]
     },
     "metadata": {},
     "output_type": "display_data"
    },
    {
     "name": "stdout",
     "output_type": "stream",
     "text": [
      "The shape of the customer event susbset (26259199, 18)"
     ]
    }
   ],
   "source": [
    "print(f\"The shape of the customer event susbset {(customer_event_df.count(), len(customer_event_df.columns))}\")"
   ]
  },
  {
   "cell_type": "code",
   "execution_count": 9,
   "metadata": {},
   "outputs": [
    {
     "data": {
      "application/vnd.jupyter.widget-view+json": {
       "model_id": "60ba102cb9ce41c894f6feba258a355b",
       "version_major": 2,
       "version_minor": 0
      },
      "text/plain": [
       "VBox()"
      ]
     },
     "metadata": {},
     "output_type": "display_data"
    },
    {
     "data": {
      "application/vnd.jupyter.widget-view+json": {
       "model_id": "",
       "version_major": 2,
       "version_minor": 0
      },
      "text/plain": [
       "FloatProgress(value=0.0, bar_style='info', description='Progress:', layout=Layout(height='25px', width='50%'),…"
      ]
     },
     "metadata": {},
     "output_type": "display_data"
    }
   ],
   "source": [
    "def counting_null(df):\n",
    "    \"\"\"\n",
    "    printthe key value pairs of columns and their missing values.\n",
    "    :param df: pyspark dataframe\n",
    "    :return null_count: dict. the number of null values in each column\n",
    "    \"\"\"\n",
    "    \n",
    "    for col in df.columns:\n",
    "        missing_values = df.filter((df[col] == \"\") \\\n",
    "                                   | df[col].isNull()\n",
    "                                   | isnan(df[col])).count()\n",
    "        print(f\"{col}:{missing_values}\")"
   ]
  },
  {
   "cell_type": "markdown",
   "metadata": {},
   "source": [
    "## Missing Values\n",
    "\n",
    "Column firstName, gender, lastNam, registration, location, userAgent and userId have the same amount of missing values. All of the missing values are occurred in the same places. So we can removed all these missing values.\n",
    "We will not remove the null values in artist, length, song column as some people may just login the app and not listen to any song."
   ]
  },
  {
   "cell_type": "code",
   "execution_count": 10,
   "metadata": {},
   "outputs": [
    {
     "data": {
      "application/vnd.jupyter.widget-view+json": {
       "model_id": "7c95a05a11ff4ca28ec2425b64351e51",
       "version_major": 2,
       "version_minor": 0
      },
      "text/plain": [
       "VBox()"
      ]
     },
     "metadata": {},
     "output_type": "display_data"
    },
    {
     "data": {
      "application/vnd.jupyter.widget-view+json": {
       "model_id": "",
       "version_major": 2,
       "version_minor": 0
      },
      "text/plain": [
       "FloatProgress(value=0.0, bar_style='info', description='Progress:', layout=Layout(height='25px', width='50%'),…"
      ]
     },
     "metadata": {},
     "output_type": "display_data"
    }
   ],
   "source": [
    "customer_event_df = customer_event_df.dropna(how=\"any\", subset=[\"userId\", \"sessionId\"])\n",
    "customer_event_df = customer_event_df.filter(customer_event_df.userId != \"\")"
   ]
  },
  {
   "cell_type": "code",
   "execution_count": 11,
   "metadata": {},
   "outputs": [
    {
     "data": {
      "application/vnd.jupyter.widget-view+json": {
       "model_id": "33fac7df65864696b43f039f8945bf12",
       "version_major": 2,
       "version_minor": 0
      },
      "text/plain": [
       "VBox()"
      ]
     },
     "metadata": {},
     "output_type": "display_data"
    },
    {
     "data": {
      "application/vnd.jupyter.widget-view+json": {
       "model_id": "",
       "version_major": 2,
       "version_minor": 0
      },
      "text/plain": [
       "FloatProgress(value=0.0, bar_style='info', description='Progress:', layout=Layout(height='25px', width='50%'),…"
      ]
     },
     "metadata": {},
     "output_type": "display_data"
    }
   ],
   "source": [
    "customer_event_df = customer_event_df.dropna(how=\"any\", subset=[\"firstName\"])"
   ]
  },
  {
   "cell_type": "code",
   "execution_count": 12,
   "metadata": {},
   "outputs": [
    {
     "data": {
      "application/vnd.jupyter.widget-view+json": {
       "model_id": "5ac463ba177b463c87036a3f5cd258f2",
       "version_major": 2,
       "version_minor": 0
      },
      "text/plain": [
       "VBox()"
      ]
     },
     "metadata": {},
     "output_type": "display_data"
    },
    {
     "data": {
      "application/vnd.jupyter.widget-view+json": {
       "model_id": "",
       "version_major": 2,
       "version_minor": 0
      },
      "text/plain": [
       "FloatProgress(value=0.0, bar_style='info', description='Progress:', layout=Layout(height='25px', width='50%'),…"
      ]
     },
     "metadata": {},
     "output_type": "display_data"
    }
   ],
   "source": [
    "customer_event_df = customer_event_df.fillna('None', subset=['artist', 'song'])\n",
    "customer_event_df = customer_event_df.fillna(0, subset=['length'])"
   ]
  },
  {
   "cell_type": "code",
   "execution_count": 13,
   "metadata": {},
   "outputs": [
    {
     "data": {
      "application/vnd.jupyter.widget-view+json": {
       "model_id": "858c1381bf544707aeeb9a2411099fb4",
       "version_major": 2,
       "version_minor": 0
      },
      "text/plain": [
       "VBox()"
      ]
     },
     "metadata": {},
     "output_type": "display_data"
    },
    {
     "data": {
      "application/vnd.jupyter.widget-view+json": {
       "model_id": "",
       "version_major": 2,
       "version_minor": 0
      },
      "text/plain": [
       "FloatProgress(value=0.0, bar_style='info', description='Progress:', layout=Layout(height='25px', width='50%'),…"
      ]
     },
     "metadata": {},
     "output_type": "display_data"
    }
   ],
   "source": [
    "#counting_null(customer_event_df)"
   ]
  },
  {
   "cell_type": "markdown",
   "metadata": {},
   "source": [
    "## Exploratory Analysis"
   ]
  },
  {
   "cell_type": "code",
   "execution_count": 14,
   "metadata": {},
   "outputs": [
    {
     "data": {
      "application/vnd.jupyter.widget-view+json": {
       "model_id": "ada8aef4acd3498cb2e57e79291219a6",
       "version_major": 2,
       "version_minor": 0
      },
      "text/plain": [
       "VBox()"
      ]
     },
     "metadata": {},
     "output_type": "display_data"
    },
    {
     "data": {
      "application/vnd.jupyter.widget-view+json": {
       "model_id": "",
       "version_major": 2,
       "version_minor": 0
      },
      "text/plain": [
       "FloatProgress(value=0.0, bar_style='info', description='Progress:', layout=Layout(height='25px', width='50%'),…"
      ]
     },
     "metadata": {},
     "output_type": "display_data"
    },
    {
     "name": "stdout",
     "output_type": "stream",
     "text": [
      "+--------------------+-------------+\n",
      "|              artist|count(artist)|\n",
      "+--------------------+-------------+\n",
      "|                None|      4630448|\n",
      "|       Kings Of Leon|       169824|\n",
      "|            Coldplay|       164369|\n",
      "|Florence + The Ma...|       115348|\n",
      "|       Dwight Yoakam|       107284|\n",
      "|                Muse|       104710|\n",
      "|            BjÃÂ¶rk|       104654|\n",
      "|      The Black Keys|       102694|\n",
      "|       Justin Bieber|       100219|\n",
      "|        Jack Johnson|        94263|\n",
      "|              Eminem|        84548|\n",
      "|           Radiohead|        78407|\n",
      "|               Train|        78109|\n",
      "|     Alliance Ethnik|        77870|\n",
      "|         OneRepublic|        77752|\n",
      "|         The Killers|        75918|\n",
      "|        Taylor Swift|        75400|\n",
      "|         Linkin Park|        71639|\n",
      "|         Evanescence|        71462|\n",
      "|           Metallica|        66631|\n",
      "+--------------------+-------------+\n",
      "only showing top 20 rows"
     ]
    }
   ],
   "source": [
    "customer_event_df.select(\"artist\", \"userId\").groupby(\"artist\"). \\\n",
    "    agg({'artist': 'count'}).select('artist', 'count(artist)'). \\\n",
    "    sort(desc('count(artist)')).show()"
   ]
  },
  {
   "cell_type": "code",
   "execution_count": 15,
   "metadata": {},
   "outputs": [
    {
     "data": {
      "application/vnd.jupyter.widget-view+json": {
       "model_id": "c767f1b4ae4d4645bb64eb79011fdc84",
       "version_major": 2,
       "version_minor": 0
      },
      "text/plain": [
       "VBox()"
      ]
     },
     "metadata": {},
     "output_type": "display_data"
    },
    {
     "data": {
      "application/vnd.jupyter.widget-view+json": {
       "model_id": "",
       "version_major": 2,
       "version_minor": 0
      },
      "text/plain": [
       "FloatProgress(value=0.0, bar_style='info', description='Progress:', layout=Layout(height='25px', width='50%'),…"
      ]
     },
     "metadata": {},
     "output_type": "display_data"
    },
    {
     "name": "stdout",
     "output_type": "stream",
     "text": [
      "There are a total of 38338 artists in this dataset"
     ]
    }
   ],
   "source": [
    "unique_count_artist = customer_event_df.select(\"artist\").distinct().count()\n",
    "print(f\"There are a total of {unique_count_artist} artists in this dataset\")"
   ]
  },
  {
   "cell_type": "code",
   "execution_count": 16,
   "metadata": {},
   "outputs": [
    {
     "data": {
      "application/vnd.jupyter.widget-view+json": {
       "model_id": "ba260220e88d4ad5a70ceccba148a7df",
       "version_major": 2,
       "version_minor": 0
      },
      "text/plain": [
       "VBox()"
      ]
     },
     "metadata": {},
     "output_type": "display_data"
    },
    {
     "data": {
      "application/vnd.jupyter.widget-view+json": {
       "model_id": "",
       "version_major": 2,
       "version_minor": 0
      },
      "text/plain": [
       "FloatProgress(value=0.0, bar_style='info', description='Progress:', layout=Layout(height='25px', width='50%'),…"
      ]
     },
     "metadata": {},
     "output_type": "display_data"
    },
    {
     "name": "stdout",
     "output_type": "stream",
     "text": [
      "+---------+--------+\n",
      "|     auth|   total|\n",
      "+---------+--------+\n",
      "|Logged In|25475717|\n",
      "|Cancelled|    5003|\n",
      "+---------+--------+"
     ]
    }
   ],
   "source": [
    "customer_event_df.select(\"auth\", ).groupby(\"auth\"). \\\n",
    "    agg({'auth': 'count'}).select('auth', col('count(auth)').alias('total')). \\\n",
    "    sort(desc('total')).show()"
   ]
  },
  {
   "cell_type": "code",
   "execution_count": 17,
   "metadata": {},
   "outputs": [
    {
     "data": {
      "application/vnd.jupyter.widget-view+json": {
       "model_id": "769dceba11ad45e0bd06a260ac018e7c",
       "version_major": 2,
       "version_minor": 0
      },
      "text/plain": [
       "VBox()"
      ]
     },
     "metadata": {},
     "output_type": "display_data"
    },
    {
     "data": {
      "application/vnd.jupyter.widget-view+json": {
       "model_id": "",
       "version_major": 2,
       "version_minor": 0
      },
      "text/plain": [
       "FloatProgress(value=0.0, bar_style='info', description='Progress:', layout=Layout(height='25px', width='50%'),…"
      ]
     },
     "metadata": {},
     "output_type": "display_data"
    },
    {
     "name": "stdout",
     "output_type": "stream",
     "text": [
      "+-------+------------------+\n",
      "|summary|     itemInSession|\n",
      "+-------+------------------+\n",
      "|  count|          25480720|\n",
      "|   mean|107.03340196038417|\n",
      "| stddev|117.76563663964197|\n",
      "|    min|                 0|\n",
      "|    max|              1426|\n",
      "+-------+------------------+"
     ]
    }
   ],
   "source": [
    "customer_event_df.select(\"itemInSession\").describe().show()"
   ]
  },
  {
   "cell_type": "code",
   "execution_count": 18,
   "metadata": {},
   "outputs": [
    {
     "data": {
      "application/vnd.jupyter.widget-view+json": {
       "model_id": "f8b3fa13a2d947de9ede4307d03914af",
       "version_major": 2,
       "version_minor": 0
      },
      "text/plain": [
       "VBox()"
      ]
     },
     "metadata": {},
     "output_type": "display_data"
    },
    {
     "data": {
      "application/vnd.jupyter.widget-view+json": {
       "model_id": "",
       "version_major": 2,
       "version_minor": 0
      },
      "text/plain": [
       "FloatProgress(value=0.0, bar_style='info', description='Progress:', layout=Layout(height='25px', width='50%'),…"
      ]
     },
     "metadata": {},
     "output_type": "display_data"
    },
    {
     "name": "stdout",
     "output_type": "stream",
     "text": [
      "+------+--------+\n",
      "|method|   total|\n",
      "+------+--------+\n",
      "|   PUT|23572687|\n",
      "|   GET| 1908033|\n",
      "+------+--------+"
     ]
    }
   ],
   "source": [
    "customer_event_df.select(\"method\").groupby(\"method\"). \\\n",
    "    agg({'method': 'count'}).select('method', col('count(method)').alias('total')). \\\n",
    "    sort(desc('total')).show()"
   ]
  },
  {
   "cell_type": "code",
   "execution_count": 19,
   "metadata": {},
   "outputs": [
    {
     "data": {
      "application/vnd.jupyter.widget-view+json": {
       "model_id": "017e9b8a457d4be5941249202387458a",
       "version_major": 2,
       "version_minor": 0
      },
      "text/plain": [
       "VBox()"
      ]
     },
     "metadata": {},
     "output_type": "display_data"
    },
    {
     "data": {
      "application/vnd.jupyter.widget-view+json": {
       "model_id": "",
       "version_major": 2,
       "version_minor": 0
      },
      "text/plain": [
       "FloatProgress(value=0.0, bar_style='info', description='Progress:', layout=Layout(height='25px', width='50%'),…"
      ]
     },
     "metadata": {},
     "output_type": "display_data"
    },
    {
     "name": "stdout",
     "output_type": "stream",
     "text": [
      "+----------------+-------------------+\n",
      "|number_of_userId|number_of_sessionId|\n",
      "+----------------+-------------------+\n",
      "|           22277|             223096|\n",
      "+----------------+-------------------+"
     ]
    }
   ],
   "source": [
    "customer_event_df.select(countDistinct('userId').alias('number_of_userId'), \n",
    "                         countDistinct('sessionId').alias('number_of_sessionId')).show()"
   ]
  },
  {
   "cell_type": "code",
   "execution_count": 20,
   "metadata": {},
   "outputs": [
    {
     "data": {
      "application/vnd.jupyter.widget-view+json": {
       "model_id": "fd06060021f14b4d80a6eb5565e6056f",
       "version_major": 2,
       "version_minor": 0
      },
      "text/plain": [
       "VBox()"
      ]
     },
     "metadata": {},
     "output_type": "display_data"
    },
    {
     "data": {
      "application/vnd.jupyter.widget-view+json": {
       "model_id": "",
       "version_major": 2,
       "version_minor": 0
      },
      "text/plain": [
       "FloatProgress(value=0.0, bar_style='info', description='Progress:', layout=Layout(height='25px', width='50%'),…"
      ]
     },
     "metadata": {},
     "output_type": "display_data"
    },
    {
     "name": "stdout",
     "output_type": "stream",
     "text": [
      "+--------------------+-------+\n",
      "|                song|  total|\n",
      "+--------------------+-------+\n",
      "|                None|4630450|\n",
      "|      You're The One| 108085|\n",
      "|                Undo|  94183|\n",
      "|             Revelry|  77588|\n",
      "|       Sehr kosmisch|  62450|\n",
      "|Horn Concerto No....|  57267|\n",
      "|Dog Days Are Over...|  52160|\n",
      "|             Secrets|  43483|\n",
      "|        Use Somebody|  42670|\n",
      "|              Canada|  40765|\n",
      "|             Invalid|  39253|\n",
      "|    Ain't Misbehavin|  35915|\n",
      "|       ReprÃÂ©sente|  35557|\n",
      "|Catch You Baby (S...|  34561|\n",
      "|    Somebody To Love|  34228|\n",
      "|SinceritÃÂ© Et J...|  33006|\n",
      "|              Yellow|  32536|\n",
      "|    Hey_ Soul Sister|  30334|\n",
      "|           Fireflies|  29185|\n",
      "|            The Gift|  28783|\n",
      "+--------------------+-------+\n",
      "only showing top 20 rows"
     ]
    }
   ],
   "source": [
    "customer_event_df.select(\"song\", 'artist').groupby(\"song\"). \\\n",
    "    agg({'song': 'count'}).select('song', col('count(song)').alias('total')). \\\n",
    "    sort(desc('total')).show()"
   ]
  },
  {
   "cell_type": "code",
   "execution_count": 21,
   "metadata": {},
   "outputs": [
    {
     "data": {
      "application/vnd.jupyter.widget-view+json": {
       "model_id": "bb8c0bf595804255b4336d23f35e320d",
       "version_major": 2,
       "version_minor": 0
      },
      "text/plain": [
       "VBox()"
      ]
     },
     "metadata": {},
     "output_type": "display_data"
    },
    {
     "data": {
      "application/vnd.jupyter.widget-view+json": {
       "model_id": "",
       "version_major": 2,
       "version_minor": 0
      },
      "text/plain": [
       "FloatProgress(value=0.0, bar_style='info', description='Progress:', layout=Layout(height='25px', width='50%'),…"
      ]
     },
     "metadata": {},
     "output_type": "display_data"
    },
    {
     "name": "stdout",
     "output_type": "stream",
     "text": [
      "+--------------------+-----------+\n",
      "|                page|count(page)|\n",
      "+--------------------+-----------+\n",
      "|           Thumbs Up|    1151465|\n",
      "|                Home|     933124|\n",
      "|     Add to Playlist|     597921|\n",
      "|         Roll Advert|     385212|\n",
      "|          Add Friend|     381664|\n",
      "|              Logout|     296005|\n",
      "|         Thumbs Down|     239212|\n",
      "|           Downgrade|     184240|\n",
      "|            Settings|     147074|\n",
      "|                Help|     129448|\n",
      "|             Upgrade|      50507|\n",
      "|               About|      48377|\n",
      "|       Save Settings|      29516|\n",
      "|               Error|      25048|\n",
      "|      Submit Upgrade|      15135|\n",
      "|    Submit Downgrade|       6494|\n",
      "|Cancellation Conf...|       5003|\n",
      "|              Cancel|       5003|\n",
      "|            NextSong|          2|\n",
      "+--------------------+-----------+"
     ]
    }
   ],
   "source": [
    "customer_event_df.filter(col('song') == 'None').groupby('page'). \\\n",
    "    agg({'page': 'count'}).sort((desc('count(page)'))).show()"
   ]
  },
  {
   "cell_type": "code",
   "execution_count": 22,
   "metadata": {},
   "outputs": [
    {
     "data": {
      "application/vnd.jupyter.widget-view+json": {
       "model_id": "cbc9292087b04e4a92fd1c0bf6304d81",
       "version_major": 2,
       "version_minor": 0
      },
      "text/plain": [
       "VBox()"
      ]
     },
     "metadata": {},
     "output_type": "display_data"
    },
    {
     "data": {
      "application/vnd.jupyter.widget-view+json": {
       "model_id": "",
       "version_major": 2,
       "version_minor": 0
      },
      "text/plain": [
       "FloatProgress(value=0.0, bar_style='info', description='Progress:', layout=Layout(height='25px', width='50%'),…"
      ]
     },
     "metadata": {},
     "output_type": "display_data"
    }
   ],
   "source": [
    "useragent_count = customer_event_df.select(\"userAgent\").groupby(\"userAgent\"). \\\n",
    "    agg({'userAgent': 'count'}).select('userAgent', col('count(userAgent)').alias('total')). \\\n",
    "    sort(desc('total')).toPandas()"
   ]
  },
  {
   "cell_type": "code",
   "execution_count": 14,
   "metadata": {},
   "outputs": [
    {
     "data": {
      "application/vnd.jupyter.widget-view+json": {
       "model_id": "752ae945e6d8463b863ef5d84b876ae9",
       "version_major": 2,
       "version_minor": 0
      },
      "text/plain": [
       "VBox()"
      ]
     },
     "metadata": {},
     "output_type": "display_data"
    },
    {
     "data": {
      "application/vnd.jupyter.widget-view+json": {
       "model_id": "",
       "version_major": 2,
       "version_minor": 0
      },
      "text/plain": [
       "FloatProgress(value=0.0, bar_style='info', description='Progress:', layout=Layout(height='25px', width='50%'),…"
      ]
     },
     "metadata": {},
     "output_type": "display_data"
    }
   ],
   "source": [
    "def os_feature(s):\n",
    "    os = re.findall(\"Ubuntu|Windows|Mac|iPad|iPhone|Linux\", str(s))\n",
    "    if os:\n",
    "        os = os[0].translate(str.maketrans('', '', string.punctuation)).strip()\n",
    "    \n",
    "    return os\n",
    "\n",
    "def browser_feature(s):\n",
    "    browser_list = re.findall(\"Chrome[/\\w+.]+|Safari[/\\w.]+|Mobile[/\\w.]+|Firefox[/\\w.]+|Trident[/\\w.]+\", str(s))\n",
    "    if browser_list:\n",
    "        browser_list = browser_list[0].strip().split(\"/\")[0]\n",
    "    \n",
    "    return browser_list\n",
    "\n",
    "def browser_version_feature(s):\n",
    "    version_list = re.findall(\"Chrome[/\\w+.]+|Safari[/\\w.]+|Mobile[/\\w.]+|Firefox[/\\w.]+|Trident[/\\w.]+\", str(s))\n",
    "    if version_list:\n",
    "        version_list = version_list[0].strip().split(\"/\")[1]\n",
    "    \n",
    "    return version_list\n",
    "\n",
    "os_udf = udf(os_feature, StringType())\n",
    "browser_udf = udf(browser_feature, StringType())\n",
    "version_udf = udf(browser_version_feature, StringType())"
   ]
  },
  {
   "cell_type": "code",
   "execution_count": 15,
   "metadata": {},
   "outputs": [
    {
     "data": {
      "application/vnd.jupyter.widget-view+json": {
       "model_id": "36a73293ce7740dba0e9f15ba33cd0ab",
       "version_major": 2,
       "version_minor": 0
      },
      "text/plain": [
       "VBox()"
      ]
     },
     "metadata": {},
     "output_type": "display_data"
    },
    {
     "data": {
      "application/vnd.jupyter.widget-view+json": {
       "model_id": "",
       "version_major": 2,
       "version_minor": 0
      },
      "text/plain": [
       "FloatProgress(value=0.0, bar_style='info', description='Progress:', layout=Layout(height='25px', width='50%'),…"
      ]
     },
     "metadata": {},
     "output_type": "display_data"
    }
   ],
   "source": [
    "customer_event_df = customer_event_df.withColumn(\"os\",\n",
    "                                                 os_udf(customer_event_df.userAgent))\n",
    "\n",
    "customer_event_df = customer_event_df.withColumn(\"browser\",\n",
    "                                                 browser_udf(customer_event_df.userAgent))\n",
    "customer_event_df = customer_event_df.withColumn(\"browser_ver\",\n",
    "                                                 version_udf(customer_event_df.userAgent))"
   ]
  },
  {
   "cell_type": "code",
   "execution_count": 25,
   "metadata": {},
   "outputs": [
    {
     "data": {
      "application/vnd.jupyter.widget-view+json": {
       "model_id": "3325eca9984646d1a04cebf6d6144986",
       "version_major": 2,
       "version_minor": 0
      },
      "text/plain": [
       "VBox()"
      ]
     },
     "metadata": {},
     "output_type": "display_data"
    },
    {
     "data": {
      "application/vnd.jupyter.widget-view+json": {
       "model_id": "",
       "version_major": 2,
       "version_minor": 0
      },
      "text/plain": [
       "FloatProgress(value=0.0, bar_style='info', description='Progress:', layout=Layout(height='25px', width='50%'),…"
      ]
     },
     "metadata": {},
     "output_type": "display_data"
    },
    {
     "name": "stdout",
     "output_type": "stream",
     "text": [
      "+-------+--------+\n",
      "|browser|   total|\n",
      "+-------+--------+\n",
      "| Chrome|13617087|\n",
      "|Firefox| 5865572|\n",
      "| Safari| 3351489|\n",
      "|Trident| 1342097|\n",
      "| Mobile| 1304475|\n",
      "+-------+--------+"
     ]
    }
   ],
   "source": [
    "customer_event_df.select(\"browser\").groupby(\"browser\"). \\\n",
    "    agg({'browser': 'count'}).select('browser', col('count(browser)').alias('total')). \\\n",
    "    sort(desc('total')).show()"
   ]
  },
  {
   "cell_type": "code",
   "execution_count": 26,
   "metadata": {},
   "outputs": [
    {
     "data": {
      "application/vnd.jupyter.widget-view+json": {
       "model_id": "4be2d61253cf47aabcf40afbc16cc22d",
       "version_major": 2,
       "version_minor": 0
      },
      "text/plain": [
       "VBox()"
      ]
     },
     "metadata": {},
     "output_type": "display_data"
    },
    {
     "data": {
      "application/vnd.jupyter.widget-view+json": {
       "model_id": "",
       "version_major": 2,
       "version_minor": 0
      },
      "text/plain": [
       "FloatProgress(value=0.0, bar_style='info', description='Progress:', layout=Layout(height='25px', width='50%'),…"
      ]
     },
     "metadata": {},
     "output_type": "display_data"
    },
    {
     "name": "stdout",
     "output_type": "stream",
     "text": [
      "+-------------+-------+\n",
      "|  browser_ver|  total|\n",
      "+-------------+-------+\n",
      "|36.0.1985.143|6355492|\n",
      "|         31.0|5410255|\n",
      "|36.0.1985.125|4896580|\n",
      "| 37.0.2062.94|1716235|\n",
      "|     537.78.2|1418844|\n",
      "|     537.77.4|1286229|\n",
      "|       11D257| 977863|\n",
      "|          7.0| 920112|\n",
      "|35.0.1916.153| 256355|\n",
      "|       11D201| 255883|\n",
      "|         30.0| 236017|\n",
      "|37.0.2062.103| 221846|\n",
      "|          6.0| 215797|\n",
      "|          5.0| 206188|\n",
      "|    534.59.10| 154934|\n",
      "|    537.75.14| 120164|\n",
      "|      600.1.8| 119180|\n",
      "|37.0.2062.102| 103929|\n",
      "|       538.46|  98817|\n",
      "|         32.0|  98586|\n",
      "+-------------+-------+\n",
      "only showing top 20 rows"
     ]
    }
   ],
   "source": [
    "customer_event_df.select(\"browser_ver\").groupby(\"browser_ver\"). \\\n",
    "    agg({'browser_ver': 'count'}).select('browser_ver', col('count(browser_ver)').alias('total')). \\\n",
    "    sort(desc('total')).show()"
   ]
  },
  {
   "cell_type": "code",
   "execution_count": 27,
   "metadata": {},
   "outputs": [
    {
     "data": {
      "application/vnd.jupyter.widget-view+json": {
       "model_id": "ea5323339b364cdf9ecea541afc8c470",
       "version_major": 2,
       "version_minor": 0
      },
      "text/plain": [
       "VBox()"
      ]
     },
     "metadata": {},
     "output_type": "display_data"
    },
    {
     "data": {
      "application/vnd.jupyter.widget-view+json": {
       "model_id": "",
       "version_major": 2,
       "version_minor": 0
      },
      "text/plain": [
       "FloatProgress(value=0.0, bar_style='info', description='Progress:', layout=Layout(height='25px', width='50%'),…"
      ]
     },
     "metadata": {},
     "output_type": "display_data"
    },
    {
     "name": "stdout",
     "output_type": "stream",
     "text": [
      "+-------+--------+\n",
      "|     os|   total|\n",
      "+-------+--------+\n",
      "|Windows|12425943|\n",
      "|    Mac|10101196|\n",
      "|  Linux| 1103954|\n",
      "| iPhone|  939025|\n",
      "| Ubuntu|  545152|\n",
      "|   iPad|  365450|\n",
      "+-------+--------+"
     ]
    }
   ],
   "source": [
    "customer_event_df.select(\"os\").groupby(\"os\"). \\\n",
    "    agg({'os': 'count'}).select('os', col('count(os)').alias('total')). \\\n",
    "    sort(desc('total')).show()"
   ]
  },
  {
   "cell_type": "markdown",
   "metadata": {},
   "source": [
    "## Define Churn\n",
    "\n",
    "* There are 5003 cancellation of subscription in 12GB dataset.\n",
    "* We create a churn label column for the dataset. It returns 1 if Cancecllation Confirmation events happens."
   ]
  },
  {
   "cell_type": "code",
   "execution_count": 28,
   "metadata": {},
   "outputs": [
    {
     "data": {
      "application/vnd.jupyter.widget-view+json": {
       "model_id": "352c2cd03b664b5192cb44c657845104",
       "version_major": 2,
       "version_minor": 0
      },
      "text/plain": [
       "VBox()"
      ]
     },
     "metadata": {},
     "output_type": "display_data"
    },
    {
     "data": {
      "application/vnd.jupyter.widget-view+json": {
       "model_id": "",
       "version_major": 2,
       "version_minor": 0
      },
      "text/plain": [
       "FloatProgress(value=0.0, bar_style='info', description='Progress:', layout=Layout(height='25px', width='50%'),…"
      ]
     },
     "metadata": {},
     "output_type": "display_data"
    },
    {
     "name": "stdout",
     "output_type": "stream",
     "text": [
      "5003"
     ]
    }
   ],
   "source": [
    "customer_event_df.filter(col(\"page\") == \"Cancellation Confirmation\" ). \\\n",
    "    select(\"userId\").distinct().count()"
   ]
  },
  {
   "cell_type": "code",
   "execution_count": 16,
   "metadata": {},
   "outputs": [
    {
     "data": {
      "application/vnd.jupyter.widget-view+json": {
       "model_id": "c08b49666da54618926de3722275ab7d",
       "version_major": 2,
       "version_minor": 0
      },
      "text/plain": [
       "VBox()"
      ]
     },
     "metadata": {},
     "output_type": "display_data"
    },
    {
     "data": {
      "application/vnd.jupyter.widget-view+json": {
       "model_id": "",
       "version_major": 2,
       "version_minor": 0
      },
      "text/plain": [
       "FloatProgress(value=0.0, bar_style='info', description='Progress:', layout=Layout(height='25px', width='50%'),…"
      ]
     },
     "metadata": {},
     "output_type": "display_data"
    }
   ],
   "source": [
    "is_cancellation = udf(lambda x: 1 if x == \"Cancellation Confirmation\" else 0, IntegerType())\n",
    "\n",
    "customer_event_df = customer_event_df.withColumn(\"churn\", is_cancellation(\"page\"))\n",
    "# there are users that cancelled their subscription in one of the session \n",
    "# we have to assign 1 to these users\n",
    "window_func = Window.partitionBy(\"userId\").rangeBetween(Window.unboundedPreceding,\n",
    "                                                        Window.unboundedFollowing)\n",
    "customer_event_df = customer_event_df.withColumn(\"churn\", Fsum(\"churn\").over(window_func))"
   ]
  },
  {
   "cell_type": "code",
   "execution_count": 30,
   "metadata": {},
   "outputs": [
    {
     "data": {
      "application/vnd.jupyter.widget-view+json": {
       "model_id": "c00e8b43d3714c9cb48e38ae1a8b9a49",
       "version_major": 2,
       "version_minor": 0
      },
      "text/plain": [
       "VBox()"
      ]
     },
     "metadata": {},
     "output_type": "display_data"
    },
    {
     "data": {
      "application/vnd.jupyter.widget-view+json": {
       "model_id": "",
       "version_major": 2,
       "version_minor": 0
      },
      "text/plain": [
       "FloatProgress(value=0.0, bar_style='info', description='Progress:', layout=Layout(height='25px', width='50%'),…"
      ]
     },
     "metadata": {},
     "output_type": "display_data"
    },
    {
     "name": "stdout",
     "output_type": "stream",
     "text": [
      "+-------+--------------------+\n",
      "|summary|                  ts|\n",
      "+-------+--------------------+\n",
      "|  count|            25480720|\n",
      "|   mean|1.540907380054355...|\n",
      "| stddev|1.5154756164254992E9|\n",
      "|    min|       1538352001000|\n",
      "|    max|       1543622402000|\n",
      "+-------+--------------------+"
     ]
    }
   ],
   "source": [
    "# ts feature\n",
    "customer_event_df.select(\"ts\").describe().show()"
   ]
  },
  {
   "cell_type": "code",
   "execution_count": 31,
   "metadata": {},
   "outputs": [
    {
     "data": {
      "application/vnd.jupyter.widget-view+json": {
       "model_id": "40e9867e10a04a8c92289242033a865f",
       "version_major": 2,
       "version_minor": 0
      },
      "text/plain": [
       "VBox()"
      ]
     },
     "metadata": {},
     "output_type": "display_data"
    },
    {
     "data": {
      "application/vnd.jupyter.widget-view+json": {
       "model_id": "",
       "version_major": 2,
       "version_minor": 0
      },
      "text/plain": [
       "FloatProgress(value=0.0, bar_style='info', description='Progress:', layout=Layout(height='25px', width='50%'),…"
      ]
     },
     "metadata": {},
     "output_type": "display_data"
    },
    {
     "name": "stdout",
     "output_type": "stream",
     "text": [
      "Start Time: 2018-10-01 00:00:11\n",
      "End Time: 2018-12-01 00:01:06"
     ]
    }
   ],
   "source": [
    "start_ts = int(1538352011000) / 1000\n",
    "start_date = datetime.utcfromtimestamp(start_ts).strftime(\"%Y-%m-%d %H:%M:%S\")\n",
    "print(f\"Start Time: {start_date}\")\n",
    "\n",
    "end_ts = int(1543622466000) / 1000\n",
    "end_date = datetime.utcfromtimestamp(end_ts).strftime(\"%Y-%m-%d %H:%M:%S\")\n",
    "print(f\"End Time: {end_date}\")"
   ]
  },
  {
   "cell_type": "code",
   "execution_count": 17,
   "metadata": {},
   "outputs": [
    {
     "data": {
      "application/vnd.jupyter.widget-view+json": {
       "model_id": "2ade01cfd96e471fb9f03568b1498328",
       "version_major": 2,
       "version_minor": 0
      },
      "text/plain": [
       "VBox()"
      ]
     },
     "metadata": {},
     "output_type": "display_data"
    },
    {
     "data": {
      "application/vnd.jupyter.widget-view+json": {
       "model_id": "",
       "version_major": 2,
       "version_minor": 0
      },
      "text/plain": [
       "FloatProgress(value=0.0, bar_style='info', description='Progress:', layout=Layout(height='25px', width='50%'),…"
      ]
     },
     "metadata": {},
     "output_type": "display_data"
    }
   ],
   "source": [
    "ts_to_day_fn = udf(lambda ts: int(datetime.fromtimestamp(ts / 1000.0).strftime(\"%w\")), IntegerType())\n",
    "ts_to_hour_fn = udf(lambda ts: datetime.fromtimestamp(ts / 1000.0).hour, IntegerType())\n",
    "ts_to_date_fn = udf(lambda ts: datetime.fromtimestamp(ts / 1000.0).date(), DateType())\n",
    "ts_to_month_fn = udf(lambda ts: datetime.fromtimestamp(ts / 1000.0).month, IntegerType())\n",
    "\n",
    "customer_event_df = customer_event_df.withColumn(\"event_weekday\", \n",
    "                                                 ts_to_day_fn(customer_event_df.ts))\n",
    "customer_event_df = customer_event_df.withColumn(\"event_hour\", \n",
    "                                                 ts_to_hour_fn(customer_event_df.ts))\n",
    "customer_event_df = customer_event_df.withColumn(\"event_month\",\n",
    "                                                 ts_to_month_fn(customer_event_df.ts))"
   ]
  },
  {
   "cell_type": "code",
   "execution_count": 18,
   "metadata": {},
   "outputs": [
    {
     "data": {
      "application/vnd.jupyter.widget-view+json": {
       "model_id": "107ade805f8e41f696beaa54644ce6a1",
       "version_major": 2,
       "version_minor": 0
      },
      "text/plain": [
       "VBox()"
      ]
     },
     "metadata": {},
     "output_type": "display_data"
    },
    {
     "data": {
      "application/vnd.jupyter.widget-view+json": {
       "model_id": "",
       "version_major": 2,
       "version_minor": 0
      },
      "text/plain": [
       "FloatProgress(value=0.0, bar_style='info', description='Progress:', layout=Layout(height='25px', width='50%'),…"
      ]
     },
     "metadata": {},
     "output_type": "display_data"
    }
   ],
   "source": [
    "customer_event_df = customer_event_df.withColumn(\"event_date\",\n",
    "                                                 ts_to_date_fn(customer_event_df.ts))\n",
    "customer_event_df = customer_event_df.withColumn(\"registration_date\",\n",
    "                                                 ts_to_date_fn(customer_event_df.registration))"
   ]
  },
  {
   "cell_type": "code",
   "execution_count": 19,
   "metadata": {},
   "outputs": [
    {
     "data": {
      "application/vnd.jupyter.widget-view+json": {
       "model_id": "3c450cfdd568454981dcb379f87e33e5",
       "version_major": 2,
       "version_minor": 0
      },
      "text/plain": [
       "VBox()"
      ]
     },
     "metadata": {},
     "output_type": "display_data"
    },
    {
     "data": {
      "application/vnd.jupyter.widget-view+json": {
       "model_id": "",
       "version_major": 2,
       "version_minor": 0
      },
      "text/plain": [
       "FloatProgress(value=0.0, bar_style='info', description='Progress:', layout=Layout(height='25px', width='50%'),…"
      ]
     },
     "metadata": {},
     "output_type": "display_data"
    }
   ],
   "source": [
    "def clean_location(s):\n",
    "    \n",
    "    location = s.split(\",\")[1].strip()\n",
    "    \n",
    "    if len(location) >= 3:\n",
    "        location = location.split(\"-\")[0].strip()\n",
    "    return location\n",
    "\n",
    "clean_location_udf = udf(clean_location, StringType())\n",
    "\n",
    "customer_event_df = customer_event_df.withColumn(\"location\",\n",
    "                                                 clean_location_udf(customer_event_df.location))"
   ]
  },
  {
   "cell_type": "code",
   "execution_count": 35,
   "metadata": {},
   "outputs": [
    {
     "data": {
      "application/vnd.jupyter.widget-view+json": {
       "model_id": "2919c0a5a4ed4ca7933a5b9cfcfab7bd",
       "version_major": 2,
       "version_minor": 0
      },
      "text/plain": [
       "VBox()"
      ]
     },
     "metadata": {},
     "output_type": "display_data"
    },
    {
     "data": {
      "application/vnd.jupyter.widget-view+json": {
       "model_id": "",
       "version_major": 2,
       "version_minor": 0
      },
      "text/plain": [
       "FloatProgress(value=0.0, bar_style='info', description='Progress:', layout=Layout(height='25px', width='50%'),…"
      ]
     },
     "metadata": {},
     "output_type": "display_data"
    }
   ],
   "source": [
    "# create a temp view from customer_even_df to use SQL type of syntax for data analysis\n",
    "customer_event_df.createOrReplaceTempView('event');"
   ]
  },
  {
   "cell_type": "code",
   "execution_count": 36,
   "metadata": {},
   "outputs": [
    {
     "data": {
      "application/vnd.jupyter.widget-view+json": {
       "model_id": "8cc1c2f973d84a79b41aec0f1b9981de",
       "version_major": 2,
       "version_minor": 0
      },
      "text/plain": [
       "VBox()"
      ]
     },
     "metadata": {},
     "output_type": "display_data"
    },
    {
     "data": {
      "application/vnd.jupyter.widget-view+json": {
       "model_id": "",
       "version_major": 2,
       "version_minor": 0
      },
      "text/plain": [
       "FloatProgress(value=0.0, bar_style='info', description='Progress:', layout=Layout(height='25px', width='50%'),…"
      ]
     },
     "metadata": {},
     "output_type": "display_data"
    }
   ],
   "source": [
    "churn_count_df = spark.sql(\"\"\"\n",
    "                           SELECT churn, \n",
    "                                  Count(DISTINCT userid) AS total_user \n",
    "                           FROM   event \n",
    "                           GROUP  BY churn \n",
    "                           \"\"\").toPandas()"
   ]
  },
  {
   "cell_type": "code",
   "execution_count": 37,
   "metadata": {},
   "outputs": [
    {
     "data": {
      "application/vnd.jupyter.widget-view+json": {
       "model_id": "495d9e126ed44864a9b369a0ba467f31",
       "version_major": 2,
       "version_minor": 0
      },
      "text/plain": [
       "VBox()"
      ]
     },
     "metadata": {},
     "output_type": "display_data"
    },
    {
     "data": {
      "application/vnd.jupyter.widget-view+json": {
       "model_id": "",
       "version_major": 2,
       "version_minor": 0
      },
      "text/plain": [
       "FloatProgress(value=0.0, bar_style='info', description='Progress:', layout=Layout(height='25px', width='50%'),…"
      ]
     },
     "metadata": {},
     "output_type": "display_data"
    },
    {
     "name": "stdout",
     "output_type": "stream",
     "text": [
      "   churn  total_user  percentage\n",
      "0      0       17274   77.541859\n",
      "1      1        5003   22.458141"
     ]
    }
   ],
   "source": [
    "churn_count_df[\"percentage\"] = churn_count_df[\"total_user\"] / churn_count_df[\"total_user\"].sum() * 100\n",
    "churn_count_df"
   ]
  },
  {
   "cell_type": "code",
   "execution_count": 38,
   "metadata": {},
   "outputs": [
    {
     "data": {
      "application/vnd.jupyter.widget-view+json": {
       "model_id": "1d6ccb106aa64b288475e799d05ab6aa",
       "version_major": 2,
       "version_minor": 0
      },
      "text/plain": [
       "VBox()"
      ]
     },
     "metadata": {},
     "output_type": "display_data"
    },
    {
     "data": {
      "application/vnd.jupyter.widget-view+json": {
       "model_id": "",
       "version_major": 2,
       "version_minor": 0
      },
      "text/plain": [
       "FloatProgress(value=0.0, bar_style='info', description='Progress:', layout=Layout(height='25px', width='50%'),…"
      ]
     },
     "metadata": {},
     "output_type": "display_data"
    }
   ],
   "source": [
    "gender_count = customer_event_df.select(\"gender\").groupby(\"gender\"). \\\n",
    "    agg({'gender': 'count'}).select('gender', col('count(gender)').alias('total')). \\\n",
    "    sort(desc('total')).toPandas()"
   ]
  },
  {
   "cell_type": "code",
   "execution_count": 39,
   "metadata": {},
   "outputs": [
    {
     "data": {
      "application/vnd.jupyter.widget-view+json": {
       "model_id": "06e642381d194e0c8add29ac8a13285b",
       "version_major": 2,
       "version_minor": 0
      },
      "text/plain": [
       "VBox()"
      ]
     },
     "metadata": {},
     "output_type": "display_data"
    },
    {
     "data": {
      "application/vnd.jupyter.widget-view+json": {
       "model_id": "",
       "version_major": 2,
       "version_minor": 0
      },
      "text/plain": [
       "FloatProgress(value=0.0, bar_style='info', description='Progress:', layout=Layout(height='25px', width='50%'),…"
      ]
     },
     "metadata": {},
     "output_type": "display_data"
    },
    {
     "name": "stdout",
     "output_type": "stream",
     "text": [
      "  gender     total  percentage\n",
      "0      M  13299562   52.194608\n",
      "1      F  12181158   47.805392"
     ]
    }
   ],
   "source": [
    "gender_count[\"percentage\"] = gender_count[\"total\"] / gender_count[\"total\"].sum() * 100\n",
    "gender_count"
   ]
  },
  {
   "cell_type": "code",
   "execution_count": 40,
   "metadata": {},
   "outputs": [
    {
     "data": {
      "application/vnd.jupyter.widget-view+json": {
       "model_id": "54785e9ba89a4f84a78289ec1a1b612a",
       "version_major": 2,
       "version_minor": 0
      },
      "text/plain": [
       "VBox()"
      ]
     },
     "metadata": {},
     "output_type": "display_data"
    },
    {
     "data": {
      "application/vnd.jupyter.widget-view+json": {
       "model_id": "",
       "version_major": 2,
       "version_minor": 0
      },
      "text/plain": [
       "FloatProgress(value=0.0, bar_style='info', description='Progress:', layout=Layout(height='25px', width='50%'),…"
      ]
     },
     "metadata": {},
     "output_type": "display_data"
    },
    {
     "name": "stdout",
     "output_type": "stream",
     "text": [
      "  level     total  percentage\n",
      "0  paid  20072480   78.775168\n",
      "1  free   5408240   21.224832"
     ]
    }
   ],
   "source": [
    "level_count = customer_event_df.select(\"level\").groupby(\"level\"). \\\n",
    "    agg({'level': 'count'}).select('level', col('count(level)').alias('total')). \\\n",
    "    sort(desc('total')).toPandas()\n",
    "level_count[\"percentage\"] = level_count[\"total\"] / level_count[\"total\"].sum() * 100\n",
    "level_count"
   ]
  },
  {
   "cell_type": "code",
   "execution_count": 41,
   "metadata": {},
   "outputs": [
    {
     "data": {
      "application/vnd.jupyter.widget-view+json": {
       "model_id": "e6f9afbdefa74c6fb8559d133ca74a15",
       "version_major": 2,
       "version_minor": 0
      },
      "text/plain": [
       "VBox()"
      ]
     },
     "metadata": {},
     "output_type": "display_data"
    },
    {
     "data": {
      "application/vnd.jupyter.widget-view+json": {
       "model_id": "",
       "version_major": 2,
       "version_minor": 0
      },
      "text/plain": [
       "FloatProgress(value=0.0, bar_style='info', description='Progress:', layout=Layout(height='25px', width='50%'),…"
      ]
     },
     "metadata": {},
     "output_type": "display_data"
    }
   ],
   "source": [
    "location_df = spark.sql(\"\"\"\n",
    "                           SELECT location, \n",
    "                                  Count(DISTINCT userid) AS total_user \n",
    "                           FROM   event \n",
    "                           GROUP  BY location \n",
    "                           ORDER BY total_user\n",
    "                           DESC\n",
    "                           \"\"\").toPandas()\n",
    "\n",
    "location_churn_df = spark.sql(\"\"\"\n",
    "                           SELECT location, \n",
    "                                  Count(DISTINCT userid) AS churn_user \n",
    "                           FROM   event \n",
    "                           WHERE churn=1\n",
    "                           GROUP BY location\n",
    "                           \"\"\").toPandas()\n",
    "\n",
    "merge_location_df = location_churn_df.merge(location_df, on='location').sort_values(by='total_user', ascending=False)\n",
    "merge_location_df['percentage'] = merge_location_df['churn_user'] / merge_location_df['total_user'] * 100"
   ]
  },
  {
   "cell_type": "code",
   "execution_count": 42,
   "metadata": {},
   "outputs": [
    {
     "data": {
      "application/vnd.jupyter.widget-view+json": {
       "model_id": "4ca18c28a2354949b06f39aa83a6fa64",
       "version_major": 2,
       "version_minor": 0
      },
      "text/plain": [
       "VBox()"
      ]
     },
     "metadata": {},
     "output_type": "display_data"
    },
    {
     "data": {
      "application/vnd.jupyter.widget-view+json": {
       "model_id": "",
       "version_major": 2,
       "version_minor": 0
      },
      "text/plain": [
       "FloatProgress(value=0.0, bar_style='info', description='Progress:', layout=Layout(height='25px', width='50%'),…"
      ]
     },
     "metadata": {},
     "output_type": "display_data"
    },
    {
     "name": "stdout",
     "output_type": "stream",
     "text": [
      "   location  churn_user  total_user  percentage\n",
      "37       SD          17          52   32.692308\n",
      "26       ME          19          65   29.230769\n",
      "10       WY           9          32   28.125000\n",
      "40       WV          34         126   26.984127\n",
      "11       NH          18          67   26.865672\n",
      "50       HI          31         116   26.724138\n",
      "5        DC         119         455   26.153846\n",
      "24       MO         126         497   25.352113\n",
      "15       ID          29         115   25.217391\n",
      "14       WI          84         335   25.074627\n",
      "20       NC         159         638   24.921630\n",
      "31       IN          96         390   24.615385\n",
      "47       AR          48         197   24.365482\n",
      "42       MA         124         510   24.313725\n",
      "21       VT           8          33   24.242424\n",
      "8        RI          32         133   24.060150\n",
      "48       OK          54         227   23.788546\n",
      "46       AK           8          34   23.529412\n",
      "23       DE           3          13   23.076923\n",
      "41       GA         159         690   23.043478\n",
      "36       PA         252        1094   23.034735\n",
      "18       NE          31         135   22.962963\n",
      "1        AZ         111         484   22.933884\n",
      "22       MD          61         266   22.932331\n",
      "13       NV          44         193   22.797927\n",
      "6        OR          71         312   22.756410\n",
      "7        VA          86         379   22.691293\n",
      "32       OH         210         929   22.604952\n",
      "2        LA          66         292   22.602740\n",
      "49       UT          43         191   22.513089\n",
      "33       TN         114         507   22.485207\n",
      "29       MS          40         179   22.346369\n",
      "38       NY         455        2044   22.260274\n",
      "12       MI         150         674   22.255193\n",
      "39       TX         400        1827   21.893815\n",
      "16       CA         607        2804   21.647646\n",
      "30       AL          66         305   21.639344\n",
      "17       CT          59         273   21.611722\n",
      "44       FL         306        1423   21.503865\n",
      "35       NM          33         154   21.428571\n",
      "25       IL         191         900   21.222222\n",
      "0        SC          58         275   21.090909\n",
      "27       WA         106         504   21.031746\n",
      "45       CO          73         359   20.334262\n",
      "3        MN          72         358   20.111732\n",
      "9        KY          42         226   18.584071\n",
      "43       KS          22         120   18.333333\n",
      "34       IA          35         193   18.134715\n",
      "4        NJ          10          61   16.393443\n",
      "28       ND           6          43   13.953488\n",
      "19       MT           6          48   12.500000"
     ]
    }
   ],
   "source": [
    "merge_location_df.sort_values(by='percentage', ascending=False)"
   ]
  },
  {
   "cell_type": "code",
   "execution_count": 43,
   "metadata": {},
   "outputs": [
    {
     "data": {
      "application/vnd.jupyter.widget-view+json": {
       "model_id": "fd6caac5b1cf4eaeb02bf75a0ce88e71",
       "version_major": 2,
       "version_minor": 0
      },
      "text/plain": [
       "VBox()"
      ]
     },
     "metadata": {},
     "output_type": "display_data"
    },
    {
     "data": {
      "application/vnd.jupyter.widget-view+json": {
       "model_id": "",
       "version_major": 2,
       "version_minor": 0
      },
      "text/plain": [
       "FloatProgress(value=0.0, bar_style='info', description='Progress:', layout=Layout(height='25px', width='50%'),…"
      ]
     },
     "metadata": {},
     "output_type": "display_data"
    },
    {
     "name": "stdout",
     "output_type": "stream",
     "text": [
      "                         page     total  percentage\n",
      "0                    NextSong  20850272    0.818276\n",
      "1                   Thumbs Up   1151465    0.045190\n",
      "2                        Home    933124    0.036621\n",
      "3             Add to Playlist    597921    0.023466\n",
      "4                 Roll Advert    385212    0.015118\n",
      "5                  Add Friend    381664    0.014979\n",
      "6                      Logout    296005    0.011617\n",
      "7                 Thumbs Down    239212    0.009388\n",
      "8                   Downgrade    184240    0.007231\n",
      "9                    Settings    147074    0.005772\n",
      "10                       Help    129448    0.005080\n",
      "11                    Upgrade     50507    0.001982\n",
      "12                      About     48377    0.001899\n",
      "13              Save Settings     29516    0.001158\n",
      "14                      Error     25048    0.000983\n",
      "15             Submit Upgrade     15135    0.000594\n",
      "16           Submit Downgrade      6494    0.000255\n",
      "17  Cancellation Confirmation      5003    0.000196\n",
      "18                     Cancel      5003    0.000196"
     ]
    }
   ],
   "source": [
    "page_count = customer_event_df.select(\"page\").groupby(\"page\"). \\\n",
    "    agg({'page': 'count'}).select('page', col('count(page)').alias('total')). \\\n",
    "    sort(desc('total')).toPandas()\n",
    "\n",
    "page_count['percentage'] = page_count['total']/ page_count['total'].sum()\n",
    "\n",
    "page_count"
   ]
  },
  {
   "cell_type": "code",
   "execution_count": 44,
   "metadata": {},
   "outputs": [
    {
     "data": {
      "application/vnd.jupyter.widget-view+json": {
       "model_id": "e1a537c4dfb547c4a3d7d5bab99fa6ee",
       "version_major": 2,
       "version_minor": 0
      },
      "text/plain": [
       "VBox()"
      ]
     },
     "metadata": {},
     "output_type": "display_data"
    },
    {
     "data": {
      "application/vnd.jupyter.widget-view+json": {
       "model_id": "",
       "version_major": 2,
       "version_minor": 0
      },
      "text/plain": [
       "FloatProgress(value=0.0, bar_style='info', description='Progress:', layout=Layout(height='25px', width='50%'),…"
      ]
     },
     "metadata": {},
     "output_type": "display_data"
    }
   ],
   "source": [
    "day_user_churn_df = spark.sql(\"\"\"\n",
    "                    SELECT event_weekday,\n",
    "                           churn,\n",
    "                           COUNT(DISTINCT(userId)) AS total_user\n",
    "                    FROM   event\n",
    "                    GROUP BY event_weekday,\n",
    "                             churn\n",
    "                    \"\"\").toPandas()"
   ]
  },
  {
   "cell_type": "code",
   "execution_count": 45,
   "metadata": {},
   "outputs": [
    {
     "data": {
      "application/vnd.jupyter.widget-view+json": {
       "model_id": "f8eda7ae83dd4629a2610d594fa480a0",
       "version_major": 2,
       "version_minor": 0
      },
      "text/plain": [
       "VBox()"
      ]
     },
     "metadata": {},
     "output_type": "display_data"
    },
    {
     "data": {
      "application/vnd.jupyter.widget-view+json": {
       "model_id": "",
       "version_major": 2,
       "version_minor": 0
      },
      "text/plain": [
       "FloatProgress(value=0.0, bar_style='info', description='Progress:', layout=Layout(height='25px', width='50%'),…"
      ]
     },
     "metadata": {},
     "output_type": "display_data"
    },
    {
     "name": "stdout",
     "output_type": "stream",
     "text": [
      "    event_weekday  churn  total_user\n",
      "3               0      0       10441\n",
      "4               0      1        2762\n",
      "0               1      0       13481\n",
      "7               1      1        3973\n",
      "8               2      1        3925\n",
      "11              2      0       13840\n",
      "2               3      1        3807\n",
      "10              3      0       13822\n",
      "5               4      0       13595\n",
      "6               4      1        3737\n",
      "1               5      1        3589\n",
      "13              5      0       13744\n",
      "9               6      0       10906\n",
      "12              6      1        2872"
     ]
    }
   ],
   "source": [
    "day_user_churn_df.sort_values(by=\"event_weekday\")"
   ]
  },
  {
   "cell_type": "markdown",
   "metadata": {},
   "source": [
    "## Feature Engineering"
   ]
  },
  {
   "cell_type": "code",
   "execution_count": 20,
   "metadata": {},
   "outputs": [
    {
     "data": {
      "application/vnd.jupyter.widget-view+json": {
       "model_id": "c3377cfecde3482f87851ae2b17f70e3",
       "version_major": 2,
       "version_minor": 0
      },
      "text/plain": [
       "VBox()"
      ]
     },
     "metadata": {},
     "output_type": "display_data"
    },
    {
     "data": {
      "application/vnd.jupyter.widget-view+json": {
       "model_id": "",
       "version_major": 2,
       "version_minor": 0
      },
      "text/plain": [
       "FloatProgress(value=0.0, bar_style='info', description='Progress:', layout=Layout(height='25px', width='50%'),…"
      ]
     },
     "metadata": {},
     "output_type": "display_data"
    },
    {
     "name": "stdout",
     "output_type": "stream",
     "text": [
      "+-------+------------+\n",
      "| userId|total_artist|\n",
      "+-------+------------+\n",
      "|1500901|        2252|\n",
      "|1338783|        1162|\n",
      "|1178731|        1684|\n",
      "|1331962|         504|\n",
      "|1333041|         577|\n",
      "+-------+------------+\n",
      "only showing top 5 rows"
     ]
    }
   ],
   "source": [
    "count_artist = customer_event_df \\\n",
    "    .filter(col(\"page\") == \"NextSong\") \\\n",
    "    .select(\"userId\", \"artist\") \\\n",
    "    .dropDuplicates() \\\n",
    "    .groupby(\"userId\") \\\n",
    "    .count() \\\n",
    "    .withColumnRenamed('count', 'total_artist') \\\n",
    "\n",
    "count_artist.show(5)"
   ]
  },
  {
   "cell_type": "code",
   "execution_count": 21,
   "metadata": {},
   "outputs": [
    {
     "data": {
      "application/vnd.jupyter.widget-view+json": {
       "model_id": "f0fdd61460a14ae284565eb69baf38ce",
       "version_major": 2,
       "version_minor": 0
      },
      "text/plain": [
       "VBox()"
      ]
     },
     "metadata": {},
     "output_type": "display_data"
    },
    {
     "data": {
      "application/vnd.jupyter.widget-view+json": {
       "model_id": "",
       "version_major": 2,
       "version_minor": 0
      },
      "text/plain": [
       "FloatProgress(value=0.0, bar_style='info', description='Progress:', layout=Layout(height='25px', width='50%'),…"
      ]
     },
     "metadata": {},
     "output_type": "display_data"
    },
    {
     "name": "stdout",
     "output_type": "stream",
     "text": [
      "+-------+------+\n",
      "| userId|gender|\n",
      "+-------+------+\n",
      "|1005442|     1|\n",
      "|1163054|     0|\n",
      "|1180653|     0|\n",
      "|1368451|     0|\n",
      "|1859039|     0|\n",
      "+-------+------+\n",
      "only showing top 5 rows"
     ]
    }
   ],
   "source": [
    "# Binarize the gender\n",
    "binarize_gender = customer_event_df \\\n",
    "    .select(\"userId\", \"gender\") \\\n",
    "    .dropDuplicates() \\\n",
    "    .replace([\"M\", \"F\"], [\"0\", \"1\"], \"gender\") \\\n",
    "    .select(\"userId\", col(\"gender\").cast(\"int\"))\n",
    "\n",
    "binarize_gender.show(5)"
   ]
  },
  {
   "cell_type": "code",
   "execution_count": 22,
   "metadata": {},
   "outputs": [
    {
     "data": {
      "application/vnd.jupyter.widget-view+json": {
       "model_id": "589bfee6de164d69abe66b0287038d30",
       "version_major": 2,
       "version_minor": 0
      },
      "text/plain": [
       "VBox()"
      ]
     },
     "metadata": {},
     "output_type": "display_data"
    },
    {
     "data": {
      "application/vnd.jupyter.widget-view+json": {
       "model_id": "",
       "version_major": 2,
       "version_minor": 0
      },
      "text/plain": [
       "FloatProgress(value=0.0, bar_style='info', description='Progress:', layout=Layout(height='25px', width='50%'),…"
      ]
     },
     "metadata": {},
     "output_type": "display_data"
    },
    {
     "name": "stdout",
     "output_type": "stream",
     "text": [
      "+-------+-----+\n",
      "| userId|level|\n",
      "+-------+-----+\n",
      "|1108378|    0|\n",
      "|1140592|    0|\n",
      "|1057440|    1|\n",
      "|1029700|    1|\n",
      "|1808914|    0|\n",
      "+-------+-----+\n",
      "only showing top 5 rows"
     ]
    }
   ],
   "source": [
    "#Binarize level\n",
    "binarize_level = customer_event_df \\\n",
    "    .select(\"userId\", \"level\") \\\n",
    "    .dropDuplicates() \\\n",
    "    .replace([\"free\", \"paid\"], [\"0\", \"1\"], \"level\") \\\n",
    "    .select(\"userId\", col(\"level\").cast(\"int\"))\n",
    "\n",
    "binarize_level.show(5)"
   ]
  },
  {
   "cell_type": "markdown",
   "metadata": {},
   "source": [
    "\n",
    "\n",
    "### downgrades page"
   ]
  },
  {
   "cell_type": "code",
   "execution_count": 23,
   "metadata": {},
   "outputs": [
    {
     "data": {
      "application/vnd.jupyter.widget-view+json": {
       "model_id": "8463e2892d2446cdb258ebdd3201ef4e",
       "version_major": 2,
       "version_minor": 0
      },
      "text/plain": [
       "VBox()"
      ]
     },
     "metadata": {},
     "output_type": "display_data"
    },
    {
     "data": {
      "application/vnd.jupyter.widget-view+json": {
       "model_id": "",
       "version_major": 2,
       "version_minor": 0
      },
      "text/plain": [
       "FloatProgress(value=0.0, bar_style='info', description='Progress:', layout=Layout(height='25px', width='50%'),…"
      ]
     },
     "metadata": {},
     "output_type": "display_data"
    },
    {
     "name": "stdout",
     "output_type": "stream",
     "text": [
      "+-------+-------------+\n",
      "| userId|num_downgrade|\n",
      "+-------+-------------+\n",
      "|1390009|            4|\n",
      "|1500901|           41|\n",
      "|1178731|           23|\n",
      "|1083324|           17|\n",
      "|1965481|           16|\n",
      "+-------+-------------+\n",
      "only showing top 5 rows"
     ]
    }
   ],
   "source": [
    "downgrade_feat = customer_event_df \\\n",
    "    .select(\"userId\", \"page\") \\\n",
    "    .where(col(\"page\") == \"Downgrade\") \\\n",
    "    .groupby(\"userId\") \\\n",
    "    .count() \\\n",
    "    .withColumnRenamed(\"count\", \"num_downgrade\")\n",
    "\n",
    "downgrade_feat.show(5)"
   ]
  },
  {
   "cell_type": "code",
   "execution_count": 24,
   "metadata": {},
   "outputs": [
    {
     "data": {
      "application/vnd.jupyter.widget-view+json": {
       "model_id": "030ec43b331b4479a7c7c076d1155144",
       "version_major": 2,
       "version_minor": 0
      },
      "text/plain": [
       "VBox()"
      ]
     },
     "metadata": {},
     "output_type": "display_data"
    },
    {
     "data": {
      "application/vnd.jupyter.widget-view+json": {
       "model_id": "",
       "version_major": 2,
       "version_minor": 0
      },
      "text/plain": [
       "FloatProgress(value=0.0, bar_style='info', description='Progress:', layout=Layout(height='25px', width='50%'),…"
      ]
     },
     "metadata": {},
     "output_type": "display_data"
    },
    {
     "name": "stdout",
     "output_type": "stream",
     "text": [
      "+-------+-----------------+\n",
      "| userId|num_song_playlist|\n",
      "+-------+-----------------+\n",
      "|1588738|               57|\n",
      "|1396828|               50|\n",
      "|1069552|               11|\n",
      "|1178731|               84|\n",
      "|1142513|               19|\n",
      "+-------+-----------------+\n",
      "only showing top 5 rows"
     ]
    }
   ],
   "source": [
    "playlist_feat = customer_event_df \\\n",
    "    .select(\"userId\", \"page\") \\\n",
    "    .where(col(\"page\") == \"Add to Playlist\") \\\n",
    "    .groupby(\"userId\") \\\n",
    "    .count() \\\n",
    "    .withColumnRenamed(\"count\", \"num_song_playlist\")\n",
    "\n",
    "playlist_feat.show(5)"
   ]
  },
  {
   "cell_type": "code",
   "execution_count": 25,
   "metadata": {},
   "outputs": [
    {
     "data": {
      "application/vnd.jupyter.widget-view+json": {
       "model_id": "c168a34d7f1b4f77b91115b73f9135e6",
       "version_major": 2,
       "version_minor": 0
      },
      "text/plain": [
       "VBox()"
      ]
     },
     "metadata": {},
     "output_type": "display_data"
    },
    {
     "data": {
      "application/vnd.jupyter.widget-view+json": {
       "model_id": "",
       "version_major": 2,
       "version_minor": 0
      },
      "text/plain": [
       "FloatProgress(value=0.0, bar_style='info', description='Progress:', layout=Layout(height='25px', width='50%'),…"
      ]
     },
     "metadata": {},
     "output_type": "display_data"
    },
    {
     "name": "stdout",
     "output_type": "stream",
     "text": [
      "+-------+---------------+\n",
      "| userId|num_thumbs_down|\n",
      "+-------+---------------+\n",
      "|1069552|              6|\n",
      "|1875484|             14|\n",
      "|1588738|             22|\n",
      "|1396828|             10|\n",
      "|1178731|             27|\n",
      "+-------+---------------+\n",
      "only showing top 5 rows"
     ]
    }
   ],
   "source": [
    "thumbs_down_feat = customer_event_df \\\n",
    "    .select(\"userId\", \"page\") \\\n",
    "    .where(col(\"page\") == \"Thumbs Down\") \\\n",
    "    .groupby(\"userId\") \\\n",
    "    .count() \\\n",
    "    .withColumnRenamed(\"count\", \"num_thumbs_down\")\n",
    "\n",
    "thumbs_down_feat.show(5)"
   ]
  },
  {
   "cell_type": "code",
   "execution_count": 26,
   "metadata": {},
   "outputs": [
    {
     "data": {
      "application/vnd.jupyter.widget-view+json": {
       "model_id": "3dc5319c8e934f00af485ca9a31b2fe9",
       "version_major": 2,
       "version_minor": 0
      },
      "text/plain": [
       "VBox()"
      ]
     },
     "metadata": {},
     "output_type": "display_data"
    },
    {
     "data": {
      "application/vnd.jupyter.widget-view+json": {
       "model_id": "",
       "version_major": 2,
       "version_minor": 0
      },
      "text/plain": [
       "FloatProgress(value=0.0, bar_style='info', description='Progress:', layout=Layout(height='25px', width='50%'),…"
      ]
     },
     "metadata": {},
     "output_type": "display_data"
    },
    {
     "name": "stdout",
     "output_type": "stream",
     "text": [
      "+-------+-------------+\n",
      "| userId|num_thumbs_up|\n",
      "+-------+-------------+\n",
      "|1069552|           26|\n",
      "|1658815|           53|\n",
      "|1178731|          147|\n",
      "|1718034|           30|\n",
      "|1875484|           81|\n",
      "+-------+-------------+\n",
      "only showing top 5 rows"
     ]
    }
   ],
   "source": [
    "thumbs_up_feat = customer_event_df \\\n",
    "    .select(\"userId\", \"page\") \\\n",
    "    .where(col(\"page\") == \"Thumbs Up\") \\\n",
    "    .groupby(\"userId\") \\\n",
    "    .count() \\\n",
    "    .withColumnRenamed(\"count\", \"num_thumbs_up\")\n",
    "\n",
    "thumbs_up_feat.show(5)"
   ]
  },
  {
   "cell_type": "markdown",
   "metadata": {},
   "source": [
    "### Add friend"
   ]
  },
  {
   "cell_type": "code",
   "execution_count": 27,
   "metadata": {},
   "outputs": [
    {
     "data": {
      "application/vnd.jupyter.widget-view+json": {
       "model_id": "24011dc3cabe4105ad0642cd1af5e37b",
       "version_major": 2,
       "version_minor": 0
      },
      "text/plain": [
       "VBox()"
      ]
     },
     "metadata": {},
     "output_type": "display_data"
    },
    {
     "data": {
      "application/vnd.jupyter.widget-view+json": {
       "model_id": "",
       "version_major": 2,
       "version_minor": 0
      },
      "text/plain": [
       "FloatProgress(value=0.0, bar_style='info', description='Progress:', layout=Layout(height='25px', width='50%'),…"
      ]
     },
     "metadata": {},
     "output_type": "display_data"
    },
    {
     "name": "stdout",
     "output_type": "stream",
     "text": [
      "+-------+----------+\n",
      "| userId|num_friend|\n",
      "+-------+----------+\n",
      "|1983423|        23|\n",
      "|1002185|        25|\n",
      "|1190352|        40|\n",
      "|1142513|        16|\n",
      "|1083324|        26|\n",
      "+-------+----------+\n",
      "only showing top 5 rows"
     ]
    }
   ],
   "source": [
    "friend_feat = customer_event_df \\\n",
    "    .select(\"userId\", \"page\") \\\n",
    "    .where(col(\"page\") == \"Add Friend\") \\\n",
    "    .groupby(\"userId\") \\\n",
    "    .count() \\\n",
    "    .withColumnRenamed(\"count\", \"num_friend\")\n",
    "\n",
    "friend_feat.show(5)"
   ]
  },
  {
   "cell_type": "markdown",
   "metadata": {},
   "source": [
    "### total length of time listened"
   ]
  },
  {
   "cell_type": "code",
   "execution_count": 28,
   "metadata": {},
   "outputs": [
    {
     "data": {
      "application/vnd.jupyter.widget-view+json": {
       "model_id": "533dc2c52411452f830fd9f62fbea986",
       "version_major": 2,
       "version_minor": 0
      },
      "text/plain": [
       "VBox()"
      ]
     },
     "metadata": {},
     "output_type": "display_data"
    },
    {
     "data": {
      "application/vnd.jupyter.widget-view+json": {
       "model_id": "",
       "version_major": 2,
       "version_minor": 0
      },
      "text/plain": [
       "FloatProgress(value=0.0, bar_style='info', description='Progress:', layout=Layout(height='25px', width='50%'),…"
      ]
     },
     "metadata": {},
     "output_type": "display_data"
    },
    {
     "name": "stdout",
     "output_type": "stream",
     "text": [
      "+-------+------------------+\n",
      "| userId|      total_length|\n",
      "+-------+------------------+\n",
      "|1390009| 44514.53022999999|\n",
      "|1519090| 78136.59243000002|\n",
      "|1394508|308561.98851999996|\n",
      "|1178731| 660566.6424100001|\n",
      "|1351489|260582.08369999996|\n",
      "+-------+------------------+\n",
      "only showing top 5 rows"
     ]
    }
   ],
   "source": [
    "total_length = customer_event_df \\\n",
    "    .select(\"userId\", \"length\") \\\n",
    "    .groupby(\"userId\") \\\n",
    "    .sum() \\\n",
    "    .withColumnRenamed(\"sum(length)\", \"total_length\")\n",
    "\n",
    "total_length.show(5)"
   ]
  },
  {
   "cell_type": "markdown",
   "metadata": {},
   "source": [
    "### Number of songs listened"
   ]
  },
  {
   "cell_type": "code",
   "execution_count": 29,
   "metadata": {},
   "outputs": [
    {
     "data": {
      "application/vnd.jupyter.widget-view+json": {
       "model_id": "b385c25499be446e9d28be7ef8f36695",
       "version_major": 2,
       "version_minor": 0
      },
      "text/plain": [
       "VBox()"
      ]
     },
     "metadata": {},
     "output_type": "display_data"
    },
    {
     "data": {
      "application/vnd.jupyter.widget-view+json": {
       "model_id": "",
       "version_major": 2,
       "version_minor": 0
      },
      "text/plain": [
       "FloatProgress(value=0.0, bar_style='info', description='Progress:', layout=Layout(height='25px', width='50%'),…"
      ]
     },
     "metadata": {},
     "output_type": "display_data"
    },
    {
     "name": "stdout",
     "output_type": "stream",
     "text": [
      "+-------+--------+\n",
      "| userId|num_song|\n",
      "+-------+--------+\n",
      "|1331962|     727|\n",
      "|1178731|    3165|\n",
      "|1528396|     154|\n",
      "|1002185|    2080|\n",
      "|1333041|     966|\n",
      "+-------+--------+\n",
      "only showing top 5 rows"
     ]
    }
   ],
   "source": [
    "total_songs = customer_event_df \\\n",
    "    .select(\"userId\", \"song\") \\\n",
    "    .groupby(\"userId\") \\\n",
    "    .count() \\\n",
    "    .withColumnRenamed(\"count\", \"num_song\")\n",
    "\n",
    "total_songs.show(5)"
   ]
  },
  {
   "cell_type": "markdown",
   "metadata": {},
   "source": [
    "### Number of sessions per user"
   ]
  },
  {
   "cell_type": "code",
   "execution_count": 30,
   "metadata": {},
   "outputs": [
    {
     "data": {
      "application/vnd.jupyter.widget-view+json": {
       "model_id": "372839dd4ce54bba8b4e79ce04e4e7a8",
       "version_major": 2,
       "version_minor": 0
      },
      "text/plain": [
       "VBox()"
      ]
     },
     "metadata": {},
     "output_type": "display_data"
    },
    {
     "data": {
      "application/vnd.jupyter.widget-view+json": {
       "model_id": "",
       "version_major": 2,
       "version_minor": 0
      },
      "text/plain": [
       "FloatProgress(value=0.0, bar_style='info', description='Progress:', layout=Layout(height='25px', width='50%'),…"
      ]
     },
     "metadata": {},
     "output_type": "display_data"
    },
    {
     "name": "stdout",
     "output_type": "stream",
     "text": [
      "+-------+-------+\n",
      "| userId|session|\n",
      "+-------+-------+\n",
      "|1338783|     16|\n",
      "|1271218|     51|\n",
      "|1492713|     17|\n",
      "|1875484|     25|\n",
      "|1770964|     16|\n",
      "+-------+-------+\n",
      "only showing top 5 rows"
     ]
    }
   ],
   "source": [
    "num_session = customer_event_df \\\n",
    "    .select(\"userId\", \"sessionId\") \\\n",
    "    .dropDuplicates() \\\n",
    "    .groupby(\"userId\") \\\n",
    "    .count() \\\n",
    "    .withColumnRenamed(\"count\", \"session\")\n",
    "\n",
    "num_session.show(5)"
   ]
  },
  {
   "cell_type": "markdown",
   "metadata": {},
   "source": [
    "### Average songs per seesion"
   ]
  },
  {
   "cell_type": "code",
   "execution_count": 31,
   "metadata": {},
   "outputs": [
    {
     "data": {
      "application/vnd.jupyter.widget-view+json": {
       "model_id": "eddbce161d9545dbacd1a8ece340b004",
       "version_major": 2,
       "version_minor": 0
      },
      "text/plain": [
       "VBox()"
      ]
     },
     "metadata": {},
     "output_type": "display_data"
    },
    {
     "data": {
      "application/vnd.jupyter.widget-view+json": {
       "model_id": "",
       "version_major": 2,
       "version_minor": 0
      },
      "text/plain": [
       "FloatProgress(value=0.0, bar_style='info', description='Progress:', layout=Layout(height='25px', width='50%'),…"
      ]
     },
     "metadata": {},
     "output_type": "display_data"
    },
    {
     "name": "stdout",
     "output_type": "stream",
     "text": [
      "+-------+-----------------+\n",
      "| userId|        avg_songs|\n",
      "+-------+-----------------+\n",
      "|1875484|            59.96|\n",
      "|1396135|           121.75|\n",
      "|1057724|98.64102564102564|\n",
      "|1624220|          27.6875|\n",
      "|1828442|21.09090909090909|\n",
      "+-------+-----------------+\n",
      "only showing top 5 rows"
     ]
    }
   ],
   "source": [
    "avg_songs_session = customer_event_df.filter(col(\"page\") == \"NextSong\") \\\n",
    "    .groupby(\"userId\", \"sessionId\") \\\n",
    "    .count() \\\n",
    "    .groupby(\"userId\") \\\n",
    "    .agg({\"count\": \"avg\"}) \\\n",
    "    .withColumnRenamed(\"avg(count)\", \"avg_songs\")\n",
    "\n",
    "avg_songs_session.show(5)"
   ]
  },
  {
   "cell_type": "markdown",
   "metadata": {},
   "source": [
    "### average session per day/month"
   ]
  },
  {
   "cell_type": "code",
   "execution_count": 32,
   "metadata": {},
   "outputs": [
    {
     "data": {
      "application/vnd.jupyter.widget-view+json": {
       "model_id": "bc19565d755a428a905123d776599609",
       "version_major": 2,
       "version_minor": 0
      },
      "text/plain": [
       "VBox()"
      ]
     },
     "metadata": {},
     "output_type": "display_data"
    },
    {
     "data": {
      "application/vnd.jupyter.widget-view+json": {
       "model_id": "",
       "version_major": 2,
       "version_minor": 0
      },
      "text/plain": [
       "FloatProgress(value=0.0, bar_style='info', description='Progress:', layout=Layout(height='25px', width='50%'),…"
      ]
     },
     "metadata": {},
     "output_type": "display_data"
    },
    {
     "name": "stdout",
     "output_type": "stream",
     "text": [
      "+-------+------------------+\n",
      "| userId|avg_daily_sessions|\n",
      "+-------+------------------+\n",
      "|1853227| 2.857142857142857|\n",
      "|1676292| 2.142857142857143|\n",
      "|1500901|               6.0|\n",
      "|1200956| 7.285714285714286|\n",
      "|1567400|               1.5|\n",
      "+-------+------------------+\n",
      "only showing top 5 rows"
     ]
    }
   ],
   "source": [
    "daily_sess = customer_event_df.groupby([\"userId\", \"event_weekday\"]) \\\n",
    "    .agg(countDistinct(\"sessionId\")) \\\n",
    "    .groupby(\"userId\").avg(\"count(DISTINCT sessionId)\") \\\n",
    "    .withColumnRenamed(\"avg(count(DISTINCT sessionId))\", \"avg_daily_sessions\")\n",
    "daily_sess.show(5)"
   ]
  },
  {
   "cell_type": "code",
   "execution_count": 33,
   "metadata": {},
   "outputs": [
    {
     "data": {
      "application/vnd.jupyter.widget-view+json": {
       "model_id": "9a9fa543b2a54fde8a772e0dc5516b64",
       "version_major": 2,
       "version_minor": 0
      },
      "text/plain": [
       "VBox()"
      ]
     },
     "metadata": {},
     "output_type": "display_data"
    },
    {
     "data": {
      "application/vnd.jupyter.widget-view+json": {
       "model_id": "",
       "version_major": 2,
       "version_minor": 0
      },
      "text/plain": [
       "FloatProgress(value=0.0, bar_style='info', description='Progress:', layout=Layout(height='25px', width='50%'),…"
      ]
     },
     "metadata": {},
     "output_type": "display_data"
    },
    {
     "name": "stdout",
     "output_type": "stream",
     "text": [
      "+-------+--------------------+\n",
      "| userId|avg_monthly_sessions|\n",
      "+-------+--------------------+\n",
      "|1396135|                 4.5|\n",
      "|1663036|                11.5|\n",
      "|1965481|                15.5|\n",
      "|1853227|                 9.0|\n",
      "|1617595|                 1.0|\n",
      "+-------+--------------------+\n",
      "only showing top 5 rows"
     ]
    }
   ],
   "source": [
    "month_sess = customer_event_df.groupby([\"userId\", \"event_month\"]) \\\n",
    "    .agg(countDistinct(\"sessionId\")) \\\n",
    "    .groupby(\"userId\").avg(\"count(DISTINCT sessionId)\") \\\n",
    "    .withColumnRenamed(\"avg(count(DISTINCT sessionId))\", \"avg_monthly_sessions\")\n",
    "month_sess.show(5)"
   ]
  },
  {
   "cell_type": "markdown",
   "metadata": {},
   "source": [
    "### location feature"
   ]
  },
  {
   "cell_type": "code",
   "execution_count": 34,
   "metadata": {},
   "outputs": [
    {
     "data": {
      "application/vnd.jupyter.widget-view+json": {
       "model_id": "b3c555669c4a4a7887709d8d5f27e560",
       "version_major": 2,
       "version_minor": 0
      },
      "text/plain": [
       "VBox()"
      ]
     },
     "metadata": {},
     "output_type": "display_data"
    },
    {
     "data": {
      "application/vnd.jupyter.widget-view+json": {
       "model_id": "",
       "version_major": 2,
       "version_minor": 0
      },
      "text/plain": [
       "FloatProgress(value=0.0, bar_style='info', description='Progress:', layout=Layout(height='25px', width='50%'),…"
      ]
     },
     "metadata": {},
     "output_type": "display_data"
    }
   ],
   "source": [
    "location_feat = customer_event_df \\\n",
    "    .select(\"userId\", \"location\") \\\n",
    "    .dropDuplicates()"
   ]
  },
  {
   "cell_type": "markdown",
   "metadata": {},
   "source": [
    "### os and browser features"
   ]
  },
  {
   "cell_type": "code",
   "execution_count": 35,
   "metadata": {},
   "outputs": [
    {
     "data": {
      "application/vnd.jupyter.widget-view+json": {
       "model_id": "0a0bb65c74fc4de28ca373886f44381d",
       "version_major": 2,
       "version_minor": 0
      },
      "text/plain": [
       "VBox()"
      ]
     },
     "metadata": {},
     "output_type": "display_data"
    },
    {
     "data": {
      "application/vnd.jupyter.widget-view+json": {
       "model_id": "",
       "version_major": 2,
       "version_minor": 0
      },
      "text/plain": [
       "FloatProgress(value=0.0, bar_style='info', description='Progress:', layout=Layout(height='25px', width='50%'),…"
      ]
     },
     "metadata": {},
     "output_type": "display_data"
    }
   ],
   "source": [
    "os_feat = customer_event_df \\\n",
    "    .select(\"userId\", \"os\") \\\n",
    "    .dropDuplicates()"
   ]
  },
  {
   "cell_type": "code",
   "execution_count": 36,
   "metadata": {},
   "outputs": [
    {
     "data": {
      "application/vnd.jupyter.widget-view+json": {
       "model_id": "5e4ccb2538cd4afd9d77679cc723cc3f",
       "version_major": 2,
       "version_minor": 0
      },
      "text/plain": [
       "VBox()"
      ]
     },
     "metadata": {},
     "output_type": "display_data"
    },
    {
     "data": {
      "application/vnd.jupyter.widget-view+json": {
       "model_id": "",
       "version_major": 2,
       "version_minor": 0
      },
      "text/plain": [
       "FloatProgress(value=0.0, bar_style='info', description='Progress:', layout=Layout(height='25px', width='50%'),…"
      ]
     },
     "metadata": {},
     "output_type": "display_data"
    }
   ],
   "source": [
    "browser_feat = customer_event_df \\\n",
    "    .select(\"userId\", \"browser\") \\\n",
    "    .dropDuplicates()"
   ]
  },
  {
   "cell_type": "code",
   "execution_count": 37,
   "metadata": {},
   "outputs": [
    {
     "data": {
      "application/vnd.jupyter.widget-view+json": {
       "model_id": "3567238b911d43f7a0ef6c66130c5f07",
       "version_major": 2,
       "version_minor": 0
      },
      "text/plain": [
       "VBox()"
      ]
     },
     "metadata": {},
     "output_type": "display_data"
    },
    {
     "data": {
      "application/vnd.jupyter.widget-view+json": {
       "model_id": "",
       "version_major": 2,
       "version_minor": 0
      },
      "text/plain": [
       "FloatProgress(value=0.0, bar_style='info', description='Progress:', layout=Layout(height='25px', width='50%'),…"
      ]
     },
     "metadata": {},
     "output_type": "display_data"
    }
   ],
   "source": [
    "browser_ver_feat = customer_event_df \\\n",
    "    .select(\"userId\", \"browser_ver\") \\\n",
    "    .dropDuplicates()"
   ]
  },
  {
   "cell_type": "markdown",
   "metadata": {},
   "source": [
    "### label"
   ]
  },
  {
   "cell_type": "code",
   "execution_count": 38,
   "metadata": {},
   "outputs": [
    {
     "data": {
      "application/vnd.jupyter.widget-view+json": {
       "model_id": "275568f95e7c47f5a6381d8706da1286",
       "version_major": 2,
       "version_minor": 0
      },
      "text/plain": [
       "VBox()"
      ]
     },
     "metadata": {},
     "output_type": "display_data"
    },
    {
     "data": {
      "application/vnd.jupyter.widget-view+json": {
       "model_id": "",
       "version_major": 2,
       "version_minor": 0
      },
      "text/plain": [
       "FloatProgress(value=0.0, bar_style='info', description='Progress:', layout=Layout(height='25px', width='50%'),…"
      ]
     },
     "metadata": {},
     "output_type": "display_data"
    },
    {
     "name": "stdout",
     "output_type": "stream",
     "text": [
      "+-------+------------------+-------------------+\n",
      "|summary|            userId|              label|\n",
      "+-------+------------------+-------------------+\n",
      "|  count|             22278|              22278|\n",
      "|   mean|1498782.9615764432|0.22457132597181076|\n",
      "| stddev| 288851.8472659187|0.41730907312356175|\n",
      "|    min|           1000025|                  0|\n",
      "|    max|           1999996|                  1|\n",
      "+-------+------------------+-------------------+"
     ]
    }
   ],
   "source": [
    "label = customer_event_df \\\n",
    "    .select(\"userId\", col(\"churn\").alias(\"label\")) \\\n",
    "    .dropDuplicates() \\\n",
    "    .orderBy(\"userId\")\n",
    "\n",
    "label.describe().show()"
   ]
  },
  {
   "cell_type": "code",
   "execution_count": 39,
   "metadata": {},
   "outputs": [
    {
     "data": {
      "application/vnd.jupyter.widget-view+json": {
       "model_id": "39723735989f43a08f223643dd776925",
       "version_major": 2,
       "version_minor": 0
      },
      "text/plain": [
       "VBox()"
      ]
     },
     "metadata": {},
     "output_type": "display_data"
    },
    {
     "data": {
      "application/vnd.jupyter.widget-view+json": {
       "model_id": "",
       "version_major": 2,
       "version_minor": 0
      },
      "text/plain": [
       "FloatProgress(value=0.0, bar_style='info', description='Progress:', layout=Layout(height='25px', width='50%'),…"
      ]
     },
     "metadata": {},
     "output_type": "display_data"
    }
   ],
   "source": [
    "transformed_event = count_artist.join(binarize_gender, \"userId\", \"outer\") \\\n",
    "    .join(binarize_level, \"userId\", \"outer\") \\\n",
    "    .join(downgrade_feat, \"userId\", \"outer\") \\\n",
    "    .join(playlist_feat, \"userId\", \"outer\") \\\n",
    "    .join(thumbs_down_feat, \"userId\", \"outer\") \\\n",
    "    .join(thumbs_up_feat, \"userId\", \"outer\") \\\n",
    "    .join(friend_feat, \"userId\", \"outer\") \\\n",
    "    .join(total_length, \"userId\", \"outer\") \\\n",
    "    .join(num_session, \"userId\", \"outer\") \\\n",
    "    .join(avg_songs_session, \"userId\", \"outer\") \\\n",
    "    .join(daily_sess, \"userId\", \"outer\") \\\n",
    "    .join(month_sess, \"userId\", \"outer\") \\\n",
    "    .join(os_feat, \"userId\", \"outer\") \\\n",
    "    .join(browser_feat, \"userId\", \"outer\") \\\n",
    "    .join(browser_ver_feat, \"userId\", \"outer\") \\\n",
    "    .join(label, \"userId\", \"outer\") \\\n",
    "    .drop(\"userId\") \\\n",
    "    .fillna(0)"
   ]
  },
  {
   "cell_type": "markdown",
   "metadata": {},
   "source": [
    "## Modeling"
   ]
  },
  {
   "cell_type": "code",
   "execution_count": 40,
   "metadata": {},
   "outputs": [
    {
     "data": {
      "application/vnd.jupyter.widget-view+json": {
       "model_id": "4bfeec1f42774f4bb3d41f84868e9a71",
       "version_major": 2,
       "version_minor": 0
      },
      "text/plain": [
       "VBox()"
      ]
     },
     "metadata": {},
     "output_type": "display_data"
    },
    {
     "data": {
      "application/vnd.jupyter.widget-view+json": {
       "model_id": "",
       "version_major": 2,
       "version_minor": 0
      },
      "text/plain": [
       "FloatProgress(value=0.0, bar_style='info', description='Progress:', layout=Layout(height='25px', width='50%'),…"
      ]
     },
     "metadata": {},
     "output_type": "display_data"
    },
    {
     "name": "stdout",
     "output_type": "stream",
     "text": [
      "root\n",
      " |-- total_artist: long (nullable = true)\n",
      " |-- gender: integer (nullable = true)\n",
      " |-- level: integer (nullable = true)\n",
      " |-- num_downgrade: long (nullable = true)\n",
      " |-- num_song_playlist: long (nullable = true)\n",
      " |-- num_thumbs_down: long (nullable = true)\n",
      " |-- num_thumbs_up: long (nullable = true)\n",
      " |-- num_friend: long (nullable = true)\n",
      " |-- total_length: double (nullable = false)\n",
      " |-- session: long (nullable = true)\n",
      " |-- avg_songs: double (nullable = false)\n",
      " |-- avg_daily_sessions: double (nullable = false)\n",
      " |-- avg_monthly_sessions: double (nullable = false)\n",
      " |-- os: string (nullable = true)\n",
      " |-- browser: string (nullable = true)\n",
      " |-- browser_ver: string (nullable = true)\n",
      " |-- label: long (nullable = true)"
     ]
    }
   ],
   "source": [
    "transformed_event.printSchema()"
   ]
  },
  {
   "cell_type": "markdown",
   "metadata": {},
   "source": [
    "### Pipeline"
   ]
  },
  {
   "cell_type": "code",
   "execution_count": 41,
   "metadata": {},
   "outputs": [
    {
     "data": {
      "application/vnd.jupyter.widget-view+json": {
       "model_id": "b72bbe7d16f84ef1a4fb887bb913bb48",
       "version_major": 2,
       "version_minor": 0
      },
      "text/plain": [
       "VBox()"
      ]
     },
     "metadata": {},
     "output_type": "display_data"
    },
    {
     "data": {
      "application/vnd.jupyter.widget-view+json": {
       "model_id": "",
       "version_major": 2,
       "version_minor": 0
      },
      "text/plain": [
       "FloatProgress(value=0.0, bar_style='info', description='Progress:', layout=Layout(height='25px', width='50%'),…"
      ]
     },
     "metadata": {},
     "output_type": "display_data"
    }
   ],
   "source": [
    "num_cols= [\"total_artist\", \"gender\", \"level\", \"num_downgrade\", \"num_song_playlist\",\n",
    "           \"num_thumbs_down\", \"num_thumbs_up\", \"num_friend\", \"total_length\",\n",
    "           \"session\", \"avg_songs\", \"avg_daily_sessions\", \"avg_monthly_sessions\"]\n",
    "\n",
    "\n",
    "indexer_os = StringIndexer(inputCol=\"os\", outputCol=\"os_index\")\n",
    "indexer_browser = StringIndexer(inputCol=\"browser\", outputCol=\"browser_index\")\n",
    "indexer_browser_ver = StringIndexer(inputCol=\"browser_ver\", outputCol=\"browser_ver_index\")\n",
    "assemblerCat = VectorAssembler(inputCols=[\"os_index\", \"browser_index\", \"browser_ver_index\"], outputCol=\"cat\")\n",
    "\n",
    "pipelineCat = Pipeline(stages = [indexer_os, indexer_browser, indexer_browser_ver, assemblerCat])\n",
    "transformed_event = pipelineCat.fit(transformed_event).transform(transformed_event)\n",
    "\n",
    "\n",
    "\n",
    "assemblerNum = VectorAssembler(inputCols=num_cols, outputCol=\"Num\")\n",
    "scaler = StandardScaler(inputCol=\"Num\", outputCol=\"scaled_num\")\n",
    "pipelineNum = Pipeline(stages=[assemblerNum, scaler])\n",
    "transformed_event = pipelineNum.fit(transformed_event).transform(transformed_event)\n",
    "\n",
    "assembler = VectorAssembler(inputCols=[\"cat\", \"scaled_num\"], outputCol=\"features\")\n",
    "\n",
    "features_pipeline = Pipeline(stages=[assembler])\n",
    "\n",
    "transformed_event = features_pipeline.fit(transformed_event).transform(transformed_event)"
   ]
  },
  {
   "cell_type": "code",
   "execution_count": 42,
   "metadata": {},
   "outputs": [
    {
     "data": {
      "application/vnd.jupyter.widget-view+json": {
       "model_id": "54320d259d3241f79e0ad05f6edbb534",
       "version_major": 2,
       "version_minor": 0
      },
      "text/plain": [
       "VBox()"
      ]
     },
     "metadata": {},
     "output_type": "display_data"
    },
    {
     "data": {
      "application/vnd.jupyter.widget-view+json": {
       "model_id": "",
       "version_major": 2,
       "version_minor": 0
      },
      "text/plain": [
       "FloatProgress(value=0.0, bar_style='info', description='Progress:', layout=Layout(height='25px', width='50%'),…"
      ]
     },
     "metadata": {},
     "output_type": "display_data"
    }
   ],
   "source": [
    "final_data = transformed_event.select([\"label\", \"features\"])\n"
   ]
  },
  {
   "cell_type": "code",
   "execution_count": 43,
   "metadata": {},
   "outputs": [
    {
     "data": {
      "application/vnd.jupyter.widget-view+json": {
       "model_id": "3fbc19a03f554234895622015b5ea07d",
       "version_major": 2,
       "version_minor": 0
      },
      "text/plain": [
       "VBox()"
      ]
     },
     "metadata": {},
     "output_type": "display_data"
    },
    {
     "data": {
      "application/vnd.jupyter.widget-view+json": {
       "model_id": "",
       "version_major": 2,
       "version_minor": 0
      },
      "text/plain": [
       "FloatProgress(value=0.0, bar_style='info', description='Progress:', layout=Layout(height='25px', width='50%'),…"
      ]
     },
     "metadata": {},
     "output_type": "display_data"
    }
   ],
   "source": [
    "train_data, test_data = final_data.randomSplit([0.8, 0.2], seed=12)"
   ]
  },
  {
   "cell_type": "code",
   "execution_count": 44,
   "metadata": {},
   "outputs": [
    {
     "data": {
      "application/vnd.jupyter.widget-view+json": {
       "model_id": "42f4d866e6eb47f98ab9d275a6da3a78",
       "version_major": 2,
       "version_minor": 0
      },
      "text/plain": [
       "VBox()"
      ]
     },
     "metadata": {},
     "output_type": "display_data"
    },
    {
     "data": {
      "application/vnd.jupyter.widget-view+json": {
       "model_id": "",
       "version_major": 2,
       "version_minor": 0
      },
      "text/plain": [
       "FloatProgress(value=0.0, bar_style='info', description='Progress:', layout=Layout(height='25px', width='50%'),…"
      ]
     },
     "metadata": {},
     "output_type": "display_data"
    }
   ],
   "source": [
    "def feat_importance_df(model, cols, clf_name):\n",
    "    \"\"\"\n",
    "    Create feature importance dataframe \n",
    "    :param model:  machine learning model\n",
    "    :param cols: a list of columns \n",
    "    :param clf_name: str. the name of the classifier\n",
    "    :return: feature_imp_df: dataframe of feature importance score \n",
    "    \"\"\"\n",
    "    feature_index = model.featureImportances.indices.tolist()\n",
    "    feature_name = [cols[index] for index in feature_index]\n",
    "    feature_imp = model.featureImportances.values.tolist()\n",
    "    feature_imp_df = pd.DataFrame(list(zip(feature_name, feature_imp)), columns=[\"features\", \"importance_score\"])\n",
    "    feature_imp_df = feature_imp_df.sort_values(\"importance_score\", ascending=False)\n",
    "\n",
    "    return feature_imp_df"
   ]
  },
  {
   "cell_type": "code",
   "execution_count": 45,
   "metadata": {},
   "outputs": [
    {
     "data": {
      "application/vnd.jupyter.widget-view+json": {
       "model_id": "fe541a03fe87471681be1cb19bc091e0",
       "version_major": 2,
       "version_minor": 0
      },
      "text/plain": [
       "VBox()"
      ]
     },
     "metadata": {},
     "output_type": "display_data"
    },
    {
     "data": {
      "application/vnd.jupyter.widget-view+json": {
       "model_id": "",
       "version_major": 2,
       "version_minor": 0
      },
      "text/plain": [
       "FloatProgress(value=0.0, bar_style='info', description='Progress:', layout=Layout(height='25px', width='50%'),…"
      ]
     },
     "metadata": {},
     "output_type": "display_data"
    }
   ],
   "source": [
    "def evaluate_model(model, data):\n",
    "    \"\"\"\n",
    "    Create summary metrics of machine learning model prediction\n",
    "    :param model: Pyspark ml model \n",
    "    :param data: either test data or train data \n",
    "    :return: summary: accuracy, precision, recall and f1 score of the model\n",
    "    \"\"\"\n",
    "    prediction = model.transform(data)\n",
    "    \n",
    "    evaluator = MulticlassClassificationEvaluator()\n",
    "    \n",
    "    eval_dict = {}\n",
    "    eval_dict[\"accuracy\"] = evaluator.evaluate(prediction, {evaluator.metricName: \"accuracy\"})\n",
    "    eval_dict[\"precision\"] = evaluator.evaluate(prediction, {evaluator.metricName: \"weightedPrecision\"})\n",
    "    eval_dict[\"recall\"] = evaluator.evaluate(prediction, {evaluator.metricName: \"weightedRecall\"})\n",
    "    eval_dict[\"f1\"] = evaluator.evaluate(prediction, {evaluator.metricName: \"f1\"})\n",
    "    \n",
    "    \n",
    "    metrics = {k: round(v, 5) for k, v in eval_dict.items()}\n",
    "    # create a spark datafrmae \n",
    "    summary = spark.createDataFrame(pd.DataFrame([metrics], columns=metrics.keys()))\n",
    "    \n",
    "    return summary"
   ]
  },
  {
   "cell_type": "code",
   "execution_count": 46,
   "metadata": {},
   "outputs": [
    {
     "data": {
      "application/vnd.jupyter.widget-view+json": {
       "model_id": "c1666e8bf30a49039e40efd74ddafccc",
       "version_major": 2,
       "version_minor": 0
      },
      "text/plain": [
       "VBox()"
      ]
     },
     "metadata": {},
     "output_type": "display_data"
    },
    {
     "data": {
      "application/vnd.jupyter.widget-view+json": {
       "model_id": "",
       "version_major": 2,
       "version_minor": 0
      },
      "text/plain": [
       "FloatProgress(value=0.0, bar_style='info', description='Progress:', layout=Layout(height='25px', width='50%'),…"
      ]
     },
     "metadata": {},
     "output_type": "display_data"
    }
   ],
   "source": [
    "rf_model = RandomForestClassifier(labelCol=\"label\", featuresCol=\"features\")\n",
    "param_grid_rf = ParamGridBuilder() \\\n",
    "    .addGrid(rf_model.maxDepth, [10]) \\\n",
    "    .build()"
   ]
  },
  {
   "cell_type": "code",
   "execution_count": 47,
   "metadata": {},
   "outputs": [
    {
     "data": {
      "application/vnd.jupyter.widget-view+json": {
       "model_id": "261e07e7eb004c5ea8489a7368afe7ce",
       "version_major": 2,
       "version_minor": 0
      },
      "text/plain": [
       "VBox()"
      ]
     },
     "metadata": {},
     "output_type": "display_data"
    },
    {
     "data": {
      "application/vnd.jupyter.widget-view+json": {
       "model_id": "",
       "version_major": 2,
       "version_minor": 0
      },
      "text/plain": [
       "FloatProgress(value=0.0, bar_style='info', description='Progress:', layout=Layout(height='25px', width='50%'),…"
      ]
     },
     "metadata": {},
     "output_type": "display_data"
    },
    {
     "name": "stdout",
     "output_type": "stream",
     "text": [
      "+--------+---------+-------+------+\n",
      "|accuracy|precision| recall|    f1|\n",
      "+--------+---------+-------+------+\n",
      "| 0.84919|  0.85287|0.84919|0.8272|\n",
      "+--------+---------+-------+------+\n",
      "\n",
      "Training time approximately 312.0 mins"
     ]
    }
   ],
   "source": [
    "start = time()\n",
    "cross_val = CrossValidator(estimator=rf_model,\n",
    "                           estimatorParamMaps=param_grid_rf,\n",
    "                           evaluator=MulticlassClassificationEvaluator(),\n",
    "                           numFolds=3)\n",
    "clf = cross_val.fit(train_data)\n",
    "summary = evaluate_model(clf, test_data)\n",
    "summary.show()\n",
    "end = time()\n",
    "print(f\"Training time approximately {(end - start) // 60} mins\")"
   ]
  },
  {
   "cell_type": "code",
   "execution_count": null,
   "metadata": {},
   "outputs": [],
   "source": []
  }
 ],
 "metadata": {
  "kernelspec": {
   "display_name": "PySpark",
   "language": "",
   "name": "pysparkkernel"
  },
  "language_info": {
   "codemirror_mode": {
    "name": "python",
    "version": 2
   },
   "mimetype": "text/x-python",
   "name": "pyspark",
   "pygments_lexer": "python2"
  },
  "toc": {
   "base_numbering": 1,
   "nav_menu": {},
   "number_sections": true,
   "sideBar": true,
   "skip_h1_title": false,
   "title_cell": "Table of Contents",
   "title_sidebar": "Contents",
   "toc_cell": true,
   "toc_position": {},
   "toc_section_display": true,
   "toc_window_display": false
  }
 },
 "nbformat": 4,
 "nbformat_minor": 2
}
