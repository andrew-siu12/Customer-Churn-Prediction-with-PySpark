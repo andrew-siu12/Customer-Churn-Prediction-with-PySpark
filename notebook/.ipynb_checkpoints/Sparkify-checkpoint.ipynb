{
 "cells": [
  {
   "cell_type": "markdown",
   "metadata": {},
   "source": [
    "# Overview\n",
    "\n",
    "In this project, we will be creating a predictive model for customer churn prediction of a fictional music streaming service: Sparkify (similar to Spotify and Pandora). Churn prediction is about making use of customer data to predict the likelihood of customers discontinuing their subscription in the future. Predicting churn rate is important because it can help Sparkify to identify and improve areas where customer services is lacking. So churn prediction helps to prevent individuals from discontinuing their subscription. According to [ClickZ](https://www.clickz.com/are-ecommerce-customer-retention-strategies-improving/105454/), the probability of selling to an existing customer is 60 - 70%. However, the probability of selling to a new prospect is just 5-20%.\n",
    "So it is very important to keep the existing customer around.\n",
    "\n",
    "## Data\n",
    "There are two dataset made avaliable, a full dataset (12GB) and a tiny subset (240Mb) sample from the full dataset. We will use the subset for data exploration, feature engineering and model selection on local machine. Its more time and computationally efficient to do all the modelling work in a small dataset than working on full dataset. If the subset of data is indeed representative of the full dataset, feature engineering and hyperparameters tuned in the sample dataset should applicable to the full dataset. Once the feature enginnering and the best model are identified, we will use the model for modelling the full dataset on Amazon AWS EMR cluster. \n",
    "\n",
    "\n",
    "## Project aim\n",
    "\n",
    "\n"
   ]
  },
  {
   "cell_type": "code",
   "execution_count": 1,
   "metadata": {
    "ExecuteTime": {
     "end_time": "2019-09-08T12:08:13.684729Z",
     "start_time": "2019-09-08T12:08:11.422692Z"
    }
   },
   "outputs": [],
   "source": [
    "# import libraries\n",
    "from pyspark.sql import SparkSession, Window\n",
    "from pyspark.sql.functions import udf, col, count, avg, stddev, isnull, when, isnan \n",
    "from pyspark.sql.functions import desc, countDistinct, min, max\n",
    "from pyspark.sql.functions import sum as Fsum\n",
    "from pyspark.sql.types import IntegerType, DateType, StringType\n",
    "from pyspark.ml.feature import StringIndexer, VectorAssembler, StandardScaler\n",
    "from pyspark.ml import Pipeline\n",
    "from pyspark.ml.evaluation import MulticlassClassificationEvaluator\n",
    "from pyspark.ml.classification import LogisticRegression, RandomForestClassifier, GBTClassifier\n",
    "from pyspark.ml.tuning import CrossValidator, ParamGridBuilder\n",
    "\n",
    "\n",
    "import pandas as pd\n",
    "import numpy as np\n",
    "import matplotlib.pyplot as plt\n",
    "import seaborn as sns\n",
    "from datetime import datetime\n",
    "import re\n",
    "import string\n",
    "from time import time"
   ]
  },
  {
   "cell_type": "code",
   "execution_count": 2,
   "metadata": {
    "ExecuteTime": {
     "end_time": "2019-09-08T12:08:30.881740Z",
     "start_time": "2019-09-08T12:08:22.102067Z"
    }
   },
   "outputs": [],
   "source": [
    "# Create a Spark session\n",
    "spark = SparkSession.builder \\\n",
    "    .master(\"local\") \\\n",
    "    .appName(\"sparkify\") \\\n",
    "    .getOrCreate()"
   ]
  },
  {
   "cell_type": "markdown",
   "metadata": {},
   "source": [
    "# Load and Clean Dataset\n",
    "In this workspace, we use the `medium-sparkify-event-data.json` data for the rest of the notebook. Load and clean the dataset, checking for invalid or missing data - for example, records without userids or sessionids. "
   ]
  },
  {
   "cell_type": "code",
   "execution_count": 3,
   "metadata": {
    "ExecuteTime": {
     "end_time": "2019-09-08T12:08:46.775811Z",
     "start_time": "2019-09-08T12:08:40.595727Z"
    }
   },
   "outputs": [
    {
     "data": {
      "text/plain": [
       "[Row(artist='Martin Orford', auth='Logged In', firstName='Joseph', gender='M', itemInSession=20, lastName='Morales', length=597.55057, level='free', location='Corpus Christi, TX', method='PUT', page='NextSong', registration=1532063507000, sessionId=292, song='Grand Designs', status=200, ts=1538352011000, userAgent='\"Mozilla/5.0 (Macintosh; Intel Mac OS X 10_9_4) AppleWebKit/537.36 (KHTML, like Gecko) Chrome/36.0.1985.125 Safari/537.36\"', userId='293'),\n",
       " Row(artist=\"John Brown's Body\", auth='Logged In', firstName='Sawyer', gender='M', itemInSession=74, lastName='Larson', length=380.21179, level='free', location='Houston-The Woodlands-Sugar Land, TX', method='PUT', page='NextSong', registration=1538069638000, sessionId=97, song='Bulls', status=200, ts=1538352025000, userAgent='\"Mozilla/5.0 (Macintosh; Intel Mac OS X 10_9_4) AppleWebKit/537.36 (KHTML, like Gecko) Chrome/36.0.1985.143 Safari/537.36\"', userId='98'),\n",
       " Row(artist='Afroman', auth='Logged In', firstName='Maverick', gender='M', itemInSession=184, lastName='Santiago', length=202.37016, level='paid', location='Orlando-Kissimmee-Sanford, FL', method='PUT', page='NextSong', registration=1535953455000, sessionId=178, song='Because I Got High', status=200, ts=1538352118000, userAgent='\"Mozilla/5.0 (Macintosh; Intel Mac OS X 10_9_4) AppleWebKit/537.36 (KHTML, like Gecko) Chrome/36.0.1985.143 Safari/537.36\"', userId='179'),\n",
       " Row(artist=None, auth='Logged In', firstName='Maverick', gender='M', itemInSession=185, lastName='Santiago', length=None, level='paid', location='Orlando-Kissimmee-Sanford, FL', method='PUT', page='Logout', registration=1535953455000, sessionId=178, song=None, status=307, ts=1538352119000, userAgent='\"Mozilla/5.0 (Macintosh; Intel Mac OS X 10_9_4) AppleWebKit/537.36 (KHTML, like Gecko) Chrome/36.0.1985.143 Safari/537.36\"', userId='179'),\n",
       " Row(artist='Lily Allen', auth='Logged In', firstName='Gianna', gender='F', itemInSession=22, lastName='Campos', length=194.53342, level='paid', location='Mobile, AL', method='PUT', page='NextSong', registration=1535931018000, sessionId=245, song='Smile (Radio Edit)', status=200, ts=1538352124000, userAgent='Mozilla/5.0 (Windows NT 6.1; WOW64; rv:31.0) Gecko/20100101 Firefox/31.0', userId='246')]"
      ]
     },
     "execution_count": 3,
     "metadata": {},
     "output_type": "execute_result"
    }
   ],
   "source": [
    "customer_event_df = spark.read.json(\"../data/medium-sparkify-event-data.json\")\n",
    "customer_event_df.head(5)"
   ]
  },
  {
   "cell_type": "code",
   "execution_count": 4,
   "metadata": {
    "ExecuteTime": {
     "end_time": "2019-09-08T12:08:50.186836Z",
     "start_time": "2019-09-08T12:08:50.181954Z"
    }
   },
   "outputs": [
    {
     "data": {
      "text/plain": [
       "pyspark.sql.dataframe.DataFrame"
      ]
     },
     "execution_count": 4,
     "metadata": {},
     "output_type": "execute_result"
    }
   ],
   "source": [
    "type(customer_event_df)"
   ]
  },
  {
   "cell_type": "markdown",
   "metadata": {},
   "source": [
    "## Features\n",
    "\n",
    "* There are 543705 events and 18 features in this dataset."
   ]
  },
  {
   "cell_type": "code",
   "execution_count": 5,
   "metadata": {
    "ExecuteTime": {
     "end_time": "2019-09-08T12:08:51.772475Z",
     "start_time": "2019-09-08T12:08:51.762714Z"
    }
   },
   "outputs": [
    {
     "name": "stdout",
     "output_type": "stream",
     "text": [
      "root\n",
      " |-- artist: string (nullable = true)\n",
      " |-- auth: string (nullable = true)\n",
      " |-- firstName: string (nullable = true)\n",
      " |-- gender: string (nullable = true)\n",
      " |-- itemInSession: long (nullable = true)\n",
      " |-- lastName: string (nullable = true)\n",
      " |-- length: double (nullable = true)\n",
      " |-- level: string (nullable = true)\n",
      " |-- location: string (nullable = true)\n",
      " |-- method: string (nullable = true)\n",
      " |-- page: string (nullable = true)\n",
      " |-- registration: long (nullable = true)\n",
      " |-- sessionId: long (nullable = true)\n",
      " |-- song: string (nullable = true)\n",
      " |-- status: long (nullable = true)\n",
      " |-- ts: long (nullable = true)\n",
      " |-- userAgent: string (nullable = true)\n",
      " |-- userId: string (nullable = true)\n",
      "\n"
     ]
    }
   ],
   "source": [
    "customer_event_df.printSchema()"
   ]
  },
  {
   "cell_type": "code",
   "execution_count": 6,
   "metadata": {
    "ExecuteTime": {
     "end_time": "2019-09-08T12:08:54.289622Z",
     "start_time": "2019-09-08T12:08:52.434238Z"
    }
   },
   "outputs": [
    {
     "name": "stdout",
     "output_type": "stream",
     "text": [
      "The shape of the customer event susbset (543705, 18)\n"
     ]
    }
   ],
   "source": [
    "print(f\"The shape of the customer event susbset {(customer_event_df.count(), len(customer_event_df.columns))}\")"
   ]
  },
  {
   "cell_type": "code",
   "execution_count": 7,
   "metadata": {
    "ExecuteTime": {
     "end_time": "2019-09-08T12:08:57.502356Z",
     "start_time": "2019-09-08T12:08:57.497476Z"
    }
   },
   "outputs": [],
   "source": [
    "def counting_null(df):\n",
    "    \"\"\"\n",
    "    Return a dictionary contain the key value pairs of columns and their missing values.\n",
    "    :param df: pyspark dataframe\n",
    "    :return null_count: dict. the number of null values in each column\n",
    "    \"\"\"\n",
    "    \n",
    "    null_count = list()\n",
    "    for col in df.columns:\n",
    "        missing_values = df.filter((df[col] == \"\") \\\n",
    "                                   | df[col].isNull()\n",
    "                                   | isnan(df[col])).count()\n",
    "        null_count.append(missing_values)\n",
    "    return null_count"
   ]
  },
  {
   "cell_type": "code",
   "execution_count": 8,
   "metadata": {
    "ExecuteTime": {
     "end_time": "2019-09-08T12:08:58.432077Z",
     "start_time": "2019-09-08T12:08:58.428173Z"
    }
   },
   "outputs": [],
   "source": [
    "# equivalent to pandas describe\n",
    "def sumtable(df):\n",
    "    \"\"\"\n",
    "    Return summary dataframe for each of the column in the dataset\n",
    "    :param df: pyspark dataframe\n",
    "    :return: summary. pyspark dataframe\n",
    "    \"\"\"\n",
    "    summary = df.describe().toPandas().transpose()\n",
    "    summary = summary.rename(columns=summary.iloc[0]).drop(summary.index[0])\n",
    "    summary['null_count'] = counting_null(df)\n",
    "    del df\n",
    "    \n",
    "    return summary"
   ]
  },
  {
   "cell_type": "markdown",
   "metadata": {},
   "source": [
    "## Missing Values\n",
    "\n",
    "* Column `firstName`, `gender`, `lastNam`, `registration`, `location`, `userAgent` and `userId` have the same amount of missing values. All of the missing values are occurred in the same places. So we can removed all these 15700 missing values.\n",
    "* We will not remove the null values in `artist`, `length`, `song` column as some people may just login the app and not listen to any song."
   ]
  },
  {
   "cell_type": "code",
   "execution_count": 9,
   "metadata": {
    "ExecuteTime": {
     "end_time": "2019-09-08T12:09:01.976550Z",
     "start_time": "2019-09-08T12:09:01.898469Z"
    }
   },
   "outputs": [],
   "source": [
    "customer_event_df = customer_event_df.filter(customer_event_df.userId != \"\")"
   ]
  },
  {
   "cell_type": "code",
   "execution_count": 10,
   "metadata": {
    "ExecuteTime": {
     "end_time": "2019-09-08T12:10:49.401977Z",
     "start_time": "2019-09-08T12:09:17.315891Z"
    }
   },
   "outputs": [
    {
     "data": {
      "text/html": [
       "<div>\n",
       "<style scoped>\n",
       "    .dataframe tbody tr th:only-of-type {\n",
       "        vertical-align: middle;\n",
       "    }\n",
       "\n",
       "    .dataframe tbody tr th {\n",
       "        vertical-align: top;\n",
       "    }\n",
       "\n",
       "    .dataframe thead th {\n",
       "        text-align: right;\n",
       "    }\n",
       "</style>\n",
       "<table border=\"1\" class=\"dataframe\">\n",
       "  <thead>\n",
       "    <tr style=\"text-align: right;\">\n",
       "      <th></th>\n",
       "      <th>count</th>\n",
       "      <th>mean</th>\n",
       "      <th>stddev</th>\n",
       "      <th>min</th>\n",
       "      <th>max</th>\n",
       "      <th>null_count</th>\n",
       "    </tr>\n",
       "  </thead>\n",
       "  <tbody>\n",
       "    <tr>\n",
       "      <th>artist</th>\n",
       "      <td>432877</td>\n",
       "      <td>527.5289537712895</td>\n",
       "      <td>966.1072451772758</td>\n",
       "      <td>!!!</td>\n",
       "      <td>ÃÂlafur Arnalds</td>\n",
       "      <td>95128</td>\n",
       "    </tr>\n",
       "    <tr>\n",
       "      <th>auth</th>\n",
       "      <td>528005</td>\n",
       "      <td>None</td>\n",
       "      <td>None</td>\n",
       "      <td>Cancelled</td>\n",
       "      <td>Logged In</td>\n",
       "      <td>0</td>\n",
       "    </tr>\n",
       "    <tr>\n",
       "      <th>firstName</th>\n",
       "      <td>528005</td>\n",
       "      <td>None</td>\n",
       "      <td>None</td>\n",
       "      <td>Aaliyah</td>\n",
       "      <td>Zyonna</td>\n",
       "      <td>0</td>\n",
       "    </tr>\n",
       "    <tr>\n",
       "      <th>gender</th>\n",
       "      <td>528005</td>\n",
       "      <td>None</td>\n",
       "      <td>None</td>\n",
       "      <td>F</td>\n",
       "      <td>M</td>\n",
       "      <td>0</td>\n",
       "    </tr>\n",
       "    <tr>\n",
       "      <th>itemInSession</th>\n",
       "      <td>528005</td>\n",
       "      <td>107.77899451709737</td>\n",
       "      <td>116.86478662969917</td>\n",
       "      <td>0</td>\n",
       "      <td>1005</td>\n",
       "      <td>0</td>\n",
       "    </tr>\n",
       "    <tr>\n",
       "      <th>lastName</th>\n",
       "      <td>528005</td>\n",
       "      <td>None</td>\n",
       "      <td>None</td>\n",
       "      <td>Abbott</td>\n",
       "      <td>Wright</td>\n",
       "      <td>0</td>\n",
       "    </tr>\n",
       "    <tr>\n",
       "      <th>length</th>\n",
       "      <td>432877</td>\n",
       "      <td>248.66459278007807</td>\n",
       "      <td>98.41266955052018</td>\n",
       "      <td>0.78322</td>\n",
       "      <td>3024.66567</td>\n",
       "      <td>95128</td>\n",
       "    </tr>\n",
       "    <tr>\n",
       "      <th>level</th>\n",
       "      <td>528005</td>\n",
       "      <td>None</td>\n",
       "      <td>None</td>\n",
       "      <td>free</td>\n",
       "      <td>paid</td>\n",
       "      <td>0</td>\n",
       "    </tr>\n",
       "    <tr>\n",
       "      <th>location</th>\n",
       "      <td>528005</td>\n",
       "      <td>None</td>\n",
       "      <td>None</td>\n",
       "      <td>Akron, OH</td>\n",
       "      <td>York-Hanover, PA</td>\n",
       "      <td>0</td>\n",
       "    </tr>\n",
       "    <tr>\n",
       "      <th>method</th>\n",
       "      <td>528005</td>\n",
       "      <td>None</td>\n",
       "      <td>None</td>\n",
       "      <td>GET</td>\n",
       "      <td>PUT</td>\n",
       "      <td>0</td>\n",
       "    </tr>\n",
       "    <tr>\n",
       "      <th>page</th>\n",
       "      <td>528005</td>\n",
       "      <td>None</td>\n",
       "      <td>None</td>\n",
       "      <td>About</td>\n",
       "      <td>Upgrade</td>\n",
       "      <td>0</td>\n",
       "    </tr>\n",
       "    <tr>\n",
       "      <th>registration</th>\n",
       "      <td>528005</td>\n",
       "      <td>1.5355234148628062E12</td>\n",
       "      <td>3.0787254929942865E9</td>\n",
       "      <td>1509854193000</td>\n",
       "      <td>1543073874000</td>\n",
       "      <td>0</td>\n",
       "    </tr>\n",
       "    <tr>\n",
       "      <th>sessionId</th>\n",
       "      <td>528005</td>\n",
       "      <td>2042.9801820058522</td>\n",
       "      <td>1433.998148941057</td>\n",
       "      <td>1</td>\n",
       "      <td>4808</td>\n",
       "      <td>0</td>\n",
       "    </tr>\n",
       "    <tr>\n",
       "      <th>song</th>\n",
       "      <td>432877</td>\n",
       "      <td>Infinity</td>\n",
       "      <td>NaN</td>\n",
       "      <td>ÃÂg ÃÂtti GrÃÂ¡a ÃÂsku</td>\n",
       "      <td>ÃÂ¾etta Gerist ÃÂ¡ Bestu BÃÂ¦jum</td>\n",
       "      <td>95128</td>\n",
       "    </tr>\n",
       "    <tr>\n",
       "      <th>status</th>\n",
       "      <td>528005</td>\n",
       "      <td>209.09106163767387</td>\n",
       "      <td>30.14877783059165</td>\n",
       "      <td>200</td>\n",
       "      <td>404</td>\n",
       "      <td>0</td>\n",
       "    </tr>\n",
       "    <tr>\n",
       "      <th>ts</th>\n",
       "      <td>528005</td>\n",
       "      <td>1.540966927748447E12</td>\n",
       "      <td>1.481233094025866E9</td>\n",
       "      <td>1538352011000</td>\n",
       "      <td>1543622466000</td>\n",
       "      <td>0</td>\n",
       "    </tr>\n",
       "    <tr>\n",
       "      <th>userAgent</th>\n",
       "      <td>528005</td>\n",
       "      <td>None</td>\n",
       "      <td>None</td>\n",
       "      <td>\"Mozilla/5.0 (Macintosh; Intel Mac OS X 10_10)...</td>\n",
       "      <td>Mozilla/5.0 (compatible; MSIE 9.0; Windows NT ...</td>\n",
       "      <td>0</td>\n",
       "    </tr>\n",
       "    <tr>\n",
       "      <th>userId</th>\n",
       "      <td>528005</td>\n",
       "      <td>60268.42669103512</td>\n",
       "      <td>109898.82324176644</td>\n",
       "      <td>10</td>\n",
       "      <td>99</td>\n",
       "      <td>0</td>\n",
       "    </tr>\n",
       "  </tbody>\n",
       "</table>\n",
       "</div>"
      ],
      "text/plain": [
       "                count                   mean                stddev  \\\n",
       "artist         432877      527.5289537712895     966.1072451772758   \n",
       "auth           528005                   None                  None   \n",
       "firstName      528005                   None                  None   \n",
       "gender         528005                   None                  None   \n",
       "itemInSession  528005     107.77899451709737    116.86478662969917   \n",
       "lastName       528005                   None                  None   \n",
       "length         432877     248.66459278007807     98.41266955052018   \n",
       "level          528005                   None                  None   \n",
       "location       528005                   None                  None   \n",
       "method         528005                   None                  None   \n",
       "page           528005                   None                  None   \n",
       "registration   528005  1.5355234148628062E12  3.0787254929942865E9   \n",
       "sessionId      528005     2042.9801820058522     1433.998148941057   \n",
       "song           432877               Infinity                   NaN   \n",
       "status         528005     209.09106163767387     30.14877783059165   \n",
       "ts             528005   1.540966927748447E12   1.481233094025866E9   \n",
       "userAgent      528005                   None                  None   \n",
       "userId         528005      60268.42669103512    109898.82324176644   \n",
       "\n",
       "                                                             min  \\\n",
       "artist                                                       !!!   \n",
       "auth                                                   Cancelled   \n",
       "firstName                                                Aaliyah   \n",
       "gender                                                         F   \n",
       "itemInSession                                                  0   \n",
       "lastName                                                  Abbott   \n",
       "length                                                   0.78322   \n",
       "level                                                       free   \n",
       "location                                               Akron, OH   \n",
       "method                                                       GET   \n",
       "page                                                       About   \n",
       "registration                                       1509854193000   \n",
       "sessionId                                                      1   \n",
       "song                              \n",
       "ÃÂg ÃÂtti GrÃÂ¡a ÃÂsku   \n",
       "status                                                       200   \n",
       "ts                                                 1538352011000   \n",
       "userAgent      \"Mozilla/5.0 (Macintosh; Intel Mac OS X 10_10)...   \n",
       "userId                                                        10   \n",
       "\n",
       "                                                             max  null_count  \n",
       "artist                                         ÃÂlafur Arnalds       95128  \n",
       "auth                                                   Logged In           0  \n",
       "firstName                                                 Zyonna           0  \n",
       "gender                                                         M           0  \n",
       "itemInSession                                               1005           0  \n",
       "lastName                                                  Wright           0  \n",
       "length                                                3024.66567       95128  \n",
       "level                                                       paid           0  \n",
       "location                                        York-Hanover, PA           0  \n",
       "method                                                       PUT           0  \n",
       "page                                                     Upgrade           0  \n",
       "registration                                       1543073874000           0  \n",
       "sessionId                                                   4808           0  \n",
       "song                         ÃÂ¾etta Gerist ÃÂ¡ Bestu BÃÂ¦jum       95128  \n",
       "status                                                       404           0  \n",
       "ts                                                 1543622466000           0  \n",
       "userAgent      Mozilla/5.0 (compatible; MSIE 9.0; Windows NT ...           0  \n",
       "userId                                                        99           0  "
      ]
     },
     "execution_count": 10,
     "metadata": {},
     "output_type": "execute_result"
    }
   ],
   "source": [
    "sumtable(customer_event_df)"
   ]
  },
  {
   "cell_type": "code",
   "execution_count": 10,
   "metadata": {
    "ExecuteTime": {
     "end_time": "2019-09-05T12:30:14.449133Z",
     "start_time": "2019-09-05T12:30:14.389263Z"
    }
   },
   "outputs": [],
   "source": [
    "customer_event_df = customer_event_df.fillna(\"None\", subset=[\"artist\", \"song\"])\n",
    "customer_event_df = customer_event_df.fillna(0, subset=[\"length\"])"
   ]
  },
  {
   "cell_type": "code",
   "execution_count": 11,
   "metadata": {
    "ExecuteTime": {
     "end_time": "2019-09-05T12:31:42.396055Z",
     "start_time": "2019-09-05T12:30:15.046444Z"
    }
   },
   "outputs": [
    {
     "data": {
      "text/html": [
       "<div>\n",
       "<style scoped>\n",
       "    .dataframe tbody tr th:only-of-type {\n",
       "        vertical-align: middle;\n",
       "    }\n",
       "\n",
       "    .dataframe tbody tr th {\n",
       "        vertical-align: top;\n",
       "    }\n",
       "\n",
       "    .dataframe thead th {\n",
       "        text-align: right;\n",
       "    }\n",
       "</style>\n",
       "<table border=\"1\" class=\"dataframe\">\n",
       "  <thead>\n",
       "    <tr style=\"text-align: right;\">\n",
       "      <th></th>\n",
       "      <th>count</th>\n",
       "      <th>mean</th>\n",
       "      <th>stddev</th>\n",
       "      <th>min</th>\n",
       "      <th>max</th>\n",
       "      <th>null_count</th>\n",
       "    </tr>\n",
       "  </thead>\n",
       "  <tbody>\n",
       "    <tr>\n",
       "      <th>artist</th>\n",
       "      <td>528005</td>\n",
       "      <td>527.5289537712895</td>\n",
       "      <td>966.1072451772758</td>\n",
       "      <td>!!!</td>\n",
       "      <td>ÃÂlafur Arnalds</td>\n",
       "      <td>0</td>\n",
       "    </tr>\n",
       "    <tr>\n",
       "      <th>auth</th>\n",
       "      <td>528005</td>\n",
       "      <td>None</td>\n",
       "      <td>None</td>\n",
       "      <td>Cancelled</td>\n",
       "      <td>Logged In</td>\n",
       "      <td>0</td>\n",
       "    </tr>\n",
       "    <tr>\n",
       "      <th>firstName</th>\n",
       "      <td>528005</td>\n",
       "      <td>None</td>\n",
       "      <td>None</td>\n",
       "      <td>Aaliyah</td>\n",
       "      <td>Zyonna</td>\n",
       "      <td>0</td>\n",
       "    </tr>\n",
       "    <tr>\n",
       "      <th>gender</th>\n",
       "      <td>528005</td>\n",
       "      <td>None</td>\n",
       "      <td>None</td>\n",
       "      <td>F</td>\n",
       "      <td>M</td>\n",
       "      <td>0</td>\n",
       "    </tr>\n",
       "    <tr>\n",
       "      <th>itemInSession</th>\n",
       "      <td>528005</td>\n",
       "      <td>107.77899451709737</td>\n",
       "      <td>116.86478662969917</td>\n",
       "      <td>0</td>\n",
       "      <td>1005</td>\n",
       "      <td>0</td>\n",
       "    </tr>\n",
       "    <tr>\n",
       "      <th>lastName</th>\n",
       "      <td>528005</td>\n",
       "      <td>None</td>\n",
       "      <td>None</td>\n",
       "      <td>Abbott</td>\n",
       "      <td>Wright</td>\n",
       "      <td>0</td>\n",
       "    </tr>\n",
       "    <tr>\n",
       "      <th>length</th>\n",
       "      <td>528005</td>\n",
       "      <td>203.8639462294142</td>\n",
       "      <td>130.6652089637992</td>\n",
       "      <td>0.0</td>\n",
       "      <td>3024.66567</td>\n",
       "      <td>0</td>\n",
       "    </tr>\n",
       "    <tr>\n",
       "      <th>level</th>\n",
       "      <td>528005</td>\n",
       "      <td>None</td>\n",
       "      <td>None</td>\n",
       "      <td>free</td>\n",
       "      <td>paid</td>\n",
       "      <td>0</td>\n",
       "    </tr>\n",
       "    <tr>\n",
       "      <th>location</th>\n",
       "      <td>528005</td>\n",
       "      <td>None</td>\n",
       "      <td>None</td>\n",
       "      <td>Akron, OH</td>\n",
       "      <td>York-Hanover, PA</td>\n",
       "      <td>0</td>\n",
       "    </tr>\n",
       "    <tr>\n",
       "      <th>method</th>\n",
       "      <td>528005</td>\n",
       "      <td>None</td>\n",
       "      <td>None</td>\n",
       "      <td>GET</td>\n",
       "      <td>PUT</td>\n",
       "      <td>0</td>\n",
       "    </tr>\n",
       "    <tr>\n",
       "      <th>page</th>\n",
       "      <td>528005</td>\n",
       "      <td>None</td>\n",
       "      <td>None</td>\n",
       "      <td>About</td>\n",
       "      <td>Upgrade</td>\n",
       "      <td>0</td>\n",
       "    </tr>\n",
       "    <tr>\n",
       "      <th>registration</th>\n",
       "      <td>528005</td>\n",
       "      <td>1.5355234148628062E12</td>\n",
       "      <td>3.0787254929942865E9</td>\n",
       "      <td>1509854193000</td>\n",
       "      <td>1543073874000</td>\n",
       "      <td>0</td>\n",
       "    </tr>\n",
       "    <tr>\n",
       "      <th>sessionId</th>\n",
       "      <td>528005</td>\n",
       "      <td>2042.9801820058522</td>\n",
       "      <td>1433.998148941057</td>\n",
       "      <td>1</td>\n",
       "      <td>4808</td>\n",
       "      <td>0</td>\n",
       "    </tr>\n",
       "    <tr>\n",
       "      <th>song</th>\n",
       "      <td>528005</td>\n",
       "      <td>Infinity</td>\n",
       "      <td>NaN</td>\n",
       "      <td>ÃÂg ÃÂtti GrÃÂ¡a ÃÂsku</td>\n",
       "      <td>ÃÂ¾etta Gerist ÃÂ¡ Bestu BÃÂ¦jum</td>\n",
       "      <td>0</td>\n",
       "    </tr>\n",
       "    <tr>\n",
       "      <th>status</th>\n",
       "      <td>528005</td>\n",
       "      <td>209.09106163767387</td>\n",
       "      <td>30.14877783059165</td>\n",
       "      <td>200</td>\n",
       "      <td>404</td>\n",
       "      <td>0</td>\n",
       "    </tr>\n",
       "    <tr>\n",
       "      <th>ts</th>\n",
       "      <td>528005</td>\n",
       "      <td>1.540966927748447E12</td>\n",
       "      <td>1.481233094025866E9</td>\n",
       "      <td>1538352011000</td>\n",
       "      <td>1543622466000</td>\n",
       "      <td>0</td>\n",
       "    </tr>\n",
       "    <tr>\n",
       "      <th>userAgent</th>\n",
       "      <td>528005</td>\n",
       "      <td>None</td>\n",
       "      <td>None</td>\n",
       "      <td>\"Mozilla/5.0 (Macintosh; Intel Mac OS X 10_10)...</td>\n",
       "      <td>Mozilla/5.0 (compatible; MSIE 9.0; Windows NT ...</td>\n",
       "      <td>0</td>\n",
       "    </tr>\n",
       "    <tr>\n",
       "      <th>userId</th>\n",
       "      <td>528005</td>\n",
       "      <td>60268.42669103512</td>\n",
       "      <td>109898.82324176644</td>\n",
       "      <td>10</td>\n",
       "      <td>99</td>\n",
       "      <td>0</td>\n",
       "    </tr>\n",
       "  </tbody>\n",
       "</table>\n",
       "</div>"
      ],
      "text/plain": [
       "                count                   mean                stddev  \\\n",
       "artist         528005      527.5289537712895     966.1072451772758   \n",
       "auth           528005                   None                  None   \n",
       "firstName      528005                   None                  None   \n",
       "gender         528005                   None                  None   \n",
       "itemInSession  528005     107.77899451709737    116.86478662969917   \n",
       "lastName       528005                   None                  None   \n",
       "length         528005      203.8639462294142     130.6652089637992   \n",
       "level          528005                   None                  None   \n",
       "location       528005                   None                  None   \n",
       "method         528005                   None                  None   \n",
       "page           528005                   None                  None   \n",
       "registration   528005  1.5355234148628062E12  3.0787254929942865E9   \n",
       "sessionId      528005     2042.9801820058522     1433.998148941057   \n",
       "song           528005               Infinity                   NaN   \n",
       "status         528005     209.09106163767387     30.14877783059165   \n",
       "ts             528005   1.540966927748447E12   1.481233094025866E9   \n",
       "userAgent      528005                   None                  None   \n",
       "userId         528005      60268.42669103512    109898.82324176644   \n",
       "\n",
       "                                                             min  \\\n",
       "artist                                                       !!!   \n",
       "auth                                                   Cancelled   \n",
       "firstName                                                Aaliyah   \n",
       "gender                                                         F   \n",
       "itemInSession                                                  0   \n",
       "lastName                                                  Abbott   \n",
       "length                                                       0.0   \n",
       "level                                                       free   \n",
       "location                                               Akron, OH   \n",
       "method                                                       GET   \n",
       "page                                                       About   \n",
       "registration                                       1509854193000   \n",
       "sessionId                                                      1   \n",
       "song                              \n",
       "ÃÂg ÃÂtti GrÃÂ¡a ÃÂsku   \n",
       "status                                                       200   \n",
       "ts                                                 1538352011000   \n",
       "userAgent      \"Mozilla/5.0 (Macintosh; Intel Mac OS X 10_10)...   \n",
       "userId                                                        10   \n",
       "\n",
       "                                                             max  null_count  \n",
       "artist                                         ÃÂlafur Arnalds           0  \n",
       "auth                                                   Logged In           0  \n",
       "firstName                                                 Zyonna           0  \n",
       "gender                                                         M           0  \n",
       "itemInSession                                               1005           0  \n",
       "lastName                                                  Wright           0  \n",
       "length                                                3024.66567           0  \n",
       "level                                                       paid           0  \n",
       "location                                        York-Hanover, PA           0  \n",
       "method                                                       PUT           0  \n",
       "page                                                     Upgrade           0  \n",
       "registration                                       1543073874000           0  \n",
       "sessionId                                                   4808           0  \n",
       "song                         ÃÂ¾etta Gerist ÃÂ¡ Bestu BÃÂ¦jum           0  \n",
       "status                                                       404           0  \n",
       "ts                                                 1543622466000           0  \n",
       "userAgent      Mozilla/5.0 (compatible; MSIE 9.0; Windows NT ...           0  \n",
       "userId                                                        99           0  "
      ]
     },
     "execution_count": 11,
     "metadata": {},
     "output_type": "execute_result"
    }
   ],
   "source": [
    "sumtable(customer_event_df)"
   ]
  },
  {
   "cell_type": "markdown",
   "metadata": {},
   "source": [
    "# Exploratory Data Analysis\n",
    "\n",
    "In this section, we perform EDA on `medium-sparkify-event-data.json` by exploring each of the features and extract useful insights from the data. First, we look at each feature individually and compute descriptive statistics. "
   ]
  },
  {
   "cell_type": "markdown",
   "metadata": {},
   "source": [
    "## Initial Analysis"
   ]
  },
  {
   "cell_type": "markdown",
   "metadata": {},
   "source": [
    "### Artist\n",
    "\n",
    "* The most listened artist on Sparkify is Kings of Leon\n",
    "* Top 4 most listened artist are rock bands\n",
    "* Total of 21248 distinct artists"
   ]
  },
  {
   "cell_type": "code",
   "execution_count": 12,
   "metadata": {
    "ExecuteTime": {
     "end_time": "2019-09-05T12:32:38.354789Z",
     "start_time": "2019-09-05T12:32:34.033061Z"
    }
   },
   "outputs": [
    {
     "name": "stdout",
     "output_type": "stream",
     "text": [
      "+--------------------+-------------+\n",
      "|              artist|count(artist)|\n",
      "+--------------------+-------------+\n",
      "|                None|        95128|\n",
      "|       Kings Of Leon|         3497|\n",
      "|            Coldplay|         3439|\n",
      "|Florence + The Ma...|         2314|\n",
      "|                Muse|         2194|\n",
      "|       Dwight Yoakam|         2187|\n",
      "|      The Black Keys|         2160|\n",
      "|            BjÃÂ¶rk|         2150|\n",
      "|       Justin Bieber|         2096|\n",
      "|        Jack Johnson|         2049|\n",
      "|           Radiohead|         1694|\n",
      "|              Eminem|         1686|\n",
      "|     Alliance Ethnik|         1654|\n",
      "|         OneRepublic|         1651|\n",
      "|        Taylor Swift|         1555|\n",
      "|         The Killers|         1554|\n",
      "|               Train|         1537|\n",
      "|         Linkin Park|         1487|\n",
      "|         Evanescence|         1426|\n",
      "|          John Mayer|         1350|\n",
      "+--------------------+-------------+\n",
      "only showing top 20 rows\n",
      "\n"
     ]
    }
   ],
   "source": [
    "customer_event_df.select(\"artist\", \"userId\").groupby(\"artist\"). \\\n",
    "    agg({\"artist\": \"count\"}).select(\"artist\", \"count(artist)\"). \\\n",
    "    sort(desc(\"count(artist)\")).show()"
   ]
  },
  {
   "cell_type": "code",
   "execution_count": 13,
   "metadata": {
    "ExecuteTime": {
     "end_time": "2019-09-05T12:32:48.108925Z",
     "start_time": "2019-09-05T12:32:43.593952Z"
    }
   },
   "outputs": [
    {
     "name": "stdout",
     "output_type": "stream",
     "text": [
      "There are a total of 21248 artists in this dataset\n"
     ]
    }
   ],
   "source": [
    "unique_count_artist = customer_event_df.select(\"artist\").distinct().count()\n",
    "print(f\"There are a total of {unique_count_artist} artists in this dataset\")"
   ]
  },
  {
   "cell_type": "markdown",
   "metadata": {
    "ExecuteTime": {
     "end_time": "2019-08-28T20:37:41.377244Z",
     "start_time": "2019-08-28T20:37:41.365481Z"
    }
   },
   "source": [
    "### auth\n",
    "\n",
    "* Two distinct values for authentication. Logged In and Cancelled.\n",
    "* only 0.02% instances have cancelled their authentication. Dominated by one value, so will not be include in the modelling. "
   ]
  },
  {
   "cell_type": "code",
   "execution_count": 14,
   "metadata": {
    "ExecuteTime": {
     "end_time": "2019-09-05T12:46:37.464613Z",
     "start_time": "2019-09-05T12:46:37.451924Z"
    }
   },
   "outputs": [],
   "source": [
    "def sns_barplot_text(x, y, data, title, hue=None, percentage=True, text=True,\n",
    "                     log=False, figsize=(8, 5)):\n",
    "    \"\"\"\n",
    "    Similar to sns.barplot but added text option for the bar\n",
    "    \"\"\"\n",
    "    fig, ax = plt.subplots(figsize=figsize)\n",
    "    sns.barplot(x=x, y=y, data=data, hue=hue, ax=ax, log=log)\n",
    "    #ax.set_ylabel(f\"{data.columns[1]}\")\n",
    "    ax.set_xlabel(f\"{data.columns[0]}\")\n",
    "    ax.set_title(title)\n",
    "    ax.set_xticklabels(data.iloc[:, 0].unique(), rotation=90)\n",
    "    if text:\n",
    "        for p in ax.patches:\n",
    "                height = p.get_height()\n",
    "                if percentage:\n",
    "                    ax.text(p.get_x() + p.get_width() / 2.,\n",
    "                            height,\n",
    "                            f\"{height /data.loc[:,y].sum() * 100 :.2f}%\",\n",
    "                            ha=\"center\", fontsize=8)\n",
    "                else:\n",
    "                    ax.text(p.get_x() + p.get_width() / 2.,\n",
    "                            height,\n",
    "                            f\"{height :.2f}\"\",\n",
    "                            ha=\"center\", fontsize=8)"
   ]
  },
  {
   "cell_type": "code",
   "execution_count": 15,
   "metadata": {
    "ExecuteTime": {
     "end_time": "2019-09-05T12:46:43.827591Z",
     "start_time": "2019-09-05T12:46:39.613165Z"
    }
   },
   "outputs": [],
   "source": [
    "auth_count = customer_event_df.select(\"auth\", ).groupby(\"auth\"). \\\n",
    "    agg({\"auth\": \"count\"}).select(\"auth\", col(\"count(auth)\").alias(\"total\")). \\\n",
    "    sort(desc(\"total\")).toPandas()"
   ]
  },
  {
   "cell_type": "code",
   "execution_count": 16,
   "metadata": {
    "ExecuteTime": {
     "end_time": "2019-09-05T12:46:46.320053Z",
     "start_time": "2019-09-05T12:46:46.195403Z"
    }
   },
   "outputs": [
    {
     "data": {
      "image/png": "[encoded data removed]",
      "text/plain": [
       "<Figure size 576x360 with 1 Axes>"
      ]
     },
     "metadata": {
      "needs_background": "light"
     },
     "output_type": "display_data"
    }
   ],
   "source": [
    "sns_barplot_text(\"auth\", \"total\", auth_count, title=\"Distribution of auth\")"
   ]
  },
  {
   "cell_type": "markdown",
   "metadata": {},
   "source": [
    "### firstName and lastName\n",
    "\n",
    "* There are 345 distinct first name and 275 distinct last name"
   ]
  },
  {
   "cell_type": "code",
   "execution_count": 17,
   "metadata": {
    "ExecuteTime": {
     "end_time": "2019-09-05T12:46:53.870568Z",
     "start_time": "2019-09-05T12:46:49.557063Z"
    }
   },
   "outputs": [
    {
     "data": {
      "text/plain": [
       "345"
      ]
     },
     "execution_count": 17,
     "metadata": {},
     "output_type": "execute_result"
    }
   ],
   "source": [
    "customer_event_df.select(\"firstName\").distinct().count()"
   ]
  },
  {
   "cell_type": "code",
   "execution_count": 18,
   "metadata": {
    "ExecuteTime": {
     "end_time": "2019-09-05T12:47:02.522154Z",
     "start_time": "2019-09-05T12:46:58.325177Z"
    }
   },
   "outputs": [
    {
     "data": {
      "text/plain": [
       "275"
      ]
     },
     "execution_count": 18,
     "metadata": {},
     "output_type": "execute_result"
    }
   ],
   "source": [
    "customer_event_df.select(\"lastName\").distinct().count()"
   ]
  },
  {
   "cell_type": "markdown",
   "metadata": {},
   "source": [
    "### itemInSession\n",
    "\n",
    "* This is the number position of the event in the session\n",
    "* On averge, the number postition of the event is 107 in one single session."
   ]
  },
  {
   "cell_type": "code",
   "execution_count": 19,
   "metadata": {
    "ExecuteTime": {
     "end_time": "2019-09-05T12:47:08.269087Z",
     "start_time": "2019-09-05T12:47:05.583700Z"
    }
   },
   "outputs": [
    {
     "name": "stdout",
     "output_type": "stream",
     "text": [
      "+-------+------------------+\n",
      "|summary|     itemInSession|\n",
      "+-------+------------------+\n",
      "|  count|            528005|\n",
      "|   mean|107.77899451709737|\n",
      "| stddev|116.86478662969917|\n",
      "|    min|                 0|\n",
      "|    max|              1005|\n",
      "+-------+------------------+\n",
      "\n"
     ]
    }
   ],
   "source": [
    "customer_event_df.select(\"itemInSession\").describe().show()"
   ]
  },
  {
   "cell_type": "code",
   "execution_count": 20,
   "metadata": {
    "ExecuteTime": {
     "end_time": "2019-09-05T12:47:18.753619Z",
     "start_time": "2019-09-05T12:47:14.294394Z"
    }
   },
   "outputs": [
    {
     "data": {
      "text/plain": [
       "1006"
      ]
     },
     "execution_count": 20,
     "metadata": {},
     "output_type": "execute_result"
    }
   ],
   "source": [
    "customer_event_df.select(\"itemInSession\").distinct().count()"
   ]
  },
  {
   "cell_type": "markdown",
   "metadata": {},
   "source": [
    "### length\n",
    "\n",
    "* Average song length is around 3 minutes and 20 seconds.\n",
    "* length 0 means that the user did not listen to any songs\n",
    "* longest song is around 10 mins"
   ]
  },
  {
   "cell_type": "code",
   "execution_count": 22,
   "metadata": {
    "ExecuteTime": {
     "end_time": "2019-09-05T12:53:30.715591Z",
     "start_time": "2019-09-05T12:53:28.141978Z"
    }
   },
   "outputs": [
    {
     "name": "stdout",
     "output_type": "stream",
     "text": [
      "+-------+-----------------+\n",
      "|summary|           length|\n",
      "+-------+-----------------+\n",
      "|  count|           528005|\n",
      "|   mean|203.8639462294142|\n",
      "| stddev|130.6652089637992|\n",
      "|    min|              0.0|\n",
      "|    max|       3024.66567|\n",
      "+-------+-----------------+\n",
      "\n"
     ]
    }
   ],
   "source": [
    "customer_event_df.select(\"length\").describe().show()"
   ]
  },
  {
   "cell_type": "markdown",
   "metadata": {},
   "source": [
    "### Method \n",
    "\n",
    "* GET is used to request data from a specified resource and PUT method is used to send data to a server to.\n",
    "* This means all the GET method are not listing to songs "
   ]
  },
  {
   "cell_type": "code",
   "execution_count": 23,
   "metadata": {
    "ExecuteTime": {
     "end_time": "2019-09-05T12:53:35.775646Z",
     "start_time": "2019-09-05T12:53:31.682521Z"
    }
   },
   "outputs": [],
   "source": [
    "method_count = customer_event_df.select(\"method\").groupby(\"method\"). \\\n",
    "    agg({\"method\": \"count\"}).select(\"method\", col(\"count(method)\").alias(\"total\")). \\\n",
    "    sort(desc(\"total\")).toPandas()"
   ]
  },
  {
   "cell_type": "code",
   "execution_count": 24,
   "metadata": {
    "ExecuteTime": {
     "end_time": "2019-09-05T12:53:40.340548Z",
     "start_time": "2019-09-05T12:53:36.654592Z"
    }
   },
   "outputs": [
    {
     "name": "stdout",
     "output_type": "stream",
     "text": [
      "+------+-------------+\n",
      "|artist|count(artist)|\n",
      "+------+-------------+\n",
      "|  None|        38877|\n",
      "+------+-------------+\n",
      "\n"
     ]
    }
   ],
   "source": [
    "customer_event_df.filter(col(\"method\") == \"GET\").groupby(\"artist\").agg({\"artist\": \"count\"}).show()"
   ]
  },
  {
   "cell_type": "code",
   "execution_count": 25,
   "metadata": {
    "ExecuteTime": {
     "end_time": "2019-09-05T12:54:18.923494Z",
     "start_time": "2019-09-05T12:54:15.258160Z"
    }
   },
   "outputs": [
    {
     "name": "stdout",
     "output_type": "stream",
     "text": [
      "+--------------------+-----------+\n",
      "|                page|count(page)|\n",
      "+--------------------+-----------+\n",
      "|                Home|      19089|\n",
      "|           Downgrade|       3811|\n",
      "|         Roll Advert|       7773|\n",
      "|Cancellation Conf...|         99|\n",
      "|               About|       1026|\n",
      "|            Settings|       2964|\n",
      "|                Help|       2644|\n",
      "|             Upgrade|        968|\n",
      "|               Error|        503|\n",
      "+--------------------+-----------+\n",
      "\n"
     ]
    }
   ],
   "source": [
    "customer_event_df.filter(col(\"method\") == \"GET\").groupby(\"page\").agg({\"page\": \"count\"}).show()"
   ]
  },
  {
   "cell_type": "code",
   "execution_count": 26,
   "metadata": {
    "ExecuteTime": {
     "end_time": "2019-09-05T12:54:21.181835Z",
     "start_time": "2019-09-05T12:54:21.080331Z"
    }
   },
   "outputs": [
    {
     "data": {
      "image/png": "[encoded data removed]",
      "text/plain": [
       "<Figure size 576x360 with 1 Axes>"
      ]
     },
     "metadata": {
      "needs_background": "light"
     },
     "output_type": "display_data"
    }
   ],
   "source": [
    "sns_barplot_text(\"method\", \"total\", method_count, title=\"Distribution of method\")"
   ]
  },
  {
   "cell_type": "markdown",
   "metadata": {},
   "source": [
    "### registration and ts\n",
    "\n",
    "* both registration and ts are timestamp features in unix or ns format. We will clean it later."
   ]
  },
  {
   "cell_type": "code",
   "execution_count": 27,
   "metadata": {
    "ExecuteTime": {
     "end_time": "2019-09-05T12:54:25.249391Z",
     "start_time": "2019-09-05T12:54:22.371520Z"
    }
   },
   "outputs": [
    {
     "name": "stdout",
     "output_type": "stream",
     "text": [
      "+------+-------------+-------------+\n",
      "|userId| registration|           ts|\n",
      "+------+-------------+-------------+\n",
      "|   293|1532063507000|1538352011000|\n",
      "|    98|1538069638000|1538352025000|\n",
      "|   179|1535953455000|1538352118000|\n",
      "|   179|1535953455000|1538352119000|\n",
      "|   246|1535931018000|1538352124000|\n",
      "+------+-------------+-------------+\n",
      "\n"
     ]
    }
   ],
   "source": [
    "customer_event_df.select([\"userId\", \"registration\", \"ts\"]).limit(5).show()"
   ]
  },
  {
   "cell_type": "markdown",
   "metadata": {},
   "source": [
    "### userId and sessionid\n",
    "\n",
    "* These are unqiues id and will be dropped during modelling\n",
    "* 448 unique userId and 4470 unique sessionId"
   ]
  },
  {
   "cell_type": "code",
   "execution_count": 28,
   "metadata": {
    "ExecuteTime": {
     "end_time": "2019-09-05T12:54:31.926507Z",
     "start_time": "2019-09-05T12:54:27.486789Z"
    }
   },
   "outputs": [
    {
     "name": "stdout",
     "output_type": "stream",
     "text": [
      "+----------------+-------------------+\n",
      "|number_of_userId|number_of_sessionId|\n",
      "+----------------+-------------------+\n",
      "|             448|               4470|\n",
      "+----------------+-------------------+\n",
      "\n"
     ]
    }
   ],
   "source": [
    "customer_event_df.select(countDistinct(\"userId\").alias(\"number_of_userId\"), \n",
    "                         countDistinct(\"sessionId\").alias(\"number_of_sessionId\")).show()"
   ]
  },
  {
   "cell_type": "markdown",
   "metadata": {},
   "source": [
    "### song\n",
    "\n",
    "* The most listened songs are You're The One, Undo and Revelry.\n",
    "* For users that have None entry, they are on pages such as Thumbs up, Home and Add to Playlist."
   ]
  },
  {
   "cell_type": "code",
   "execution_count": 29,
   "metadata": {
    "ExecuteTime": {
     "end_time": "2019-09-05T12:54:57.833958Z",
     "start_time": "2019-09-05T12:54:46.429511Z"
    }
   },
   "outputs": [],
   "source": [
    "song_count = customer_event_df.select(\"song\", \"artist\").groupby(\"song\"). \\\n",
    "    agg({\"song\": \"count\"}).select(\"song\", col(\"count(song)\").alias(\"total\")). \\\n",
    "    sort(desc(\"total\")).toPandas()"
   ]
  },
  {
   "cell_type": "code",
   "execution_count": 30,
   "metadata": {
    "ExecuteTime": {
     "end_time": "2019-09-05T12:55:52.483738Z",
     "start_time": "2019-09-05T12:55:52.476906Z"
    }
   },
   "outputs": [
    {
     "data": {
      "text/html": [
       "<div>\n",
       "<style scoped>\n",
       "    .dataframe tbody tr th:only-of-type {\n",
       "        vertical-align: middle;\n",
       "    }\n",
       "\n",
       "    .dataframe tbody tr th {\n",
       "        vertical-align: top;\n",
       "    }\n",
       "\n",
       "    .dataframe thead th {\n",
       "        text-align: right;\n",
       "    }\n",
       "</style>\n",
       "<table border=\"1\" class=\"dataframe\">\n",
       "  <thead>\n",
       "    <tr style=\"text-align: right;\">\n",
       "      <th></th>\n",
       "      <th>song</th>\n",
       "      <th>total</th>\n",
       "    </tr>\n",
       "  </thead>\n",
       "  <tbody>\n",
       "    <tr>\n",
       "      <th>0</th>\n",
       "      <td>None</td>\n",
       "      <td>95128</td>\n",
       "    </tr>\n",
       "    <tr>\n",
       "      <th>1</th>\n",
       "      <td>You're The One</td>\n",
       "      <td>2219</td>\n",
       "    </tr>\n",
       "    <tr>\n",
       "      <th>2</th>\n",
       "      <td>Undo</td>\n",
       "      <td>1938</td>\n",
       "    </tr>\n",
       "    <tr>\n",
       "      <th>3</th>\n",
       "      <td>Revelry</td>\n",
       "      <td>1613</td>\n",
       "    </tr>\n",
       "    <tr>\n",
       "      <th>4</th>\n",
       "      <td>Sehr kosmisch</td>\n",
       "      <td>1341</td>\n",
       "    </tr>\n",
       "    <tr>\n",
       "      <th>5</th>\n",
       "      <td>Horn Concerto No. 4 in E flat K495: II. Romanc...</td>\n",
       "      <td>1236</td>\n",
       "    </tr>\n",
       "    <tr>\n",
       "      <th>6</th>\n",
       "      <td>Dog Days Are Over (Radio Edit)</td>\n",
       "      <td>1048</td>\n",
       "    </tr>\n",
       "    <tr>\n",
       "      <th>7</th>\n",
       "      <td>Secrets</td>\n",
       "      <td>916</td>\n",
       "    </tr>\n",
       "    <tr>\n",
       "      <th>8</th>\n",
       "      <td>Use Somebody</td>\n",
       "      <td>894</td>\n",
       "    </tr>\n",
       "    <tr>\n",
       "      <th>9</th>\n",
       "      <td>Canada</td>\n",
       "      <td>836</td>\n",
       "    </tr>\n",
       "  </tbody>\n",
       "</table>\n",
       "</div>"
      ],
      "text/plain": [
       "                                                song  total\n",
       "0                                               None  95128\n",
       "1                                     You're The One   2219\n",
       "2                                               Undo   1938\n",
       "3                                            Revelry   1613\n",
       "4                                      Sehr kosmisch   1341\n",
       "5  Horn Concerto No. 4 in E flat K495: II. Romanc...   1236\n",
       "6                     Dog Days Are Over (Radio Edit)   1048\n",
       "7                                            Secrets    916\n",
       "8                                       Use Somebody    894\n",
       "9                                             Canada    836"
      ]
     },
     "execution_count": 30,
     "metadata": {},
     "output_type": "execute_result"
    }
   ],
   "source": [
    "song_count.head(10)"
   ]
  },
  {
   "cell_type": "code",
   "execution_count": 31,
   "metadata": {
    "ExecuteTime": {
     "end_time": "2019-09-05T12:55:56.806931Z",
     "start_time": "2019-09-05T12:55:53.080565Z"
    }
   },
   "outputs": [
    {
     "name": "stdout",
     "output_type": "stream",
     "text": [
      "+--------------------+-----------+\n",
      "|                page|count(page)|\n",
      "+--------------------+-----------+\n",
      "|           Thumbs Up|      23826|\n",
      "|                Home|      19089|\n",
      "|     Add to Playlist|      12349|\n",
      "|          Add Friend|       8087|\n",
      "|         Roll Advert|       7773|\n",
      "|              Logout|       5990|\n",
      "|         Thumbs Down|       4911|\n",
      "|           Downgrade|       3811|\n",
      "|            Settings|       2964|\n",
      "|                Help|       2644|\n",
      "|               About|       1026|\n",
      "|             Upgrade|        968|\n",
      "|       Save Settings|        585|\n",
      "|               Error|        503|\n",
      "|      Submit Upgrade|        287|\n",
      "|    Submit Downgrade|        117|\n",
      "|              Cancel|         99|\n",
      "|Cancellation Conf...|         99|\n",
      "+--------------------+-----------+\n",
      "\n"
     ]
    }
   ],
   "source": [
    "customer_event_df.filter(col(\"song\") == \"None\").groupby(\"page\"). \\\n",
    "    agg({\"page\": \"count\"}).sort((desc(\"count(page)\"))).show()"
   ]
  },
  {
   "cell_type": "markdown",
   "metadata": {},
   "source": [
    "### status\n",
    "\n",
    "* 91.59% of the requested are succeeded with status code 200, 8.31% with status code 307 (redirect) and 0.1% of the requested page is 404 not found."
   ]
  },
  {
   "cell_type": "code",
   "execution_count": 32,
   "metadata": {
    "ExecuteTime": {
     "end_time": "2019-09-05T12:56:53.570900Z",
     "start_time": "2019-09-05T12:56:49.457930Z"
    }
   },
   "outputs": [],
   "source": [
    "status_count = customer_event_df.select(\"status\", 'artist').groupby(\"status\"). \\\n",
    "    agg({\"status\": \"count\"}).select(\"status\", col(\"count(status)\").alias(\"total\")). \\\n",
    "    sort(desc(\"total\")).toPandas()"
   ]
  },
  {
   "cell_type": "code",
   "execution_count": 33,
   "metadata": {
    "ExecuteTime": {
     "end_time": "2019-09-05T12:57:02.188296Z",
     "start_time": "2019-09-05T12:57:02.183417Z"
    }
   },
   "outputs": [],
   "source": [
    "status_count[\"status\"] = status_count[\"status\"].astype(\"str\")"
   ]
  },
  {
   "cell_type": "code",
   "execution_count": 34,
   "metadata": {
    "ExecuteTime": {
     "end_time": "2019-09-05T12:57:02.935205Z",
     "start_time": "2019-09-05T12:57:02.826870Z"
    }
   },
   "outputs": [
    {
     "data": {
      "image/png": "[encoded data removed]",
      "text/plain": [
       "<Figure size 576x360 with 1 Axes>"
      ]
     },
     "metadata": {
      "needs_background": "light"
     },
     "output_type": "display_data"
    }
   ],
   "source": [
    "sns_barplot_text(\"status\", \"total\", status_count, title=\"Distribution of status\")"
   ]
  },
  {
   "cell_type": "markdown",
   "metadata": {},
   "source": [
    "### userAgent\n",
    "\n",
    "* Majority of users using Sparkify app on desktop os\n",
    "* We extract the device OS, browser OS and browser version from the userAgent information to better capture the relationship of churn users device"
   ]
  },
  {
   "cell_type": "code",
   "execution_count": 35,
   "metadata": {
    "ExecuteTime": {
     "end_time": "2019-09-05T12:57:08.139750Z",
     "start_time": "2019-09-05T12:57:04.011807Z"
    }
   },
   "outputs": [
    {
     "data": {
      "text/plain": [
       "71"
      ]
     },
     "execution_count": 35,
     "metadata": {},
     "output_type": "execute_result"
    }
   ],
   "source": [
    "customer_event_df.select(\"userAgent\").distinct().count()"
   ]
  },
  {
   "cell_type": "code",
   "execution_count": 36,
   "metadata": {
    "ExecuteTime": {
     "end_time": "2019-09-05T12:57:14.606680Z",
     "start_time": "2019-09-05T12:57:09.456637Z"
    }
   },
   "outputs": [],
   "source": [
    "useragent_count = customer_event_df.select(\"userAgent\").groupby(\"userAgent\"). \\\n",
    "    agg({\"userAgent\": \"count\"}).select(\"userAgent\", col(\"count(userAgent)\").alias(\"total\")). \\\n",
    "    sort(desc(\"total\")).toPandas()"
   ]
  },
  {
   "cell_type": "code",
   "execution_count": 37,
   "metadata": {
    "ExecuteTime": {
     "end_time": "2019-09-05T12:57:16.666451Z",
     "start_time": "2019-09-05T12:57:16.663523Z"
    }
   },
   "outputs": [],
   "source": [
    "# useragent_count['percentage'] = useragent_count['total'] / useragent_count['total'].sum() * 100\n",
    "# useragent_count.head()"
   ]
  },
  {
   "cell_type": "code",
   "execution_count": 38,
   "metadata": {
    "ExecuteTime": {
     "end_time": "2019-09-05T12:57:17.336273Z",
     "start_time": "2019-09-05T12:57:17.330417Z"
    }
   },
   "outputs": [],
   "source": [
    "def os_feature(s):\n",
    "    os = re.findall(\"Ubuntu|Windows|Mac|iPad|iPhone|Linux\", s)\n",
    "    if os:\n",
    "        os = os[0].translate(str.maketrans('', '', string.punctuation)).strip()\n",
    "    \n",
    "    return os\n",
    "\n",
    "def browser_feature(s):\n",
    "    browser_list = re.findall(\"Chrome[/\\w+.]+|Safari[/\\w.]+|Mobile[/\\w.]+|Firefox[/\\w.]+|Trident[/\\w.]+\", s)\n",
    "    if browser_list:\n",
    "        browser = browser_list[0].strip().split(\"/\")[0]\n",
    "    \n",
    "    return browser\n",
    "\n",
    "def browser_version_feature(s):\n",
    "    browser_list = re.findall(\"Chrome[/\\w+.]+|Safari[/\\w.]+|Mobile[/\\w.]+|Firefox[/\\w.]+|Trident[/\\w.]+\", s)\n",
    "    if browser_list:\n",
    "        version = browser_list[0].strip().split(\"/\")[1]\n",
    "    \n",
    "    return version\n",
    "\n",
    "os_udf = udf(os_feature, StringType())\n",
    "browser_udf = udf(browser_feature, StringType())\n",
    "version_udf = udf(browser_version_feature, StringType())"
   ]
  },
  {
   "cell_type": "code",
   "execution_count": 39,
   "metadata": {
    "ExecuteTime": {
     "end_time": "2019-09-05T12:57:17.971880Z",
     "start_time": "2019-09-05T12:57:17.944531Z"
    }
   },
   "outputs": [],
   "source": [
    "customer_event_df = customer_event_df.withColumn(\"os\",\n",
    "                                                 os_udf(customer_event_df.userAgent))"
   ]
  },
  {
   "cell_type": "code",
   "execution_count": 40,
   "metadata": {
    "ExecuteTime": {
     "end_time": "2019-09-05T12:57:18.705705Z",
     "start_time": "2019-09-05T12:57:18.673497Z"
    }
   },
   "outputs": [],
   "source": [
    "customer_event_df = customer_event_df.withColumn(\"browser\",\n",
    "                                                 browser_udf(customer_event_df.userAgent))\n",
    "customer_event_df = customer_event_df.withColumn(\"browser_ver\",\n",
    "                                                 version_udf(customer_event_df.userAgent))"
   ]
  },
  {
   "cell_type": "code",
   "execution_count": 41,
   "metadata": {
    "ExecuteTime": {
     "end_time": "2019-09-05T12:57:25.067075Z",
     "start_time": "2019-09-05T12:57:19.448940Z"
    }
   },
   "outputs": [
    {
     "name": "stdout",
     "output_type": "stream",
     "text": [
      "+-------+------+\n",
      "|browser| total|\n",
      "+-------+------+\n",
      "| Chrome|275306|\n",
      "|Firefox|113562|\n",
      "| Safari| 70734|\n",
      "|Trident| 37918|\n",
      "| Mobile| 30485|\n",
      "+-------+------+\n",
      "\n"
     ]
    }
   ],
   "source": [
    "customer_event_df.select(\"browser\").groupby(\"browser\"). \\\n",
    "    agg({\"browser\": \"count\"}).select(\"browser\", col(\"count(browser)\").alias(\"total\")). \\\n",
    "    sort(desc(\"total\")).show()"
   ]
  },
  {
   "cell_type": "code",
   "execution_count": 42,
   "metadata": {
    "ExecuteTime": {
     "end_time": "2019-09-05T12:57:31.574930Z",
     "start_time": "2019-09-05T12:57:26.118737Z"
    }
   },
   "outputs": [
    {
     "name": "stdout",
     "output_type": "stream",
     "text": [
      "+-------------+------+\n",
      "|  browser_ver| total|\n",
      "+-------------+------+\n",
      "|36.0.1985.125|115262|\n",
      "|36.0.1985.143|102205|\n",
      "|         31.0| 99914|\n",
      "| 37.0.2062.94| 43300|\n",
      "|     537.77.4| 40880|\n",
      "|       11D257| 24807|\n",
      "|     537.78.2| 18384|\n",
      "|          7.0| 16141|\n",
      "|          6.0| 11070|\n",
      "|         30.0| 10775|\n",
      "|          5.0| 10707|\n",
      "|37.0.2062.103|  7301|\n",
      "|      600.1.8|  5566|\n",
      "|35.0.1916.153|  4942|\n",
      "|       11D201|  3437|\n",
      "|34.0.1847.116|  2296|\n",
      "|       11D167|  2241|\n",
      "|         24.0|  2072|\n",
      "|      600.1.3|  1800|\n",
      "|    534.59.10|  1783|\n",
      "+-------------+------+\n",
      "only showing top 20 rows\n",
      "\n"
     ]
    }
   ],
   "source": [
    "customer_event_df.select(\"browser_ver\").groupby(\"browser_ver\"). \\\n",
    "    agg({\"browser_ver\": \"count\"}).select(\"browser_ver\", col(\"count(browser_ver)\").alias(\"total\")). \\\n",
    "    sort(desc(\"total\")).show()"
   ]
  },
  {
   "cell_type": "markdown",
   "metadata": {},
   "source": [
    "## Define Churn\n",
    "\n",
    "* There are 99 cancellation of subscription in this tiny dataset.\n",
    "* We create a `churn` label column for the dataset. It returns 1 if `Cancecllation Confirmation` events happens.\n"
   ]
  },
  {
   "cell_type": "code",
   "execution_count": 43,
   "metadata": {
    "ExecuteTime": {
     "end_time": "2019-09-05T12:57:39.984396Z",
     "start_time": "2019-09-05T12:57:35.870208Z"
    }
   },
   "outputs": [
    {
     "data": {
      "text/plain": [
       "99"
      ]
     },
     "execution_count": 43,
     "metadata": {},
     "output_type": "execute_result"
    }
   ],
   "source": [
    "customer_event_df.filter(col(\"page\") == \"Cancellation Confirmation\" ). \\\n",
    "    select(\"userId\").distinct().count()"
   ]
  },
  {
   "cell_type": "code",
   "execution_count": 44,
   "metadata": {
    "ExecuteTime": {
     "end_time": "2019-09-05T12:57:41.092590Z",
     "start_time": "2019-09-05T12:57:41.030127Z"
    }
   },
   "outputs": [],
   "source": [
    "is_cancellation = udf(lambda x: 1 if x == \"Cancellation Confirmation\" else 0, IntegerType())\n",
    "\n",
    "customer_event_df = customer_event_df.withColumn(\"churn\", is_cancellation(\"page\"))\n",
    "# there are users that cancelled their subscription in one of the session \n",
    "# we have to assign 1 to these users\n",
    "window_func = Window.partitionBy(\"userId\").rangeBetween(Window.unboundedPreceding,\n",
    "                                                        Window.unboundedFollowing)\n",
    "customer_event_df = customer_event_df.withColumn(\"churn\", Fsum(\"churn\").over(window_func))"
   ]
  },
  {
   "cell_type": "markdown",
   "metadata": {},
   "source": [
    "## Further Analysis \n",
    "\n",
    "\n",
    "* In this section, we analyze how different features interact with the churn rate\n",
    "* Also, We convert the `ts` and `registration` feature into datetime object.\n",
    "* Extract day and week feature from `ts` to observe the churn rate of weekday and hour."
   ]
  },
  {
   "cell_type": "code",
   "execution_count": 45,
   "metadata": {
    "ExecuteTime": {
     "end_time": "2019-09-05T12:57:45.043622Z",
     "start_time": "2019-09-05T12:57:42.351953Z"
    }
   },
   "outputs": [
    {
     "name": "stdout",
     "output_type": "stream",
     "text": [
      "+-------+--------------------+\n",
      "|summary|                  ts|\n",
      "+-------+--------------------+\n",
      "|  count|              528005|\n",
      "|   mean|1.540966927748447E12|\n",
      "| stddev| 1.481233094025866E9|\n",
      "|    min|       1538352011000|\n",
      "|    max|       1543622466000|\n",
      "+-------+--------------------+\n",
      "\n"
     ]
    }
   ],
   "source": [
    "# ts feature\n",
    "customer_event_df.select(\"ts\").describe().show()"
   ]
  },
  {
   "cell_type": "code",
   "execution_count": 46,
   "metadata": {
    "ExecuteTime": {
     "end_time": "2019-09-05T12:57:47.159458Z",
     "start_time": "2019-09-05T12:57:47.155554Z"
    }
   },
   "outputs": [
    {
     "name": "stdout",
     "output_type": "stream",
     "text": [
      "Start Time: 2018-10-01 00:00:11\n",
      "End Time: 2018-12-01 00:01:06\n"
     ]
    }
   ],
   "source": [
    "start_ts = int(1538352011000) / 1000\n",
    "start_date = datetime.utcfromtimestamp(start_ts).strftime(\"%Y-%m-%d %H:%M:%S\")\n",
    "print(f\"Start Time: {start_date}\")\n",
    "\n",
    "end_ts = int(1543622466000) / 1000\n",
    "end_date = datetime.utcfromtimestamp(end_ts).strftime(\"%Y-%m-%d %H:%M:%S\")\n",
    "print(f\"End Time: {end_date}\")"
   ]
  },
  {
   "cell_type": "code",
   "execution_count": 47,
   "metadata": {
    "ExecuteTime": {
     "end_time": "2019-09-05T12:57:47.761487Z",
     "start_time": "2019-09-05T12:57:47.756615Z"
    }
   },
   "outputs": [
    {
     "data": {
      "text/plain": [
       "12"
      ]
     },
     "execution_count": 47,
     "metadata": {},
     "output_type": "execute_result"
    }
   ],
   "source": [
    "datetime.fromtimestamp(int(1543622466000) / 1000).month"
   ]
  },
  {
   "cell_type": "code",
   "execution_count": 48,
   "metadata": {
    "ExecuteTime": {
     "end_time": "2019-09-05T12:57:48.674852Z",
     "start_time": "2019-09-05T12:57:48.623824Z"
    }
   },
   "outputs": [],
   "source": [
    "ts_to_day_fn = udf(lambda ts: int(datetime.fromtimestamp(ts / 1000.0).strftime(\"%w\")), IntegerType())\n",
    "ts_to_hour_fn = udf(lambda ts: datetime.fromtimestamp(ts / 1000.0).hour, IntegerType())\n",
    "ts_to_date_fn = udf(lambda ts: datetime.fromtimestamp(ts / 1000.0).date(), DateType())\n",
    "ts_to_month_fn = udf(lambda ts: datetime.fromtimestamp(ts / 1000.0).month, IntegerType())\n",
    "\n",
    "customer_event_df = customer_event_df.withColumn(\"event_weekday\", \n",
    "                                                 ts_to_day_fn(customer_event_df.ts))\n",
    "customer_event_df = customer_event_df.withColumn(\"event_hour\", \n",
    "                                                 ts_to_hour_fn(customer_event_df.ts))\n",
    "customer_event_df = customer_event_df.withColumn(\"event_month\",\n",
    "                                                 ts_to_month_fn(customer_event_df.ts))"
   ]
  },
  {
   "cell_type": "code",
   "execution_count": 49,
   "metadata": {
    "ExecuteTime": {
     "end_time": "2019-09-05T12:57:49.645558Z",
     "start_time": "2019-09-05T12:57:49.622111Z"
    }
   },
   "outputs": [],
   "source": [
    "customer_event_df = customer_event_df.withColumn(\"event_date\",\n",
    "                                                 ts_to_date_fn(customer_event_df.ts))\n",
    "customer_event_df = customer_event_df.withColumn(\"registration_date\",\n",
    "                                                 ts_to_date_fn(customer_event_df.registration))\n"
   ]
  },
  {
   "cell_type": "markdown",
   "metadata": {},
   "source": [
    "* Only keep the states part of the location for easier analysis"
   ]
  },
  {
   "cell_type": "code",
   "execution_count": 50,
   "metadata": {
    "ExecuteTime": {
     "end_time": "2019-09-05T12:57:50.289847Z",
     "start_time": "2019-09-05T12:57:50.271332Z"
    }
   },
   "outputs": [],
   "source": [
    "def clean_location(s):\n",
    "    \n",
    "    location = s.split(\",\")[1].strip()\n",
    "    \n",
    "    if len(location) >= 3:\n",
    "        location = location.split(\"-\")[0].strip()\n",
    "    return location\n",
    "\n",
    "clean_location_udf = udf(clean_location, StringType())\n",
    "\n",
    "customer_event_df = customer_event_df.withColumn(\"location\",\n",
    "                                                 clean_location_udf(customer_event_df.location))"
   ]
  },
  {
   "cell_type": "code",
   "execution_count": 51,
   "metadata": {
    "ExecuteTime": {
     "end_time": "2019-09-05T12:57:50.967323Z",
     "start_time": "2019-09-05T12:57:50.963420Z"
    }
   },
   "outputs": [
    {
     "name": "stdout",
     "output_type": "stream",
     "text": [
      "root\n",
      " |-- artist: string (nullable = false)\n",
      " |-- auth: string (nullable = true)\n",
      " |-- firstName: string (nullable = true)\n",
      " |-- gender: string (nullable = true)\n",
      " |-- itemInSession: long (nullable = true)\n",
      " |-- lastName: string (nullable = true)\n",
      " |-- length: double (nullable = false)\n",
      " |-- level: string (nullable = true)\n",
      " |-- location: string (nullable = true)\n",
      " |-- method: string (nullable = true)\n",
      " |-- page: string (nullable = true)\n",
      " |-- registration: long (nullable = true)\n",
      " |-- sessionId: long (nullable = true)\n",
      " |-- song: string (nullable = false)\n",
      " |-- status: long (nullable = true)\n",
      " |-- ts: long (nullable = true)\n",
      " |-- userAgent: string (nullable = true)\n",
      " |-- userId: string (nullable = true)\n",
      " |-- os: string (nullable = true)\n",
      " |-- browser: string (nullable = true)\n",
      " |-- browser_ver: string (nullable = true)\n",
      " |-- churn: long (nullable = true)\n",
      " |-- event_weekday: integer (nullable = true)\n",
      " |-- event_hour: integer (nullable = true)\n",
      " |-- event_month: integer (nullable = true)\n",
      " |-- event_date: date (nullable = true)\n",
      " |-- registration_date: date (nullable = true)\n",
      "\n"
     ]
    }
   ],
   "source": [
    "customer_event_df.printSchema()"
   ]
  },
  {
   "cell_type": "code",
   "execution_count": 52,
   "metadata": {
    "ExecuteTime": {
     "end_time": "2019-09-05T12:57:51.795102Z",
     "start_time": "2019-09-05T12:57:51.654004Z"
    }
   },
   "outputs": [],
   "source": [
    "# create a temp view from customer_even_df to use SQL type of syntax for data analysis\n",
    "customer_event_df.createOrReplaceTempView('event');"
   ]
  },
  {
   "cell_type": "markdown",
   "metadata": {},
   "source": [
    "* As expected, the churn users are much less than non-churn users"
   ]
  },
  {
   "cell_type": "code",
   "execution_count": 53,
   "metadata": {
    "ExecuteTime": {
     "end_time": "2019-09-05T12:58:03.240721Z",
     "start_time": "2019-09-05T12:57:52.271518Z"
    }
   },
   "outputs": [],
   "source": [
    "churn_count_df = spark.sql(\"\"\"\n",
    "                           SELECT churn, \n",
    "                                  Count(DISTINCT userid) AS total_user \n",
    "                           FROM   event \n",
    "                           GROUP  BY churn \n",
    "                           \"\"\").toPandas()"
   ]
  },
  {
   "cell_type": "code",
   "execution_count": 54,
   "metadata": {
    "ExecuteTime": {
     "end_time": "2019-09-05T12:58:11.400530Z",
     "start_time": "2019-09-05T12:58:11.281956Z"
    }
   },
   "outputs": [
    {
     "data": {
      "image/png": "[encoded data removed]",
      "text/plain": [
       "<Figure size 576x360 with 1 Axes>"
      ]
     },
     "metadata": {
      "needs_background": "light"
     },
     "output_type": "display_data"
    }
   ],
   "source": [
    "sns_barplot_text(x=\"churn\", y=\"total_user\", data=churn_count_df, title=\"Distrubtion of churn\" )"
   ]
  },
  {
   "cell_type": "markdown",
   "metadata": {},
   "source": [
    "### Gender and churn rate\n",
    "\n",
    "* Males user have a slighly more churn rate than female users"
   ]
  },
  {
   "cell_type": "code",
   "execution_count": 55,
   "metadata": {
    "ExecuteTime": {
     "end_time": "2019-09-05T12:58:17.921931Z",
     "start_time": "2019-09-05T12:58:13.966344Z"
    }
   },
   "outputs": [],
   "source": [
    "gender_count = customer_event_df.select(\"gender\").groupby(\"gender\"). \\\n",
    "    agg({\"gender\": \"count\"}).select(\"gender\", col(\"count(gender)\").alias(\"total\")). \\\n",
    "    sort(desc(\"total\")).toPandas()"
   ]
  },
  {
   "cell_type": "code",
   "execution_count": 56,
   "metadata": {
    "ExecuteTime": {
     "end_time": "2019-09-05T12:58:39.362662Z",
     "start_time": "2019-09-05T12:58:39.254793Z"
    }
   },
   "outputs": [
    {
     "data": {
      "image/png": "[encoded data removed]",
      "text/plain": [
       "<Figure size 576x360 with 1 Axes>"
      ]
     },
     "metadata": {
      "needs_background": "light"
     },
     "output_type": "display_data"
    }
   ],
   "source": [
    "sns_barplot_text(\"gender\", \"total\", gender_count, title=\"Distribution of gender\")"
   ]
  },
  {
   "cell_type": "code",
   "execution_count": 57,
   "metadata": {
    "ExecuteTime": {
     "end_time": "2019-09-05T12:58:51.330843Z",
     "start_time": "2019-09-05T12:58:40.031052Z"
    }
   },
   "outputs": [],
   "source": [
    "gender_churn_df = spark.sql(\"\"\"\n",
    "                           SELECT gender, \n",
    "                                  churn, \n",
    "                           Count(DISTINCT userid) AS total_user \n",
    "                           FROM   event \n",
    "                           GROUP  BY gender, \n",
    "                                     churn  \n",
    "                           \"\"\").toPandas()"
   ]
  },
  {
   "cell_type": "code",
   "execution_count": 58,
   "metadata": {
    "ExecuteTime": {
     "end_time": "2019-09-05T12:58:54.541695Z",
     "start_time": "2019-09-05T12:58:54.399166Z"
    }
   },
   "outputs": [
    {
     "data": {
      "image/png": "[encoded data removed]",
      "text/plain": [
       "<Figure size 576x360 with 1 Axes>"
      ]
     },
     "metadata": {
      "needs_background": "light"
     },
     "output_type": "display_data"
    }
   ],
   "source": [
    "sns_barplot_text(\"churn\", \"total_user\", gender_churn_df, hue=\"gender\", \n",
    "                 title=\"Distrubtion of gender vs churn\", percentage=False)"
   ]
  },
  {
   "cell_type": "markdown",
   "metadata": {
    "ExecuteTime": {
     "end_time": "2019-08-30T20:10:06.916605Z",
     "start_time": "2019-08-30T20:10:06.905485Z"
    }
   },
   "source": [
    "### Subscription level and churn rate\n",
    "\n",
    "* The is the feature that distinguish free user and paid user.\n",
    "* Around 79.2% of the users are paid user, 20.8% are free users.\n",
    "* 82 users subscribe for one month and cancel their subscription. This may be \"first month trial\" offer by Sparkify."
   ]
  },
  {
   "cell_type": "code",
   "execution_count": 59,
   "metadata": {
    "ExecuteTime": {
     "end_time": "2019-09-05T12:58:59.699863Z",
     "start_time": "2019-09-05T12:58:55.556407Z"
    }
   },
   "outputs": [
    {
     "data": {
      "image/png": "[encoded data removed]",
      "text/plain": [
       "<Figure size 576x360 with 1 Axes>"
      ]
     },
     "metadata": {
      "needs_background": "light"
     },
     "output_type": "display_data"
    }
   ],
   "source": [
    "level_count = customer_event_df.select(\"level\").groupby(\"level\"). \\\n",
    "    agg({\"level\": \"count\"}).select(\"level\", col(\"count(level)\").alias(\"total\")). \\\n",
    "    sort(desc(\"total\")).toPandas()\n",
    "\n",
    "sns_barplot_text(\"level\", \"total\", level_count, title=\"Distribution of level\")"
   ]
  },
  {
   "cell_type": "code",
   "execution_count": 60,
   "metadata": {
    "ExecuteTime": {
     "end_time": "2019-09-05T12:59:18.273780Z",
     "start_time": "2019-09-05T12:59:05.886528Z"
    }
   },
   "outputs": [],
   "source": [
    "level_churn_df = spark.sql(\"\"\"\n",
    "                           SELECT level, \n",
    "                                  churn, \n",
    "                           Count(DISTINCT userid) AS total_user \n",
    "                           FROM   event \n",
    "                           GROUP  BY level, \n",
    "                                     churn  \n",
    "                           ORDER BY churn\n",
    "                           \"\"\").toPandas()"
   ]
  },
  {
   "cell_type": "code",
   "execution_count": 61,
   "metadata": {
    "ExecuteTime": {
     "end_time": "2019-09-05T12:59:24.812409Z",
     "start_time": "2019-09-05T12:59:24.679670Z"
    }
   },
   "outputs": [
    {
     "data": {
      "image/png": "[encoded data removed]",
      "text/plain": [
       "<Figure size 576x360 with 1 Axes>"
      ]
     },
     "metadata": {
      "needs_background": "light"
     },
     "output_type": "display_data"
    }
   ],
   "source": [
    "sns_barplot_text(\"churn\", \"total_user\", data=level_churn_df, hue=\"level\", \n",
    "                 title=\"Distrubtion of subscription level vs churn\", percentage=False)"
   ]
  },
  {
   "cell_type": "code",
   "execution_count": 62,
   "metadata": {
    "ExecuteTime": {
     "end_time": "2019-09-05T12:59:38.184943Z",
     "start_time": "2019-09-05T12:59:25.256111Z"
    }
   },
   "outputs": [],
   "source": [
    "gender_level_churn_df = spark.sql(\"\"\"\n",
    "                                  SELECT level, \n",
    "                                         gender,\n",
    "                                         churn, \n",
    "                                  Count(DISTINCT userid) AS total_user \n",
    "                                  FROM   event \n",
    "                                  GROUP  BY level,\n",
    "                                            gender,\n",
    "                                            churn  \n",
    "                                  ORDER BY churn\n",
    "                                  \"\"\").toPandas()"
   ]
  },
  {
   "cell_type": "code",
   "execution_count": 63,
   "metadata": {
    "ExecuteTime": {
     "end_time": "2019-09-05T12:59:48.597196Z",
     "start_time": "2019-09-05T12:59:48.099437Z"
    }
   },
   "outputs": [
    {
     "name": "stderr",
     "output_type": "stream",
     "text": [
      "C:\\Users\\andre\\Anaconda3\\envs\\DL\\lib\\site-packages\\seaborn\\axisgrid.py:715: UserWarning: Using the barplot function without specifying `order` is likely to produce an incorrect plot.\n",
      "  warnings.warn(warning)\n"
     ]
    },
    {
     "data": {
      "image/png": "[encoded data removed]",
      "text/plain": [
       "<Figure size 432x432 with 4 Axes>"
      ]
     },
     "metadata": {
      "needs_background": "light"
     },
     "output_type": "display_data"
    }
   ],
   "source": [
    "g = sns.FacetGrid(gender_level_churn_df, col=\"level\",  row=\"gender\")\n",
    "g = g.map(sns.barplot, \"churn\", \"total_user\", edgecolor=\"w\")"
   ]
  },
  {
   "cell_type": "markdown",
   "metadata": {},
   "source": [
    "### location and churn rate"
   ]
  },
  {
   "cell_type": "markdown",
   "metadata": {},
   "source": [
    "* Most of the users are from New Youk, LA, Boston and Chicago.\n",
    "* Although Vermont, Oklahoma, Kentucky and New Mexico has less users, these states churn rate has higher than 50%. It'll be interesting to see if the full version dataset has similar ratios."
   ]
  },
  {
   "cell_type": "code",
   "execution_count": 64,
   "metadata": {
    "ExecuteTime": {
     "end_time": "2019-09-05T12:59:55.722195Z",
     "start_time": "2019-09-05T12:59:50.108316Z"
    }
   },
   "outputs": [
    {
     "data": {
      "text/plain": [
       "49"
      ]
     },
     "execution_count": 64,
     "metadata": {},
     "output_type": "execute_result"
    }
   ],
   "source": [
    "customer_event_df.select(\"location\").distinct().count()"
   ]
  },
  {
   "cell_type": "code",
   "execution_count": 65,
   "metadata": {
    "ExecuteTime": {
     "end_time": "2019-09-05T13:00:18.086759Z",
     "start_time": "2019-09-05T13:00:11.927805Z"
    }
   },
   "outputs": [
    {
     "data": {
      "text/html": [
       "<div>\n",
       "<style scoped>\n",
       "    .dataframe tbody tr th:only-of-type {\n",
       "        vertical-align: middle;\n",
       "    }\n",
       "\n",
       "    .dataframe tbody tr th {\n",
       "        vertical-align: top;\n",
       "    }\n",
       "\n",
       "    .dataframe thead th {\n",
       "        text-align: right;\n",
       "    }\n",
       "</style>\n",
       "<table border=\"1\" class=\"dataframe\">\n",
       "  <thead>\n",
       "    <tr style=\"text-align: right;\">\n",
       "      <th></th>\n",
       "      <th>location</th>\n",
       "      <th>total</th>\n",
       "    </tr>\n",
       "  </thead>\n",
       "  <tbody>\n",
       "    <tr>\n",
       "      <th>0</th>\n",
       "      <td>CA</td>\n",
       "      <td>78171</td>\n",
       "    </tr>\n",
       "    <tr>\n",
       "      <th>1</th>\n",
       "      <td>NY</td>\n",
       "      <td>43710</td>\n",
       "    </tr>\n",
       "    <tr>\n",
       "      <th>2</th>\n",
       "      <td>TX</td>\n",
       "      <td>42442</td>\n",
       "    </tr>\n",
       "    <tr>\n",
       "      <th>3</th>\n",
       "      <td>FL</td>\n",
       "      <td>32129</td>\n",
       "    </tr>\n",
       "    <tr>\n",
       "      <th>4</th>\n",
       "      <td>IL</td>\n",
       "      <td>24855</td>\n",
       "    </tr>\n",
       "  </tbody>\n",
       "</table>\n",
       "</div>"
      ],
      "text/plain": [
       "  location  total\n",
       "0       CA  78171\n",
       "1       NY  43710\n",
       "2       TX  42442\n",
       "3       FL  32129\n",
       "4       IL  24855"
      ]
     },
     "execution_count": 65,
     "metadata": {},
     "output_type": "execute_result"
    }
   ],
   "source": [
    "location_count = customer_event_df.select(\"location\").groupby(\"location\"). \\\n",
    "    agg({\"location\": \"count\"}).select(\"location\", col(\"count(location)\").alias(\"total\")). \\\n",
    "    sort(desc(\"total\")).toPandas()\n",
    "\n",
    "location_count.head(5)"
   ]
  },
  {
   "cell_type": "code",
   "execution_count": 66,
   "metadata": {
    "ExecuteTime": {
     "end_time": "2019-09-05T13:00:30.865949Z",
     "start_time": "2019-09-05T13:00:20.239036Z"
    }
   },
   "outputs": [],
   "source": [
    "location_df = spark.sql(\"\"\"\n",
    "                           SELECT location, \n",
    "                                  Count(DISTINCT userid) AS total_user \n",
    "                           FROM   event \n",
    "                           GROUP  BY location \n",
    "                           ORDER BY total_user\n",
    "                           DESC\n",
    "                           \"\"\").toPandas()"
   ]
  },
  {
   "cell_type": "code",
   "execution_count": 67,
   "metadata": {
    "ExecuteTime": {
     "end_time": "2019-09-05T13:01:56.738902Z",
     "start_time": "2019-09-05T13:00:32.853885Z"
    }
   },
   "outputs": [],
   "source": [
    "location_churn_df = spark.sql(\"\"\"\n",
    "                           SELECT location, \n",
    "                                  Count(DISTINCT userid) AS churn_user \n",
    "                           FROM   event \n",
    "                           WHERE churn=1\n",
    "                           GROUP BY location\n",
    "                           \"\"\").toPandas()"
   ]
  },
  {
   "cell_type": "code",
   "execution_count": 68,
   "metadata": {
    "ExecuteTime": {
     "end_time": "2019-09-05T13:03:54.122297Z",
     "start_time": "2019-09-05T13:03:54.116320Z"
    }
   },
   "outputs": [],
   "source": [
    "merge_df = location_churn_df.merge(location_df, on=\"location\").sort_values(by=\"total_user\", ascending=False)"
   ]
  },
  {
   "cell_type": "code",
   "execution_count": 69,
   "metadata": {
    "ExecuteTime": {
     "end_time": "2019-09-05T13:04:01.946636Z",
     "start_time": "2019-09-05T13:04:01.905727Z"
    }
   },
   "outputs": [],
   "source": [
    "merge_df[\"percentage\"] = merge_df[\"churn_user\"] / merge_df[\"total_user\"] * 100"
   ]
  },
  {
   "cell_type": "code",
   "execution_count": 70,
   "metadata": {
    "ExecuteTime": {
     "end_time": "2019-09-05T13:04:18.914818Z",
     "start_time": "2019-09-05T13:04:18.906816Z"
    }
   },
   "outputs": [
    {
     "data": {
      "text/html": [
       "<div>\n",
       "<style scoped>\n",
       "    .dataframe tbody tr th:only-of-type {\n",
       "        vertical-align: middle;\n",
       "    }\n",
       "\n",
       "    .dataframe tbody tr th {\n",
       "        vertical-align: top;\n",
       "    }\n",
       "\n",
       "    .dataframe thead th {\n",
       "        text-align: right;\n",
       "    }\n",
       "</style>\n",
       "<table border=\"1\" class=\"dataframe\">\n",
       "  <thead>\n",
       "    <tr style=\"text-align: right;\">\n",
       "      <th></th>\n",
       "      <th>location</th>\n",
       "      <th>churn_user</th>\n",
       "      <th>total_user</th>\n",
       "      <th>percentage</th>\n",
       "    </tr>\n",
       "  </thead>\n",
       "  <tbody>\n",
       "    <tr>\n",
       "      <th>14</th>\n",
       "      <td>VT</td>\n",
       "      <td>1</td>\n",
       "      <td>1</td>\n",
       "      <td>100.000000</td>\n",
       "    </tr>\n",
       "    <tr>\n",
       "      <th>32</th>\n",
       "      <td>OK</td>\n",
       "      <td>2</td>\n",
       "      <td>3</td>\n",
       "      <td>66.666667</td>\n",
       "    </tr>\n",
       "    <tr>\n",
       "      <th>8</th>\n",
       "      <td>KY</td>\n",
       "      <td>4</td>\n",
       "      <td>6</td>\n",
       "      <td>66.666667</td>\n",
       "    </tr>\n",
       "    <tr>\n",
       "      <th>24</th>\n",
       "      <td>NM</td>\n",
       "      <td>2</td>\n",
       "      <td>3</td>\n",
       "      <td>66.666667</td>\n",
       "    </tr>\n",
       "    <tr>\n",
       "      <th>25</th>\n",
       "      <td>PA</td>\n",
       "      <td>7</td>\n",
       "      <td>17</td>\n",
       "      <td>41.176471</td>\n",
       "    </tr>\n",
       "    <tr>\n",
       "      <th>28</th>\n",
       "      <td>GA</td>\n",
       "      <td>6</td>\n",
       "      <td>15</td>\n",
       "      <td>40.000000</td>\n",
       "    </tr>\n",
       "    <tr>\n",
       "      <th>2</th>\n",
       "      <td>LA</td>\n",
       "      <td>2</td>\n",
       "      <td>5</td>\n",
       "      <td>40.000000</td>\n",
       "    </tr>\n",
       "    <tr>\n",
       "      <th>7</th>\n",
       "      <td>RI</td>\n",
       "      <td>2</td>\n",
       "      <td>5</td>\n",
       "      <td>40.000000</td>\n",
       "    </tr>\n",
       "    <tr>\n",
       "      <th>3</th>\n",
       "      <td>NJ</td>\n",
       "      <td>1</td>\n",
       "      <td>3</td>\n",
       "      <td>33.333333</td>\n",
       "    </tr>\n",
       "    <tr>\n",
       "      <th>22</th>\n",
       "      <td>OH</td>\n",
       "      <td>4</td>\n",
       "      <td>12</td>\n",
       "      <td>33.333333</td>\n",
       "    </tr>\n",
       "    <tr>\n",
       "      <th>5</th>\n",
       "      <td>OR</td>\n",
       "      <td>2</td>\n",
       "      <td>6</td>\n",
       "      <td>33.333333</td>\n",
       "    </tr>\n",
       "    <tr>\n",
       "      <th>9</th>\n",
       "      <td>NH</td>\n",
       "      <td>1</td>\n",
       "      <td>3</td>\n",
       "      <td>33.333333</td>\n",
       "    </tr>\n",
       "    <tr>\n",
       "      <th>10</th>\n",
       "      <td>MI</td>\n",
       "      <td>3</td>\n",
       "      <td>11</td>\n",
       "      <td>27.272727</td>\n",
       "    </tr>\n",
       "    <tr>\n",
       "      <th>17</th>\n",
       "      <td>IL</td>\n",
       "      <td>7</td>\n",
       "      <td>26</td>\n",
       "      <td>26.923077</td>\n",
       "    </tr>\n",
       "    <tr>\n",
       "      <th>26</th>\n",
       "      <td>NY</td>\n",
       "      <td>9</td>\n",
       "      <td>36</td>\n",
       "      <td>25.000000</td>\n",
       "    </tr>\n",
       "    <tr>\n",
       "      <th>16</th>\n",
       "      <td>MO</td>\n",
       "      <td>2</td>\n",
       "      <td>8</td>\n",
       "      <td>25.000000</td>\n",
       "    </tr>\n",
       "    <tr>\n",
       "      <th>30</th>\n",
       "      <td>FL</td>\n",
       "      <td>6</td>\n",
       "      <td>26</td>\n",
       "      <td>23.076923</td>\n",
       "    </tr>\n",
       "    <tr>\n",
       "      <th>20</th>\n",
       "      <td>AL</td>\n",
       "      <td>2</td>\n",
       "      <td>9</td>\n",
       "      <td>22.222222</td>\n",
       "    </tr>\n",
       "    <tr>\n",
       "      <th>12</th>\n",
       "      <td>CT</td>\n",
       "      <td>2</td>\n",
       "      <td>9</td>\n",
       "      <td>22.222222</td>\n",
       "    </tr>\n",
       "    <tr>\n",
       "      <th>23</th>\n",
       "      <td>TN</td>\n",
       "      <td>2</td>\n",
       "      <td>9</td>\n",
       "      <td>22.222222</td>\n",
       "    </tr>\n",
       "  </tbody>\n",
       "</table>\n",
       "</div>"
      ],
      "text/plain": [
       "   location  churn_user  total_user  percentage\n",
       "14       VT           1           1  100.000000\n",
       "32       OK           2           3   66.666667\n",
       "8        KY           4           6   66.666667\n",
       "24       NM           2           3   66.666667\n",
       "25       PA           7          17   41.176471\n",
       "28       GA           6          15   40.000000\n",
       "2        LA           2           5   40.000000\n",
       "7        RI           2           5   40.000000\n",
       "3        NJ           1           3   33.333333\n",
       "22       OH           4          12   33.333333\n",
       "5        OR           2           6   33.333333\n",
       "9        NH           1           3   33.333333\n",
       "10       MI           3          11   27.272727\n",
       "17       IL           7          26   26.923077\n",
       "26       NY           9          36   25.000000\n",
       "16       MO           2           8   25.000000\n",
       "30       FL           6          26   23.076923\n",
       "20       AL           2           9   22.222222\n",
       "12       CT           2           9   22.222222\n",
       "23       TN           2           9   22.222222"
      ]
     },
     "execution_count": 70,
     "metadata": {},
     "output_type": "execute_result"
    }
   ],
   "source": [
    "merge_df.sort_values(by=\"percentage\", ascending=False).head(20)"
   ]
  },
  {
   "cell_type": "code",
   "execution_count": 71,
   "metadata": {
    "ExecuteTime": {
     "end_time": "2019-09-05T13:04:19.972662Z",
     "start_time": "2019-09-05T13:04:19.550792Z"
    }
   },
   "outputs": [
    {
     "data": {
      "text/plain": [
       "<matplotlib.legend.Legend at 0x1423bf612b0>"
      ]
     },
     "execution_count": 71,
     "metadata": {},
     "output_type": "execute_result"
    },
    {
     "data": {
      "image/png": "[encoded data removed]",
      "text/plain": [
       "<Figure size 576x1080 with 1 Axes>"
      ]
     },
     "metadata": {
      "needs_background": "light"
     },
     "output_type": "display_data"
    }
   ],
   "source": [
    "fig, ax = plt.subplots(figsize=(8, 15))\n",
    "sns.set_color_codes(\"pastel\")\n",
    "sns.barplot(x=\"total_user\", y=\"location\", data=merge_df, ax=ax,\n",
    "            label=\"total_user\",color=\"b\")\n",
    "\n",
    "sns.set_color_codes(\"muted\")\n",
    "sns.barplot(x=\"churn_user\", y=\"location\", data=merge_df, ax=ax, \n",
    "            label=\"churn_user\",color=\"b\")\n",
    "ax.legend(ncol=2, loc=\"lower right\", frameon=True)"
   ]
  },
  {
   "cell_type": "markdown",
   "metadata": {
    "ExecuteTime": {
     "end_time": "2019-08-31T21:48:52.870582Z",
     "start_time": "2019-08-31T21:48:45.278225Z"
    }
   },
   "source": [
    "### page insterection \n",
    "\n",
    "\n",
    "* Most frequent page is NextSong follows by Thumbs Up\n",
    "* NextSong account for almost 82% of the pages\n",
    "* Clearly pages is heavily linked to the churn rate of the user. We will dive deep into \n",
    "\n",
    "#### page with level\n",
    "\n",
    "* More users submit upgrade then users submit downgrades\n",
    "* As expected, more free users rolls advert\n"
   ]
  },
  {
   "cell_type": "code",
   "execution_count": 72,
   "metadata": {
    "ExecuteTime": {
     "end_time": "2019-09-05T13:04:24.735395Z",
     "start_time": "2019-09-05T13:04:21.023099Z"
    }
   },
   "outputs": [
    {
     "data": {
      "text/html": [
       "<div>\n",
       "<style scoped>\n",
       "    .dataframe tbody tr th:only-of-type {\n",
       "        vertical-align: middle;\n",
       "    }\n",
       "\n",
       "    .dataframe tbody tr th {\n",
       "        vertical-align: top;\n",
       "    }\n",
       "\n",
       "    .dataframe thead th {\n",
       "        text-align: right;\n",
       "    }\n",
       "</style>\n",
       "<table border=\"1\" class=\"dataframe\">\n",
       "  <thead>\n",
       "    <tr style=\"text-align: right;\">\n",
       "      <th></th>\n",
       "      <th>page</th>\n",
       "      <th>total</th>\n",
       "      <th>percentage</th>\n",
       "    </tr>\n",
       "  </thead>\n",
       "  <tbody>\n",
       "    <tr>\n",
       "      <th>0</th>\n",
       "      <td>NextSong</td>\n",
       "      <td>432877</td>\n",
       "      <td>0.819835</td>\n",
       "    </tr>\n",
       "    <tr>\n",
       "      <th>1</th>\n",
       "      <td>Thumbs Up</td>\n",
       "      <td>23826</td>\n",
       "      <td>0.045125</td>\n",
       "    </tr>\n",
       "    <tr>\n",
       "      <th>2</th>\n",
       "      <td>Home</td>\n",
       "      <td>19089</td>\n",
       "      <td>0.036153</td>\n",
       "    </tr>\n",
       "    <tr>\n",
       "      <th>3</th>\n",
       "      <td>Add to Playlist</td>\n",
       "      <td>12349</td>\n",
       "      <td>0.023388</td>\n",
       "    </tr>\n",
       "    <tr>\n",
       "      <th>4</th>\n",
       "      <td>Add Friend</td>\n",
       "      <td>8087</td>\n",
       "      <td>0.015316</td>\n",
       "    </tr>\n",
       "    <tr>\n",
       "      <th>5</th>\n",
       "      <td>Roll Advert</td>\n",
       "      <td>7773</td>\n",
       "      <td>0.014721</td>\n",
       "    </tr>\n",
       "    <tr>\n",
       "      <th>6</th>\n",
       "      <td>Logout</td>\n",
       "      <td>5990</td>\n",
       "      <td>0.011345</td>\n",
       "    </tr>\n",
       "    <tr>\n",
       "      <th>7</th>\n",
       "      <td>Thumbs Down</td>\n",
       "      <td>4911</td>\n",
       "      <td>0.009301</td>\n",
       "    </tr>\n",
       "    <tr>\n",
       "      <th>8</th>\n",
       "      <td>Downgrade</td>\n",
       "      <td>3811</td>\n",
       "      <td>0.007218</td>\n",
       "    </tr>\n",
       "    <tr>\n",
       "      <th>9</th>\n",
       "      <td>Settings</td>\n",
       "      <td>2964</td>\n",
       "      <td>0.005614</td>\n",
       "    </tr>\n",
       "    <tr>\n",
       "      <th>10</th>\n",
       "      <td>Help</td>\n",
       "      <td>2644</td>\n",
       "      <td>0.005008</td>\n",
       "    </tr>\n",
       "    <tr>\n",
       "      <th>11</th>\n",
       "      <td>About</td>\n",
       "      <td>1026</td>\n",
       "      <td>0.001943</td>\n",
       "    </tr>\n",
       "    <tr>\n",
       "      <th>12</th>\n",
       "      <td>Upgrade</td>\n",
       "      <td>968</td>\n",
       "      <td>0.001833</td>\n",
       "    </tr>\n",
       "    <tr>\n",
       "      <th>13</th>\n",
       "      <td>Save Settings</td>\n",
       "      <td>585</td>\n",
       "      <td>0.001108</td>\n",
       "    </tr>\n",
       "    <tr>\n",
       "      <th>14</th>\n",
       "      <td>Error</td>\n",
       "      <td>503</td>\n",
       "      <td>0.000953</td>\n",
       "    </tr>\n",
       "    <tr>\n",
       "      <th>15</th>\n",
       "      <td>Submit Upgrade</td>\n",
       "      <td>287</td>\n",
       "      <td>0.000544</td>\n",
       "    </tr>\n",
       "    <tr>\n",
       "      <th>16</th>\n",
       "      <td>Submit Downgrade</td>\n",
       "      <td>117</td>\n",
       "      <td>0.000222</td>\n",
       "    </tr>\n",
       "    <tr>\n",
       "      <th>17</th>\n",
       "      <td>Cancel</td>\n",
       "      <td>99</td>\n",
       "      <td>0.000187</td>\n",
       "    </tr>\n",
       "    <tr>\n",
       "      <th>18</th>\n",
       "      <td>Cancellation Confirmation</td>\n",
       "      <td>99</td>\n",
       "      <td>0.000187</td>\n",
       "    </tr>\n",
       "  </tbody>\n",
       "</table>\n",
       "</div>"
      ],
      "text/plain": [
       "                         page   total  percentage\n",
       "0                    NextSong  432877    0.819835\n",
       "1                   Thumbs Up   23826    0.045125\n",
       "2                        Home   19089    0.036153\n",
       "3             Add to Playlist   12349    0.023388\n",
       "4                  Add Friend    8087    0.015316\n",
       "5                 Roll Advert    7773    0.014721\n",
       "6                      Logout    5990    0.011345\n",
       "7                 Thumbs Down    4911    0.009301\n",
       "8                   Downgrade    3811    0.007218\n",
       "9                    Settings    2964    0.005614\n",
       "10                       Help    2644    0.005008\n",
       "11                      About    1026    0.001943\n",
       "12                    Upgrade     968    0.001833\n",
       "13              Save Settings     585    0.001108\n",
       "14                      Error     503    0.000953\n",
       "15             Submit Upgrade     287    0.000544\n",
       "16           Submit Downgrade     117    0.000222\n",
       "17                     Cancel      99    0.000187\n",
       "18  Cancellation Confirmation      99    0.000187"
      ]
     },
     "execution_count": 72,
     "metadata": {},
     "output_type": "execute_result"
    }
   ],
   "source": [
    "page_count = customer_event_df.select(\"page\").groupby(\"page\"). \\\n",
    "    agg({\"page\": \"count\"}).select(\"page\", col(\"count(page)\").alias(\"total\")). \\\n",
    "    sort(desc(\"total\")).toPandas()\n",
    "\n",
    "page_count[\"percentage\"] = page_count[\"total\"] / page_count[\"total\"].sum()\n",
    "\n",
    "page_count"
   ]
  },
  {
   "cell_type": "code",
   "execution_count": 73,
   "metadata": {
    "ExecuteTime": {
     "end_time": "2019-09-05T13:04:38.279822Z",
     "start_time": "2019-09-05T13:04:37.743277Z"
    }
   },
   "outputs": [
    {
     "data": {
      "image/png": "[encoded data removed]",
      "text/plain": [
       "<Figure size 576x720 with 1 Axes>"
      ]
     },
     "metadata": {
      "needs_background": "light"
     },
     "output_type": "display_data"
    }
   ],
   "source": [
    "current_palette = sns.color_palette()\n",
    "fig, ax = plt.subplots(figsize=(8, 10))\n",
    "\n",
    "sns.barplot(x=page_count[\"total\"],\n",
    "            y=page_count[\"page\"],\n",
    "            log=True,\n",
    "            ax=ax,\n",
    "            palette=current_palette)\n",
    "ax.set_title(\"Page Distribution\");\n"
   ]
  },
  {
   "cell_type": "code",
   "execution_count": 74,
   "metadata": {
    "ExecuteTime": {
     "end_time": "2019-09-05T13:04:52.155046Z",
     "start_time": "2019-09-05T13:04:48.495220Z"
    }
   },
   "outputs": [],
   "source": [
    "page_gender_df = spark.sql(\"\"\"\n",
    "                    SELECT page,\n",
    "                           gender,\n",
    "                           COUNT(userId) AS total_visit\n",
    "                    FROM   event\n",
    "                    GROUP BY page,\n",
    "                             gender\n",
    "                    \"\"\").toPandas()"
   ]
  },
  {
   "cell_type": "code",
   "execution_count": 75,
   "metadata": {
    "ExecuteTime": {
     "end_time": "2019-09-05T13:05:04.073536Z",
     "start_time": "2019-09-05T13:05:03.570880Z"
    }
   },
   "outputs": [
    {
     "data": {
      "image/png": "[encoded data removed]",
      "text/plain": [
       "<Figure size 720x360 with 1 Axes>"
      ]
     },
     "metadata": {
      "needs_background": "light"
     },
     "output_type": "display_data"
    }
   ],
   "source": [
    "sns_barplot_text(x=\"page\", y=\"total_visit\", data=page_gender_df, hue=\"gender\",\n",
    "                 title=\"Distribution of page and gender\", percentage=False,\n",
    "                 text=False, log=True, figsize=(10, 5))"
   ]
  },
  {
   "cell_type": "code",
   "execution_count": 76,
   "metadata": {
    "ExecuteTime": {
     "end_time": "2019-09-05T13:05:18.365391Z",
     "start_time": "2019-09-05T13:05:05.035030Z"
    }
   },
   "outputs": [],
   "source": [
    "page_churn_df = spark.sql(\"\"\"\n",
    "                    SELECT page,\n",
    "                           churn,\n",
    "                           COUNT(DISTINCT(userId)) AS total_user\n",
    "                    FROM   event\n",
    "                    GROUP BY page,\n",
    "                             churn\n",
    "                    \"\"\").toPandas()"
   ]
  },
  {
   "cell_type": "code",
   "execution_count": 77,
   "metadata": {
    "ExecuteTime": {
     "end_time": "2019-09-05T13:05:19.920137Z",
     "start_time": "2019-09-05T13:05:19.614952Z"
    }
   },
   "outputs": [
    {
     "data": {
      "image/png": "[encoded data removed]",
      "text/plain": [
       "<Figure size 720x360 with 1 Axes>"
      ]
     },
     "metadata": {
      "needs_background": "light"
     },
     "output_type": "display_data"
    }
   ],
   "source": [
    "sns_barplot_text(x=\"page\", y=\"total_user\", data=page_churn_df, hue=\"churn\",\n",
    "                 title=\"Distribution of page and churn\", percentage=False,\n",
    "                 text=False, figsize=(10, 5))"
   ]
  },
  {
   "cell_type": "markdown",
   "metadata": {},
   "source": [
    "### Day, hour feature intersection\n",
    "\n",
    "#### Day of the week page visit churn rate\n",
    "\n",
    "* less users using Sparkify on Sunday and Saturday resulting less churn"
   ]
  },
  {
   "cell_type": "code",
   "execution_count": 78,
   "metadata": {
    "ExecuteTime": {
     "end_time": "2019-09-05T13:07:00.220005Z",
     "start_time": "2019-09-05T13:05:32.075178Z"
    }
   },
   "outputs": [],
   "source": [
    "day_user_churn_df = spark.sql(\"\"\"\n",
    "                    SELECT event_weekday,\n",
    "                           churn,\n",
    "                           COUNT(DISTINCT(userId)) AS total_user\n",
    "                    FROM   event\n",
    "                    GROUP BY event_weekday,\n",
    "                             churn\n",
    "                    \"\"\").toPandas()"
   ]
  },
  {
   "cell_type": "code",
   "execution_count": 79,
   "metadata": {
    "ExecuteTime": {
     "end_time": "2019-09-05T13:15:33.300536Z",
     "start_time": "2019-09-05T13:15:33.295551Z"
    }
   },
   "outputs": [],
   "source": [
    "day_user_churn_df = day_user_churn_df.sort_values(by=\"event_weekday\")"
   ]
  },
  {
   "cell_type": "code",
   "execution_count": 80,
   "metadata": {
    "ExecuteTime": {
     "end_time": "2019-09-05T13:15:34.120136Z",
     "start_time": "2019-09-05T13:15:33.933616Z"
    }
   },
   "outputs": [
    {
     "data": {
      "image/png": "[encoded data removed]",
      "text/plain": [
       "<Figure size 576x360 with 1 Axes>"
      ]
     },
     "metadata": {
      "needs_background": "light"
     },
     "output_type": "display_data"
    }
   ],
   "source": [
    "sns_barplot_text(x=\"event_weekday\", y=\"total_user\", data=day_user_churn_df, hue=\"churn\",\n",
    "                 title=\"Distribution of user by day with churn status\", percentage=False,\n",
    "                 text=True)"
   ]
  },
  {
   "cell_type": "code",
   "execution_count": 81,
   "metadata": {
    "ExecuteTime": {
     "end_time": "2019-09-05T13:16:58.019303Z",
     "start_time": "2019-09-05T13:15:34.592888Z"
    }
   },
   "outputs": [],
   "source": [
    "day_event_churn_df = spark.sql(\"\"\"\n",
    "                    SELECT event_weekday,\n",
    "                           churn,\n",
    "                           COUNT(userId) AS total_event\n",
    "                    FROM   event\n",
    "                    GROUP BY event_weekday,\n",
    "                             churn\n",
    "                    ORDER BY event_weekday\n",
    "                    \"\"\").toPandas()"
   ]
  },
  {
   "cell_type": "code",
   "execution_count": 82,
   "metadata": {
    "ExecuteTime": {
     "end_time": "2019-09-05T13:18:07.037340Z",
     "start_time": "2019-09-05T13:18:06.836877Z"
    }
   },
   "outputs": [
    {
     "data": {
      "image/png": "[encoded data removed]",
      "text/plain": [
       "<Figure size 720x360 with 1 Axes>"
      ]
     },
     "metadata": {
      "needs_background": "light"
     },
     "output_type": "display_data"
    }
   ],
   "source": [
    "sns_barplot_text(x=\"event_weekday\", y=\"total_event\", data=day_event_churn_df, hue=\"churn\",\n",
    "                 title=\"Distribution of user event with churn status\", percentage=False,\n",
    "                 text=True, figsize=(10, 5))"
   ]
  },
  {
   "cell_type": "markdown",
   "metadata": {},
   "source": [
    "* Sparkify seems to have more users after 3pm til midnight. The pattern is more clear for the page visit distribution. However, there is no clearn pattern on the churn rate"
   ]
  },
  {
   "cell_type": "code",
   "execution_count": 83,
   "metadata": {
    "ExecuteTime": {
     "end_time": "2019-09-05T13:19:43.064519Z",
     "start_time": "2019-09-05T13:18:07.422359Z"
    }
   },
   "outputs": [],
   "source": [
    "hour_user_churn_df = spark.sql(\"\"\"\n",
    "                    SELECT event_hour,\n",
    "                           churn,\n",
    "                           COUNT(DISTINCT(userId)) AS total_user\n",
    "                    FROM   event\n",
    "                    GROUP BY event_hour,\n",
    "                             churn\n",
    "                    ORDER BY event_hour\n",
    "                    \"\"\").toPandas()"
   ]
  },
  {
   "cell_type": "code",
   "execution_count": 84,
   "metadata": {
    "ExecuteTime": {
     "end_time": "2019-09-05T13:23:38.964181Z",
     "start_time": "2019-09-05T13:23:38.608126Z"
    }
   },
   "outputs": [
    {
     "data": {
      "image/png": "[encoded data removed]",
      "text/plain": [
       "<Figure size 864x360 with 1 Axes>"
      ]
     },
     "metadata": {
      "needs_background": "light"
     },
     "output_type": "display_data"
    }
   ],
   "source": [
    "sns_barplot_text(x=\"event_hour\", y=\"total_user\", data=hour_user_churn_df, hue=\"churn\",\n",
    "                 title=\"Distribution of user by hour with churn status\", percentage=False,\n",
    "                 text=False, figsize=(12,5))"
   ]
  },
  {
   "cell_type": "code",
   "execution_count": 85,
   "metadata": {
    "ExecuteTime": {
     "end_time": "2019-09-05T13:25:04.912553Z",
     "start_time": "2019-09-05T13:23:39.431990Z"
    }
   },
   "outputs": [],
   "source": [
    "hour_event_churn_df = spark.sql(\"\"\"\n",
    "                    SELECT event_hour,\n",
    "                           churn,\n",
    "                           COUNT(userId) AS total_event\n",
    "                    FROM   event\n",
    "                    GROUP BY event_hour,\n",
    "                             churn\n",
    "                    ORDER BY event_hour\n",
    "                    \"\"\").toPandas()"
   ]
  },
  {
   "cell_type": "code",
   "execution_count": 86,
   "metadata": {
    "ExecuteTime": {
     "end_time": "2019-09-05T14:05:30.207669Z",
     "start_time": "2019-09-05T14:05:29.882564Z"
    }
   },
   "outputs": [
    {
     "data": {
      "image/png": "[encoded data removed]",
      "text/plain": [
       "<Figure size 864x360 with 1 Axes>"
      ]
     },
     "metadata": {
      "needs_background": "light"
     },
     "output_type": "display_data"
    }
   ],
   "source": [
    "sns_barplot_text(x=\"event_hour\", y=\"total_event\", data=hour_event_churn_df, hue=\"churn\",\n",
    "                 title=\"Distribution of user event with churn status\", percentage=False,\n",
    "                 text=False, figsize=(12,5))"
   ]
  },
  {
   "cell_type": "markdown",
   "metadata": {},
   "source": [
    "* There is some interesting patterns when we visualize daily total event for both churn users and non-churn users. e.g. Around 08-10-2018, the total event for both churn users and non-churn users drop a lot. \n"
   ]
  },
  {
   "cell_type": "code",
   "execution_count": 87,
   "metadata": {
    "ExecuteTime": {
     "end_time": "2019-09-05T14:06:57.407708Z",
     "start_time": "2019-09-05T14:05:30.658158Z"
    }
   },
   "outputs": [],
   "source": [
    "daily_counts_df = spark.sql(\"\"\"\n",
    "                            SELECT event_date,\n",
    "                                   churn,\n",
    "                                   COUNT(userId) AS total_event\n",
    "                            FROM   event\n",
    "                            GROUP BY event_date,\n",
    "                                     churn\n",
    "                            ORDER BY event_date\n",
    "                            \"\"\").toPandas()"
   ]
  },
  {
   "cell_type": "code",
   "execution_count": 88,
   "metadata": {
    "ExecuteTime": {
     "end_time": "2019-09-05T14:08:25.576348Z",
     "start_time": "2019-09-05T14:08:25.354941Z"
    }
   },
   "outputs": [
    {
     "name": "stderr",
     "output_type": "stream",
     "text": [
      "C:\\Users\\andre\\Anaconda3\\envs\\DL\\lib\\site-packages\\pandas\\plotting\\_converter.py:129: FutureWarning: Using an implicitly registered datetime converter for a matplotlib plotting method. The converter was registered by pandas on import. Future versions of pandas will require you to explicitly register matplotlib converters.\n",
      "\n",
      "To register the converters:\n",
      "\t>>> from pandas.plotting import register_matplotlib_converters\n",
      "\t>>> register_matplotlib_converters()\n",
      "  warnings.warn(msg, FutureWarning)\n"
     ]
    },
    {
     "data": {
      "image/png": "[encoded data removed]",
      "text/plain": [
       "<Figure size 720x360 with 1 Axes>"
      ]
     },
     "metadata": {
      "needs_background": "light"
     },
     "output_type": "display_data"
    }
   ],
   "source": [
    "fig, ax = plt.subplots(figsize=(10, 5))\n",
    "sns.lineplot(x=\"event_date\",\n",
    "             y=\"total_event\",\n",
    "             hue=\"churn\",\n",
    "             data=daily_counts_df,\n",
    "             ax=ax)\n",
    "plt.xticks(rotation=30, ha=\"right\");\n"
   ]
  },
  {
   "cell_type": "code",
   "execution_count": 89,
   "metadata": {
    "ExecuteTime": {
     "end_time": "2019-09-05T14:10:00.450484Z",
     "start_time": "2019-09-05T14:08:25.876323Z"
    }
   },
   "outputs": [],
   "source": [
    "daily_user_counts_df = spark.sql(\"\"\"\n",
    "                                 SELECT event_date,\n",
    "                                        churn,\n",
    "                                        COUNT(DISTINCT(userId)) AS total_user\n",
    "                                 FROM   event\n",
    "                                 GROUP BY event_date,\n",
    "                                          churn\n",
    "                                 ORDER BY event_date\n",
    "                                \"\"\").toPandas()"
   ]
  },
  {
   "cell_type": "code",
   "execution_count": 90,
   "metadata": {
    "ExecuteTime": {
     "end_time": "2019-09-05T14:30:51.201914Z",
     "start_time": "2019-09-05T14:30:50.982312Z"
    }
   },
   "outputs": [
    {
     "data": {
      "image/png": "[encoded data removed]",
      "text/plain": [
       "<Figure size 720x360 with 1 Axes>"
      ]
     },
     "metadata": {
      "needs_background": "light"
     },
     "output_type": "display_data"
    }
   ],
   "source": [
    "fig, ax = plt.subplots(figsize=(10, 5))\n",
    "sns.lineplot(x=\"event_date\",\n",
    "             y=\"total_user\",\n",
    "             hue=2churn\",\n",
    "             data=daily_user_counts_df,\n",
    "             ax=ax)\n",
    "ax.set_title(\"Daily user count according to churn status \")\n",
    "ax.set_xlabel(\"date\")\n",
    "ax.set_ylabel(\"count\")\n",
    "plt.xticks(rotation=30, ha=\"right\");"
   ]
  },
  {
   "cell_type": "code",
   "execution_count": 91,
   "metadata": {
    "ExecuteTime": {
     "end_time": "2019-09-05T14:30:51.653981Z",
     "start_time": "2019-09-05T14:30:51.650098Z"
    }
   },
   "outputs": [
    {
     "name": "stdout",
     "output_type": "stream",
     "text": [
      "root\n",
      " |-- artist: string (nullable = false)\n",
      " |-- auth: string (nullable = true)\n",
      " |-- firstName: string (nullable = true)\n",
      " |-- gender: string (nullable = true)\n",
      " |-- itemInSession: long (nullable = true)\n",
      " |-- lastName: string (nullable = true)\n",
      " |-- length: double (nullable = false)\n",
      " |-- level: string (nullable = true)\n",
      " |-- location: string (nullable = true)\n",
      " |-- method: string (nullable = true)\n",
      " |-- page: string (nullable = true)\n",
      " |-- registration: long (nullable = true)\n",
      " |-- sessionId: long (nullable = true)\n",
      " |-- song: string (nullable = false)\n",
      " |-- status: long (nullable = true)\n",
      " |-- ts: long (nullable = true)\n",
      " |-- userAgent: string (nullable = true)\n",
      " |-- userId: string (nullable = true)\n",
      " |-- os: string (nullable = true)\n",
      " |-- browser: string (nullable = true)\n",
      " |-- browser_ver: string (nullable = true)\n",
      " |-- churn: long (nullable = true)\n",
      " |-- event_weekday: integer (nullable = true)\n",
      " |-- event_hour: integer (nullable = true)\n",
      " |-- event_month: integer (nullable = true)\n",
      " |-- event_date: date (nullable = true)\n",
      " |-- registration_date: date (nullable = true)\n",
      "\n"
     ]
    }
   ],
   "source": [
    "customer_event_df.printSchema()"
   ]
  },
  {
   "cell_type": "markdown",
   "metadata": {},
   "source": [
    "### useragent related features\n",
    "\n",
    "#### browser\n",
    "\n",
    "* 40% of mobile browser users has churn. 26% of Firefox user churn\n"
   ]
  },
  {
   "cell_type": "code",
   "execution_count": 92,
   "metadata": {
    "ExecuteTime": {
     "end_time": "2019-09-05T14:31:06.977993Z",
     "start_time": "2019-09-05T14:30:53.156813Z"
    }
   },
   "outputs": [],
   "source": [
    "browser_churn_df = spark.sql(\"\"\"\n",
    "                            SELECT browser,\n",
    "                                   churn,\n",
    "                                   COUNT(DISTINCT(userId)) AS total_user\n",
    "                            FROM   event\n",
    "                            GROUP BY browser,\n",
    "                                     churn\n",
    "                            ORDER BY browser\n",
    "                            \"\"\").toPandas()"
   ]
  },
  {
   "cell_type": "code",
   "execution_count": 93,
   "metadata": {
    "ExecuteTime": {
     "end_time": "2019-09-05T14:31:09.601263Z",
     "start_time": "2019-09-05T14:31:09.594433Z"
    }
   },
   "outputs": [
    {
     "data": {
      "text/plain": [
       "browser\n",
       "Chrome     229\n",
       "Firefox     99\n",
       "Mobile      27\n",
       "Safari      62\n",
       "Trident     31\n",
       "Name: total_user, dtype: int64"
      ]
     },
     "execution_count": 93,
     "metadata": {},
     "output_type": "execute_result"
    }
   ],
   "source": [
    "browser_churn_df.groupby(\"browser\")[\"total_user\"].sum()"
   ]
  },
  {
   "cell_type": "code",
   "execution_count": 94,
   "metadata": {
    "ExecuteTime": {
     "end_time": "2019-09-05T14:31:10.155632Z",
     "start_time": "2019-09-05T14:31:10.147824Z"
    }
   },
   "outputs": [
    {
     "data": {
      "text/plain": [
       "0    19.213974\n",
       "2    26.262626\n",
       "4    40.740741\n",
       "7    17.741935\n",
       "9    22.580645\n",
       "Name: total_user, dtype: float64"
      ]
     },
     "execution_count": 94,
     "metadata": {},
     "output_type": "execute_result"
    }
   ],
   "source": [
    "browser_churn_df.loc[browser_churn_df.churn==1, \"total_user\"] / browser_churn_df.groupby(\"browser\")[\"total_user\"].sum().values * 100"
   ]
  },
  {
   "cell_type": "code",
   "execution_count": 95,
   "metadata": {
    "ExecuteTime": {
     "end_time": "2019-09-05T14:31:10.926849Z",
     "start_time": "2019-09-05T14:31:10.753714Z"
    }
   },
   "outputs": [
    {
     "data": {
      "image/png": "[encoded data removed]",
      "text/plain": [
       "<Figure size 576x360 with 1 Axes>"
      ]
     },
     "metadata": {
      "needs_background": "light"
     },
     "output_type": "display_data"
    }
   ],
   "source": [
    "sns_barplot_text(x=\"browser\", y=\"total_user\", data=browser_churn_df, hue=\"churn\",\n",
    "                 title=\"Distribution of user browser with churn\", percentage=False,\n",
    "                 text=True)"
   ]
  },
  {
   "cell_type": "markdown",
   "metadata": {},
   "source": [
    "\n",
    "#### os\n",
    "\n",
    "* 61% of iphone os users has churned, no ipad users churn"
   ]
  },
  {
   "cell_type": "code",
   "execution_count": 96,
   "metadata": {
    "ExecuteTime": {
     "end_time": "2019-09-05T14:31:24.326547Z",
     "start_time": "2019-09-05T14:31:12.230207Z"
    }
   },
   "outputs": [],
   "source": [
    "os_churn_df = spark.sql(\"\"\"\n",
    "                        SELECT os,\n",
    "                               churn,\n",
    "                               COUNT(DISTINCT(userId)) AS total_user\n",
    "                        FROM   event\n",
    "                        GROUP BY os,\n",
    "                                 churn\n",
    "                        ORDER BY os\n",
    "                        \"\"\").toPandas()\n"
   ]
  },
  {
   "cell_type": "code",
   "execution_count": 97,
   "metadata": {
    "ExecuteTime": {
     "end_time": "2019-09-05T14:31:31.764657Z",
     "start_time": "2019-09-05T14:31:31.572384Z"
    }
   },
   "outputs": [
    {
     "name": "stderr",
     "output_type": "stream",
     "text": [
      "posx and posy should be finite values\n",
      "posx and posy should be finite values\n",
      "posx and posy should be finite values\n"
     ]
    },
    {
     "data": {
      "image/png": "[encoded data removed]",
      "text/plain": [
       "<Figure size 576x360 with 1 Axes>"
      ]
     },
     "metadata": {
      "needs_background": "light"
     },
     "output_type": "display_data"
    }
   ],
   "source": [
    "sns_barplot_text(x=\"os\", y=\"total_user\", data=os_churn_df, hue=\"churn\",\n",
    "                 title=\"Distribution of user os with churn\", percentage=False,\n",
    "                 text=True)"
   ]
  },
  {
   "cell_type": "code",
   "execution_count": 98,
   "metadata": {
    "ExecuteTime": {
     "end_time": "2019-09-05T14:31:42.790540Z",
     "start_time": "2019-09-05T14:31:32.157030Z"
    }
   },
   "outputs": [],
   "source": [
    "os_level_df = spark.sql(\"\"\"\n",
    "                        SELECT os,\n",
    "                               level,\n",
    "                               COUNT(DISTINCT(userId)) AS total_user\n",
    "                        FROM   event\n",
    "                        GROUP BY os,\n",
    "                                 level\n",
    "                        ORDER BY os\n",
    "                        \"\"\").toPandas()"
   ]
  },
  {
   "cell_type": "markdown",
   "metadata": {},
   "source": [
    "# Feature Engineering\n"
   ]
  },
  {
   "cell_type": "markdown",
   "metadata": {},
   "source": [
    "## total number of artist listened\n",
    "\n",
    "* count the number of aritst each userid listened"
   ]
  },
  {
   "cell_type": "code",
   "execution_count": 99,
   "metadata": {
    "ExecuteTime": {
     "end_time": "2019-09-05T14:32:13.073853Z",
     "start_time": "2019-09-05T14:31:43.776304Z"
    }
   },
   "outputs": [
    {
     "name": "stdout",
     "output_type": "stream",
     "text": [
      "+------+------------+\n",
      "|userId|total_artist|\n",
      "+------+------------+\n",
      "|200002|         287|\n",
      "|100010|          94|\n",
      "|   296|         108|\n",
      "|   125|          61|\n",
      "|   124|        1240|\n",
      "+------+------------+\n",
      "only showing top 5 rows\n",
      "\n"
     ]
    }
   ],
   "source": [
    "count_artist = customer_event_df \\\n",
    "    .filter(col(\"page\") == \"NextSong\") \\\n",
    "    .select(\"userId\", \"artist\") \\\n",
    "    .dropDuplicates() \\\n",
    "    .groupby(\"userId\") \\\n",
    "    .count() \\\n",
    "    .withColumnRenamed(\"count\", \"total_artist\") \\\n",
    "\n",
    "count_artist.show(5)"
   ]
  },
  {
   "cell_type": "markdown",
   "metadata": {},
   "source": [
    "## gender, level\n",
    "\n",
    "* Binarize gender and level feature for machine learning algorithms"
   ]
  },
  {
   "cell_type": "code",
   "execution_count": 100,
   "metadata": {
    "ExecuteTime": {
     "end_time": "2019-09-05T14:33:16.449378Z",
     "start_time": "2019-09-05T14:33:13.338897Z"
    }
   },
   "outputs": [
    {
     "name": "stdout",
     "output_type": "stream",
     "text": [
      "+------+------+\n",
      "|userId|gender|\n",
      "+------+------+\n",
      "|   234|     0|\n",
      "|   188|     1|\n",
      "|    44|     1|\n",
      "|   273|     0|\n",
      "|    46|     1|\n",
      "+------+------+\n",
      "only showing top 5 rows\n",
      "\n"
     ]
    }
   ],
   "source": [
    "binarize_gender = customer_event_df \\\n",
    "    .select(\"userId\", \"gender\") \\\n",
    "    .dropDuplicates() \\\n",
    "    .replace([\"M\", \"F\"], [\"0\", \"1\"], \"gender\") \\\n",
    "    .select(\"userId\", col(\"gender\").cast(\"int\"))\n",
    "\n",
    "binarize_gender.show(5)"
   ]
  },
  {
   "cell_type": "code",
   "execution_count": 101,
   "metadata": {
    "ExecuteTime": {
     "end_time": "2019-09-05T14:33:22.823239Z",
     "start_time": "2019-09-05T14:33:19.727369Z"
    }
   },
   "outputs": [
    {
     "name": "stdout",
     "output_type": "stream",
     "text": [
      "+------+-----+\n",
      "|userId|level|\n",
      "+------+-----+\n",
      "|    94|    1|\n",
      "|100021|    0|\n",
      "|100029|    0|\n",
      "|    18|    0|\n",
      "|200050|    1|\n",
      "+------+-----+\n",
      "only showing top 5 rows\n",
      "\n"
     ]
    }
   ],
   "source": [
    "binarize_level = customer_event_df \\\n",
    "    .select(\"userId\", \"level\") \\\n",
    "    .dropDuplicates() \\\n",
    "    .replace([\"free\", \"paid\"], [\"0\", \"1\"], 'level') \\\n",
    "    .select(\"userId\", col(\"level\").cast(\"int\"))\n",
    "\n",
    "binarize_level.show(5)"
   ]
  },
  {
   "cell_type": "markdown",
   "metadata": {},
   "source": [
    "## Page features\n",
    "\n",
    "### downgrades page\n",
    "\n",
    "* Since the downgrade page is related to the churn of the user. The higher the  number of downgrade page visit by users, the more likely the user will churn."
   ]
  },
  {
   "cell_type": "code",
   "execution_count": 102,
   "metadata": {
    "ExecuteTime": {
     "end_time": "2019-09-05T14:33:33.944750Z",
     "start_time": "2019-09-05T14:33:31.009922Z"
    }
   },
   "outputs": [
    {
     "name": "stdout",
     "output_type": "stream",
     "text": [
      "+------+-------------+\n",
      "|userId|num_downgrade|\n",
      "+------+-------------+\n",
      "|   296|            1|\n",
      "|200002|            3|\n",
      "|    51|            4|\n",
      "|   124|           21|\n",
      "|   205|           10|\n",
      "+------+-------------+\n",
      "only showing top 5 rows\n",
      "\n"
     ]
    }
   ],
   "source": [
    "downgrade_feat = customer_event_df \\\n",
    "    .select(\"userId\", \"page\") \\\n",
    "    .where(col(\"page\") == \"Downgrade\") \\\n",
    "    .groupby(\"userId\") \\\n",
    "    .count() \\\n",
    "    .withColumnRenamed(\"count\", \"num_downgrade\")\n",
    "\n",
    "downgrade_feat.show(5)"
   ]
  },
  {
   "cell_type": "markdown",
   "metadata": {},
   "source": [
    "### Roll Advert page\n",
    "\n",
    "* This higher the roll advert page the user is, the more likely the user is not subscribed to the service but listen to many songs. Sparkify can send offers to these users to make them subscribe to the service"
   ]
  },
  {
   "cell_type": "code",
   "execution_count": 103,
   "metadata": {
    "ExecuteTime": {
     "end_time": "2019-09-05T14:33:48.363214Z",
     "start_time": "2019-09-05T14:33:45.453737Z"
    }
   },
   "outputs": [
    {
     "name": "stdout",
     "output_type": "stream",
     "text": [
      "+------+----------+\n",
      "|userId|num_advert|\n",
      "+------+----------+\n",
      "|   296|         9|\n",
      "|100010|        22|\n",
      "|200002|        11|\n",
      "|   125|         6|\n",
      "|     7|        35|\n",
      "+------+----------+\n",
      "only showing top 5 rows\n",
      "\n"
     ]
    }
   ],
   "source": [
    "advert_feat = customer_event_df \\\n",
    "    .select(\"userId\", \"page\") \\\n",
    "    .where(col(\"page\") == \"Roll Advert\") \\\n",
    "    .groupby(\"userId\") \\\n",
    "    .count() \\\n",
    "    .withColumnRenamed(\"count\", \"num_advert\")\n",
    "\n",
    "advert_feat.show(5)"
   ]
  },
  {
   "cell_type": "markdown",
   "metadata": {},
   "source": [
    "### add to playlist\n",
    "\n",
    "* Frequent users are more likely to add to playlist than users. So this may be a good feature to identify the frequent users."
   ]
  },
  {
   "cell_type": "code",
   "execution_count": 104,
   "metadata": {
    "ExecuteTime": {
     "end_time": "2019-09-05T14:33:52.950388Z",
     "start_time": "2019-09-05T14:33:50.004844Z"
    }
   },
   "outputs": [
    {
     "name": "stdout",
     "output_type": "stream",
     "text": [
      "+------+-----------------+\n",
      "|userId|num_song_playlist|\n",
      "+------+-----------------+\n",
      "|   296|                3|\n",
      "|100010|                1|\n",
      "|200002|                6|\n",
      "|   125|                2|\n",
      "|    51|                8|\n",
      "+------+-----------------+\n",
      "only showing top 5 rows\n",
      "\n"
     ]
    }
   ],
   "source": [
    "playlist_feat = customer_event_df \\\n",
    "    .select(\"userId\", \"page\") \\\n",
    "    .where(col(\"page\") == \"Add to Playlist\") \\\n",
    "    .groupby(\"userId\") \\\n",
    "    .count() \\\n",
    "    .withColumnRenamed(\"count\", \"num_song_playlist\")\n",
    "\n",
    "playlist_feat.show(5)"
   ]
  },
  {
   "cell_type": "markdown",
   "metadata": {},
   "source": [
    "### thumbs down and thumbs up\n",
    "\n",
    "* Users putting thumbs up may be less likely to churn versus thumbs down users"
   ]
  },
  {
   "cell_type": "code",
   "execution_count": 105,
   "metadata": {
    "ExecuteTime": {
     "end_time": "2019-09-05T14:34:39.090783Z",
     "start_time": "2019-09-05T14:34:36.239867Z"
    }
   },
   "outputs": [
    {
     "name": "stdout",
     "output_type": "stream",
     "text": [
      "+------+---------------+\n",
      "|userId|num_thumbs_down|\n",
      "+------+---------------+\n",
      "|100010|              3|\n",
      "|200002|              5|\n",
      "|   125|              1|\n",
      "|   124|             15|\n",
      "|    51|              1|\n",
      "+------+---------------+\n",
      "only showing top 5 rows\n",
      "\n"
     ]
    }
   ],
   "source": [
    "thumbs_down_feat = customer_event_df \\\n",
    "    .select(\"userId\", \"page\") \\\n",
    "    .where(col(\"page\") == \"Thumbs Down\") \\\n",
    "    .groupby(\"userId\") \\\n",
    "    .count() \\\n",
    "    .withColumnRenamed(\"count\", \"num_thumbs_down\")\n",
    "\n",
    "thumbs_down_feat.show(5)"
   ]
  },
  {
   "cell_type": "code",
   "execution_count": 106,
   "metadata": {
    "ExecuteTime": {
     "end_time": "2019-09-05T14:34:53.462352Z",
     "start_time": "2019-09-05T14:34:50.603649Z"
    }
   },
   "outputs": [
    {
     "name": "stdout",
     "output_type": "stream",
     "text": [
      "+------+---------------+\n",
      "|userId|num_thumbs_down|\n",
      "+------+---------------+\n",
      "|100010|              3|\n",
      "|200002|              5|\n",
      "|   125|              1|\n",
      "|   124|             15|\n",
      "|    51|              1|\n",
      "+------+---------------+\n",
      "only showing top 5 rows\n",
      "\n"
     ]
    }
   ],
   "source": [
    "thumbs_up_feat = customer_event_df \\\n",
    "    .select(\"userId\", \"page\") \\\n",
    "    .where(col(\"page\") == \"Thumbs Up\") \\\n",
    "    .groupby(\"userId\") \\\n",
    "    .count() \\\n",
    "    .withColumnRenamed(\"count\", \"num_thumbs_up\")\n",
    "\n",
    "thumbs_down_feat.show(5)"
   ]
  },
  {
   "cell_type": "markdown",
   "metadata": {},
   "source": [
    "### Add Friend\n",
    "\n",
    "* users that add many friends may be less likely to churn"
   ]
  },
  {
   "cell_type": "code",
   "execution_count": 107,
   "metadata": {
    "ExecuteTime": {
     "end_time": "2019-09-05T14:34:58.383342Z",
     "start_time": "2019-09-05T14:34:55.520736Z"
    }
   },
   "outputs": [
    {
     "name": "stdout",
     "output_type": "stream",
     "text": [
      "+------+----------+\n",
      "|userId|num_friend|\n",
      "+------+----------+\n",
      "|   296|         2|\n",
      "|100010|         3|\n",
      "|200002|         2|\n",
      "|   125|         3|\n",
      "|   124|        26|\n",
      "+------+----------+\n",
      "only showing top 5 rows\n",
      "\n"
     ]
    }
   ],
   "source": [
    "friend_feat = customer_event_df \\\n",
    "    .select(\"userId\", \"page\") \\\n",
    "    .where(col(\"page\") == \"Add Friend\") \\\n",
    "    .groupby(\"userId\") \\\n",
    "    .count() \\\n",
    "    .withColumnRenamed(\"count\", \"num_friend\")\n",
    "\n",
    "friend_feat.show(5)"
   ]
  },
  {
   "cell_type": "markdown",
   "metadata": {},
   "source": [
    "## total length of time listened\n",
    "\n",
    "* the length of time users listen indicate how active they are."
   ]
  },
  {
   "cell_type": "code",
   "execution_count": 108,
   "metadata": {
    "ExecuteTime": {
     "end_time": "2019-09-05T14:35:03.554186Z",
     "start_time": "2019-09-05T14:35:00.529565Z"
    }
   },
   "outputs": [
    {
     "name": "stdout",
     "output_type": "stream",
     "text": [
      "+------+------------------+\n",
      "|userId|      total_length|\n",
      "+------+------------------+\n",
      "|   296|28314.150059999996|\n",
      "|100010|25870.950739999997|\n",
      "|200002| 78695.82683999998|\n",
      "|   125|15813.771070000003|\n",
      "|    51| 66817.21162999999|\n",
      "+------+------------------+\n",
      "only showing top 5 rows\n",
      "\n"
     ]
    }
   ],
   "source": [
    "total_length = customer_event_df \\\n",
    "    .select(\"userId\", \"length\") \\\n",
    "    .groupby(\"userId\") \\\n",
    "    .sum() \\\n",
    "    .withColumnRenamed(\"sum(length)\", 'total_length')\n",
    "    \n",
    "total_length.show(5)"
   ]
  },
  {
   "cell_type": "markdown",
   "metadata": {},
   "source": [
    "## Number of songs listened \n",
    "\n",
    "* features to identify frequent users "
   ]
  },
  {
   "cell_type": "code",
   "execution_count": 109,
   "metadata": {
    "ExecuteTime": {
     "end_time": "2019-09-05T14:35:15.405747Z",
     "start_time": "2019-09-05T14:35:12.686636Z"
    }
   },
   "outputs": [
    {
     "name": "stdout",
     "output_type": "stream",
     "text": [
      "+------+--------+\n",
      "|userId|num_song|\n",
      "+------+--------+\n",
      "|   296|     152|\n",
      "|100010|     137|\n",
      "|200002|     395|\n",
      "|   125|      84|\n",
      "|    51|     328|\n",
      "+------+--------+\n",
      "only showing top 5 rows\n",
      "\n"
     ]
    }
   ],
   "source": [
    "total_songs = customer_event_df \\\n",
    "    .select(\"userId\", \"song\") \\\n",
    "    .groupby(\"userId\") \\\n",
    "    .count() \\\n",
    "    .withColumnRenamed(\"count\", \"num_song\") \n",
    "\n",
    "total_songs.show(5)"
   ]
  },
  {
   "cell_type": "markdown",
   "metadata": {},
   "source": [
    "## Number of sessions per user\n",
    "\n",
    "* More sessions may indicate less likely to churn"
   ]
  },
  {
   "cell_type": "code",
   "execution_count": 110,
   "metadata": {
    "ExecuteTime": {
     "end_time": "2019-09-05T14:35:27.226089Z",
     "start_time": "2019-09-05T14:35:16.632601Z"
    }
   },
   "outputs": [
    {
     "name": "stdout",
     "output_type": "stream",
     "text": [
      "+------+-------+\n",
      "|userId|session|\n",
      "+------+-------+\n",
      "|200002|      5|\n",
      "|   296|      5|\n",
      "|100010|      2|\n",
      "|   125|      3|\n",
      "|     7|     15|\n",
      "|   124|     17|\n",
      "|    51|      5|\n",
      "|200037|      7|\n",
      "|   205|      5|\n",
      "|   169|      8|\n",
      "|   272|      2|\n",
      "|   282|     29|\n",
      "|    15|     18|\n",
      "|    54|      8|\n",
      "|   234|     26|\n",
      "|   232|     23|\n",
      "|200043|     12|\n",
      "|   155|      4|\n",
      "|100014|      4|\n",
      "|   154|      4|\n",
      "+------+-------+\n",
      "only showing top 20 rows\n",
      "\n"
     ]
    }
   ],
   "source": [
    "num_session = customer_event_df \\\n",
    "    .select(\"userId\", \"sessionId\") \\\n",
    "    .dropDuplicates() \\\n",
    "    .groupby(\"userId\") \\\n",
    "    .count() \\\n",
    "    .withColumnRenamed(\"count\", \"session\") \n",
    "\n",
    "num_session.show()"
   ]
  },
  {
   "cell_type": "markdown",
   "metadata": {},
   "source": [
    "## average songs per session"
   ]
  },
  {
   "cell_type": "code",
   "execution_count": 111,
   "metadata": {
    "ExecuteTime": {
     "end_time": "2019-09-05T14:35:42.194023Z",
     "start_time": "2019-09-05T14:35:31.405337Z"
    }
   },
   "outputs": [
    {
     "name": "stdout",
     "output_type": "stream",
     "text": [
      "+------+------------------+\n",
      "|userId|         avg_songs|\n",
      "+------+------------------+\n",
      "|200002|              62.0|\n",
      "|   296|              22.4|\n",
      "|100010|              48.0|\n",
      "|   125|20.666666666666668|\n",
      "|     7|              30.8|\n",
      "+------+------------------+\n",
      "only showing top 5 rows\n",
      "\n"
     ]
    }
   ],
   "source": [
    "avg_songs_session = customer_event_df.filter(col(\"page\") == \"NextSong\") \\\n",
    "    .groupby(\"userId\", \"sessionId\") \\\n",
    "    .count() \\\n",
    "    .groupby(\"userId\") \\\n",
    "    .agg({\"count\": \"avg\"}) \\\n",
    "    .withColumnRenamed(\"avg(count)\", \"avg_songs\") \n",
    "    \n",
    "\n",
    "avg_songs_session.show(5)"
   ]
  },
  {
   "cell_type": "markdown",
   "metadata": {},
   "source": [
    "## average session per day/month\n"
   ]
  },
  {
   "cell_type": "code",
   "execution_count": 112,
   "metadata": {
    "ExecuteTime": {
     "end_time": "2019-09-05T14:35:43.328147Z",
     "start_time": "2019-09-05T14:35:43.292016Z"
    }
   },
   "outputs": [],
   "source": [
    "daily_sess = customer_event_df.groupby([\"userId\", \"event_weekday\"]) \\\n",
    "    .agg(countDistinct(\"sessionId\")) \\\n",
    "    .groupby(\"userId\").avg(\"count(DISTINCT sessionId)\") \\\n",
    "    .withColumnRenamed(\"avg(count(DISTINCT sessionId))\", \"avg_daily_sessions\")"
   ]
  },
  {
   "cell_type": "code",
   "execution_count": 113,
   "metadata": {
    "ExecuteTime": {
     "end_time": "2019-09-05T14:36:01.846740Z",
     "start_time": "2019-09-05T14:35:43.860048Z"
    }
   },
   "outputs": [
    {
     "name": "stdout",
     "output_type": "stream",
     "text": [
      "+------+--------------------+\n",
      "|userId|avg_monthly_sessions|\n",
      "+------+--------------------+\n",
      "|   296|                 5.0|\n",
      "|100010|                 2.0|\n",
      "|200002|                 5.0|\n",
      "|   125|                 1.5|\n",
      "|   124|                 8.5|\n",
      "+------+--------------------+\n",
      "only showing top 5 rows\n",
      "\n"
     ]
    }
   ],
   "source": [
    "month_sess = customer_event_df.groupby([\"userId\", \"event_month\"]).agg(countDistinct(\"sessionId\")) \\\n",
    "    .groupby(\"userId\").avg(\"count(DISTINCT sessionId)\") \\\n",
    "    .withColumnRenamed(\"avg(count(DISTINCT sessionId))\", \"avg_monthly_sessions\")\n",
    "month_sess.show(5)"
   ]
  },
  {
   "cell_type": "markdown",
   "metadata": {},
   "source": [
    "## location, os and browser features \n",
    "\n",
    "* Since we aggregate events per user, some users may use Sparkify in different location, os and browser, these aggregation pick these features at radom. This may be potential issue. However, observation of the dataset. Most users use Sparkify using the same device and browsers. For more realistic dataset, we may need careful feature engineering for these features."
   ]
  },
  {
   "cell_type": "code",
   "execution_count": 114,
   "metadata": {
    "ExecuteTime": {
     "end_time": "2019-09-05T14:36:47.072501Z",
     "start_time": "2019-09-05T14:36:47.061766Z"
    }
   },
   "outputs": [],
   "source": [
    "location_feat = customer_event_df \\\n",
    "    .select(\"userId\", \"location\") \\\n",
    "    .dropDuplicates()"
   ]
  },
  {
   "cell_type": "code",
   "execution_count": 115,
   "metadata": {
    "ExecuteTime": {
     "end_time": "2019-09-05T14:36:48.147236Z",
     "start_time": "2019-09-05T14:36:48.135524Z"
    }
   },
   "outputs": [],
   "source": [
    "os_feat = customer_event_df \\\n",
    "    .select(\"userId\", \"os\") \\\n",
    "    .dropDuplicates()"
   ]
  },
  {
   "cell_type": "code",
   "execution_count": 116,
   "metadata": {
    "ExecuteTime": {
     "end_time": "2019-09-05T14:36:48.885388Z",
     "start_time": "2019-09-05T14:36:48.871724Z"
    }
   },
   "outputs": [],
   "source": [
    "browser_feat = customer_event_df \\\n",
    "    .select(\"userId\", \"browser\") \\\n",
    "    .dropDuplicates()"
   ]
  },
  {
   "cell_type": "code",
   "execution_count": 117,
   "metadata": {
    "ExecuteTime": {
     "end_time": "2019-09-05T14:36:49.338251Z",
     "start_time": "2019-09-05T14:36:49.327515Z"
    }
   },
   "outputs": [],
   "source": [
    "browser_ver_feat = customer_event_df \\\n",
    "    .select(\"userId\", \"browser_ver\") \\\n",
    "    .dropDuplicates()"
   ]
  },
  {
   "cell_type": "code",
   "execution_count": 118,
   "metadata": {
    "ExecuteTime": {
     "end_time": "2019-09-05T14:37:06.553122Z",
     "start_time": "2019-09-05T14:36:49.998032Z"
    }
   },
   "outputs": [
    {
     "name": "stdout",
     "output_type": "stream",
     "text": [
      "+-------+-----------------+-------------------+\n",
      "|summary|           userId|              label|\n",
      "+-------+-----------------+-------------------+\n",
      "|  count|              448|                448|\n",
      "|   mean|67520.34821428571|0.22098214285714285|\n",
      "| stddev|105964.5842848519| 0.4153723104396363|\n",
      "|    min|               10|                  0|\n",
      "|    max|               99|                  1|\n",
      "+-------+-----------------+-------------------+\n",
      "\n"
     ]
    }
   ],
   "source": [
    "label = customer_event_df \\\n",
    "    .select('userId', col('churn').alias('label')) \\\n",
    "    .dropDuplicates() \\\n",
    "    .orderBy(\"userId\")\n",
    "\n",
    "label.describe().show()"
   ]
  },
  {
   "cell_type": "code",
   "execution_count": 119,
   "metadata": {
    "ExecuteTime": {
     "end_time": "2019-09-05T14:37:08.129237Z",
     "start_time": "2019-09-05T14:37:07.812990Z"
    }
   },
   "outputs": [],
   "source": [
    "transformed_event = count_artist.join(binarize_gender, \"userId\", \"outer\") \\\n",
    "    .join(binarize_level, \"userId\", \"outer\") \\\n",
    "    .join(downgrade_feat, \"userId\", \"outer\") \\\n",
    "    .join(advert_feat, \"userId\", \"outer\") \\\n",
    "    .join(playlist_feat, \"userId\", \"outer\") \\\n",
    "    .join(thumbs_down_feat, \"userId\", \"outer\") \\\n",
    "    .join(thumbs_up_feat, \"userId\", \"outer\") \\\n",
    "    .join(friend_feat, \"userId\", \"outer\") \\\n",
    "    .join(total_length, \"userId\", \"outer\") \\\n",
    "    .join(total_songs, \"userId\", \"outer\") \\\n",
    "    .join(num_session, \"userId\", \"outer\") \\\n",
    "    .join(avg_songs_session, \"userId\", \"outer\") \\\n",
    "    .join(daily_sess, \"userId\", \"outer\") \\\n",
    "    .join(month_sess, \"userId\", \"outer\") \\\n",
    "    .join(os_feat, \"userId\", \"outer\") \\\n",
    "    .join(browser_feat, \"userId\", \"outer\") \\\n",
    "    .join(browser_ver_feat, \"userId\", \"outer\") \\\n",
    "    .join(label, \"userId\", \"outer\") \\\n",
    "    .drop(\"userId\") \\\n",
    "    .fillna(0)"
   ]
  },
  {
   "cell_type": "code",
   "execution_count": 120,
   "metadata": {
    "ExecuteTime": {
     "end_time": "2019-09-05T14:37:08.645603Z",
     "start_time": "2019-09-05T14:37:08.642673Z"
    }
   },
   "outputs": [],
   "source": [
    "# dataset_pd = transformed_event.toPandas()\n",
    "# dataset_pd.to_csv(\"../data/preprocessed_dataset.csv\")"
   ]
  },
  {
   "cell_type": "markdown",
   "metadata": {},
   "source": [
    "# Modeling\n"
   ]
  },
  {
   "cell_type": "code",
   "execution_count": 121,
   "metadata": {
    "ExecuteTime": {
     "end_time": "2019-09-05T14:37:09.684265Z",
     "start_time": "2019-09-05T14:37:09.679387Z"
    }
   },
   "outputs": [
    {
     "name": "stdout",
     "output_type": "stream",
     "text": [
      "root\n",
      " |-- total_artist: long (nullable = true)\n",
      " |-- gender: integer (nullable = true)\n",
      " |-- level: integer (nullable = true)\n",
      " |-- num_downgrade: long (nullable = true)\n",
      " |-- num_advert: long (nullable = true)\n",
      " |-- num_song_playlist: long (nullable = true)\n",
      " |-- num_thumbs_down: long (nullable = true)\n",
      " |-- num_thumbs_up: long (nullable = true)\n",
      " |-- num_friend: long (nullable = true)\n",
      " |-- total_length: double (nullable = false)\n",
      " |-- num_song: long (nullable = true)\n",
      " |-- session: long (nullable = true)\n",
      " |-- avg_songs: double (nullable = false)\n",
      " |-- avg_daily_sessions: double (nullable = false)\n",
      " |-- avg_monthly_sessions: double (nullable = false)\n",
      " |-- os: string (nullable = true)\n",
      " |-- browser: string (nullable = true)\n",
      " |-- browser_ver: string (nullable = true)\n",
      " |-- label: long (nullable = true)\n",
      "\n"
     ]
    }
   ],
   "source": [
    "transformed_event.printSchema()"
   ]
  },
  {
   "cell_type": "markdown",
   "metadata": {},
   "source": [
    "## Pipeline \n",
    "\n",
    "* We first label encode os, browser and browser version features and use pipeline to process these features. Then we handle numerical features by concatenting to feature vectors and scale all these columns to have mean 0 and standard deviation 1. Avoid numerical instabilities due to large values.\n",
    "\n",
    "* We then concatenate the categorical features and numerical features into one feature column."
   ]
  },
  {
   "cell_type": "code",
   "execution_count": 122,
   "metadata": {
    "ExecuteTime": {
     "end_time": "2019-09-05T14:58:46.731332Z",
     "start_time": "2019-09-05T14:37:10.504212Z"
    }
   },
   "outputs": [],
   "source": [
    "num_cols= [\"total_artist\", \"gender\", \"level\", \"num_downgrade\", \"num_advert\", \"num_song_playlist\",\n",
    "           \"num_thumbs_down\", \"num_thumbs_up\", \"num_friend\", \"total_length\", \"num_song\",\n",
    "           \"session\", \"avg_songs\", \"avg_daily_sessions\", \"avg_monthly_sessions\"]\n",
    "\n",
    "\n",
    "indexer_os = StringIndexer(inputCol=\"os\", outputCol=\"os_index\")\n",
    "indexer_browser = StringIndexer(inputCol=\"browser\", outputCol=\"browser_index\")\n",
    "indexer_browser_ver = StringIndexer(inputCol=\"browser_ver\", outputCol=\"browser_ver_index\")\n",
    "assemblerCat = VectorAssembler(inputCols=[\"os_index\", \"browser_index\", \"browser_ver_index\"], outputCol=\"cat\")\n",
    "\n",
    "pipelineCat = Pipeline(stages = [indexer_os, indexer_browser, indexer_browser_ver, assemblerCat])\n",
    "transformed_event = pipelineCat.fit(transformed_event).transform(transformed_event)\n",
    "\n",
    "\n",
    "\n",
    "assemblerNum = VectorAssembler(inputCols=num_cols, outputCol=\"Num\")\n",
    "scaler = StandardScaler(inputCol=\"Num\", outputCol=\"scaled_num\")\n",
    "pipelineNum = Pipeline(stages=[assemblerNum, scaler])\n",
    "transformed_event = pipelineNum.fit(transformed_event).transform(transformed_event)\n",
    "\n",
    "assembler = VectorAssembler(inputCols=[\"cat\", \"scaled_num\"], outputCol=\"features\")\n",
    "\n",
    "features_pipeline = Pipeline(stages=[assembler])\n",
    "\n",
    "transformed_event = features_pipeline.fit(transformed_event).transform(transformed_event)\n"
   ]
  },
  {
   "cell_type": "code",
   "execution_count": 125,
   "metadata": {
    "ExecuteTime": {
     "end_time": "2019-09-05T15:16:49.274557Z",
     "start_time": "2019-09-05T15:16:49.243327Z"
    }
   },
   "outputs": [],
   "source": [
    "final_data = transformed_event.select([\"label\", \"features\"])"
   ]
  },
  {
   "cell_type": "code",
   "execution_count": 126,
   "metadata": {
    "ExecuteTime": {
     "end_time": "2019-09-05T15:16:50.953192Z",
     "start_time": "2019-09-05T15:16:50.922912Z"
    }
   },
   "outputs": [],
   "source": [
    "train_data, test_data = final_data.randomSplit([0.8, 0.2], seed=12)"
   ]
  },
  {
   "cell_type": "code",
   "execution_count": 216,
   "metadata": {
    "ExecuteTime": {
     "end_time": "2019-09-06T23:44:19.350240Z",
     "start_time": "2019-09-06T23:44:19.335619Z"
    }
   },
   "outputs": [],
   "source": [
    "def feat_importance_plot(model, cols, clf_name):\n",
    "    \"\"\"\n",
    "    Create feature importance dataframe and plot the feature importance returned by model\n",
    "    :param model:  machine learning model\n",
    "    :param cols: a list of columns \n",
    "    :param clf_name: str. the name of the classifier\n",
    "    :return: feature_imp_df: dataframe of feature importance score \n",
    "    \"\"\"\n",
    "    feature_index = model.featureImportances.indices.tolist()\n",
    "    feature_name = [cols[index] for index in feature_index]\n",
    "    feature_imp = model.featureImportances.values.tolist()\n",
    "    feature_imp_df = pd.DataFrame(list(zip(feature_name, feature_imp)), columns=[\"features\", \"importance_score\"])\n",
    "    feature_imp_df = feature_imp_df.sort_values(\"importance_score\", ascending=False)\n",
    "    \n",
    "    plt.style.use('fivethirtyeight')\n",
    "\n",
    "    fig, ax = plt.subplots(figsize=(10, 8))\n",
    "\n",
    "    sns.barplot(x=\"importance_score\", y=\"features\", data=feature_imp_df)\n",
    "\n",
    "    ax.set_title('Feature Importances')\n",
    "    ax.set_ylabel('Features')\n",
    "    ax.set_xlabel('Importance')\n",
    "    plt.savefig('../images/feat_imp_'+ clf_name +\".png\");\n",
    "\n",
    "    \n",
    "    return feature_imp_df"
   ]
  },
  {
   "cell_type": "code",
   "execution_count": 130,
   "metadata": {
    "ExecuteTime": {
     "end_time": "2019-09-05T15:16:55.137300Z",
     "start_time": "2019-09-05T15:16:55.128516Z"
    }
   },
   "outputs": [],
   "source": [
    "def evaluate_model(model, data):\n",
    "    \"\"\"\n",
    "    Create summary metrics of machine learning model prediction\n",
    "    :param model: Pyspark ml model \n",
    "    :param data: either test data or train data \n",
    "    :return: summary: accuracy, precision, recall and f1 score of the model\n",
    "    \"\"\"\n",
    "    prediction = model.transform(data)\n",
    "    \n",
    "    evaluator = MulticlassClassificationEvaluator()\n",
    "    \n",
    "    eval_dict = {}\n",
    "    eval_dict[\"accuracy\"] = evaluator.evaluate(prediction, {evaluator.metricName: \"accuracy\"})\n",
    "    eval_dict[\"precision\"] = evaluator.evaluate(prediction, {evaluator.metricName: \"weightedPrecision\"})\n",
    "    eval_dict[\"recall\"] = evaluator.evaluate(prediction, {evaluator.metricName: \"weightedRecall\"})\n",
    "    eval_dict[\"f1\"] = evaluator.evaluate(prediction, {evaluator.metricName: \"f1\"})\n",
    "    \n",
    "    \n",
    "    metrics = {k: round(v, 5) for k, v in eval_dict.items()}\n",
    "    # create a spark datafrmae \n",
    "    summary = spark.createDataFrame(pd.DataFrame([metrics], columns=metrics.keys()))\n",
    "    \n",
    "    return summary"
   ]
  },
  {
   "cell_type": "markdown",
   "metadata": {},
   "source": [
    "## Base models\n",
    "\n",
    "* We fitted logistic regression, Random Forest and Gradient bossting classifier with default parameter. The accuracy metrics is not particular useful for imbalanced class. So we look into precision, recall and f1 score as well. The table summarised the scores for these classifiers.\n",
    "\n",
    "| Classifier      | accuracy | precision| recall | f1 score|\n",
    "| -------------   |:--------:| --------:| ------:| -------:|\n",
    "| Logistic Regression| 0.83448 | 0.814 | 0.83448 | 0.81157\n",
    "| Random Forest      | 0.82759|  0.85794|0.82759|0.76639|\n",
    "| Gradient Boosting | 0.86207|  0.85561|0.86207|0.85792|\n",
    "\n",
    "With the default parameter, Gradient Boosting has the highest score of all the metrics and Logistic Regression comes second."
   ]
  },
  {
   "cell_type": "code",
   "execution_count": 217,
   "metadata": {
    "ExecuteTime": {
     "end_time": "2019-09-06T23:47:57.091638Z",
     "start_time": "2019-09-06T23:47:57.078975Z"
    }
   },
   "outputs": [],
   "source": [
    "def base_model(train, test, model_name):\n",
    "    \"\"\"\n",
    "    Return the model and summary metrics for the trained model with default hyperparameter\n",
    "    :param train: pyspark df training data \n",
    "    :param test: pyspark df testing data \n",
    "    :param model_name: str. the name of the classifier\n",
    "    :return: model\n",
    "    :return: summary\n",
    "    \"\"\"\n",
    "    \n",
    "    if model_name == 'Logistic':\n",
    "        model = LogisticRegression()\n",
    "    elif model_name == 'random_forest':\n",
    "        model = RandomForestClassifier()\n",
    "    elif model_name == 'gradient_boosting':\n",
    "        model = GBTClassifier()\n",
    "    else:\n",
    "        return \"Please choose from logistic regression, random forest or gradient boosting model\"\n",
    "    \n",
    "    start = time()\n",
    "    clf = model.fit(train)\n",
    "    \n",
    "    summary = evaluate_model(clf, test)\n",
    "    end = time()\n",
    "    print(f\"Training time {(end - start)/60} minutes\")\n",
    "    \n",
    "    return model, summary"
   ]
  },
  {
   "cell_type": "code",
   "execution_count": 132,
   "metadata": {
    "ExecuteTime": {
     "end_time": "2019-09-05T15:48:59.360354Z",
     "start_time": "2019-09-05T15:16:59.495119Z"
    }
   },
   "outputs": [
    {
     "name": "stdout",
     "output_type": "stream",
     "text": [
      "Training time 31.988812565803528 minutes\n",
      "+--------+---------+-------+-------+\n",
      "|accuracy|precision| recall|     f1|\n",
      "+--------+---------+-------+-------+\n",
      "| 0.83448|    0.814|0.83448|0.81157|\n",
      "+--------+---------+-------+-------+\n",
      "\n"
     ]
    }
   ],
   "source": [
    "lr_model, summary_df_lr = base_model(train_data, test_data, \"Logistic\")\n",
    "summary_df_lr.show()"
   ]
  },
  {
   "cell_type": "code",
   "execution_count": 229,
   "metadata": {
    "ExecuteTime": {
     "end_time": "2019-09-07T00:37:52.305118Z",
     "start_time": "2019-09-07T00:37:52.289469Z"
    }
   },
   "outputs": [
    {
     "name": "stdout",
     "output_type": "stream",
     "text": [
      "Default elasticnetparam: 0.0\n",
      "Default MaxIter: 100\n",
      "Default RegParam: 0.0\n"
     ]
    }
   ],
   "source": [
    "print(f\"Default elasticnetparam: {lr_model.getElasticNetParam()}\")\n",
    "print(f\"Default MaxIter: {lr_model.getMaxIter()}\")\n",
    "print(f\"Default RegParam: {lr_model.getRegParam()}\")"
   ]
  },
  {
   "cell_type": "code",
   "execution_count": 133,
   "metadata": {
    "ExecuteTime": {
     "end_time": "2019-09-05T17:26:48.539357Z",
     "start_time": "2019-09-05T16:53:14.993812Z"
    }
   },
   "outputs": [
    {
     "name": "stdout",
     "output_type": "stream",
     "text": [
      "Training time 33.5491534948349 minutes\n",
      "+--------+---------+-------+-------+\n",
      "|accuracy|precision| recall|     f1|\n",
      "+--------+---------+-------+-------+\n",
      "| 0.82759|  0.85794|0.82759|0.76639|\n",
      "+--------+---------+-------+-------+\n",
      "\n"
     ]
    }
   ],
   "source": [
    "rf_model, summary_df_rf = base_model(train_data, test_data, \"random_forest\")\n",
    "summary_df_rf.show()"
   ]
  },
  {
   "cell_type": "code",
   "execution_count": 231,
   "metadata": {
    "ExecuteTime": {
     "end_time": "2019-09-07T00:41:02.109832Z",
     "start_time": "2019-09-07T00:41:02.103976Z"
    }
   },
   "outputs": [
    {
     "name": "stdout",
     "output_type": "stream",
     "text": [
      "Default MaxBins: 32\n",
      "Default MaxDepth: 5\n",
      "Default NumTrees: 20\n"
     ]
    }
   ],
   "source": [
    "print(f\"Default MaxBins: {rf_model.getMaxBins()}\")\n",
    "print(f\"Default MaxDepth: {rf_model.getMaxDepth()}\")\n",
    "print(f\"Default NumTrees: {rf_model.getNumTrees()}\")\n"
   ]
  },
  {
   "cell_type": "code",
   "execution_count": 134,
   "metadata": {
    "ExecuteTime": {
     "end_time": "2019-09-05T18:09:36.728471Z",
     "start_time": "2019-09-05T17:31:59.279262Z"
    }
   },
   "outputs": [
    {
     "name": "stdout",
     "output_type": "stream",
     "text": [
      "Training time 37.61555539369583 minutes\n",
      "+--------+---------+-------+-------+\n",
      "|accuracy|precision| recall|     f1|\n",
      "+--------+---------+-------+-------+\n",
      "| 0.86207|  0.85561|0.86207|0.85792|\n",
      "+--------+---------+-------+-------+\n",
      "\n"
     ]
    }
   ],
   "source": [
    "gbt_model, summary_df_gbt = base_model(train_data, test_data, \"gradient_boosting\")\n",
    "summary_df_gbt.show()"
   ]
  },
  {
   "cell_type": "code",
   "execution_count": 235,
   "metadata": {
    "ExecuteTime": {
     "end_time": "2019-09-07T00:41:52.318876Z",
     "start_time": "2019-09-07T00:41:52.313994Z"
    }
   },
   "outputs": [
    {
     "name": "stdout",
     "output_type": "stream",
     "text": [
      "Default MaxBins: 32\n",
      "Default MaxDepth: 5\n",
      "Default MaxIter: 20\n"
     ]
    }
   ],
   "source": [
    "print(f\"Default MaxBins: {gbt_model.getMaxBins()}\")\n",
    "print(f\"Default MaxDepth: {gbt_model.getMaxDepth()}\")\n",
    "print(f\"Default MaxIter: {gbt_model.getMaxIter()}\")"
   ]
  },
  {
   "cell_type": "markdown",
   "metadata": {},
   "source": [
    "## Hyperparameter tuning\n",
    "\n",
    "Due to the computation time of pyspark ml model, we only select a few hyperparameters to tuned using grid search. \n",
    "\n",
    "Logistic Regression\n",
    "Max iteration: 100, 120, 140\n",
    "\n",
    "Random Forest Classifier\n",
    "Max Depth: 4, 6, 8, 10\n",
    "\n",
    "Gradient Boosting Tree Classifier\n",
    "Max Depth: 4, 6, 8, 10\n",
    "Max iteration: 10, 20, 30"
   ]
  },
  {
   "cell_type": "code",
   "execution_count": 246,
   "metadata": {
    "ExecuteTime": {
     "end_time": "2019-09-07T11:06:49.048465Z",
     "start_time": "2019-09-07T11:06:49.028922Z"
    }
   },
   "outputs": [],
   "source": [
    "lr = LogisticRegression(labelCol=\"label\", featuresCol=\"features\")\n",
    "param_grid_lr = ParamGridBuilder() \\\n",
    "    .addGrid(lr.maxIter, [100, 120, 140]) \\\n",
    "    .build()\n",
    "\n",
    "rf = RandomForestClassifier(labelCol=\"label\", featuresCol=\"features\")\n",
    "param_grid_rf = ParamGridBuilder() \\\n",
    "    .addGrid(rf.maxDepth, [4, 6, 8, 10]) \\\n",
    "    .build()\n",
    "\n",
    "gbt = GBTClassifier(labelCol=\"label\", featuresCol=\"features\")\n",
    "param_grid_gbt = ParamGridBuilder() \\\n",
    "    .addGrid(gbt.maxDepth, [4, 6, 8, 10]) \\\n",
    "    .addGrid(gbt.maxIter, [10, 20, 30]) \\\n",
    "    .build()\n",
    "\n",
    "models = [lr, rf, gbt]\n",
    "models_name = [\"Logistic Regression\", \"Random Forest\", \"Gradient Boosting Tree\"]\n",
    "paramGrids = [param_grid_lr, param_grid_rf, param_grid_gbt]\n"
   ]
  },
  {
   "cell_type": "code",
   "execution_count": 243,
   "metadata": {
    "ExecuteTime": {
     "end_time": "2019-09-07T04:44:52.927645Z",
     "start_time": "2019-09-07T04:44:52.913980Z"
    }
   },
   "outputs": [],
   "source": [
    "def grid_search(train_dataset, test_dataset, model, model_name, param_grid, folds=3,):\n",
    "    \"\"\"\n",
    "    Return the model and summary metrics for the trained model with default hyperparameter\n",
    "    :param train: pyspark df training data \n",
    "    :param test: pyspark df testing data \n",
    "    :param model_name: str. the name of the classifier\n",
    "    :return: model\n",
    "    :return: summary\n",
    "    \"\"\"\n",
    "    \n",
    "    start = time()\n",
    "    \n",
    "    print(f\"Tuning for {model_name} start...\")\n",
    "    \n",
    "    cross_val = CrossValidator(estimator=model,\n",
    "                               estimatorParamMaps=param_grid,\n",
    "                               evaluator=MulticlassClassificationEvaluator(),\n",
    "                               numFolds=folds)\n",
    "    clf = cross_val.fit(train_dataset)\n",
    "    \n",
    "    summary= evaluate_model(clf, test_dataset)\n",
    "    print(f\"Summary of the best model for {model_name}\")\n",
    "    summary.show()\n",
    "    end = time()\n",
    "    print(f\"Training time approximately {(end - start)//60}\")\n",
    "    \n",
    "    return clf"
   ]
  },
  {
   "cell_type": "code",
   "execution_count": 247,
   "metadata": {
    "ExecuteTime": {
     "end_time": "2019-09-07T12:50:27.908336Z",
     "start_time": "2019-09-07T11:06:53.244248Z"
    },
    "scrolled": true
   },
   "outputs": [
    {
     "name": "stdout",
     "output_type": "stream",
     "text": [
      "Tuning for Logistic Regression start...\n",
      "Summary of the best model for Logistic Regression\n",
      "+--------+---------+-------+-------+\n",
      "|accuracy|precision| recall|     f1|\n",
      "+--------+---------+-------+-------+\n",
      "| 0.83448|    0.814|0.83448|0.81157|\n",
      "+--------+---------+-------+-------+\n",
      "\n",
      "Training time approximately 103.0\n"
     ]
    }
   ],
   "source": [
    "lr_clf = grid_search(train_data, test_data, lr, models_name[0], param_grid_lr)"
   ]
  },
  {
   "cell_type": "code",
   "execution_count": 253,
   "metadata": {
    "ExecuteTime": {
     "end_time": "2019-09-07T12:56:12.502918Z",
     "start_time": "2019-09-07T12:56:12.496086Z"
    }
   },
   "outputs": [
    {
     "data": {
      "text/plain": [
       "120"
      ]
     },
     "execution_count": 253,
     "metadata": {},
     "output_type": "execute_result"
    }
   ],
   "source": [
    "lr_clf.bestModel._java_obj.getMaxIter()"
   ]
  },
  {
   "cell_type": "code",
   "execution_count": 139,
   "metadata": {
    "ExecuteTime": {
     "end_time": "2019-09-06T10:11:38.290172Z",
     "start_time": "2019-09-06T08:48:20.763578Z"
    }
   },
   "outputs": [
    {
     "name": "stdout",
     "output_type": "stream",
     "text": [
      "Tuning for Random Forest start...\n",
      "Summary of the best model for Random Forest\n",
      "+--------+---------+-------+-------+\n",
      "|accuracy|precision| recall|     f1|\n",
      "+--------+---------+-------+-------+\n",
      "| 0.89655|  0.89533|0.89655|0.88623|\n",
      "+--------+---------+-------+-------+\n",
      "\n",
      "Training time approximately 83.0\n"
     ]
    }
   ],
   "source": [
    "rf_clf = grid_search(train_data, test_data, rf, models_name[1], param_grid_rf)"
   ]
  },
  {
   "cell_type": "code",
   "execution_count": 177,
   "metadata": {
    "ExecuteTime": {
     "end_time": "2019-09-06T11:16:45.618850Z",
     "start_time": "2019-09-06T11:16:45.613970Z"
    }
   },
   "outputs": [
    {
     "data": {
      "text/plain": [
       "20"
      ]
     },
     "execution_count": 177,
     "metadata": {},
     "output_type": "execute_result"
    }
   ],
   "source": [
    "bestRFModel.getNumTrees"
   ]
  },
  {
   "cell_type": "code",
   "execution_count": 179,
   "metadata": {
    "ExecuteTime": {
     "end_time": "2019-09-06T11:18:49.588952Z",
     "start_time": "2019-09-06T11:18:49.578219Z"
    }
   },
   "outputs": [
    {
     "data": {
      "text/plain": [
       "10"
      ]
     },
     "execution_count": 179,
     "metadata": {},
     "output_type": "execute_result"
    }
   ],
   "source": [
    "bestRFModel.getOrDefault('maxDepth')"
   ]
  },
  {
   "cell_type": "code",
   "execution_count": 138,
   "metadata": {
    "ExecuteTime": {
     "end_time": "2019-09-06T05:51:02.939169Z",
     "start_time": "2019-09-05T20:05:00.565887Z"
    }
   },
   "outputs": [
    {
     "name": "stdout",
     "output_type": "stream",
     "text": [
      "Tuning for Gradient Boosting Tree start...\n",
      "Summary of the best model for Gradient Boosting Tree\n",
      "+--------+---------+-------+-------+\n",
      "|accuracy|precision| recall|     f1|\n",
      "+--------+---------+-------+-------+\n",
      "| 0.86897|  0.90784|0.86897|0.87832|\n",
      "+--------+---------+-------+-------+\n",
      "\n",
      "Training time approximately 586.0\n"
     ]
    }
   ],
   "source": [
    "gbt_clf = grid_search(train_data, test_data, gbt, models_name[2], param_grid_gbt)"
   ]
  },
  {
   "cell_type": "code",
   "execution_count": 166,
   "metadata": {
    "ExecuteTime": {
     "end_time": "2019-09-06T11:08:07.785696Z",
     "start_time": "2019-09-06T11:08:07.781790Z"
    }
   },
   "outputs": [],
   "source": [
    "bestGBTModel = gbt_clf.bestModel"
   ]
  },
  {
   "cell_type": "code",
   "execution_count": 172,
   "metadata": {
    "ExecuteTime": {
     "end_time": "2019-09-06T11:14:20.621538Z",
     "start_time": "2019-09-06T11:14:20.617635Z"
    }
   },
   "outputs": [
    {
     "name": "stdout",
     "output_type": "stream",
     "text": [
      "Best Param (MaxIter): 10\n",
      "Best Param (Maxdepth): 10\n"
     ]
    }
   ],
   "source": [
    "print(f\"Best Param (MaxIter): {bestGBTModel._java_obj.getMaxIter()}\")\n",
    "print(f\"Best Param (Maxdepth): {bestGBTModel._java_obj.getMaxDepth()}\")"
   ]
  },
  {
   "cell_type": "code",
   "execution_count": 185,
   "metadata": {
    "ExecuteTime": {
     "end_time": "2019-09-06T11:26:26.623833Z",
     "start_time": "2019-09-06T11:26:26.618953Z"
    }
   },
   "outputs": [],
   "source": [
    "feat_cols = ['total_artist', 'gender', 'level', 'num_downgrade', 'num_advert', 'num_song_playlist',\n",
    "     'num_thumbs_down', 'num_thumbs_up', 'num_friend', 'total_length', 'num_song',\n",
    "     'session', 'avg_songs', 'avg_daily_sessions', 'avg_monthly_sessions', 'os',\n",
    "     'browser', 'browser_ver']"
   ]
  },
  {
   "cell_type": "code",
   "execution_count": 210,
   "metadata": {
    "ExecuteTime": {
     "end_time": "2019-09-06T12:19:02.505491Z",
     "start_time": "2019-09-06T12:19:02.162917Z"
    }
   },
   "outputs": [
    {
     "data": {
      "image/png": "[encoded data removed]",
      "text/plain": [
       "<Figure size 720x576 with 1 Axes>"
      ]
     },
     "metadata": {},
     "output_type": "display_data"
    }
   ],
   "source": [
    "rf_featire_imp_df = feat_importance_plot(bestRFModel, feat_cols, \"RandomForest\")\n"
   ]
  },
  {
   "cell_type": "code",
   "execution_count": 211,
   "metadata": {
    "ExecuteTime": {
     "end_time": "2019-09-06T12:19:43.910285Z",
     "start_time": "2019-09-06T12:19:43.509150Z"
    }
   },
   "outputs": [
    {
     "data": {
      "image/png": "[encoded data removed]",
      "text/plain": [
       "<Figure size 720x576 with 1 Axes>"
      ]
     },
     "metadata": {},
     "output_type": "display_data"
    }
   ],
   "source": [
    "gbt_feat_imp_plot = feat_importance_plot(bestGBTModel, feat_cols, \"GBT\")"
   ]
  },
  {
   "cell_type": "markdown",
   "metadata": {},
   "source": [
    "### Results\n",
    "\n",
    "The hyperparameter tuning results shows that logistic regression with grid search has the same model performance as default parameter. The computational time for grid searching the right iteration is around 103 minutes. So logistic regression would not be in consideration whe we predict churn rate in the 12GB dataset. For random forest model, the model performance imporvement with grid search of maximum depth is large. The F1 score with grid search increased by 16% in comparsion with default parameter. All the other metrics performance increase as well. However, since maximum depth means more splits random forest has and it may lead to overfitting. The larger the depth is the more likely it will overfit. The training time is around 83mins.\n",
    "\n",
    "For Gradient Boosting Tree, the improvement with grid search is not large in comparsion with random forest classifier. The F1 score with grid search increased by only 2.3%. And the computation time took almost 10 hours. However, there are much more hyperparameters to tune for GBT classifiers. In order to get the best performance of GBT classifier, we may need to do random search on a large set of parameters and then use grid search for promising hyperparameters. Also, gradient boosting tree in some extent reduce the variance because of aggregating the output from many models. We shall use both model in the large dataset to see the difference in performance.\n",
    "\n",
    "The feature importance plot of random forest classifier and GBT classifier are different. Especially for feature `num_downgrade`. GBT classifier value this feature much more than random forest classifier. Its make sense because the more times the user go to the downgrade page, the more likely the user will churn."
   ]
  },
  {
   "cell_type": "markdown",
   "metadata": {},
   "source": [
    "# Conclusion\n",
    "\n",
    "## Summary\n",
    "\n",
    "In this notebook, i first cleaned the missing values of the data by removing rows with no userId, and assign None to missing values of artist, song and 0 to feature length. We then perform some analysis to find out the relationship of churn rate with different features. For feature engineering, we crafted 18 features based on the analysis and common sense. We selected 3 models for prediction, namely logistic regression, random forest and gradient boosting tree classifier. The result of hyperparameter tuning shows that random forest classifier have the best overall performance with less computational time and better score than the other two classifiers. However, since we only tuned the maximum depth of random forest classifier and this hyperparameter is linked to overfitting of model. We select both random forest and GBTClassifier for churn prediction in the 12GB dataset and see if overfitting happens in random forest model. \n",
    "\n",
    "## Business impact\n",
    "\n",
    "Spariky can use the final tuned prediction model to take action against potential churn users by running some sort of promotion offers to these users. e.g. 50% off of subscrption or personalize messages. Moreover, the feature importance score returned by the prediction model can be used to identify the cause of churn and Sparkify can make imporvement of these causes. e.g. UI changes. Sparkify may then use A/B testing to select which action to take.\n",
    "\n",
    "## Reflection\n",
    "\n",
    "This project given an opportunity to analyze a large dataset using AWS and spark envirnoment. Cloud computing is very different from using local enviroment. There are some difficult things in modelling. It takes quite a lot of time to execute a model which make hyperparameter tuning difficult. Thus, we have to know the model inside out and make appropiate parameter range in order to optimise the model well. Another difficult part is to deriving useful features from a series of event data. Good features can improve the model dramatically.\n",
    "\n",
    "\n",
    "## Improvement\n",
    "\n",
    "There are quite a few of assumptions i made which may introduce bias to the result. I assume all the users use the same device and browser for using Sparkify. In reality, this is of course not true. But it's easier to do modelling if we assume each user only use Sparkify with the same device/os/browser and same location. For users that went from free to paid users within the two-month period, we have two records for the same user. This introduce bias to the model. We should remove such duplicates. Also, if given more computational resources, we could use bayesian optimization packages such as hyperopt to find the best set of parameters instead of grid-search. Grid search in general is more time consuming and spend a significant amount of time evaluating less promising hyperparameters. Data science is a iterative process, we could engineer aggregation of features based on the feature importance score. High score features can aggreagte together to imporve the model performacnce. \n",
    "\n",
    "\n"
   ]
  },
  {
   "cell_type": "code",
   "execution_count": null,
   "metadata": {},
   "outputs": [],
   "source": []
  }
 ],
 "metadata": {
  "kernelspec": {
   "display_name": "Python 3",
   "language": "python",
   "name": "python3"
  },
  "language_info": {
   "codemirror_mode": {
    "name": "ipython",
    "version": 3
   },
   "file_extension": ".py",
   "mimetype": "text/x-python",
   "name": "python",
   "nbconvert_exporter": "python",
   "pygments_lexer": "ipython3",
   "version": "3.7.3"
  },
  "toc": {
   "base_numbering": 1,
   "nav_menu": {},
   "number_sections": true,
   "sideBar": true,
   "skip_h1_title": false,
   "title_cell": "Table of Contents",
   "title_sidebar": "Contents",
   "toc_cell": false,
   "toc_position": {
    "height": "calc(100% - 180px)",
    "left": "10px",
    "top": "150px",
    "width": "256px"
   },
   "toc_section_display": true,
   "toc_window_display": false
  },
  "varInspector": {
   "cols": {
    "lenName": 16,
    "lenType": 16,
    "lenVar": 40
   },
   "kernels_config": {
    "python": {
     "delete_cmd_postfix": "",
     "delete_cmd_prefix": "del ",
     "library": "var_list.py",
     "varRefreshCmd": "print(var_dic_list())"
    },
    "r": {
     "delete_cmd_postfix": ") ",
     "delete_cmd_prefix": "rm(",
     "library": "var_list.r",
     "varRefreshCmd": "cat(var_dic_list()) "
    }
   },
   "types_to_exclude": [
    "module",
    "function",
    "builtin_function_or_method",
    "instance",
    "_Feature"
   ],
   "window_display": false
  }
 },
 "nbformat": 4,
 "nbformat_minor": 2
}
