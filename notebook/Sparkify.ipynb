{
 "cells": [
  {
   "cell_type": "markdown",
   "metadata": {},
   "source": [
    "# Overview\n",
    "\n",
    "In this project, we will be creating a predictive model for customer churn prediction of a fictional music streaming service: Sparkify (similar to Spotify and Pandora). Churn prediction is about making use of customer data to predict the likelihood of customers discontinuing their subscription in the future. Predicting churn rate is important because it can help Sparkify to identify and improve areas where customer services is lacking. So churn prediction helps to prevent individuals from discontinuing their subscription. According to [ClickZ](https://www.clickz.com/are-ecommerce-customer-retention-strategies-improving/105454/), the probability of selling to an existing customer is 60 - 70%. However, the probability of selling to a new prospect is just 5-20%.\n",
    "So it is very important to keep the existing customer around.\n",
    "\n",
    "## Data\n",
    "There are two dataset made avaliable, a full dataset (12GB) and a tiny subset (240Mb) sample from the full dataset. We will use the subset for data exploration, feature engineering and model selection on local machine. Its more time and computationally efficient to do all the modelling work in a small dataset than working on full dataset. If the subset of data is indeed representative of the full dataset, feature engineering and hyperparameters tuned in the sample dataset should applicable to the full dataset. Once the feature enginnering and the best model are identified, we will use the model for modelling the full dataset on Amazon AWS EMR cluster. \n",
    "\n",
    "\n",
    "## Project aim\n",
    "\n",
    "\n"
   ]
  },
  {
   "cell_type": "code",
   "execution_count": 1,
   "metadata": {
    "ExecuteTime": {
     "end_time": "2019-09-02T19:03:25.386057Z",
     "start_time": "2019-09-02T19:03:23.870527Z"
    }
   },
   "outputs": [],
   "source": [
    "# import libraries\n",
    "from pyspark.sql import SparkSession, Window\n",
    "from pyspark.sql.functions import udf, col, count, avg, stddev, isnull, when, isnan \n",
    "from pyspark.sql.functions import desc, countDistinct, min, max\n",
    "from pyspark.sql.functions import sum as Fsum\n",
    "from pyspark.sql.types import IntegerType, DateType, StringType\n",
    "from pyspark.ml.feature import StringIndexer, VectorAssembler\n",
    "from pyspark.ml import Pipeline\n",
    "\n",
    "\n",
    "import pandas as pd\n",
    "import numpy as np\n",
    "import matplotlib.pyplot as plt\n",
    "import seaborn as sns\n",
    "from datetime import datetime\n",
    "import re\n",
    "import string"
   ]
  },
  {
   "cell_type": "code",
   "execution_count": 2,
   "metadata": {
    "ExecuteTime": {
     "end_time": "2019-09-02T19:03:34.517865Z",
     "start_time": "2019-09-02T19:03:29.332658Z"
    }
   },
   "outputs": [],
   "source": [
    "# Create a Spark session\n",
    "spark = SparkSession.builder \\\n",
    "    .master(\"local\") \\\n",
    "    .appName(\"sparkify\") \\\n",
    "    .getOrCreate()"
   ]
  },
  {
   "cell_type": "markdown",
   "metadata": {},
   "source": [
    "# Load and Clean Dataset\n",
    "In this workspace, we use the `medium-sparkify-event-data.json` data for the rest of the notebook. Load and clean the dataset, checking for invalid or missing data - for example, records without userids or sessionids. "
   ]
  },
  {
   "cell_type": "code",
   "execution_count": 3,
   "metadata": {
    "ExecuteTime": {
     "end_time": "2019-09-02T19:03:45.010832Z",
     "start_time": "2019-09-02T19:03:35.656224Z"
    }
   },
   "outputs": [
    {
     "data": {
      "text/plain": [
       "[Row(artist='Martin Orford', auth='Logged In', firstName='Joseph', gender='M', itemInSession=20, lastName='Morales', length=597.55057, level='free', location='Corpus Christi, TX', method='PUT', page='NextSong', registration=1532063507000, sessionId=292, song='Grand Designs', status=200, ts=1538352011000, userAgent='\"Mozilla/5.0 (Macintosh; Intel Mac OS X 10_9_4) AppleWebKit/537.36 (KHTML, like Gecko) Chrome/36.0.1985.125 Safari/537.36\"', userId='293'),\n",
       " Row(artist=\"John Brown's Body\", auth='Logged In', firstName='Sawyer', gender='M', itemInSession=74, lastName='Larson', length=380.21179, level='free', location='Houston-The Woodlands-Sugar Land, TX', method='PUT', page='NextSong', registration=1538069638000, sessionId=97, song='Bulls', status=200, ts=1538352025000, userAgent='\"Mozilla/5.0 (Macintosh; Intel Mac OS X 10_9_4) AppleWebKit/537.36 (KHTML, like Gecko) Chrome/36.0.1985.143 Safari/537.36\"', userId='98'),\n",
       " Row(artist='Afroman', auth='Logged In', firstName='Maverick', gender='M', itemInSession=184, lastName='Santiago', length=202.37016, level='paid', location='Orlando-Kissimmee-Sanford, FL', method='PUT', page='NextSong', registration=1535953455000, sessionId=178, song='Because I Got High', status=200, ts=1538352118000, userAgent='\"Mozilla/5.0 (Macintosh; Intel Mac OS X 10_9_4) AppleWebKit/537.36 (KHTML, like Gecko) Chrome/36.0.1985.143 Safari/537.36\"', userId='179'),\n",
       " Row(artist=None, auth='Logged In', firstName='Maverick', gender='M', itemInSession=185, lastName='Santiago', length=None, level='paid', location='Orlando-Kissimmee-Sanford, FL', method='PUT', page='Logout', registration=1535953455000, sessionId=178, song=None, status=307, ts=1538352119000, userAgent='\"Mozilla/5.0 (Macintosh; Intel Mac OS X 10_9_4) AppleWebKit/537.36 (KHTML, like Gecko) Chrome/36.0.1985.143 Safari/537.36\"', userId='179'),\n",
       " Row(artist='Lily Allen', auth='Logged In', firstName='Gianna', gender='F', itemInSession=22, lastName='Campos', length=194.53342, level='paid', location='Mobile, AL', method='PUT', page='NextSong', registration=1535931018000, sessionId=245, song='Smile (Radio Edit)', status=200, ts=1538352124000, userAgent='Mozilla/5.0 (Windows NT 6.1; WOW64; rv:31.0) Gecko/20100101 Firefox/31.0', userId='246')]"
      ]
     },
     "execution_count": 3,
     "metadata": {},
     "output_type": "execute_result"
    }
   ],
   "source": [
    "customer_event_df = spark.read.json(\"../data/medium-sparkify-event-data.json\")\n",
    "customer_event_df.head(5)"
   ]
  },
  {
   "cell_type": "code",
   "execution_count": 4,
   "metadata": {
    "ExecuteTime": {
     "end_time": "2019-09-02T19:03:46.288887Z",
     "start_time": "2019-09-02T19:03:46.281246Z"
    }
   },
   "outputs": [
    {
     "data": {
      "text/plain": [
       "pyspark.sql.dataframe.DataFrame"
      ]
     },
     "execution_count": 4,
     "metadata": {},
     "output_type": "execute_result"
    }
   ],
   "source": [
    "type(customer_event_df)"
   ]
  },
  {
   "cell_type": "code",
   "execution_count": 5,
   "metadata": {
    "ExecuteTime": {
     "end_time": "2019-09-02T19:03:47.346451Z",
     "start_time": "2019-09-02T19:03:47.335436Z"
    }
   },
   "outputs": [
    {
     "name": "stdout",
     "output_type": "stream",
     "text": [
      "root\n",
      " |-- artist: string (nullable = true)\n",
      " |-- auth: string (nullable = true)\n",
      " |-- firstName: string (nullable = true)\n",
      " |-- gender: string (nullable = true)\n",
      " |-- itemInSession: long (nullable = true)\n",
      " |-- lastName: string (nullable = true)\n",
      " |-- length: double (nullable = true)\n",
      " |-- level: string (nullable = true)\n",
      " |-- location: string (nullable = true)\n",
      " |-- method: string (nullable = true)\n",
      " |-- page: string (nullable = true)\n",
      " |-- registration: long (nullable = true)\n",
      " |-- sessionId: long (nullable = true)\n",
      " |-- song: string (nullable = true)\n",
      " |-- status: long (nullable = true)\n",
      " |-- ts: long (nullable = true)\n",
      " |-- userAgent: string (nullable = true)\n",
      " |-- userId: string (nullable = true)\n",
      "\n"
     ]
    }
   ],
   "source": [
    "customer_event_df.printSchema()"
   ]
  },
  {
   "cell_type": "code",
   "execution_count": 6,
   "metadata": {
    "ExecuteTime": {
     "end_time": "2019-09-02T19:03:50.790524Z",
     "start_time": "2019-09-02T19:03:48.496947Z"
    }
   },
   "outputs": [
    {
     "name": "stdout",
     "output_type": "stream",
     "text": [
      "The shape of the customer event susbset (543705, 18)\n"
     ]
    }
   ],
   "source": [
    "print(f\"The shape of the customer event susbset {(customer_event_df.count(), len(customer_event_df.columns))}\")"
   ]
  },
  {
   "cell_type": "code",
   "execution_count": 7,
   "metadata": {
    "ExecuteTime": {
     "end_time": "2019-09-02T19:03:53.241609Z",
     "start_time": "2019-09-02T19:03:53.236220Z"
    }
   },
   "outputs": [],
   "source": [
    "def counting_null(df):\n",
    "    \"\"\"\n",
    "    Return a dictionary contain the key value pairs of columns and their missing values.\n",
    "    :param df: pyspark dataframe\n",
    "    :return null_count: dict. the number of null values in each column\n",
    "    \"\"\"\n",
    "    \n",
    "    null_count = list()\n",
    "    for col in df.columns:\n",
    "        missing_values = df.filter((df[col] == \"\") \\\n",
    "                                   | df[col].isNull()\n",
    "                                   | isnan(df[col])).count()\n",
    "        null_count.append(missing_values)\n",
    "    return null_count"
   ]
  },
  {
   "cell_type": "code",
   "execution_count": 8,
   "metadata": {
    "ExecuteTime": {
     "end_time": "2019-09-02T19:03:54.190907Z",
     "start_time": "2019-09-02T19:03:54.186419Z"
    }
   },
   "outputs": [],
   "source": [
    "# equivalent to pandas describe\n",
    "def sumtable(df):\n",
    "    \"\"\"\n",
    "\n",
    "    :param x:\n",
    "    :return:\n",
    "    \"\"\"\n",
    "    summary = df.describe().toPandas().transpose()\n",
    "    summary = summary.rename(columns=summary.iloc[0]).drop(summary.index[0])\n",
    "    summary['null_count'] = counting_null(df)\n",
    "    del df\n",
    "    \n",
    "    return summary"
   ]
  },
  {
   "cell_type": "markdown",
   "metadata": {},
   "source": [
    "## Missing Values\n",
    "\n",
    "* Column `firstName`, `gender`, `lastNam`, `registration`, `location`, `userAgent` and `userId` have the same amount of missing values. All of the missing values are occurred in the same places. So we can removed all these 15700 missing values.\n",
    "* We will not remove the null values in `artist`, `length`, `song` column as some people may just login the app and not listen to any song."
   ]
  },
  {
   "cell_type": "code",
   "execution_count": 9,
   "metadata": {
    "ExecuteTime": {
     "end_time": "2019-09-02T19:03:55.366406Z",
     "start_time": "2019-09-02T19:03:55.225343Z"
    }
   },
   "outputs": [],
   "source": [
    "customer_event_df = customer_event_df.filter(customer_event_df.userId != \"\")"
   ]
  },
  {
   "cell_type": "code",
   "execution_count": 10,
   "metadata": {
    "ExecuteTime": {
     "end_time": "2019-09-02T19:03:56.826145Z",
     "start_time": "2019-09-02T19:03:56.676665Z"
    }
   },
   "outputs": [],
   "source": [
    "customer_event_df = customer_event_df.fillna('None', subset=['artist', 'song'])\n",
    "customer_event_df = customer_event_df.fillna(0, subset=['length'])"
   ]
  },
  {
   "cell_type": "code",
   "execution_count": 11,
   "metadata": {
    "ExecuteTime": {
     "end_time": "2019-09-02T19:05:23.524804Z",
     "start_time": "2019-09-02T19:03:58.113104Z"
    }
   },
   "outputs": [
    {
     "data": {
      "text/html": [
       "<div>\n",
       "<style scoped>\n",
       "    .dataframe tbody tr th:only-of-type {\n",
       "        vertical-align: middle;\n",
       "    }\n",
       "\n",
       "    .dataframe tbody tr th {\n",
       "        vertical-align: top;\n",
       "    }\n",
       "\n",
       "    .dataframe thead th {\n",
       "        text-align: right;\n",
       "    }\n",
       "</style>\n",
       "<table border=\"1\" class=\"dataframe\">\n",
       "  <thead>\n",
       "    <tr style=\"text-align: right;\">\n",
       "      <th></th>\n",
       "      <th>count</th>\n",
       "      <th>mean</th>\n",
       "      <th>stddev</th>\n",
       "      <th>min</th>\n",
       "      <th>max</th>\n",
       "      <th>null_count</th>\n",
       "    </tr>\n",
       "  </thead>\n",
       "  <tbody>\n",
       "    <tr>\n",
       "      <th>artist</th>\n",
       "      <td>528005</td>\n",
       "      <td>527.5289537712895</td>\n",
       "      <td>966.1072451772758</td>\n",
       "      <td>!!!</td>\n",
       "      <td>ÃÂlafur Arnalds</td>\n",
       "      <td>0</td>\n",
       "    </tr>\n",
       "    <tr>\n",
       "      <th>auth</th>\n",
       "      <td>528005</td>\n",
       "      <td>None</td>\n",
       "      <td>None</td>\n",
       "      <td>Cancelled</td>\n",
       "      <td>Logged In</td>\n",
       "      <td>0</td>\n",
       "    </tr>\n",
       "    <tr>\n",
       "      <th>firstName</th>\n",
       "      <td>528005</td>\n",
       "      <td>None</td>\n",
       "      <td>None</td>\n",
       "      <td>Aaliyah</td>\n",
       "      <td>Zyonna</td>\n",
       "      <td>0</td>\n",
       "    </tr>\n",
       "    <tr>\n",
       "      <th>gender</th>\n",
       "      <td>528005</td>\n",
       "      <td>None</td>\n",
       "      <td>None</td>\n",
       "      <td>F</td>\n",
       "      <td>M</td>\n",
       "      <td>0</td>\n",
       "    </tr>\n",
       "    <tr>\n",
       "      <th>itemInSession</th>\n",
       "      <td>528005</td>\n",
       "      <td>107.77899451709737</td>\n",
       "      <td>116.86478662969917</td>\n",
       "      <td>0</td>\n",
       "      <td>1005</td>\n",
       "      <td>0</td>\n",
       "    </tr>\n",
       "    <tr>\n",
       "      <th>lastName</th>\n",
       "      <td>528005</td>\n",
       "      <td>None</td>\n",
       "      <td>None</td>\n",
       "      <td>Abbott</td>\n",
       "      <td>Wright</td>\n",
       "      <td>0</td>\n",
       "    </tr>\n",
       "    <tr>\n",
       "      <th>length</th>\n",
       "      <td>528005</td>\n",
       "      <td>203.8639462294142</td>\n",
       "      <td>130.6652089637992</td>\n",
       "      <td>0.0</td>\n",
       "      <td>3024.66567</td>\n",
       "      <td>0</td>\n",
       "    </tr>\n",
       "    <tr>\n",
       "      <th>level</th>\n",
       "      <td>528005</td>\n",
       "      <td>None</td>\n",
       "      <td>None</td>\n",
       "      <td>free</td>\n",
       "      <td>paid</td>\n",
       "      <td>0</td>\n",
       "    </tr>\n",
       "    <tr>\n",
       "      <th>location</th>\n",
       "      <td>528005</td>\n",
       "      <td>None</td>\n",
       "      <td>None</td>\n",
       "      <td>Akron, OH</td>\n",
       "      <td>York-Hanover, PA</td>\n",
       "      <td>0</td>\n",
       "    </tr>\n",
       "    <tr>\n",
       "      <th>method</th>\n",
       "      <td>528005</td>\n",
       "      <td>None</td>\n",
       "      <td>None</td>\n",
       "      <td>GET</td>\n",
       "      <td>PUT</td>\n",
       "      <td>0</td>\n",
       "    </tr>\n",
       "    <tr>\n",
       "      <th>page</th>\n",
       "      <td>528005</td>\n",
       "      <td>None</td>\n",
       "      <td>None</td>\n",
       "      <td>About</td>\n",
       "      <td>Upgrade</td>\n",
       "      <td>0</td>\n",
       "    </tr>\n",
       "    <tr>\n",
       "      <th>registration</th>\n",
       "      <td>528005</td>\n",
       "      <td>1.5355234148628062E12</td>\n",
       "      <td>3.0787254929942865E9</td>\n",
       "      <td>1509854193000</td>\n",
       "      <td>1543073874000</td>\n",
       "      <td>0</td>\n",
       "    </tr>\n",
       "    <tr>\n",
       "      <th>sessionId</th>\n",
       "      <td>528005</td>\n",
       "      <td>2042.9801820058522</td>\n",
       "      <td>1433.998148941057</td>\n",
       "      <td>1</td>\n",
       "      <td>4808</td>\n",
       "      <td>0</td>\n",
       "    </tr>\n",
       "    <tr>\n",
       "      <th>song</th>\n",
       "      <td>528005</td>\n",
       "      <td>Infinity</td>\n",
       "      <td>NaN</td>\n",
       "      <td>ÃÂg ÃÂtti GrÃÂ¡a ÃÂsku</td>\n",
       "      <td>ÃÂ¾etta Gerist ÃÂ¡ Bestu BÃÂ¦jum</td>\n",
       "      <td>0</td>\n",
       "    </tr>\n",
       "    <tr>\n",
       "      <th>status</th>\n",
       "      <td>528005</td>\n",
       "      <td>209.09106163767387</td>\n",
       "      <td>30.14877783059165</td>\n",
       "      <td>200</td>\n",
       "      <td>404</td>\n",
       "      <td>0</td>\n",
       "    </tr>\n",
       "    <tr>\n",
       "      <th>ts</th>\n",
       "      <td>528005</td>\n",
       "      <td>1.540966927748447E12</td>\n",
       "      <td>1.481233094025866E9</td>\n",
       "      <td>1538352011000</td>\n",
       "      <td>1543622466000</td>\n",
       "      <td>0</td>\n",
       "    </tr>\n",
       "    <tr>\n",
       "      <th>userAgent</th>\n",
       "      <td>528005</td>\n",
       "      <td>None</td>\n",
       "      <td>None</td>\n",
       "      <td>\"Mozilla/5.0 (Macintosh; Intel Mac OS X 10_10)...</td>\n",
       "      <td>Mozilla/5.0 (compatible; MSIE 9.0; Windows NT ...</td>\n",
       "      <td>0</td>\n",
       "    </tr>\n",
       "    <tr>\n",
       "      <th>userId</th>\n",
       "      <td>528005</td>\n",
       "      <td>60268.42669103512</td>\n",
       "      <td>109898.82324176644</td>\n",
       "      <td>10</td>\n",
       "      <td>99</td>\n",
       "      <td>0</td>\n",
       "    </tr>\n",
       "  </tbody>\n",
       "</table>\n",
       "</div>"
      ],
      "text/plain": [
       "                count                   mean                stddev  \\\n",
       "artist         528005      527.5289537712895     966.1072451772758   \n",
       "auth           528005                   None                  None   \n",
       "firstName      528005                   None                  None   \n",
       "gender         528005                   None                  None   \n",
       "itemInSession  528005     107.77899451709737    116.86478662969917   \n",
       "lastName       528005                   None                  None   \n",
       "length         528005      203.8639462294142     130.6652089637992   \n",
       "level          528005                   None                  None   \n",
       "location       528005                   None                  None   \n",
       "method         528005                   None                  None   \n",
       "page           528005                   None                  None   \n",
       "registration   528005  1.5355234148628062E12  3.0787254929942865E9   \n",
       "sessionId      528005     2042.9801820058522     1433.998148941057   \n",
       "song           528005               Infinity                   NaN   \n",
       "status         528005     209.09106163767387     30.14877783059165   \n",
       "ts             528005   1.540966927748447E12   1.481233094025866E9   \n",
       "userAgent      528005                   None                  None   \n",
       "userId         528005      60268.42669103512    109898.82324176644   \n",
       "\n",
       "                                                             min  \\\n",
       "artist                                                       !!!   \n",
       "auth                                                   Cancelled   \n",
       "firstName                                                Aaliyah   \n",
       "gender                                                         F   \n",
       "itemInSession                                                  0   \n",
       "lastName                                                  Abbott   \n",
       "length                                                       0.0   \n",
       "level                                                       free   \n",
       "location                                               Akron, OH   \n",
       "method                                                       GET   \n",
       "page                                                       About   \n",
       "registration                                       1509854193000   \n",
       "sessionId                                                      1   \n",
       "song                              \n",
       "ÃÂg ÃÂtti GrÃÂ¡a ÃÂsku   \n",
       "status                                                       200   \n",
       "ts                                                 1538352011000   \n",
       "userAgent      \"Mozilla/5.0 (Macintosh; Intel Mac OS X 10_10)...   \n",
       "userId                                                        10   \n",
       "\n",
       "                                                             max  null_count  \n",
       "artist                                         ÃÂlafur Arnalds           0  \n",
       "auth                                                   Logged In           0  \n",
       "firstName                                                 Zyonna           0  \n",
       "gender                                                         M           0  \n",
       "itemInSession                                               1005           0  \n",
       "lastName                                                  Wright           0  \n",
       "length                                                3024.66567           0  \n",
       "level                                                       paid           0  \n",
       "location                                        York-Hanover, PA           0  \n",
       "method                                                       PUT           0  \n",
       "page                                                     Upgrade           0  \n",
       "registration                                       1543073874000           0  \n",
       "sessionId                                                   4808           0  \n",
       "song                         ÃÂ¾etta Gerist ÃÂ¡ Bestu BÃÂ¦jum           0  \n",
       "status                                                       404           0  \n",
       "ts                                                 1543622466000           0  \n",
       "userAgent      Mozilla/5.0 (compatible; MSIE 9.0; Windows NT ...           0  \n",
       "userId                                                        99           0  "
      ]
     },
     "execution_count": 11,
     "metadata": {},
     "output_type": "execute_result"
    }
   ],
   "source": [
    "sumtable(customer_event_df)"
   ]
  },
  {
   "cell_type": "markdown",
   "metadata": {},
   "source": [
    "# Exploratory Data Analysis\n",
    "\n",
    "In this section, we perform EDA on `medium-sparkify-event-data.json` by exploring each of the features and extract useful insights from the data. First, we look at each feature individually and compute descriptive statistics. "
   ]
  },
  {
   "cell_type": "markdown",
   "metadata": {},
   "source": [
    "## Initial Analysis"
   ]
  },
  {
   "cell_type": "markdown",
   "metadata": {},
   "source": [
    "### Artist\n",
    "\n",
    "* The most listened artist on Sparkify is Kings of Leon\n",
    "* Top 4 most listened artist are rock bands\n",
    "* Total of 21248 distinct artists"
   ]
  },
  {
   "cell_type": "code",
   "execution_count": 12,
   "metadata": {
    "ExecuteTime": {
     "end_time": "2019-09-02T19:09:34.738123Z",
     "start_time": "2019-09-02T19:09:28.827461Z"
    }
   },
   "outputs": [
    {
     "name": "stdout",
     "output_type": "stream",
     "text": [
      "+--------------------+-------------+\n",
      "|              artist|count(artist)|\n",
      "+--------------------+-------------+\n",
      "|                None|        95128|\n",
      "|       Kings Of Leon|         3497|\n",
      "|            Coldplay|         3439|\n",
      "|Florence + The Ma...|         2314|\n",
      "|                Muse|         2194|\n",
      "|       Dwight Yoakam|         2187|\n",
      "|      The Black Keys|         2160|\n",
      "|            BjÃÂ¶rk|         2150|\n",
      "|       Justin Bieber|         2096|\n",
      "|        Jack Johnson|         2049|\n",
      "|           Radiohead|         1694|\n",
      "|              Eminem|         1686|\n",
      "|     Alliance Ethnik|         1654|\n",
      "|         OneRepublic|         1651|\n",
      "|        Taylor Swift|         1555|\n",
      "|         The Killers|         1554|\n",
      "|               Train|         1537|\n",
      "|         Linkin Park|         1487|\n",
      "|         Evanescence|         1426|\n",
      "|          John Mayer|         1350|\n",
      "+--------------------+-------------+\n",
      "only showing top 20 rows\n",
      "\n"
     ]
    }
   ],
   "source": [
    "customer_event_df.select(\"artist\", \"userId\").groupby(\"artist\"). \\\n",
    "    agg({'artist': 'count'}).select('artist', 'count(artist)'). \\\n",
    "    sort(desc('count(artist)')).show()"
   ]
  },
  {
   "cell_type": "code",
   "execution_count": 13,
   "metadata": {
    "ExecuteTime": {
     "end_time": "2019-09-02T19:09:42.008748Z",
     "start_time": "2019-09-02T19:09:36.844631Z"
    }
   },
   "outputs": [
    {
     "name": "stdout",
     "output_type": "stream",
     "text": [
      "There are a total of 21248 artists in this dataset\n"
     ]
    }
   ],
   "source": [
    "unique_count_artist = customer_event_df.select(\"artist\").distinct().count()\n",
    "print(f\"There are a total of {unique_count_artist} artists in this dataset\")"
   ]
  },
  {
   "cell_type": "markdown",
   "metadata": {
    "ExecuteTime": {
     "end_time": "2019-08-28T20:37:41.377244Z",
     "start_time": "2019-08-28T20:37:41.365481Z"
    }
   },
   "source": [
    "### auth\n",
    "\n",
    "* Two distinct values for authentication. Logged In and Cancelled.\n",
    "* only 99 instances have cancelled their authentication."
   ]
  },
  {
   "cell_type": "code",
   "execution_count": 14,
   "metadata": {
    "ExecuteTime": {
     "end_time": "2019-09-02T19:09:57.793263Z",
     "start_time": "2019-09-02T19:09:57.777447Z"
    }
   },
   "outputs": [],
   "source": [
    "def sns_barplot_text(x, y, data, title, hue=None, percentage=True, text=True,\n",
    "                     log=False, figsize=(8, 5)):\n",
    "\n",
    "    fig, ax = plt.subplots(figsize=figsize)\n",
    "    sns.barplot(x=x, y=y, data=data, hue=hue, ax=ax, log=log)\n",
    "    #ax.set_ylabel(f\"{data.columns[1]}\")\n",
    "    ax.set_xlabel(f\"{data.columns[0]}\")\n",
    "    ax.set_title(title)\n",
    "    ax.set_xticklabels(data.iloc[:, 0].unique(), rotation=90)\n",
    "    if text:\n",
    "        for p in ax.patches:\n",
    "                height = p.get_height()\n",
    "                if percentage:\n",
    "                    ax.text(p.get_x() + p.get_width() / 2.,\n",
    "                            height,\n",
    "                            f'{height /data.loc[:,y].sum() * 100 :.2f}%',\n",
    "                            ha='center', fontsize=8)\n",
    "                else:\n",
    "                    ax.text(p.get_x() + p.get_width() / 2.,\n",
    "                            height,\n",
    "                            f'{height :.2f}',\n",
    "                            ha='center', fontsize=8)"
   ]
  },
  {
   "cell_type": "code",
   "execution_count": 15,
   "metadata": {
    "ExecuteTime": {
     "end_time": "2019-09-02T19:10:03.934050Z",
     "start_time": "2019-09-02T19:09:58.594450Z"
    }
   },
   "outputs": [],
   "source": [
    "auth_count = customer_event_df.select(\"auth\", ).groupby(\"auth\"). \\\n",
    "    agg({'auth': 'count'}).select('auth', col('count(auth)').alias('total')). \\\n",
    "    sort(desc('total')).toPandas()"
   ]
  },
  {
   "cell_type": "code",
   "execution_count": 16,
   "metadata": {
    "ExecuteTime": {
     "end_time": "2019-09-02T19:10:26.851722Z",
     "start_time": "2019-09-02T19:10:26.618320Z"
    }
   },
   "outputs": [
    {
     "data": {
      "image/png": "[encoded data removed]",
      "text/plain": [
       "<Figure size 576x360 with 1 Axes>"
      ]
     },
     "metadata": {
      "needs_background": "light"
     },
     "output_type": "display_data"
    }
   ],
   "source": [
    "sns_barplot_text('auth', 'total', auth_count, title=\"Distribution of auth\")"
   ]
  },
  {
   "cell_type": "markdown",
   "metadata": {},
   "source": [
    "### firstName and lastName\n",
    "\n",
    "* There are 345 distinct first name and 275 distinct last name"
   ]
  },
  {
   "cell_type": "code",
   "execution_count": 17,
   "metadata": {
    "ExecuteTime": {
     "end_time": "2019-09-02T19:10:32.515476Z",
     "start_time": "2019-09-02T19:10:27.945801Z"
    }
   },
   "outputs": [
    {
     "data": {
      "text/plain": [
       "345"
      ]
     },
     "execution_count": 17,
     "metadata": {},
     "output_type": "execute_result"
    }
   ],
   "source": [
    "customer_event_df.select(\"firstName\").distinct().count()"
   ]
  },
  {
   "cell_type": "code",
   "execution_count": 18,
   "metadata": {
    "ExecuteTime": {
     "end_time": "2019-09-02T19:10:42.989915Z",
     "start_time": "2019-09-02T19:10:38.916428Z"
    }
   },
   "outputs": [
    {
     "data": {
      "text/plain": [
       "275"
      ]
     },
     "execution_count": 18,
     "metadata": {},
     "output_type": "execute_result"
    }
   ],
   "source": [
    "customer_event_df.select(\"lastName\").distinct().count()"
   ]
  },
  {
   "cell_type": "markdown",
   "metadata": {},
   "source": [
    "### itemInSession\n",
    "\n",
    "* This is the number position of the event in the session\n",
    "* On averge, the number postition of the event is 107 in one single session."
   ]
  },
  {
   "cell_type": "code",
   "execution_count": 19,
   "metadata": {
    "ExecuteTime": {
     "end_time": "2019-09-02T19:10:53.257756Z",
     "start_time": "2019-09-02T19:10:50.242925Z"
    }
   },
   "outputs": [
    {
     "name": "stdout",
     "output_type": "stream",
     "text": [
      "+-------+------------------+\n",
      "|summary|     itemInSession|\n",
      "+-------+------------------+\n",
      "|  count|            528005|\n",
      "|   mean|107.77899451709737|\n",
      "| stddev|116.86478662969917|\n",
      "|    min|                 0|\n",
      "|    max|              1005|\n",
      "+-------+------------------+\n",
      "\n"
     ]
    }
   ],
   "source": [
    "customer_event_df.select(\"itemInSession\").describe().show()"
   ]
  },
  {
   "cell_type": "code",
   "execution_count": 20,
   "metadata": {
    "ExecuteTime": {
     "end_time": "2019-09-02T19:11:21.984475Z",
     "start_time": "2019-09-02T19:11:17.536280Z"
    }
   },
   "outputs": [
    {
     "data": {
      "text/plain": [
       "1006"
      ]
     },
     "execution_count": 20,
     "metadata": {},
     "output_type": "execute_result"
    }
   ],
   "source": [
    "customer_event_df.select(\"itemInSession\").distinct().count()"
   ]
  },
  {
   "cell_type": "markdown",
   "metadata": {},
   "source": [
    "### length\n",
    "\n",
    "* Average song length is around 3 minutes and 20 seconds.\n",
    "* length 0 means that the user did not listen to any songs\n",
    "* longest song is around 10 mins"
   ]
  },
  {
   "cell_type": "code",
   "execution_count": 21,
   "metadata": {
    "ExecuteTime": {
     "end_time": "2019-09-02T19:11:30.790544Z",
     "start_time": "2019-09-02T19:11:28.083774Z"
    }
   },
   "outputs": [
    {
     "name": "stdout",
     "output_type": "stream",
     "text": [
      "+-------+-----------------+\n",
      "|summary|           length|\n",
      "+-------+-----------------+\n",
      "|  count|           528005|\n",
      "|   mean|203.8639462294142|\n",
      "| stddev|130.6652089637992|\n",
      "|    min|              0.0|\n",
      "|    max|       3024.66567|\n",
      "+-------+-----------------+\n",
      "\n"
     ]
    }
   ],
   "source": [
    "customer_event_df.select(\"length\").describe().show()"
   ]
  },
  {
   "cell_type": "markdown",
   "metadata": {},
   "source": [
    "### Method \n",
    "\n",
    "* GET is used to request data from a specified resource and PUT method is used to send data to a server to.\n",
    "* This means all the GET method are not listing to songs "
   ]
  },
  {
   "cell_type": "code",
   "execution_count": 22,
   "metadata": {
    "ExecuteTime": {
     "end_time": "2019-09-02T19:11:46.675367Z",
     "start_time": "2019-09-02T19:11:42.218022Z"
    }
   },
   "outputs": [],
   "source": [
    "method_count = customer_event_df.select(\"method\").groupby(\"method\"). \\\n",
    "    agg({'method': 'count'}).select('method', col('count(method)').alias('total')). \\\n",
    "    sort(desc('total')).toPandas()"
   ]
  },
  {
   "cell_type": "code",
   "execution_count": 23,
   "metadata": {
    "ExecuteTime": {
     "end_time": "2019-09-02T19:12:07.644661Z",
     "start_time": "2019-09-02T19:12:04.380400Z"
    }
   },
   "outputs": [
    {
     "name": "stdout",
     "output_type": "stream",
     "text": [
      "+------+-------------+\n",
      "|artist|count(artist)|\n",
      "+------+-------------+\n",
      "|  None|        38877|\n",
      "+------+-------------+\n",
      "\n"
     ]
    }
   ],
   "source": [
    "customer_event_df.filter(col(\"method\") == \"GET\").groupby('artist').agg({'artist': 'count'}).show()"
   ]
  },
  {
   "cell_type": "code",
   "execution_count": 24,
   "metadata": {
    "ExecuteTime": {
     "end_time": "2019-09-02T19:12:21.700894Z",
     "start_time": "2019-09-02T19:12:18.476898Z"
    }
   },
   "outputs": [
    {
     "name": "stdout",
     "output_type": "stream",
     "text": [
      "+--------------------+-----------+\n",
      "|                page|count(page)|\n",
      "+--------------------+-----------+\n",
      "|                Home|      19089|\n",
      "|           Downgrade|       3811|\n",
      "|         Roll Advert|       7773|\n",
      "|Cancellation Conf...|         99|\n",
      "|               About|       1026|\n",
      "|            Settings|       2964|\n",
      "|                Help|       2644|\n",
      "|             Upgrade|        968|\n",
      "|               Error|        503|\n",
      "+--------------------+-----------+\n",
      "\n"
     ]
    }
   ],
   "source": [
    "customer_event_df.filter(col(\"method\") == \"GET\").groupby('page').agg({'page': 'count'}).show()"
   ]
  },
  {
   "cell_type": "code",
   "execution_count": 25,
   "metadata": {
    "ExecuteTime": {
     "end_time": "2019-09-02T19:12:32.589869Z",
     "start_time": "2019-09-02T19:12:32.384269Z"
    }
   },
   "outputs": [
    {
     "data": {
      "image/png": "[encoded data removed]",
      "text/plain": [
       "<Figure size 576x360 with 1 Axes>"
      ]
     },
     "metadata": {
      "needs_background": "light"
     },
     "output_type": "display_data"
    }
   ],
   "source": [
    "sns_barplot_text(\"method\", \"total\", method_count, title='Distribution of method')"
   ]
  },
  {
   "cell_type": "markdown",
   "metadata": {},
   "source": [
    "### registration and ts\n",
    "\n",
    "* both registration and ts are timestamp features in unix or ns format. We will clean it later."
   ]
  },
  {
   "cell_type": "code",
   "execution_count": 26,
   "metadata": {
    "ExecuteTime": {
     "end_time": "2019-09-02T19:12:36.418796Z",
     "start_time": "2019-09-02T19:12:33.946161Z"
    }
   },
   "outputs": [
    {
     "name": "stdout",
     "output_type": "stream",
     "text": [
      "+------+-------------+-------------+\n",
      "|userId| registration|           ts|\n",
      "+------+-------------+-------------+\n",
      "|   293|1532063507000|1538352011000|\n",
      "|    98|1538069638000|1538352025000|\n",
      "|   179|1535953455000|1538352118000|\n",
      "|   179|1535953455000|1538352119000|\n",
      "|   246|1535931018000|1538352124000|\n",
      "+------+-------------+-------------+\n",
      "\n"
     ]
    }
   ],
   "source": [
    "customer_event_df.select(['userId', 'registration', 'ts']).limit(5).show()"
   ]
  },
  {
   "cell_type": "markdown",
   "metadata": {},
   "source": [
    "### userId and sessionid\n",
    "\n",
    "* These are unqiues id and will be dropped during modelling\n",
    "* 448 unique userId and 4470 unique sessionId"
   ]
  },
  {
   "cell_type": "code",
   "execution_count": 27,
   "metadata": {
    "ExecuteTime": {
     "end_time": "2019-09-02T19:12:42.267361Z",
     "start_time": "2019-09-02T19:12:37.941663Z"
    }
   },
   "outputs": [
    {
     "name": "stdout",
     "output_type": "stream",
     "text": [
      "+----------------+-------------------+\n",
      "|number_of_userId|number_of_sessionId|\n",
      "+----------------+-------------------+\n",
      "|             448|               4470|\n",
      "+----------------+-------------------+\n",
      "\n"
     ]
    }
   ],
   "source": [
    "customer_event_df.select(countDistinct('userId').alias('number_of_userId'), \n",
    "                         countDistinct('sessionId').alias('number_of_sessionId')).show()"
   ]
  },
  {
   "cell_type": "markdown",
   "metadata": {},
   "source": [
    "### song\n",
    "\n",
    "* The most listened songs are You're The One, Undo and Revelry.\n",
    "* For users that have None entry, they are on pages such as Thumbs up, Home and Add to Playlist."
   ]
  },
  {
   "cell_type": "code",
   "execution_count": 28,
   "metadata": {
    "ExecuteTime": {
     "end_time": "2019-09-02T19:12:59.586552Z",
     "start_time": "2019-09-02T19:12:50.175350Z"
    }
   },
   "outputs": [],
   "source": [
    "song_count = customer_event_df.select(\"song\", 'artist').groupby(\"song\"). \\\n",
    "    agg({'song': 'count'}).select('song', col('count(song)').alias('total')). \\\n",
    "    sort(desc('total')).toPandas()"
   ]
  },
  {
   "cell_type": "code",
   "execution_count": 29,
   "metadata": {
    "ExecuteTime": {
     "end_time": "2019-09-02T19:13:06.365061Z",
     "start_time": "2019-09-02T19:13:06.354464Z"
    }
   },
   "outputs": [
    {
     "data": {
      "text/html": [
       "<div>\n",
       "<style scoped>\n",
       "    .dataframe tbody tr th:only-of-type {\n",
       "        vertical-align: middle;\n",
       "    }\n",
       "\n",
       "    .dataframe tbody tr th {\n",
       "        vertical-align: top;\n",
       "    }\n",
       "\n",
       "    .dataframe thead th {\n",
       "        text-align: right;\n",
       "    }\n",
       "</style>\n",
       "<table border=\"1\" class=\"dataframe\">\n",
       "  <thead>\n",
       "    <tr style=\"text-align: right;\">\n",
       "      <th></th>\n",
       "      <th>song</th>\n",
       "      <th>total</th>\n",
       "    </tr>\n",
       "  </thead>\n",
       "  <tbody>\n",
       "    <tr>\n",
       "      <th>0</th>\n",
       "      <td>None</td>\n",
       "      <td>95128</td>\n",
       "    </tr>\n",
       "    <tr>\n",
       "      <th>1</th>\n",
       "      <td>You're The One</td>\n",
       "      <td>2219</td>\n",
       "    </tr>\n",
       "    <tr>\n",
       "      <th>2</th>\n",
       "      <td>Undo</td>\n",
       "      <td>1938</td>\n",
       "    </tr>\n",
       "    <tr>\n",
       "      <th>3</th>\n",
       "      <td>Revelry</td>\n",
       "      <td>1613</td>\n",
       "    </tr>\n",
       "    <tr>\n",
       "      <th>4</th>\n",
       "      <td>Sehr kosmisch</td>\n",
       "      <td>1341</td>\n",
       "    </tr>\n",
       "    <tr>\n",
       "      <th>5</th>\n",
       "      <td>Horn Concerto No. 4 in E flat K495: II. Romanc...</td>\n",
       "      <td>1236</td>\n",
       "    </tr>\n",
       "    <tr>\n",
       "      <th>6</th>\n",
       "      <td>Dog Days Are Over (Radio Edit)</td>\n",
       "      <td>1048</td>\n",
       "    </tr>\n",
       "    <tr>\n",
       "      <th>7</th>\n",
       "      <td>Secrets</td>\n",
       "      <td>916</td>\n",
       "    </tr>\n",
       "    <tr>\n",
       "      <th>8</th>\n",
       "      <td>Use Somebody</td>\n",
       "      <td>894</td>\n",
       "    </tr>\n",
       "    <tr>\n",
       "      <th>9</th>\n",
       "      <td>Canada</td>\n",
       "      <td>836</td>\n",
       "    </tr>\n",
       "  </tbody>\n",
       "</table>\n",
       "</div>"
      ],
      "text/plain": [
       "                                                song  total\n",
       "0                                               None  95128\n",
       "1                                     You're The One   2219\n",
       "2                                               Undo   1938\n",
       "3                                            Revelry   1613\n",
       "4                                      Sehr kosmisch   1341\n",
       "5  Horn Concerto No. 4 in E flat K495: II. Romanc...   1236\n",
       "6                     Dog Days Are Over (Radio Edit)   1048\n",
       "7                                            Secrets    916\n",
       "8                                       Use Somebody    894\n",
       "9                                             Canada    836"
      ]
     },
     "execution_count": 29,
     "metadata": {},
     "output_type": "execute_result"
    }
   ],
   "source": [
    "song_count.head(10)"
   ]
  },
  {
   "cell_type": "code",
   "execution_count": 30,
   "metadata": {
    "ExecuteTime": {
     "end_time": "2019-09-02T19:13:12.750732Z",
     "start_time": "2019-09-02T19:13:09.131904Z"
    }
   },
   "outputs": [
    {
     "name": "stdout",
     "output_type": "stream",
     "text": [
      "+--------------------+-----------+\n",
      "|                page|count(page)|\n",
      "+--------------------+-----------+\n",
      "|           Thumbs Up|      23826|\n",
      "|                Home|      19089|\n",
      "|     Add to Playlist|      12349|\n",
      "|          Add Friend|       8087|\n",
      "|         Roll Advert|       7773|\n",
      "|              Logout|       5990|\n",
      "|         Thumbs Down|       4911|\n",
      "|           Downgrade|       3811|\n",
      "|            Settings|       2964|\n",
      "|                Help|       2644|\n",
      "|               About|       1026|\n",
      "|             Upgrade|        968|\n",
      "|       Save Settings|        585|\n",
      "|               Error|        503|\n",
      "|      Submit Upgrade|        287|\n",
      "|    Submit Downgrade|        117|\n",
      "|              Cancel|         99|\n",
      "|Cancellation Conf...|         99|\n",
      "+--------------------+-----------+\n",
      "\n"
     ]
    }
   ],
   "source": [
    "customer_event_df.filter(col('song') == 'None').groupby('page'). \\\n",
    "    agg({'page': 'count'}).sort((desc('count(page)'))).show()"
   ]
  },
  {
   "cell_type": "markdown",
   "metadata": {},
   "source": [
    "### status\n",
    "\n",
    "* 91.59% of the requested are succeeded with status code 200, 8.31% with status code 307 (redirect) and 0.1% of the requested page is 404 not found."
   ]
  },
  {
   "cell_type": "code",
   "execution_count": 31,
   "metadata": {
    "ExecuteTime": {
     "end_time": "2019-09-02T19:13:21.411376Z",
     "start_time": "2019-09-02T19:13:17.428369Z"
    }
   },
   "outputs": [],
   "source": [
    "status_count = customer_event_df.select(\"status\", 'artist').groupby(\"status\"). \\\n",
    "    agg({'status': 'count'}).select('status', col('count(status)').alias('total')). \\\n",
    "    sort(desc('total')).toPandas()"
   ]
  },
  {
   "cell_type": "code",
   "execution_count": 32,
   "metadata": {
    "ExecuteTime": {
     "end_time": "2019-09-02T19:13:29.333228Z",
     "start_time": "2019-09-02T19:13:29.327967Z"
    }
   },
   "outputs": [],
   "source": [
    "status_count['status'] = status_count['status'].astype('str')"
   ]
  },
  {
   "cell_type": "code",
   "execution_count": 33,
   "metadata": {
    "ExecuteTime": {
     "end_time": "2019-09-02T19:13:30.673492Z",
     "start_time": "2019-09-02T19:13:30.474427Z"
    }
   },
   "outputs": [
    {
     "data": {
      "image/png": "[encoded data removed]",
      "text/plain": [
       "<Figure size 576x360 with 1 Axes>"
      ]
     },
     "metadata": {
      "needs_background": "light"
     },
     "output_type": "display_data"
    }
   ],
   "source": [
    "sns_barplot_text('status', 'total', status_count, title=\"Distribution of status\")"
   ]
  },
  {
   "cell_type": "markdown",
   "metadata": {},
   "source": [
    "### userAgent\n",
    "\n",
    "* Majority of users using Sparkify app on desktop os\n",
    "* We extract the device OS, browser OS and browser version from the userAgent information to better capture the relationship of churn"
   ]
  },
  {
   "cell_type": "code",
   "execution_count": 34,
   "metadata": {
    "ExecuteTime": {
     "end_time": "2019-09-02T19:13:37.972592Z",
     "start_time": "2019-09-02T19:13:34.089626Z"
    }
   },
   "outputs": [
    {
     "data": {
      "text/plain": [
       "71"
      ]
     },
     "execution_count": 34,
     "metadata": {},
     "output_type": "execute_result"
    }
   ],
   "source": [
    "customer_event_df.select(\"userAgent\").distinct().count()"
   ]
  },
  {
   "cell_type": "code",
   "execution_count": 35,
   "metadata": {
    "ExecuteTime": {
     "end_time": "2019-09-02T19:13:49.454639Z",
     "start_time": "2019-09-02T19:13:44.934421Z"
    }
   },
   "outputs": [],
   "source": [
    "useragent_count = customer_event_df.select(\"userAgent\").groupby(\"userAgent\"). \\\n",
    "    agg({'userAgent': 'count'}).select('userAgent', col('count(userAgent)').alias('total')). \\\n",
    "    sort(desc('total')).toPandas()"
   ]
  },
  {
   "cell_type": "code",
   "execution_count": 36,
   "metadata": {
    "ExecuteTime": {
     "end_time": "2019-09-02T19:13:59.125746Z",
     "start_time": "2019-09-02T19:13:59.122446Z"
    }
   },
   "outputs": [],
   "source": [
    "# useragent_count['percentage'] = useragent_count['total'] / useragent_count['total'].sum() * 100\n",
    "# useragent_count.head()"
   ]
  },
  {
   "cell_type": "code",
   "execution_count": 37,
   "metadata": {
    "ExecuteTime": {
     "end_time": "2019-09-02T19:13:59.943991Z",
     "start_time": "2019-09-02T19:13:59.935963Z"
    }
   },
   "outputs": [],
   "source": [
    "def os_feature(s):\n",
    "    os = re.findall(\"Ubuntu|Windows|Mac|iPad|iPhone|Linux\", s)\n",
    "    if os:\n",
    "        os = os[0].translate(str.maketrans('', '', string.punctuation)).strip()\n",
    "    \n",
    "    return os\n",
    "\n",
    "def browser_feature(s):\n",
    "    browser_list = re.findall(\"Chrome[/\\w+.]+|Safari[/\\w.]+|Mobile[/\\w.]+|Firefox[/\\w.]+|Trident[/\\w.]+\", s)\n",
    "    if browser_list:\n",
    "        browser = browser_list[0].strip().split(\"/\")[0]\n",
    "    \n",
    "    return browser\n",
    "\n",
    "def browser_version_feature(s):\n",
    "    browser_list = re.findall(\"Chrome[/\\w+.]+|Safari[/\\w.]+|Mobile[/\\w.]+|Firefox[/\\w.]+|Trident[/\\w.]+\", s)\n",
    "    if browser_list:\n",
    "        version = browser_list[0].strip().split(\"/\")[1]\n",
    "    \n",
    "    return version\n",
    "\n",
    "os_udf = udf(os_feature, StringType())\n",
    "browser_udf = udf(browser_feature, StringType())\n",
    "version_udf = udf(browser_version_feature, StringType())"
   ]
  },
  {
   "cell_type": "code",
   "execution_count": 38,
   "metadata": {
    "ExecuteTime": {
     "end_time": "2019-09-02T19:14:12.844655Z",
     "start_time": "2019-09-02T19:14:12.798161Z"
    }
   },
   "outputs": [],
   "source": [
    "customer_event_df = customer_event_df.withColumn(\"os\",\n",
    "                                                 os_udf(customer_event_df.userAgent))"
   ]
  },
  {
   "cell_type": "code",
   "execution_count": 39,
   "metadata": {
    "ExecuteTime": {
     "end_time": "2019-09-02T19:14:13.592393Z",
     "start_time": "2019-09-02T19:14:13.548010Z"
    }
   },
   "outputs": [],
   "source": [
    "customer_event_df = customer_event_df.withColumn(\"browser\",\n",
    "                                                 browser_udf(customer_event_df.userAgent))\n",
    "customer_event_df = customer_event_df.withColumn(\"browser_ver\",\n",
    "                                                 version_udf(customer_event_df.userAgent))"
   ]
  },
  {
   "cell_type": "code",
   "execution_count": 40,
   "metadata": {
    "ExecuteTime": {
     "end_time": "2019-09-02T19:14:19.933558Z",
     "start_time": "2019-09-02T19:14:14.372367Z"
    }
   },
   "outputs": [
    {
     "name": "stdout",
     "output_type": "stream",
     "text": [
      "+-------+------+\n",
      "|browser| total|\n",
      "+-------+------+\n",
      "| Chrome|275306|\n",
      "|Firefox|113562|\n",
      "| Safari| 70734|\n",
      "|Trident| 37918|\n",
      "| Mobile| 30485|\n",
      "+-------+------+\n",
      "\n"
     ]
    }
   ],
   "source": [
    "customer_event_df.select(\"browser\").groupby(\"browser\"). \\\n",
    "    agg({'browser': 'count'}).select('browser', col('count(browser)').alias('total')). \\\n",
    "    sort(desc('total')).show()"
   ]
  },
  {
   "cell_type": "code",
   "execution_count": 41,
   "metadata": {
    "ExecuteTime": {
     "end_time": "2019-09-02T19:15:42.534641Z",
     "start_time": "2019-09-02T19:15:38.490405Z"
    }
   },
   "outputs": [
    {
     "name": "stdout",
     "output_type": "stream",
     "text": [
      "+-------------+------+\n",
      "|  browser_ver| total|\n",
      "+-------------+------+\n",
      "|36.0.1985.125|115262|\n",
      "|36.0.1985.143|102205|\n",
      "|         31.0| 99914|\n",
      "| 37.0.2062.94| 43300|\n",
      "|     537.77.4| 40880|\n",
      "|       11D257| 24807|\n",
      "|     537.78.2| 18384|\n",
      "|          7.0| 16141|\n",
      "|          6.0| 11070|\n",
      "|         30.0| 10775|\n",
      "|          5.0| 10707|\n",
      "|37.0.2062.103|  7301|\n",
      "|      600.1.8|  5566|\n",
      "|35.0.1916.153|  4942|\n",
      "|       11D201|  3437|\n",
      "|34.0.1847.116|  2296|\n",
      "|       11D167|  2241|\n",
      "|         24.0|  2072|\n",
      "|      600.1.3|  1800|\n",
      "|    534.59.10|  1783|\n",
      "+-------------+------+\n",
      "only showing top 20 rows\n",
      "\n"
     ]
    }
   ],
   "source": [
    "customer_event_df.select(\"browser_ver\").groupby(\"browser_ver\"). \\\n",
    "    agg({'browser_ver': 'count'}).select('browser_ver', col('count(browser_ver)').alias('total')). \\\n",
    "    sort(desc('total')).show()"
   ]
  },
  {
   "cell_type": "markdown",
   "metadata": {},
   "source": [
    "## Define Churn\n",
    "\n",
    "* There are 99 cancellation of subscription in this tiny dataset.\n",
    "* We create a `churn` label column for the dataset. It returns 1 if `Cancecllation Confirmation` events happens.\n"
   ]
  },
  {
   "cell_type": "code",
   "execution_count": 42,
   "metadata": {
    "ExecuteTime": {
     "end_time": "2019-09-02T19:15:52.407515Z",
     "start_time": "2019-09-02T19:15:48.333997Z"
    }
   },
   "outputs": [
    {
     "data": {
      "text/plain": [
       "99"
      ]
     },
     "execution_count": 42,
     "metadata": {},
     "output_type": "execute_result"
    }
   ],
   "source": [
    "customer_event_df.filter(col(\"page\") == \"Cancellation Confirmation\" ). \\\n",
    "    select(\"userId\").distinct().count()"
   ]
  },
  {
   "cell_type": "code",
   "execution_count": 43,
   "metadata": {
    "ExecuteTime": {
     "end_time": "2019-09-02T19:16:10.731636Z",
     "start_time": "2019-09-02T19:16:10.655731Z"
    }
   },
   "outputs": [],
   "source": [
    "is_cancellation = udf(lambda x: 1 if x == \"Cancellation Confirmation\" else 0, IntegerType())\n",
    "\n",
    "customer_event_df = customer_event_df.withColumn(\"churn\", is_cancellation(\"page\"))\n",
    "# there are users that cancelled their subscription in one of the session \n",
    "# we have to assign 1 to these users\n",
    "window_func = Window.partitionBy(\"userId\").rangeBetween(Window.unboundedPreceding,\n",
    "                                                        Window.unboundedFollowing)\n",
    "customer_event_df = customer_event_df.withColumn(\"churn\", Fsum(\"churn\").over(window_func))"
   ]
  },
  {
   "cell_type": "markdown",
   "metadata": {},
   "source": [
    "## Further Analysis \n",
    "\n",
    "* In this section, we analyze how different features interact with the churn rate.\n",
    "* We convert the `ts` and `registration` feature into datetime object.\n",
    "* Extract day and week feature from `ts` to observe the churn rate of weekday and hour."
   ]
  },
  {
   "cell_type": "code",
   "execution_count": 44,
   "metadata": {
    "ExecuteTime": {
     "end_time": "2019-09-02T19:16:14.336308Z",
     "start_time": "2019-09-02T19:16:11.845061Z"
    }
   },
   "outputs": [
    {
     "name": "stdout",
     "output_type": "stream",
     "text": [
      "+-------+--------------------+\n",
      "|summary|                  ts|\n",
      "+-------+--------------------+\n",
      "|  count|              528005|\n",
      "|   mean|1.540966927748447E12|\n",
      "| stddev| 1.481233094025866E9|\n",
      "|    min|       1538352011000|\n",
      "|    max|       1543622466000|\n",
      "+-------+--------------------+\n",
      "\n"
     ]
    }
   ],
   "source": [
    "# ts feature\n",
    "customer_event_df.select(\"ts\").describe().show()"
   ]
  },
  {
   "cell_type": "code",
   "execution_count": 45,
   "metadata": {
    "ExecuteTime": {
     "end_time": "2019-09-02T19:16:43.143070Z",
     "start_time": "2019-09-02T19:16:43.136455Z"
    }
   },
   "outputs": [
    {
     "name": "stdout",
     "output_type": "stream",
     "text": [
      "Start Time: 2018-10-01 00:00:11\n",
      "End Time: 2018-12-01 00:01:06\n"
     ]
    }
   ],
   "source": [
    "start_ts = int(1538352011000) / 1000\n",
    "start_date = datetime.utcfromtimestamp(start_ts).strftime(\"%Y-%m-%d %H:%M:%S\")\n",
    "print(f\"Start Time: {start_date}\")\n",
    "\n",
    "end_ts = int(1543622466000) / 1000\n",
    "end_date = datetime.utcfromtimestamp(end_ts).strftime(\"%Y-%m-%d %H:%M:%S\")\n",
    "print(f\"End Time: {end_date}\")"
   ]
  },
  {
   "cell_type": "code",
   "execution_count": 46,
   "metadata": {
    "ExecuteTime": {
     "end_time": "2019-09-02T19:16:44.656663Z",
     "start_time": "2019-09-02T19:16:44.649727Z"
    }
   },
   "outputs": [
    {
     "data": {
      "text/plain": [
       "12"
      ]
     },
     "execution_count": 46,
     "metadata": {},
     "output_type": "execute_result"
    }
   ],
   "source": [
    "datetime.fromtimestamp(int(1543622466000) / 1000).month"
   ]
  },
  {
   "cell_type": "code",
   "execution_count": 47,
   "metadata": {
    "ExecuteTime": {
     "end_time": "2019-09-02T19:16:45.952918Z",
     "start_time": "2019-09-02T19:16:45.888940Z"
    }
   },
   "outputs": [],
   "source": [
    "ts_to_day_fn = udf(lambda ts: int(datetime.fromtimestamp(ts / 1000.0).strftime(\"%w\")), IntegerType())\n",
    "ts_to_hour_fn = udf(lambda ts: datetime.fromtimestamp(ts / 1000.0).hour, IntegerType())\n",
    "ts_to_date_fn = udf(lambda ts: datetime.fromtimestamp(ts / 1000.0).date(), DateType())\n",
    "ts_to_month_fn = udf(lambda ts: datetime.fromtimestamp(ts / 1000.0).month, IntegerType())\n",
    "\n",
    "customer_event_df = customer_event_df.withColumn(\"event_weekday\", \n",
    "                                                 ts_to_day_fn(customer_event_df.ts))\n",
    "customer_event_df = customer_event_df.withColumn(\"event_hour\", \n",
    "                                                 ts_to_hour_fn(customer_event_df.ts))\n",
    "customer_event_df = customer_event_df.withColumn(\"event_month\",\n",
    "                                                 ts_to_month_fn(customer_event_df.ts))"
   ]
  },
  {
   "cell_type": "code",
   "execution_count": 48,
   "metadata": {
    "ExecuteTime": {
     "end_time": "2019-09-02T19:16:48.504940Z",
     "start_time": "2019-09-02T19:16:48.473121Z"
    }
   },
   "outputs": [],
   "source": [
    "customer_event_df = customer_event_df.withColumn(\"event_date\",\n",
    "                                                 ts_to_date_fn(customer_event_df.ts))\n",
    "customer_event_df = customer_event_df.withColumn(\"registration_date\",\n",
    "                                                 ts_to_date_fn(customer_event_df.registration))\n"
   ]
  },
  {
   "cell_type": "code",
   "execution_count": 49,
   "metadata": {
    "ExecuteTime": {
     "end_time": "2019-09-02T19:16:50.102130Z",
     "start_time": "2019-09-02T19:16:50.056685Z"
    }
   },
   "outputs": [],
   "source": [
    "def clean_location(s):\n",
    "    \n",
    "    location = s.split(\",\")[1].strip()\n",
    "    \n",
    "    if len(location) >= 3:\n",
    "        location = location.split(\"-\")[0].strip()\n",
    "    return location\n",
    "\n",
    "clean_location_udf = udf(clean_location, StringType())\n",
    "\n",
    "customer_event_df = customer_event_df.withColumn(\"location\",\n",
    "                                                 clean_location_udf(customer_event_df.location))"
   ]
  },
  {
   "cell_type": "code",
   "execution_count": 50,
   "metadata": {
    "ExecuteTime": {
     "end_time": "2019-09-02T19:16:51.529525Z",
     "start_time": "2019-09-02T19:16:51.522221Z"
    }
   },
   "outputs": [
    {
     "name": "stdout",
     "output_type": "stream",
     "text": [
      "root\n",
      " |-- artist: string (nullable = false)\n",
      " |-- auth: string (nullable = true)\n",
      " |-- firstName: string (nullable = true)\n",
      " |-- gender: string (nullable = true)\n",
      " |-- itemInSession: long (nullable = true)\n",
      " |-- lastName: string (nullable = true)\n",
      " |-- length: double (nullable = false)\n",
      " |-- level: string (nullable = true)\n",
      " |-- location: string (nullable = true)\n",
      " |-- method: string (nullable = true)\n",
      " |-- page: string (nullable = true)\n",
      " |-- registration: long (nullable = true)\n",
      " |-- sessionId: long (nullable = true)\n",
      " |-- song: string (nullable = false)\n",
      " |-- status: long (nullable = true)\n",
      " |-- ts: long (nullable = true)\n",
      " |-- userAgent: string (nullable = true)\n",
      " |-- userId: string (nullable = true)\n",
      " |-- os: string (nullable = true)\n",
      " |-- browser: string (nullable = true)\n",
      " |-- browser_ver: string (nullable = true)\n",
      " |-- churn: long (nullable = true)\n",
      " |-- event_weekday: integer (nullable = true)\n",
      " |-- event_hour: integer (nullable = true)\n",
      " |-- event_month: integer (nullable = true)\n",
      " |-- event_date: date (nullable = true)\n",
      " |-- registration_date: date (nullable = true)\n",
      "\n"
     ]
    }
   ],
   "source": [
    "customer_event_df.printSchema()"
   ]
  },
  {
   "cell_type": "code",
   "execution_count": 51,
   "metadata": {
    "ExecuteTime": {
     "end_time": "2019-09-02T19:16:52.813109Z",
     "start_time": "2019-09-02T19:16:52.470129Z"
    }
   },
   "outputs": [],
   "source": [
    "# create a temp view from customer_even_df to use SQL type of syntax for data analysis\n",
    "customer_event_df.createOrReplaceTempView('event');"
   ]
  },
  {
   "cell_type": "code",
   "execution_count": 52,
   "metadata": {
    "ExecuteTime": {
     "end_time": "2019-09-02T19:17:02.533090Z",
     "start_time": "2019-09-02T19:16:53.463950Z"
    }
   },
   "outputs": [],
   "source": [
    "churn_count_df = spark.sql(\"\"\"\n",
    "                           SELECT churn, \n",
    "                                  Count(DISTINCT userid) AS total_user \n",
    "                           FROM   event \n",
    "                           GROUP  BY churn \n",
    "                           \"\"\").toPandas()"
   ]
  },
  {
   "cell_type": "code",
   "execution_count": 53,
   "metadata": {
    "ExecuteTime": {
     "end_time": "2019-09-02T19:17:06.036019Z",
     "start_time": "2019-09-02T19:17:05.825494Z"
    }
   },
   "outputs": [
    {
     "data": {
      "image/png": "[encoded data removed]",
      "text/plain": [
       "<Figure size 576x360 with 1 Axes>"
      ]
     },
     "metadata": {
      "needs_background": "light"
     },
     "output_type": "display_data"
    }
   ],
   "source": [
    "sns_barplot_text(x='churn', y='total_user', data=churn_count_df, title=\"Distrubtion of churn\" )"
   ]
  },
  {
   "cell_type": "markdown",
   "metadata": {},
   "source": [
    "### Gender and churn rate\n",
    "\n",
    "* Males user have a slighly more churn rate than female users"
   ]
  },
  {
   "cell_type": "code",
   "execution_count": 54,
   "metadata": {
    "ExecuteTime": {
     "end_time": "2019-09-02T19:17:11.617225Z",
     "start_time": "2019-09-02T19:17:07.400242Z"
    }
   },
   "outputs": [],
   "source": [
    "gender_count = customer_event_df.select(\"gender\").groupby(\"gender\"). \\\n",
    "    agg({'gender': 'count'}).select('gender', col('count(gender)').alias('total')). \\\n",
    "    sort(desc('total')).toPandas()"
   ]
  },
  {
   "cell_type": "code",
   "execution_count": 55,
   "metadata": {
    "ExecuteTime": {
     "end_time": "2019-09-02T19:17:12.401791Z",
     "start_time": "2019-09-02T19:17:12.240576Z"
    }
   },
   "outputs": [
    {
     "data": {
      "image/png": "[encoded data removed]",
      "text/plain": [
       "<Figure size 576x360 with 1 Axes>"
      ]
     },
     "metadata": {
      "needs_background": "light"
     },
     "output_type": "display_data"
    }
   ],
   "source": [
    "sns_barplot_text('gender', 'total', gender_count, title=\"Distribution of gender\")"
   ]
  },
  {
   "cell_type": "code",
   "execution_count": 56,
   "metadata": {
    "ExecuteTime": {
     "end_time": "2019-09-02T19:17:22.431204Z",
     "start_time": "2019-09-02T19:17:13.015734Z"
    }
   },
   "outputs": [],
   "source": [
    "gender_churn_df = spark.sql(\"\"\"\n",
    "                           SELECT gender, \n",
    "                                  churn, \n",
    "                           Count(DISTINCT userid) AS total_user \n",
    "                           FROM   event \n",
    "                           GROUP  BY gender, \n",
    "                                     churn  \n",
    "                           \"\"\").toPandas()"
   ]
  },
  {
   "cell_type": "code",
   "execution_count": 57,
   "metadata": {
    "ExecuteTime": {
     "end_time": "2019-09-02T19:17:23.314490Z",
     "start_time": "2019-09-02T19:17:23.062354Z"
    }
   },
   "outputs": [
    {
     "data": {
      "image/png": "[encoded data removed]",
      "text/plain": [
       "<Figure size 576x360 with 1 Axes>"
      ]
     },
     "metadata": {
      "needs_background": "light"
     },
     "output_type": "display_data"
    }
   ],
   "source": [
    "sns_barplot_text('churn', 'total_user', gender_churn_df, hue='gender', \n",
    "                 title='Distrubtion of gender vs churn', percentage=False)"
   ]
  },
  {
   "cell_type": "markdown",
   "metadata": {
    "ExecuteTime": {
     "end_time": "2019-08-30T20:10:06.916605Z",
     "start_time": "2019-08-30T20:10:06.905485Z"
    }
   },
   "source": [
    "### Subscription level and churn rate\n",
    "\n",
    "* The is the feature that distinguish free user and paid user.\n",
    "* Around 79.2% of the users are paid user, 20.8% are free users.\n",
    "* 82 users subscribe for one month and cancel their subscription. This may be \"first month trial\" offer by Sparkify."
   ]
  },
  {
   "cell_type": "code",
   "execution_count": 58,
   "metadata": {
    "ExecuteTime": {
     "end_time": "2019-09-02T19:17:28.803076Z",
     "start_time": "2019-09-02T19:17:24.774178Z"
    }
   },
   "outputs": [
    {
     "data": {
      "image/png": "[encoded data removed]",
      "text/plain": [
       "<Figure size 576x360 with 1 Axes>"
      ]
     },
     "metadata": {
      "needs_background": "light"
     },
     "output_type": "display_data"
    }
   ],
   "source": [
    "level_count = customer_event_df.select(\"level\").groupby(\"level\"). \\\n",
    "    agg({'level': 'count'}).select('level', col('count(level)').alias('total')). \\\n",
    "    sort(desc('total')).toPandas()\n",
    "\n",
    "sns_barplot_text('level', 'total', level_count, title=\"Distribution of level\")"
   ]
  },
  {
   "cell_type": "code",
   "execution_count": 59,
   "metadata": {
    "ExecuteTime": {
     "end_time": "2019-09-02T19:17:39.200398Z",
     "start_time": "2019-09-02T19:17:29.668438Z"
    }
   },
   "outputs": [],
   "source": [
    "level_churn_df = spark.sql(\"\"\"\n",
    "                           SELECT level, \n",
    "                                  churn, \n",
    "                           Count(DISTINCT userid) AS total_user \n",
    "                           FROM   event \n",
    "                           GROUP  BY level, \n",
    "                                     churn  \n",
    "                           ORDER BY churn\n",
    "                           \"\"\").toPandas()"
   ]
  },
  {
   "cell_type": "code",
   "execution_count": 60,
   "metadata": {
    "ExecuteTime": {
     "end_time": "2019-09-02T19:17:49.461774Z",
     "start_time": "2019-09-02T19:17:49.224255Z"
    }
   },
   "outputs": [
    {
     "data": {
      "image/png": "[encoded data removed]",
      "text/plain": [
       "<Figure size 576x360 with 1 Axes>"
      ]
     },
     "metadata": {
      "needs_background": "light"
     },
     "output_type": "display_data"
    }
   ],
   "source": [
    "sns_barplot_text('churn', 'total_user', data=level_churn_df, hue='level', \n",
    "                 title='Distrubtion of subscription level vs churn', percentage=False)"
   ]
  },
  {
   "cell_type": "code",
   "execution_count": 61,
   "metadata": {
    "ExecuteTime": {
     "end_time": "2019-09-02T19:18:00.605802Z",
     "start_time": "2019-09-02T19:17:50.249097Z"
    }
   },
   "outputs": [],
   "source": [
    "gender_level_churn_df = spark.sql(\"\"\"\n",
    "                                  SELECT level, \n",
    "                                         gender,\n",
    "                                         churn, \n",
    "                                  Count(DISTINCT userid) AS total_user \n",
    "                                  FROM   event \n",
    "                                  GROUP  BY level,\n",
    "                                            gender,\n",
    "                                            churn  \n",
    "                                  ORDER BY churn\n",
    "                                  \"\"\").toPandas()"
   ]
  },
  {
   "cell_type": "code",
   "execution_count": 62,
   "metadata": {
    "ExecuteTime": {
     "end_time": "2019-09-02T19:18:05.501432Z",
     "start_time": "2019-09-02T19:18:04.701561Z"
    }
   },
   "outputs": [
    {
     "name": "stderr",
     "output_type": "stream",
     "text": [
      "/anaconda3/envs/ds/lib/python3.7/site-packages/seaborn/axisgrid.py:715: UserWarning: Using the barplot function without specifying `order` is likely to produce an incorrect plot.\n",
      "  warnings.warn(warning)\n"
     ]
    },
    {
     "data": {
      "image/png": "[encoded data removed]",
      "text/plain": [
       "<Figure size 432x432 with 4 Axes>"
      ]
     },
     "metadata": {
      "needs_background": "light"
     },
     "output_type": "display_data"
    }
   ],
   "source": [
    "g = sns.FacetGrid(gender_level_churn_df, col=\"level\",  row=\"gender\")\n",
    "g = g.map(sns.barplot, \"churn\", \"total_user\", edgecolor=\"w\")"
   ]
  },
  {
   "cell_type": "markdown",
   "metadata": {},
   "source": [
    "### location and churn rate"
   ]
  },
  {
   "cell_type": "markdown",
   "metadata": {},
   "source": [
    "* Most of the users are from New Youk, LA, Boston and Chicago.\n",
    "* Once we define churn rate, it would  be interesting see the intersection of both features"
   ]
  },
  {
   "cell_type": "code",
   "execution_count": 63,
   "metadata": {
    "ExecuteTime": {
     "end_time": "2019-09-02T19:18:18.505122Z",
     "start_time": "2019-09-02T19:18:13.960494Z"
    }
   },
   "outputs": [
    {
     "data": {
      "text/plain": [
       "49"
      ]
     },
     "execution_count": 63,
     "metadata": {},
     "output_type": "execute_result"
    }
   ],
   "source": [
    "customer_event_df.select(\"location\").distinct().count()"
   ]
  },
  {
   "cell_type": "code",
   "execution_count": 64,
   "metadata": {
    "ExecuteTime": {
     "end_time": "2019-09-02T19:18:28.749200Z",
     "start_time": "2019-09-02T19:18:23.575692Z"
    }
   },
   "outputs": [
    {
     "data": {
      "text/html": [
       "<div>\n",
       "<style scoped>\n",
       "    .dataframe tbody tr th:only-of-type {\n",
       "        vertical-align: middle;\n",
       "    }\n",
       "\n",
       "    .dataframe tbody tr th {\n",
       "        vertical-align: top;\n",
       "    }\n",
       "\n",
       "    .dataframe thead th {\n",
       "        text-align: right;\n",
       "    }\n",
       "</style>\n",
       "<table border=\"1\" class=\"dataframe\">\n",
       "  <thead>\n",
       "    <tr style=\"text-align: right;\">\n",
       "      <th></th>\n",
       "      <th>location</th>\n",
       "      <th>total</th>\n",
       "    </tr>\n",
       "  </thead>\n",
       "  <tbody>\n",
       "    <tr>\n",
       "      <th>0</th>\n",
       "      <td>CA</td>\n",
       "      <td>78171</td>\n",
       "    </tr>\n",
       "    <tr>\n",
       "      <th>1</th>\n",
       "      <td>NY</td>\n",
       "      <td>43710</td>\n",
       "    </tr>\n",
       "    <tr>\n",
       "      <th>2</th>\n",
       "      <td>TX</td>\n",
       "      <td>42442</td>\n",
       "    </tr>\n",
       "    <tr>\n",
       "      <th>3</th>\n",
       "      <td>FL</td>\n",
       "      <td>32129</td>\n",
       "    </tr>\n",
       "    <tr>\n",
       "      <th>4</th>\n",
       "      <td>IL</td>\n",
       "      <td>24855</td>\n",
       "    </tr>\n",
       "  </tbody>\n",
       "</table>\n",
       "</div>"
      ],
      "text/plain": [
       "  location  total\n",
       "0       CA  78171\n",
       "1       NY  43710\n",
       "2       TX  42442\n",
       "3       FL  32129\n",
       "4       IL  24855"
      ]
     },
     "execution_count": 64,
     "metadata": {},
     "output_type": "execute_result"
    }
   ],
   "source": [
    "location_count = customer_event_df.select(\"location\").groupby(\"location\"). \\\n",
    "    agg({'location': 'count'}).select('location', col('count(location)').alias('total')). \\\n",
    "    sort(desc('total')).toPandas()\n",
    "\n",
    "location_count.head(5)"
   ]
  },
  {
   "cell_type": "code",
   "execution_count": 65,
   "metadata": {
    "ExecuteTime": {
     "end_time": "2019-09-02T19:18:41.098708Z",
     "start_time": "2019-09-02T19:18:32.372512Z"
    }
   },
   "outputs": [],
   "source": [
    "location_df = spark.sql(\"\"\"\n",
    "                           SELECT location, \n",
    "                                  Count(DISTINCT userid) AS total_user \n",
    "                           FROM   event \n",
    "                           GROUP  BY location \n",
    "                           ORDER BY total_user\n",
    "                           DESC\n",
    "                           \"\"\").toPandas()"
   ]
  },
  {
   "cell_type": "code",
   "execution_count": 66,
   "metadata": {
    "ExecuteTime": {
     "end_time": "2019-09-02T19:19:00.484098Z",
     "start_time": "2019-09-02T19:18:50.966937Z"
    }
   },
   "outputs": [],
   "source": [
    "location_churn_df = spark.sql(\"\"\"\n",
    "                           SELECT location, \n",
    "                                  Count(DISTINCT userid) AS churn_user \n",
    "                           FROM   event \n",
    "                           WHERE churn=1\n",
    "                           GROUP BY location\n",
    "                           \"\"\").toPandas()\n",
    "\n"
   ]
  },
  {
   "cell_type": "code",
   "execution_count": 67,
   "metadata": {
    "ExecuteTime": {
     "end_time": "2019-09-02T19:19:02.897225Z",
     "start_time": "2019-09-02T19:19:02.884671Z"
    }
   },
   "outputs": [],
   "source": [
    "merge_df = location_churn_df.merge(location_df, on='location').sort_values(by='total_user', ascending=False)"
   ]
  },
  {
   "cell_type": "code",
   "execution_count": 68,
   "metadata": {
    "ExecuteTime": {
     "end_time": "2019-09-02T19:19:03.624913Z",
     "start_time": "2019-09-02T19:19:03.615750Z"
    }
   },
   "outputs": [],
   "source": [
    "merge_df['percentage'] = merge_df['churn_user'] / merge_df['total_user'] * 100"
   ]
  },
  {
   "cell_type": "code",
   "execution_count": 69,
   "metadata": {
    "ExecuteTime": {
     "end_time": "2019-09-02T19:19:04.278012Z",
     "start_time": "2019-09-02T19:19:04.258954Z"
    }
   },
   "outputs": [
    {
     "data": {
      "text/html": [
       "<div>\n",
       "<style scoped>\n",
       "    .dataframe tbody tr th:only-of-type {\n",
       "        vertical-align: middle;\n",
       "    }\n",
       "\n",
       "    .dataframe tbody tr th {\n",
       "        vertical-align: top;\n",
       "    }\n",
       "\n",
       "    .dataframe thead th {\n",
       "        text-align: right;\n",
       "    }\n",
       "</style>\n",
       "<table border=\"1\" class=\"dataframe\">\n",
       "  <thead>\n",
       "    <tr style=\"text-align: right;\">\n",
       "      <th></th>\n",
       "      <th>location</th>\n",
       "      <th>churn_user</th>\n",
       "      <th>total_user</th>\n",
       "      <th>percentage</th>\n",
       "    </tr>\n",
       "  </thead>\n",
       "  <tbody>\n",
       "    <tr>\n",
       "      <th>14</th>\n",
       "      <td>VT</td>\n",
       "      <td>1</td>\n",
       "      <td>1</td>\n",
       "      <td>100.000000</td>\n",
       "    </tr>\n",
       "    <tr>\n",
       "      <th>32</th>\n",
       "      <td>OK</td>\n",
       "      <td>2</td>\n",
       "      <td>3</td>\n",
       "      <td>66.666667</td>\n",
       "    </tr>\n",
       "    <tr>\n",
       "      <th>8</th>\n",
       "      <td>KY</td>\n",
       "      <td>4</td>\n",
       "      <td>6</td>\n",
       "      <td>66.666667</td>\n",
       "    </tr>\n",
       "    <tr>\n",
       "      <th>24</th>\n",
       "      <td>NM</td>\n",
       "      <td>2</td>\n",
       "      <td>3</td>\n",
       "      <td>66.666667</td>\n",
       "    </tr>\n",
       "    <tr>\n",
       "      <th>25</th>\n",
       "      <td>PA</td>\n",
       "      <td>7</td>\n",
       "      <td>17</td>\n",
       "      <td>41.176471</td>\n",
       "    </tr>\n",
       "    <tr>\n",
       "      <th>28</th>\n",
       "      <td>GA</td>\n",
       "      <td>6</td>\n",
       "      <td>15</td>\n",
       "      <td>40.000000</td>\n",
       "    </tr>\n",
       "    <tr>\n",
       "      <th>2</th>\n",
       "      <td>LA</td>\n",
       "      <td>2</td>\n",
       "      <td>5</td>\n",
       "      <td>40.000000</td>\n",
       "    </tr>\n",
       "    <tr>\n",
       "      <th>7</th>\n",
       "      <td>RI</td>\n",
       "      <td>2</td>\n",
       "      <td>5</td>\n",
       "      <td>40.000000</td>\n",
       "    </tr>\n",
       "    <tr>\n",
       "      <th>3</th>\n",
       "      <td>NJ</td>\n",
       "      <td>1</td>\n",
       "      <td>3</td>\n",
       "      <td>33.333333</td>\n",
       "    </tr>\n",
       "    <tr>\n",
       "      <th>22</th>\n",
       "      <td>OH</td>\n",
       "      <td>4</td>\n",
       "      <td>12</td>\n",
       "      <td>33.333333</td>\n",
       "    </tr>\n",
       "    <tr>\n",
       "      <th>5</th>\n",
       "      <td>OR</td>\n",
       "      <td>2</td>\n",
       "      <td>6</td>\n",
       "      <td>33.333333</td>\n",
       "    </tr>\n",
       "    <tr>\n",
       "      <th>9</th>\n",
       "      <td>NH</td>\n",
       "      <td>1</td>\n",
       "      <td>3</td>\n",
       "      <td>33.333333</td>\n",
       "    </tr>\n",
       "    <tr>\n",
       "      <th>10</th>\n",
       "      <td>MI</td>\n",
       "      <td>3</td>\n",
       "      <td>11</td>\n",
       "      <td>27.272727</td>\n",
       "    </tr>\n",
       "    <tr>\n",
       "      <th>17</th>\n",
       "      <td>IL</td>\n",
       "      <td>7</td>\n",
       "      <td>26</td>\n",
       "      <td>26.923077</td>\n",
       "    </tr>\n",
       "    <tr>\n",
       "      <th>26</th>\n",
       "      <td>NY</td>\n",
       "      <td>9</td>\n",
       "      <td>36</td>\n",
       "      <td>25.000000</td>\n",
       "    </tr>\n",
       "    <tr>\n",
       "      <th>16</th>\n",
       "      <td>MO</td>\n",
       "      <td>2</td>\n",
       "      <td>8</td>\n",
       "      <td>25.000000</td>\n",
       "    </tr>\n",
       "    <tr>\n",
       "      <th>30</th>\n",
       "      <td>FL</td>\n",
       "      <td>6</td>\n",
       "      <td>26</td>\n",
       "      <td>23.076923</td>\n",
       "    </tr>\n",
       "    <tr>\n",
       "      <th>20</th>\n",
       "      <td>AL</td>\n",
       "      <td>2</td>\n",
       "      <td>9</td>\n",
       "      <td>22.222222</td>\n",
       "    </tr>\n",
       "    <tr>\n",
       "      <th>12</th>\n",
       "      <td>CT</td>\n",
       "      <td>2</td>\n",
       "      <td>9</td>\n",
       "      <td>22.222222</td>\n",
       "    </tr>\n",
       "    <tr>\n",
       "      <th>23</th>\n",
       "      <td>TN</td>\n",
       "      <td>2</td>\n",
       "      <td>9</td>\n",
       "      <td>22.222222</td>\n",
       "    </tr>\n",
       "  </tbody>\n",
       "</table>\n",
       "</div>"
      ],
      "text/plain": [
       "   location  churn_user  total_user  percentage\n",
       "14       VT           1           1  100.000000\n",
       "32       OK           2           3   66.666667\n",
       "8        KY           4           6   66.666667\n",
       "24       NM           2           3   66.666667\n",
       "25       PA           7          17   41.176471\n",
       "28       GA           6          15   40.000000\n",
       "2        LA           2           5   40.000000\n",
       "7        RI           2           5   40.000000\n",
       "3        NJ           1           3   33.333333\n",
       "22       OH           4          12   33.333333\n",
       "5        OR           2           6   33.333333\n",
       "9        NH           1           3   33.333333\n",
       "10       MI           3          11   27.272727\n",
       "17       IL           7          26   26.923077\n",
       "26       NY           9          36   25.000000\n",
       "16       MO           2           8   25.000000\n",
       "30       FL           6          26   23.076923\n",
       "20       AL           2           9   22.222222\n",
       "12       CT           2           9   22.222222\n",
       "23       TN           2           9   22.222222"
      ]
     },
     "execution_count": 69,
     "metadata": {},
     "output_type": "execute_result"
    }
   ],
   "source": [
    "merge_df.sort_values(by='percentage', ascending=False).head(20)"
   ]
  },
  {
   "cell_type": "code",
   "execution_count": 70,
   "metadata": {
    "ExecuteTime": {
     "end_time": "2019-09-02T19:19:05.939208Z",
     "start_time": "2019-09-02T19:19:05.124806Z"
    }
   },
   "outputs": [
    {
     "data": {
      "text/plain": [
       "<matplotlib.legend.Legend at 0x11603aac8>"
      ]
     },
     "execution_count": 70,
     "metadata": {},
     "output_type": "execute_result"
    },
    {
     "data": {
      "image/png": "[encoded data removed]",
      "text/plain": [
       "<Figure size 576x1080 with 1 Axes>"
      ]
     },
     "metadata": {
      "needs_background": "light"
     },
     "output_type": "display_data"
    }
   ],
   "source": [
    "fig, ax = plt.subplots(figsize=(8, 15))\n",
    "sns.set_color_codes(\"pastel\")\n",
    "sns.barplot(x='total_user', y='location', data=merge_df, ax=ax,\n",
    "            label='total_user',color='b')\n",
    "\n",
    "sns.set_color_codes(\"muted\")\n",
    "sns.barplot(x='churn_user', y='location', data=merge_df, ax=ax, \n",
    "            label='churn_user',color='b')\n",
    "ax.legend(ncol=2, loc=\"lower right\", frameon=True)"
   ]
  },
  {
   "cell_type": "markdown",
   "metadata": {
    "ExecuteTime": {
     "end_time": "2019-08-31T21:48:52.870582Z",
     "start_time": "2019-08-31T21:48:45.278225Z"
    }
   },
   "source": [
    "### page insterection \n",
    "\n",
    "\n",
    "* Most frequent page is NextSong follows by Thumbs Up\n",
    "* NextSong account for almost 82% of the pages\n",
    "* Clearly pages is heavily linked to the churn rate of the user. We will dive deep into \n",
    "\n",
    "#### page with level\n",
    "\n",
    "* More users submit upgrade then users submit downgrades\n",
    "* As expected, more free users rolls advert\n"
   ]
  },
  {
   "cell_type": "code",
   "execution_count": 71,
   "metadata": {
    "ExecuteTime": {
     "end_time": "2019-09-02T19:19:11.716409Z",
     "start_time": "2019-09-02T19:19:07.249224Z"
    }
   },
   "outputs": [
    {
     "data": {
      "text/html": [
       "<div>\n",
       "<style scoped>\n",
       "    .dataframe tbody tr th:only-of-type {\n",
       "        vertical-align: middle;\n",
       "    }\n",
       "\n",
       "    .dataframe tbody tr th {\n",
       "        vertical-align: top;\n",
       "    }\n",
       "\n",
       "    .dataframe thead th {\n",
       "        text-align: right;\n",
       "    }\n",
       "</style>\n",
       "<table border=\"1\" class=\"dataframe\">\n",
       "  <thead>\n",
       "    <tr style=\"text-align: right;\">\n",
       "      <th></th>\n",
       "      <th>page</th>\n",
       "      <th>total</th>\n",
       "      <th>percentage</th>\n",
       "    </tr>\n",
       "  </thead>\n",
       "  <tbody>\n",
       "    <tr>\n",
       "      <th>0</th>\n",
       "      <td>NextSong</td>\n",
       "      <td>432877</td>\n",
       "      <td>0.819835</td>\n",
       "    </tr>\n",
       "    <tr>\n",
       "      <th>1</th>\n",
       "      <td>Thumbs Up</td>\n",
       "      <td>23826</td>\n",
       "      <td>0.045125</td>\n",
       "    </tr>\n",
       "    <tr>\n",
       "      <th>2</th>\n",
       "      <td>Home</td>\n",
       "      <td>19089</td>\n",
       "      <td>0.036153</td>\n",
       "    </tr>\n",
       "    <tr>\n",
       "      <th>3</th>\n",
       "      <td>Add to Playlist</td>\n",
       "      <td>12349</td>\n",
       "      <td>0.023388</td>\n",
       "    </tr>\n",
       "    <tr>\n",
       "      <th>4</th>\n",
       "      <td>Add Friend</td>\n",
       "      <td>8087</td>\n",
       "      <td>0.015316</td>\n",
       "    </tr>\n",
       "    <tr>\n",
       "      <th>5</th>\n",
       "      <td>Roll Advert</td>\n",
       "      <td>7773</td>\n",
       "      <td>0.014721</td>\n",
       "    </tr>\n",
       "    <tr>\n",
       "      <th>6</th>\n",
       "      <td>Logout</td>\n",
       "      <td>5990</td>\n",
       "      <td>0.011345</td>\n",
       "    </tr>\n",
       "    <tr>\n",
       "      <th>7</th>\n",
       "      <td>Thumbs Down</td>\n",
       "      <td>4911</td>\n",
       "      <td>0.009301</td>\n",
       "    </tr>\n",
       "    <tr>\n",
       "      <th>8</th>\n",
       "      <td>Downgrade</td>\n",
       "      <td>3811</td>\n",
       "      <td>0.007218</td>\n",
       "    </tr>\n",
       "    <tr>\n",
       "      <th>9</th>\n",
       "      <td>Settings</td>\n",
       "      <td>2964</td>\n",
       "      <td>0.005614</td>\n",
       "    </tr>\n",
       "    <tr>\n",
       "      <th>10</th>\n",
       "      <td>Help</td>\n",
       "      <td>2644</td>\n",
       "      <td>0.005008</td>\n",
       "    </tr>\n",
       "    <tr>\n",
       "      <th>11</th>\n",
       "      <td>About</td>\n",
       "      <td>1026</td>\n",
       "      <td>0.001943</td>\n",
       "    </tr>\n",
       "    <tr>\n",
       "      <th>12</th>\n",
       "      <td>Upgrade</td>\n",
       "      <td>968</td>\n",
       "      <td>0.001833</td>\n",
       "    </tr>\n",
       "    <tr>\n",
       "      <th>13</th>\n",
       "      <td>Save Settings</td>\n",
       "      <td>585</td>\n",
       "      <td>0.001108</td>\n",
       "    </tr>\n",
       "    <tr>\n",
       "      <th>14</th>\n",
       "      <td>Error</td>\n",
       "      <td>503</td>\n",
       "      <td>0.000953</td>\n",
       "    </tr>\n",
       "    <tr>\n",
       "      <th>15</th>\n",
       "      <td>Submit Upgrade</td>\n",
       "      <td>287</td>\n",
       "      <td>0.000544</td>\n",
       "    </tr>\n",
       "    <tr>\n",
       "      <th>16</th>\n",
       "      <td>Submit Downgrade</td>\n",
       "      <td>117</td>\n",
       "      <td>0.000222</td>\n",
       "    </tr>\n",
       "    <tr>\n",
       "      <th>17</th>\n",
       "      <td>Cancel</td>\n",
       "      <td>99</td>\n",
       "      <td>0.000187</td>\n",
       "    </tr>\n",
       "    <tr>\n",
       "      <th>18</th>\n",
       "      <td>Cancellation Confirmation</td>\n",
       "      <td>99</td>\n",
       "      <td>0.000187</td>\n",
       "    </tr>\n",
       "  </tbody>\n",
       "</table>\n",
       "</div>"
      ],
      "text/plain": [
       "                         page   total  percentage\n",
       "0                    NextSong  432877    0.819835\n",
       "1                   Thumbs Up   23826    0.045125\n",
       "2                        Home   19089    0.036153\n",
       "3             Add to Playlist   12349    0.023388\n",
       "4                  Add Friend    8087    0.015316\n",
       "5                 Roll Advert    7773    0.014721\n",
       "6                      Logout    5990    0.011345\n",
       "7                 Thumbs Down    4911    0.009301\n",
       "8                   Downgrade    3811    0.007218\n",
       "9                    Settings    2964    0.005614\n",
       "10                       Help    2644    0.005008\n",
       "11                      About    1026    0.001943\n",
       "12                    Upgrade     968    0.001833\n",
       "13              Save Settings     585    0.001108\n",
       "14                      Error     503    0.000953\n",
       "15             Submit Upgrade     287    0.000544\n",
       "16           Submit Downgrade     117    0.000222\n",
       "17                     Cancel      99    0.000187\n",
       "18  Cancellation Confirmation      99    0.000187"
      ]
     },
     "execution_count": 71,
     "metadata": {},
     "output_type": "execute_result"
    }
   ],
   "source": [
    "page_count = customer_event_df.select(\"page\").groupby(\"page\"). \\\n",
    "    agg({'page': 'count'}).select('page', col('count(page)').alias('total')). \\\n",
    "    sort(desc('total')).toPandas()\n",
    "\n",
    "page_count['percentage'] = page_count['total']/ page_count['total'].sum()\n",
    "\n",
    "page_count"
   ]
  },
  {
   "cell_type": "code",
   "execution_count": 72,
   "metadata": {
    "ExecuteTime": {
     "end_time": "2019-09-02T19:19:19.040569Z",
     "start_time": "2019-09-02T19:19:18.202472Z"
    }
   },
   "outputs": [
    {
     "data": {
      "image/png": "[encoded data removed]",
      "text/plain": [
       "<Figure size 576x720 with 1 Axes>"
      ]
     },
     "metadata": {
      "needs_background": "light"
     },
     "output_type": "display_data"
    }
   ],
   "source": [
    "current_palette = sns.color_palette()\n",
    "fig, ax = plt.subplots(figsize=(8, 10))\n",
    "\n",
    "sns.barplot(x=page_count['total'],\n",
    "            y=page_count['page'],\n",
    "            log=True,\n",
    "            ax=ax,\n",
    "            palette=current_palette)\n",
    "ax.set_title(\"Page Distribution\");\n"
   ]
  },
  {
   "cell_type": "code",
   "execution_count": 73,
   "metadata": {
    "ExecuteTime": {
     "end_time": "2019-09-02T19:19:23.310547Z",
     "start_time": "2019-09-02T19:19:19.767621Z"
    }
   },
   "outputs": [],
   "source": [
    "page_gender_df = spark.sql(\"\"\"\n",
    "                    SELECT page,\n",
    "                           gender,\n",
    "                           COUNT(userId) AS total_visit\n",
    "                    FROM   event\n",
    "                    GROUP BY page,\n",
    "                             gender\n",
    "                    \"\"\").toPandas()"
   ]
  },
  {
   "cell_type": "code",
   "execution_count": 74,
   "metadata": {
    "ExecuteTime": {
     "end_time": "2019-09-02T19:19:28.043125Z",
     "start_time": "2019-09-02T19:19:27.250565Z"
    }
   },
   "outputs": [
    {
     "data": {
      "image/png": "[encoded data removed]",
      "text/plain": [
       "<Figure size 720x576 with 1 Axes>"
      ]
     },
     "metadata": {
      "needs_background": "light"
     },
     "output_type": "display_data"
    }
   ],
   "source": [
    "sns_barplot_text(x='page', y='total_visit', data=page_gender_df, hue=\"gender\",\n",
    "                 title=\"Distribution of page and gender\", percentage=False,\n",
    "                 text=False, log=True, figsize=(10, 8))"
   ]
  },
  {
   "cell_type": "code",
   "execution_count": 75,
   "metadata": {
    "ExecuteTime": {
     "end_time": "2019-09-02T19:19:47.332778Z",
     "start_time": "2019-09-02T19:19:37.105973Z"
    }
   },
   "outputs": [],
   "source": [
    "page_churn_df = spark.sql(\"\"\"\n",
    "                    SELECT page,\n",
    "                           churn,\n",
    "                           COUNT(DISTINCT(userId)) AS total_user\n",
    "                    FROM   event\n",
    "                    GROUP BY page,\n",
    "                             churn\n",
    "                    \"\"\").toPandas()"
   ]
  },
  {
   "cell_type": "code",
   "execution_count": 76,
   "metadata": {
    "ExecuteTime": {
     "end_time": "2019-09-02T19:19:53.941725Z",
     "start_time": "2019-09-02T19:19:53.365552Z"
    }
   },
   "outputs": [
    {
     "data": {
      "image/png": "[encoded data removed]",
      "text/plain": [
       "<Figure size 720x360 with 1 Axes>"
      ]
     },
     "metadata": {
      "needs_background": "light"
     },
     "output_type": "display_data"
    }
   ],
   "source": [
    "sns_barplot_text(x='page', y='total_user', data=page_churn_df, hue=\"churn\",\n",
    "                 title=\"Distribution of page and churn\", percentage=False,\n",
    "                 text=False, figsize=(10, 5))"
   ]
  },
  {
   "cell_type": "markdown",
   "metadata": {},
   "source": [
    "### Day, hour feature intersection\n",
    "\n",
    "#### Day of the week page visit churn rate\n",
    "\n",
    "* less users using Sparkify on Sunday and Saturday resulting less churn\n",
    "* "
   ]
  },
  {
   "cell_type": "code",
   "execution_count": 77,
   "metadata": {
    "ExecuteTime": {
     "end_time": "2019-09-02T19:22:39.920623Z",
     "start_time": "2019-09-02T19:19:55.368122Z"
    }
   },
   "outputs": [],
   "source": [
    "day_user_churn_df = spark.sql(\"\"\"\n",
    "                    SELECT event_weekday,\n",
    "                           churn,\n",
    "                           COUNT(DISTINCT(userId)) AS total_user\n",
    "                    FROM   event\n",
    "                    GROUP BY event_weekday,\n",
    "                             churn\n",
    "                    \"\"\").toPandas()"
   ]
  },
  {
   "cell_type": "code",
   "execution_count": 78,
   "metadata": {
    "ExecuteTime": {
     "end_time": "2019-09-02T19:22:41.928083Z",
     "start_time": "2019-09-02T19:22:41.921989Z"
    }
   },
   "outputs": [],
   "source": [
    "day_user_churn_df = day_user_churn_df.sort_values(by=\"event_weekday\")"
   ]
  },
  {
   "cell_type": "code",
   "execution_count": 79,
   "metadata": {
    "ExecuteTime": {
     "end_time": "2019-09-02T19:22:43.076308Z",
     "start_time": "2019-09-02T19:22:42.760593Z"
    }
   },
   "outputs": [
    {
     "data": {
      "image/png": "[encoded data removed]",
      "text/plain": [
       "<Figure size 576x360 with 1 Axes>"
      ]
     },
     "metadata": {
      "needs_background": "light"
     },
     "output_type": "display_data"
    }
   ],
   "source": [
    "sns_barplot_text(x='event_weekday', y='total_user', data=day_user_churn_df, hue=\"churn\",\n",
    "                 title=\"Distribution of user by day with churn status\", percentage=False,\n",
    "                 text=True)"
   ]
  },
  {
   "cell_type": "code",
   "execution_count": 80,
   "metadata": {
    "ExecuteTime": {
     "end_time": "2019-09-02T19:25:26.130666Z",
     "start_time": "2019-09-02T19:22:43.733793Z"
    }
   },
   "outputs": [],
   "source": [
    "day_event_churn_df = spark.sql(\"\"\"\n",
    "                    SELECT event_weekday,\n",
    "                           churn,\n",
    "                           COUNT(userId) AS total_event\n",
    "                    FROM   event\n",
    "                    GROUP BY event_weekday,\n",
    "                             churn\n",
    "                    ORDER BY event_weekday\n",
    "                    \"\"\").toPandas()"
   ]
  },
  {
   "cell_type": "code",
   "execution_count": 81,
   "metadata": {
    "ExecuteTime": {
     "end_time": "2019-09-02T19:25:28.908180Z",
     "start_time": "2019-09-02T19:25:28.582130Z"
    }
   },
   "outputs": [
    {
     "data": {
      "image/png": "[encoded data removed]",
      "text/plain": [
       "<Figure size 720x360 with 1 Axes>"
      ]
     },
     "metadata": {
      "needs_background": "light"
     },
     "output_type": "display_data"
    }
   ],
   "source": [
    "sns_barplot_text(x='event_weekday', y='total_event', data=day_event_churn_df, hue=\"churn\",\n",
    "                 title=\"Distribution of user event with churn status\", percentage=False,\n",
    "                 text=True, figsize=(10, 5))"
   ]
  },
  {
   "cell_type": "code",
   "execution_count": 82,
   "metadata": {
    "ExecuteTime": {
     "end_time": "2019-09-02T19:27:27.812643Z",
     "start_time": "2019-09-02T19:25:29.557999Z"
    }
   },
   "outputs": [],
   "source": [
    "hour_user_churn_df = spark.sql(\"\"\"\n",
    "                    SELECT event_hour,\n",
    "                           churn,\n",
    "                           COUNT(DISTINCT(userId)) AS total_user\n",
    "                    FROM   event\n",
    "                    GROUP BY event_hour,\n",
    "                             churn\n",
    "                    ORDER BY event_hour\n",
    "                    \"\"\").toPandas()"
   ]
  },
  {
   "cell_type": "code",
   "execution_count": 83,
   "metadata": {
    "ExecuteTime": {
     "end_time": "2019-09-02T19:30:10.134584Z",
     "start_time": "2019-09-02T19:30:09.568870Z"
    }
   },
   "outputs": [
    {
     "data": {
      "image/png": "[encoded data removed]",
      "text/plain": [
       "<Figure size 864x360 with 1 Axes>"
      ]
     },
     "metadata": {
      "needs_background": "light"
     },
     "output_type": "display_data"
    }
   ],
   "source": [
    "sns_barplot_text(x='event_hour', y='total_user', data=hour_user_churn_df, hue=\"churn\",\n",
    "                 title=\"Distribution of user by hour with churn status\", percentage=False,\n",
    "                 text=False, figsize=(12,5))"
   ]
  },
  {
   "cell_type": "code",
   "execution_count": 84,
   "metadata": {
    "ExecuteTime": {
     "end_time": "2019-09-02T19:32:03.261259Z",
     "start_time": "2019-09-02T19:30:10.704082Z"
    }
   },
   "outputs": [],
   "source": [
    "hour_event_churn_df = spark.sql(\"\"\"\n",
    "                    SELECT event_hour,\n",
    "                           churn,\n",
    "                           COUNT(userId) AS total_event\n",
    "                    FROM   event\n",
    "                    GROUP BY event_hour,\n",
    "                             churn\n",
    "                    ORDER BY event_hour\n",
    "                    \"\"\").toPandas()"
   ]
  },
  {
   "cell_type": "code",
   "execution_count": 85,
   "metadata": {
    "ExecuteTime": {
     "end_time": "2019-09-02T19:32:23.747842Z",
     "start_time": "2019-09-02T19:32:23.212647Z"
    }
   },
   "outputs": [
    {
     "data": {
      "image/png": "[encoded data removed]",
      "text/plain": [
       "<Figure size 864x360 with 1 Axes>"
      ]
     },
     "metadata": {
      "needs_background": "light"
     },
     "output_type": "display_data"
    }
   ],
   "source": [
    "sns_barplot_text(x='event_hour', y='total_event', data=hour_event_churn_df, hue=\"churn\",\n",
    "                 title=\"Distribution of user event with churn status\", percentage=False,\n",
    "                 text=False, figsize=(12,5))"
   ]
  },
  {
   "cell_type": "code",
   "execution_count": 86,
   "metadata": {
    "ExecuteTime": {
     "end_time": "2019-09-02T19:34:16.471751Z",
     "start_time": "2019-09-02T19:32:24.407333Z"
    }
   },
   "outputs": [],
   "source": [
    "daily_counts_df = spark.sql(\"\"\"\n",
    "                            SELECT event_date,\n",
    "                                   churn,\n",
    "                                   COUNT(userId) AS total_event\n",
    "                            FROM   event\n",
    "                            GROUP BY event_date,\n",
    "                                     churn\n",
    "                            ORDER BY event_date\n",
    "                            \"\"\").toPandas()"
   ]
  },
  {
   "cell_type": "code",
   "execution_count": 87,
   "metadata": {
    "ExecuteTime": {
     "end_time": "2019-09-02T19:35:17.288793Z",
     "start_time": "2019-09-02T19:35:16.923604Z"
    }
   },
   "outputs": [
    {
     "name": "stderr",
     "output_type": "stream",
     "text": [
      "/anaconda3/envs/ds/lib/python3.7/site-packages/pandas/plotting/_matplotlib/converter.py:102: FutureWarning: Using an implicitly registered datetime converter for a matplotlib plotting method. The converter was registered by pandas on import. Future versions of pandas will require you to explicitly register matplotlib converters.\n",
      "\n",
      "To register the converters:\n",
      "\t>>> from pandas.plotting import register_matplotlib_converters\n",
      "\t>>> register_matplotlib_converters()\n",
      "  warnings.warn(msg, FutureWarning)\n"
     ]
    },
    {
     "data": {
      "image/png": "[encoded data removed]",
      "text/plain": [
       "<Figure size 720x360 with 1 Axes>"
      ]
     },
     "metadata": {
      "needs_background": "light"
     },
     "output_type": "display_data"
    }
   ],
   "source": [
    "fig, ax = plt.subplots(figsize=(10, 5))\n",
    "sns.lineplot(x=\"event_date\",\n",
    "             y='total_event',\n",
    "             hue='churn',\n",
    "             data=daily_counts_df,\n",
    "             ax=ax)\n",
    "plt.xticks(rotation=30, ha=\"right\");\n"
   ]
  },
  {
   "cell_type": "code",
   "execution_count": 88,
   "metadata": {
    "ExecuteTime": {
     "end_time": "2019-09-02T19:37:14.769577Z",
     "start_time": "2019-09-02T19:35:18.068729Z"
    }
   },
   "outputs": [],
   "source": [
    "daily_user_counts_df = spark.sql(\"\"\"\n",
    "                                 SELECT event_date,\n",
    "                                        churn,\n",
    "                                        COUNT(DISTINCT(userId)) AS total_user\n",
    "                                 FROM   event\n",
    "                                 GROUP BY event_date,\n",
    "                                          churn\n",
    "                                 ORDER BY event_date\n",
    "                                \"\"\").toPandas()"
   ]
  },
  {
   "cell_type": "code",
   "execution_count": 89,
   "metadata": {
    "ExecuteTime": {
     "end_time": "2019-09-02T19:38:38.040140Z",
     "start_time": "2019-09-02T19:38:37.622014Z"
    }
   },
   "outputs": [
    {
     "data": {
      "image/png": "[encoded data removed]",
      "text/plain": [
       "<Figure size 720x360 with 1 Axes>"
      ]
     },
     "metadata": {
      "needs_background": "light"
     },
     "output_type": "display_data"
    }
   ],
   "source": [
    "fig, ax = plt.subplots(figsize=(10, 5))\n",
    "sns.lineplot(x=\"event_date\",\n",
    "             y='total_user',\n",
    "             hue='churn',\n",
    "             data=daily_user_counts_df,\n",
    "             ax=ax)\n",
    "ax.set_title(\"Daily user count according to churn status \")\n",
    "ax.set_xlabel(\"date\")\n",
    "ax.set_ylabel(\"count\")\n",
    "plt.xticks(rotation=30, ha=\"right\");"
   ]
  },
  {
   "cell_type": "code",
   "execution_count": 90,
   "metadata": {
    "ExecuteTime": {
     "end_time": "2019-09-02T19:38:38.747335Z",
     "start_time": "2019-09-02T19:38:38.742252Z"
    }
   },
   "outputs": [
    {
     "name": "stdout",
     "output_type": "stream",
     "text": [
      "root\n",
      " |-- artist: string (nullable = false)\n",
      " |-- auth: string (nullable = true)\n",
      " |-- firstName: string (nullable = true)\n",
      " |-- gender: string (nullable = true)\n",
      " |-- itemInSession: long (nullable = true)\n",
      " |-- lastName: string (nullable = true)\n",
      " |-- length: double (nullable = false)\n",
      " |-- level: string (nullable = true)\n",
      " |-- location: string (nullable = true)\n",
      " |-- method: string (nullable = true)\n",
      " |-- page: string (nullable = true)\n",
      " |-- registration: long (nullable = true)\n",
      " |-- sessionId: long (nullable = true)\n",
      " |-- song: string (nullable = false)\n",
      " |-- status: long (nullable = true)\n",
      " |-- ts: long (nullable = true)\n",
      " |-- userAgent: string (nullable = true)\n",
      " |-- userId: string (nullable = true)\n",
      " |-- os: string (nullable = true)\n",
      " |-- browser: string (nullable = true)\n",
      " |-- browser_ver: string (nullable = true)\n",
      " |-- churn: long (nullable = true)\n",
      " |-- event_weekday: integer (nullable = true)\n",
      " |-- event_hour: integer (nullable = true)\n",
      " |-- event_month: integer (nullable = true)\n",
      " |-- event_date: date (nullable = true)\n",
      " |-- registration_date: date (nullable = true)\n",
      "\n"
     ]
    }
   ],
   "source": [
    "customer_event_df.printSchema()"
   ]
  },
  {
   "cell_type": "markdown",
   "metadata": {},
   "source": [
    "### useragent related features\n",
    "\n",
    "#### browser\n",
    "\n",
    "* 40% of mobile browser users has churn. 26% of Firefox user churn\n"
   ]
  },
  {
   "cell_type": "code",
   "execution_count": 91,
   "metadata": {
    "ExecuteTime": {
     "end_time": "2019-09-02T19:38:53.368257Z",
     "start_time": "2019-09-02T19:38:43.384887Z"
    }
   },
   "outputs": [],
   "source": [
    "browser_churn_df = spark.sql(\"\"\"\n",
    "                            SELECT browser,\n",
    "                                   churn,\n",
    "                                   COUNT(DISTINCT(userId)) AS total_user\n",
    "                            FROM   event\n",
    "                            GROUP BY browser,\n",
    "                                     churn\n",
    "                            ORDER BY browser\n",
    "                            \"\"\").toPandas()"
   ]
  },
  {
   "cell_type": "code",
   "execution_count": 92,
   "metadata": {
    "ExecuteTime": {
     "end_time": "2019-09-02T19:38:59.005380Z",
     "start_time": "2019-09-02T19:38:58.995707Z"
    }
   },
   "outputs": [
    {
     "data": {
      "text/plain": [
       "browser\n",
       "Chrome     229\n",
       "Firefox     99\n",
       "Mobile      27\n",
       "Safari      62\n",
       "Trident     31\n",
       "Name: total_user, dtype: int64"
      ]
     },
     "execution_count": 92,
     "metadata": {},
     "output_type": "execute_result"
    }
   ],
   "source": [
    "browser_churn_df.groupby(\"browser\")['total_user'].sum()"
   ]
  },
  {
   "cell_type": "code",
   "execution_count": 93,
   "metadata": {
    "ExecuteTime": {
     "end_time": "2019-09-02T19:38:59.938661Z",
     "start_time": "2019-09-02T19:38:59.927110Z"
    }
   },
   "outputs": [
    {
     "data": {
      "text/plain": [
       "0    19.213974\n",
       "2    26.262626\n",
       "4    40.740741\n",
       "7    17.741935\n",
       "9    22.580645\n",
       "Name: total_user, dtype: float64"
      ]
     },
     "execution_count": 93,
     "metadata": {},
     "output_type": "execute_result"
    }
   ],
   "source": [
    "browser_churn_df.loc[browser_churn_df.churn==1, 'total_user'] / browser_churn_df.groupby(\"browser\")['total_user'].sum().values * 100"
   ]
  },
  {
   "cell_type": "code",
   "execution_count": 94,
   "metadata": {
    "ExecuteTime": {
     "end_time": "2019-09-02T19:39:01.145556Z",
     "start_time": "2019-09-02T19:39:00.873966Z"
    }
   },
   "outputs": [
    {
     "data": {
      "image/png": "[encoded data removed]",
      "text/plain": [
       "<Figure size 576x360 with 1 Axes>"
      ]
     },
     "metadata": {
      "needs_background": "light"
     },
     "output_type": "display_data"
    }
   ],
   "source": [
    "sns_barplot_text(x='browser', y='total_user', data=browser_churn_df, hue='churn',\n",
    "                 title=\"Distribution of user browser with churn\", percentage=False,\n",
    "                 text=True)"
   ]
  },
  {
   "cell_type": "markdown",
   "metadata": {},
   "source": [
    "\n",
    "#### os\n",
    "\n",
    "* 61% of iphone os users has churned, no ipad users churn"
   ]
  },
  {
   "cell_type": "code",
   "execution_count": 95,
   "metadata": {
    "ExecuteTime": {
     "end_time": "2019-09-02T19:39:13.933255Z",
     "start_time": "2019-09-02T19:39:03.177365Z"
    }
   },
   "outputs": [],
   "source": [
    "os_churn_df = spark.sql(\"\"\"\n",
    "                        SELECT os,\n",
    "                               churn,\n",
    "                               COUNT(DISTINCT(userId)) AS total_user\n",
    "                        FROM   event\n",
    "                        GROUP BY os,\n",
    "                                 churn\n",
    "                        ORDER BY os\n",
    "                        \"\"\").toPandas()\n"
   ]
  },
  {
   "cell_type": "code",
   "execution_count": 96,
   "metadata": {
    "ExecuteTime": {
     "end_time": "2019-09-02T19:39:15.306846Z",
     "start_time": "2019-09-02T19:39:14.905158Z"
    }
   },
   "outputs": [
    {
     "name": "stderr",
     "output_type": "stream",
     "text": [
      "posx and posy should be finite values\n",
      "posx and posy should be finite values\n",
      "posx and posy should be finite values\n"
     ]
    },
    {
     "data": {
      "image/png": "[encoded data removed]",
      "text/plain": [
       "<Figure size 576x360 with 1 Axes>"
      ]
     },
     "metadata": {
      "needs_background": "light"
     },
     "output_type": "display_data"
    }
   ],
   "source": [
    "sns_barplot_text(x='os', y='total_user', data=os_churn_df, hue='churn',\n",
    "                 title=\"Distribution of user os with churn\", percentage=False,\n",
    "                 text=True)"
   ]
  },
  {
   "cell_type": "code",
   "execution_count": 97,
   "metadata": {
    "ExecuteTime": {
     "end_time": "2019-09-02T19:39:25.297328Z",
     "start_time": "2019-09-02T19:39:16.116476Z"
    }
   },
   "outputs": [],
   "source": [
    "os_level_df = spark.sql(\"\"\"\n",
    "                        SELECT os,\n",
    "                               level,\n",
    "                               COUNT(DISTINCT(userId)) AS total_user\n",
    "                        FROM   event\n",
    "                        GROUP BY os,\n",
    "                                 level\n",
    "                        ORDER BY os\n",
    "                        \"\"\").toPandas()"
   ]
  },
  {
   "cell_type": "markdown",
   "metadata": {},
   "source": [
    "# Feature Engineering\n"
   ]
  },
  {
   "cell_type": "markdown",
   "metadata": {},
   "source": [
    "## total number of artist listened\n",
    "\n",
    "* count the number of aritst each userid listened"
   ]
  },
  {
   "cell_type": "code",
   "execution_count": 98,
   "metadata": {
    "ExecuteTime": {
     "end_time": "2019-09-02T19:40:21.045737Z",
     "start_time": "2019-09-02T19:39:56.548150Z"
    }
   },
   "outputs": [
    {
     "name": "stdout",
     "output_type": "stream",
     "text": [
      "+------+------------+\n",
      "|userId|total_artist|\n",
      "+------+------------+\n",
      "|200002|         287|\n",
      "|100010|          94|\n",
      "|   296|         108|\n",
      "|   125|          61|\n",
      "|   124|        1240|\n",
      "+------+------------+\n",
      "only showing top 5 rows\n",
      "\n"
     ]
    }
   ],
   "source": [
    "count_artist = customer_event_df \\\n",
    "    .filter(col(\"page\") == \"NextSong\") \\\n",
    "    .select(\"userId\", \"artist\") \\\n",
    "    .dropDuplicates() \\\n",
    "    .groupby(\"userId\") \\\n",
    "    .count() \\\n",
    "    .withColumnRenamed('count', 'total_artist') \\\n",
    "\n",
    "count_artist.show(5)"
   ]
  },
  {
   "cell_type": "markdown",
   "metadata": {},
   "source": [
    "## Binarise gender, level"
   ]
  },
  {
   "cell_type": "code",
   "execution_count": 99,
   "metadata": {
    "ExecuteTime": {
     "end_time": "2019-09-02T19:40:26.572402Z",
     "start_time": "2019-09-02T19:40:23.634865Z"
    }
   },
   "outputs": [
    {
     "name": "stdout",
     "output_type": "stream",
     "text": [
      "+------+------+\n",
      "|userId|gender|\n",
      "+------+------+\n",
      "|   234|     0|\n",
      "|   188|     1|\n",
      "|    44|     1|\n",
      "|   273|     0|\n",
      "|    46|     1|\n",
      "+------+------+\n",
      "only showing top 5 rows\n",
      "\n"
     ]
    }
   ],
   "source": [
    "binarize_gender = customer_event_df \\\n",
    "    .select(\"userId\", \"gender\") \\\n",
    "    .dropDuplicates() \\\n",
    "    .replace([\"M\", \"F\"], [\"0\", \"1\"], \"gender\") \\\n",
    "    .select(\"userId\", col(\"gender\").cast(\"int\"))\n",
    "\n",
    "binarize_gender.show(5)"
   ]
  },
  {
   "cell_type": "code",
   "execution_count": 100,
   "metadata": {
    "ExecuteTime": {
     "end_time": "2019-09-02T19:40:43.077536Z",
     "start_time": "2019-09-02T19:40:40.264816Z"
    }
   },
   "outputs": [
    {
     "name": "stdout",
     "output_type": "stream",
     "text": [
      "+------+-----+\n",
      "|userId|level|\n",
      "+------+-----+\n",
      "|    94|    1|\n",
      "|100021|    0|\n",
      "|100029|    0|\n",
      "|    18|    0|\n",
      "|200050|    1|\n",
      "+------+-----+\n",
      "only showing top 5 rows\n",
      "\n"
     ]
    }
   ],
   "source": [
    "binarize_level = customer_event_df \\\n",
    "    .select(\"userId\", \"level\") \\\n",
    "    .dropDuplicates() \\\n",
    "    .replace([\"free\", \"paid\"], [\"0\", \"1\"], 'level') \\\n",
    "    .select(\"userId\", col(\"level\").cast(\"int\"))\n",
    "\n",
    "binarize_level.show(5)"
   ]
  },
  {
   "cell_type": "markdown",
   "metadata": {},
   "source": [
    "## Page features\n",
    "\n",
    "### downgrades page"
   ]
  },
  {
   "cell_type": "code",
   "execution_count": 101,
   "metadata": {
    "ExecuteTime": {
     "end_time": "2019-09-02T19:40:47.788896Z",
     "start_time": "2019-09-02T19:40:45.040579Z"
    }
   },
   "outputs": [
    {
     "name": "stdout",
     "output_type": "stream",
     "text": [
      "+------+-------------+\n",
      "|userId|num_downgrade|\n",
      "+------+-------------+\n",
      "|   296|            1|\n",
      "|200002|            3|\n",
      "|    51|            4|\n",
      "|   124|           21|\n",
      "|   205|           10|\n",
      "+------+-------------+\n",
      "only showing top 5 rows\n",
      "\n"
     ]
    }
   ],
   "source": [
    "downgrade_feat = customer_event_df \\\n",
    "    .select(\"userId\", \"page\") \\\n",
    "    .where(col(\"page\") == \"Downgrade\") \\\n",
    "    .groupby(\"userId\") \\\n",
    "    .count() \\\n",
    "    .withColumnRenamed(\"count\", \"num_downgrade\")\n",
    "\n",
    "downgrade_feat.show(5)"
   ]
  },
  {
   "cell_type": "markdown",
   "metadata": {},
   "source": [
    "### Roll Advert page"
   ]
  },
  {
   "cell_type": "code",
   "execution_count": 102,
   "metadata": {
    "ExecuteTime": {
     "end_time": "2019-09-02T19:41:11.592920Z",
     "start_time": "2019-09-02T19:41:08.859836Z"
    }
   },
   "outputs": [
    {
     "name": "stdout",
     "output_type": "stream",
     "text": [
      "+------+----------+\n",
      "|userId|num_advert|\n",
      "+------+----------+\n",
      "|   296|         9|\n",
      "|100010|        22|\n",
      "|200002|        11|\n",
      "|   125|         6|\n",
      "|     7|        35|\n",
      "+------+----------+\n",
      "only showing top 5 rows\n",
      "\n"
     ]
    }
   ],
   "source": [
    "advert_feat = customer_event_df \\\n",
    "    .select(\"userId\", \"page\") \\\n",
    "    .where(col(\"page\") == \"Roll Advert\") \\\n",
    "    .groupby(\"userId\") \\\n",
    "    .count() \\\n",
    "    .withColumnRenamed(\"count\", \"num_advert\")\n",
    "\n",
    "advert_feat.show(5)"
   ]
  },
  {
   "cell_type": "markdown",
   "metadata": {},
   "source": [
    "### add to playlist"
   ]
  },
  {
   "cell_type": "code",
   "execution_count": 103,
   "metadata": {
    "ExecuteTime": {
     "end_time": "2019-09-02T19:41:20.914919Z",
     "start_time": "2019-09-02T19:41:18.291201Z"
    }
   },
   "outputs": [
    {
     "name": "stdout",
     "output_type": "stream",
     "text": [
      "+------+-----------------+\n",
      "|userId|num_song_playlist|\n",
      "+------+-----------------+\n",
      "|   296|                3|\n",
      "|100010|                1|\n",
      "|200002|                6|\n",
      "|   125|                2|\n",
      "|    51|                8|\n",
      "+------+-----------------+\n",
      "only showing top 5 rows\n",
      "\n"
     ]
    }
   ],
   "source": [
    "playlist_feat = customer_event_df \\\n",
    "    .select(\"userId\", \"page\") \\\n",
    "    .where(col(\"page\") == \"Add to Playlist\") \\\n",
    "    .groupby(\"userId\") \\\n",
    "    .count() \\\n",
    "    .withColumnRenamed(\"count\", \"num_song_playlist\")\n",
    "\n",
    "playlist_feat.show(5)"
   ]
  },
  {
   "cell_type": "markdown",
   "metadata": {},
   "source": [
    "### thumbs down and thumbs up"
   ]
  },
  {
   "cell_type": "code",
   "execution_count": 104,
   "metadata": {
    "ExecuteTime": {
     "end_time": "2019-09-02T19:41:27.823294Z",
     "start_time": "2019-09-02T19:41:25.242024Z"
    }
   },
   "outputs": [
    {
     "name": "stdout",
     "output_type": "stream",
     "text": [
      "+------+---------------+\n",
      "|userId|num_thumbs_down|\n",
      "+------+---------------+\n",
      "|100010|              3|\n",
      "|200002|              5|\n",
      "|   125|              1|\n",
      "|   124|             15|\n",
      "|    51|              1|\n",
      "+------+---------------+\n",
      "only showing top 5 rows\n",
      "\n"
     ]
    }
   ],
   "source": [
    "thumbs_down_feat = customer_event_df \\\n",
    "    .select(\"userId\", \"page\") \\\n",
    "    .where(col(\"page\") == \"Thumbs Down\") \\\n",
    "    .groupby(\"userId\") \\\n",
    "    .count() \\\n",
    "    .withColumnRenamed(\"count\", \"num_thumbs_down\")\n",
    "\n",
    "thumbs_down_feat.show(5)"
   ]
  },
  {
   "cell_type": "code",
   "execution_count": 105,
   "metadata": {
    "ExecuteTime": {
     "end_time": "2019-09-02T19:41:35.904554Z",
     "start_time": "2019-09-02T19:41:33.252413Z"
    }
   },
   "outputs": [
    {
     "name": "stdout",
     "output_type": "stream",
     "text": [
      "+------+---------------+\n",
      "|userId|num_thumbs_down|\n",
      "+------+---------------+\n",
      "|100010|              3|\n",
      "|200002|              5|\n",
      "|   125|              1|\n",
      "|   124|             15|\n",
      "|    51|              1|\n",
      "+------+---------------+\n",
      "only showing top 5 rows\n",
      "\n"
     ]
    }
   ],
   "source": [
    "thumbs_up_feat = customer_event_df \\\n",
    "    .select(\"userId\", \"page\") \\\n",
    "    .where(col(\"page\") == \"Thumbs Up\") \\\n",
    "    .groupby(\"userId\") \\\n",
    "    .count() \\\n",
    "    .withColumnRenamed(\"count\", \"num_thumbs_up\")\n",
    "\n",
    "thumbs_down_feat.show(5)"
   ]
  },
  {
   "cell_type": "markdown",
   "metadata": {},
   "source": [
    "### Add Friend"
   ]
  },
  {
   "cell_type": "code",
   "execution_count": 106,
   "metadata": {
    "ExecuteTime": {
     "end_time": "2019-09-02T19:41:55.704846Z",
     "start_time": "2019-09-02T19:41:53.011222Z"
    }
   },
   "outputs": [
    {
     "name": "stdout",
     "output_type": "stream",
     "text": [
      "+------+----------+\n",
      "|userId|num_friend|\n",
      "+------+----------+\n",
      "|   296|         2|\n",
      "|100010|         3|\n",
      "|200002|         2|\n",
      "|   125|         3|\n",
      "|   124|        26|\n",
      "+------+----------+\n",
      "only showing top 5 rows\n",
      "\n"
     ]
    }
   ],
   "source": [
    "friend_feat = customer_event_df \\\n",
    "    .select(\"userId\", \"page\") \\\n",
    "    .where(col(\"page\") == \"Add Friend\") \\\n",
    "    .groupby(\"userId\") \\\n",
    "    .count() \\\n",
    "    .withColumnRenamed(\"count\", \"num_friend\")\n",
    "\n",
    "friend_feat.show(5)"
   ]
  },
  {
   "cell_type": "markdown",
   "metadata": {},
   "source": [
    "## total length of time listened"
   ]
  },
  {
   "cell_type": "code",
   "execution_count": null,
   "metadata": {
    "ExecuteTime": {
     "end_time": "2019-09-02T15:54:31.542497Z",
     "start_time": "2019-09-02T15:54:28.688981Z"
    }
   },
   "outputs": [],
   "source": [
    "total_length = customer_event_df \\\n",
    "    .select(\"userId\", \"length\") \\\n",
    "    .groupby(\"userId\") \\\n",
    "    .sum() \\\n",
    "    .withColumnRenamed(\"sum(length)\", 'total_length')\n",
    "    \n",
    "total_length.show(5)"
   ]
  },
  {
   "cell_type": "markdown",
   "metadata": {},
   "source": [
    "## Number of songs listened \n"
   ]
  },
  {
   "cell_type": "code",
   "execution_count": null,
   "metadata": {
    "ExecuteTime": {
     "end_time": "2019-09-02T15:54:36.138509Z",
     "start_time": "2019-09-02T15:54:33.601123Z"
    }
   },
   "outputs": [],
   "source": [
    "total_songs = customer_event_df \\\n",
    "    .select(\"userId\", \"song\") \\\n",
    "    .groupby(\"userId\") \\\n",
    "    .count() \\\n",
    "    .withColumnRenamed(\"count\", \"num_song\") \n",
    "\n",
    "total_songs.show(5)"
   ]
  },
  {
   "cell_type": "markdown",
   "metadata": {},
   "source": [
    "## Number of sessions per user\n"
   ]
  },
  {
   "cell_type": "code",
   "execution_count": null,
   "metadata": {
    "ExecuteTime": {
     "end_time": "2019-09-02T15:54:46.116393Z",
     "start_time": "2019-09-02T15:54:37.897805Z"
    }
   },
   "outputs": [],
   "source": [
    "num_session = customer_event_df \\\n",
    "    .select(\"userId\", \"sessionId\") \\\n",
    "    .dropDuplicates() \\\n",
    "    .groupby(\"userId\") \\\n",
    "    .count() \\\n",
    "    .withColumnRenamed('count', 'session') \n",
    "\n",
    "num_session.show()"
   ]
  },
  {
   "cell_type": "markdown",
   "metadata": {},
   "source": [
    "## average songs per session"
   ]
  },
  {
   "cell_type": "code",
   "execution_count": null,
   "metadata": {
    "ExecuteTime": {
     "end_time": "2019-09-02T15:55:01.830193Z",
     "start_time": "2019-09-02T15:54:53.331114Z"
    }
   },
   "outputs": [],
   "source": [
    "avg_songs_session = customer_event_df.filter(col(\"page\") == \"NextSong\") \\\n",
    "    .groupby(\"userId\", \"sessionId\") \\\n",
    "    .count() \\\n",
    "    .groupby(\"userId\") \\\n",
    "    .agg({\"count\": \"avg\"}) \\\n",
    "    .withColumnRenamed(\"avg(count)\", \"avg_songs\") \n",
    "    \n",
    "\n",
    "avg_songs_session.show(5)"
   ]
  },
  {
   "cell_type": "markdown",
   "metadata": {},
   "source": [
    "## average session per day/month\n"
   ]
  },
  {
   "cell_type": "code",
   "execution_count": null,
   "metadata": {
    "ExecuteTime": {
     "end_time": "2019-09-02T15:55:04.527851Z",
     "start_time": "2019-09-02T15:55:04.461788Z"
    }
   },
   "outputs": [],
   "source": [
    "daily_sess = customer_event_df.groupby(['userId', 'event_weekday']).agg(countDistinct('sessionId')) \\\n",
    "    .groupby('userId').avg('count(DISTINCT sessionId)') \\\n",
    "    .withColumnRenamed('avg(count(DISTINCT sessionId))', 'avg_daily_sessions')"
   ]
  },
  {
   "cell_type": "code",
   "execution_count": null,
   "metadata": {
    "ExecuteTime": {
     "end_time": "2019-09-02T15:56:58.206732Z",
     "start_time": "2019-09-02T15:55:08.978093Z"
    }
   },
   "outputs": [],
   "source": [
    "month_sess = customer_event_df.groupby(['userId', 'event_month']).agg(countDistinct('sessionId')) \\\n",
    "    .groupby('userId').avg('count(DISTINCT sessionId)') \\\n",
    "    .withColumnRenamed('avg(count(DISTINCT sessionId))', 'avg_monthly_sessions')\n",
    "month_sess.show(5)"
   ]
  },
  {
   "cell_type": "markdown",
   "metadata": {},
   "source": [
    "## location feature"
   ]
  },
  {
   "cell_type": "code",
   "execution_count": null,
   "metadata": {
    "ExecuteTime": {
     "end_time": "2019-09-02T15:57:09.052441Z",
     "start_time": "2019-09-02T15:57:09.033242Z"
    }
   },
   "outputs": [],
   "source": [
    "location_feat = customer_event_df \\\n",
    "    .select(\"userId\", \"location\") \\\n",
    "    .dropDuplicates()"
   ]
  },
  {
   "cell_type": "markdown",
   "metadata": {
    "ExecuteTime": {
     "end_time": "2019-09-01T22:22:52.455912Z",
     "start_time": "2019-09-01T22:22:47.830558Z"
    }
   },
   "source": [
    "##  os and browser features"
   ]
  },
  {
   "cell_type": "code",
   "execution_count": null,
   "metadata": {
    "ExecuteTime": {
     "end_time": "2019-09-02T15:57:10.193185Z",
     "start_time": "2019-09-02T15:57:10.180686Z"
    }
   },
   "outputs": [],
   "source": [
    "os_feat = customer_event_df \\\n",
    "    .select(\"userId\", \"os\") \\\n",
    "    .dropDuplicates()"
   ]
  },
  {
   "cell_type": "code",
   "execution_count": null,
   "metadata": {
    "ExecuteTime": {
     "end_time": "2019-09-02T15:57:10.991229Z",
     "start_time": "2019-09-02T15:57:10.973790Z"
    }
   },
   "outputs": [],
   "source": [
    "browser_feat = customer_event_df \\\n",
    "    .select(\"userId\", \"browser\") \\\n",
    "    .dropDuplicates()"
   ]
  },
  {
   "cell_type": "code",
   "execution_count": null,
   "metadata": {
    "ExecuteTime": {
     "end_time": "2019-09-02T15:57:12.123243Z",
     "start_time": "2019-09-02T15:57:12.102857Z"
    }
   },
   "outputs": [],
   "source": [
    "browser_ver_feat = customer_event_df \\\n",
    "    .select(\"userId\", \"browser_ver\") \\\n",
    "    .dropDuplicates()"
   ]
  },
  {
   "cell_type": "code",
   "execution_count": null,
   "metadata": {
    "ExecuteTime": {
     "end_time": "2019-09-02T15:57:23.923562Z",
     "start_time": "2019-09-02T15:57:12.762564Z"
    }
   },
   "outputs": [],
   "source": [
    "label = customer_event_df \\\n",
    "    .select('userId', col('churn').alias('label')) \\\n",
    "    .dropDuplicates() \\\n",
    "    .orderBy(\"userId\")\n",
    "\n",
    "label.describe().show()"
   ]
  },
  {
   "cell_type": "code",
   "execution_count": null,
   "metadata": {
    "ExecuteTime": {
     "end_time": "2019-09-02T15:58:05.115805Z",
     "start_time": "2019-09-02T15:58:04.532945Z"
    }
   },
   "outputs": [],
   "source": [
    "transformed_event = count_artist.join(binarize_gender, \"userId\", \"outer\") \\\n",
    "    .join(binarize_level, \"userId\", \"outer\") \\\n",
    "    .join(downgrade_feat, \"userId\", \"outer\") \\\n",
    "    .join(advert_feat, \"userId\", \"outer\") \\\n",
    "    .join(playlist_feat, \"userId\", \"outer\") \\\n",
    "    .join(thumbs_down_feat, \"userId\", \"outer\") \\\n",
    "    .join(thumbs_up_feat, \"userId\", \"outer\") \\\n",
    "    .join(friend_feat, \"userId\", \"outer\") \\\n",
    "    .join(total_length, \"userId\", \"outer\") \\\n",
    "    .join(total_songs, \"userId\", \"outer\") \\\n",
    "    .join(num_session, \"userId\", \"outer\") \\\n",
    "    .join(avg_songs_session, \"userId\", \"outer\") \\\n",
    "    .join(daily_sess, \"userId\", \"outer\") \\\n",
    "    .join(month_sess, \"userId\", \"outer\") \\\n",
    "    .join(location_feat, \"userId\", \"outer\") \\\n",
    "    .join(os_feat, \"userId\", \"outer\") \\\n",
    "    .join(browser_feat, \"userId\", \"outer\") \\\n",
    "    .join(browser_ver_feat, \"userId\", \"outer\") \\\n",
    "    .join(label, \"userId\", \"outer\") \\\n",
    "    .drop(\"userId\") \\\n",
    "    .fillna(0)"
   ]
  },
  {
   "cell_type": "code",
   "execution_count": null,
   "metadata": {
    "ExecuteTime": {
     "end_time": "2019-09-02T16:05:21.607846Z",
     "start_time": "2019-09-02T15:58:06.347067Z"
    }
   },
   "outputs": [],
   "source": []
  },
  {
   "cell_type": "code",
   "execution_count": null,
   "metadata": {
    "ExecuteTime": {
     "end_time": "2019-09-02T16:13:56.273443Z",
     "start_time": "2019-09-02T16:13:56.235763Z"
    }
   },
   "outputs": [],
   "source": [
    "# dataset_pd = transformed_event.toPandas()\n",
    "# dataset_pd.to_csv(\"../data/preprocessed_dataset.csv\")"
   ]
  },
  {
   "cell_type": "markdown",
   "metadata": {},
   "source": [
    "# Modeling\n"
   ]
  },
  {
   "cell_type": "code",
   "execution_count": null,
   "metadata": {
    "ExecuteTime": {
     "end_time": "2019-09-02T18:34:35.907979Z",
     "start_time": "2019-09-02T18:34:35.747647Z"
    }
   },
   "outputs": [],
   "source": [
    "# customer_df = spark.read.csv(\"../data/preprocessed_dataset.csv\", header=True)\n",
    "# customer_df = customer_df.drop(\"_c0\")"
   ]
  },
  {
   "cell_type": "code",
   "execution_count": null,
   "metadata": {
    "ExecuteTime": {
     "start_time": "2019-09-02T19:00:12.959Z"
    }
   },
   "outputs": [],
   "source": [
    "dataset.head()"
   ]
  },
  {
   "cell_type": "code",
   "execution_count": null,
   "metadata": {
    "ExecuteTime": {
     "end_time": "2019-09-02T18:40:06.592015Z",
     "start_time": "2019-09-02T18:40:06.584076Z"
    }
   },
   "outputs": [],
   "source": [
    "customer_df.printSchema()"
   ]
  },
  {
   "cell_type": "code",
   "execution_count": null,
   "metadata": {
    "ExecuteTime": {
     "end_time": "2019-09-02T18:34:37.142827Z",
     "start_time": "2019-09-02T18:34:37.121655Z"
    }
   },
   "outputs": [],
   "source": [
    "cat_cols = [\"location\", \"os\", \"browser\", \"browser_ver\"]\n",
    "num_cols= [\"total_artist\", \"gender\", \"level\", \"num_downgrade\", \"num_advert\", \"num_song_playlist\",\n",
    "           \"num_thumbs_down\", \"num_thumbs_up\", \"num_friend\", \"total_length\", \"num_song\",\n",
    "           \"session\", \"avg_songs\", \"avg_daily_sessions\", \"avg_monthly_sessions\"]"
   ]
  },
  {
   "cell_type": "code",
   "execution_count": null,
   "metadata": {
    "ExecuteTime": {
     "end_time": "2019-09-02T18:34:37.974910Z",
     "start_time": "2019-09-02T18:34:37.940462Z"
    }
   },
   "outputs": [],
   "source": [
    "indexers = [StringIndexer(inputCol=c, outputCol=f\"{c}_index\") for c in cat_cols]\n",
    "\n",
    "encoders = [StringIndexer(inputCol=indexer.getOutputCol(), \n",
    "                          outputCol=f\"{indexer.getOutputCol()}_encoded\")\n",
    "            for indexer in indexers]\n",
    "assemblerCat = VectorAssembler(inputCols=[encoder.getOutputCol() for encoder in encoders],\n",
    "                               outputCol=\"cat\")\n",
    "pipelineCat = Pipeline(stages=indexers+encoders+[assemblerCat])\n",
    "customer_df = pipelineCat.fit(customer_df).transform(customer_df)"
   ]
  },
  {
   "cell_type": "code",
   "execution_count": null,
   "metadata": {
    "ExecuteTime": {
     "end_time": "2019-09-02T18:38:02.955291Z",
     "start_time": "2019-09-02T18:38:02.910837Z"
    }
   },
   "outputs": [],
   "source": [
    "assemblerNum = VectorAssembler(inputCols=num_cols, outputCol=\"num\")\n",
    "pipelineNum = Pipeline(stages=[assemblerNum])\n",
    "customer_df = pipelineNum.fit(customer_df).transform(customer_df)"
   ]
  },
  {
   "cell_type": "code",
   "execution_count": null,
   "metadata": {
    "ExecuteTime": {
     "end_time": "2019-09-02T18:34:32.039195Z",
     "start_time": "2019-09-02T18:34:32.034958Z"
    }
   },
   "outputs": [],
   "source": [
    "del indexers, encoders, assemblerCat, pipelineCat"
   ]
  },
  {
   "cell_type": "code",
   "execution_count": null,
   "metadata": {
    "ExecuteTime": {
     "end_time": "2019-09-02T18:34:32.393911Z",
     "start_time": "2019-09-02T18:34:32.387837Z"
    }
   },
   "outputs": [],
   "source": [
    "del customer_df"
   ]
  },
  {
   "cell_type": "markdown",
   "metadata": {},
   "source": [
    "# Final Steps\n",
    "Clean up your code, adding comments and renaming variables to make the code easier to read and maintain. Refer to the Spark Project Overview page and Data Scientist Capstone Project Rubric to make sure you are including all components of the capstone project and meet all expectations. Remember, this includes thorough documentation in a README file in a Github repository, as well as a web app or blog post."
   ]
  },
  {
   "cell_type": "code",
   "execution_count": null,
   "metadata": {},
   "outputs": [],
   "source": []
  }
 ],
 "metadata": {
  "kernelspec": {
   "display_name": "Python 3",
   "language": "python",
   "name": "python3"
  },
  "language_info": {
   "codemirror_mode": {
    "name": "ipython",
    "version": 3
   },
   "file_extension": ".py",
   "mimetype": "text/x-python",
   "name": "python",
   "nbconvert_exporter": "python",
   "pygments_lexer": "ipython3",
   "version": "3.7.3"
  },
  "toc": {
   "base_numbering": 1,
   "nav_menu": {},
   "number_sections": true,
   "sideBar": true,
   "skip_h1_title": false,
   "title_cell": "Table of Contents",
   "title_sidebar": "Contents",
   "toc_cell": false,
   "toc_position": {
    "height": "calc(100% - 180px)",
    "left": "10px",
    "top": "150px",
    "width": "256px"
   },
   "toc_section_display": true,
   "toc_window_display": true
  },
  "varInspector": {
   "cols": {
    "lenName": 16,
    "lenType": 16,
    "lenVar": 40
   },
   "kernels_config": {
    "python": {
     "delete_cmd_postfix": "",
     "delete_cmd_prefix": "del ",
     "library": "var_list.py",
     "varRefreshCmd": "print(var_dic_list())"
    },
    "r": {
     "delete_cmd_postfix": ") ",
     "delete_cmd_prefix": "rm(",
     "library": "var_list.r",
     "varRefreshCmd": "cat(var_dic_list()) "
    }
   },
   "types_to_exclude": [
    "module",
    "function",
    "builtin_function_or_method",
    "instance",
    "_Feature"
   ],
   "window_display": false
  }
 },
 "nbformat": 4,
 "nbformat_minor": 2
}
